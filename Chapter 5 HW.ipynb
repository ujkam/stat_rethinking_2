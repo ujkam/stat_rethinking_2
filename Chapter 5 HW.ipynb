{
 "cells": [
  {
   "cell_type": "markdown",
   "id": "ce5e4679",
   "metadata": {},
   "source": [
    "# Chapter 5 Practice Answers"
   ]
  },
  {
   "cell_type": "code",
   "execution_count": 3,
   "id": "16db6bf4-2e6f-420a-ae44-4c1f4eb5fa84",
   "metadata": {},
   "outputs": [
    {
     "name": "stderr",
     "output_type": "stream",
     "text": [
      "WARNING (pytensor.tensor.blas): Using NumPy C-API based implementation for BLAS functions.\n"
     ]
    }
   ],
   "source": [
    "import numpy as np\n",
    "import pandas as pd\n",
    "import pymc as pm\n",
    "import arviz as az\n",
    "import matplotlib.pyplot as plt\n",
    "from watermark import watermark\n",
    "from sklearn.metrics import mean_squared_error\n",
    "from causalgraphicalmodels import CausalGraphicalModel"
   ]
  },
  {
   "cell_type": "code",
   "execution_count": 2,
   "id": "946270fb-41cf-44d7-ac6e-271f1c3196b4",
   "metadata": {},
   "outputs": [
    {
     "name": "stdout",
     "output_type": "stream",
     "text": [
      "Last updated: 2024-07-01T11:39:33.623524-04:00\n",
      "\n",
      "Python implementation: CPython\n",
      "Python version       : 3.9.18\n",
      "IPython version      : 8.17.2\n",
      "\n",
      "Compiler    : MSC v.1929 64 bit (AMD64)\n",
      "OS          : Windows\n",
      "Release     : 10\n",
      "Machine     : AMD64\n",
      "Processor   : Intel64 Family 6 Model 141 Stepping 1, GenuineIntel\n",
      "CPU cores   : 12\n",
      "Architecture: 64bit\n",
      "\n"
     ]
    }
   ],
   "source": [
    "%load_ext watermark\n",
    "%watermark"
   ]
  },
  {
   "cell_type": "code",
   "execution_count": 3,
   "id": "814b9acf-398d-4f68-97d0-575b0e20c4ba",
   "metadata": {},
   "outputs": [
    {
     "name": "stdout",
     "output_type": "stream",
     "text": [
      "arviz     : 0.16.1\n",
      "pandas    : 2.1.3\n",
      "matplotlib: 3.8.2\n",
      "numpy     : 1.25.2\n",
      "pymc      : 5.9.2\n",
      "\n"
     ]
    }
   ],
   "source": [
    "%watermark --iversions"
   ]
  },
  {
   "cell_type": "markdown",
   "id": "508fe4c7-ed92-482a-9822-e8cebc2c0b1f",
   "metadata": {},
   "source": [
    "# 5M1 Question\n",
    "Invent your own example of a spurious correlation. An outcome variable should be correlated\n",
    "with both predictor variables. But when both predictors are entered in the same model, the correlation\n",
    "between the outcome and one of the predictors should mostly vanish (or at least be greatly reduced)."
   ]
  },
  {
   "cell_type": "code",
   "execution_count": 4,
   "id": "e974f56d-90fe-45c0-b7a6-83eaf2732d8b",
   "metadata": {},
   "outputs": [],
   "source": [
    "n=100\n",
    "x = np.random.normal(0, 2, size=n)\n",
    "x_spur = np.random.normal(x, size=n)\n",
    "y = np.random.normal(x, size=n)"
   ]
  },
  {
   "cell_type": "code",
   "execution_count": 5,
   "id": "7faf68d2-0ecf-4bc4-9120-c19eaa579790",
   "metadata": {},
   "outputs": [
    {
     "name": "stderr",
     "output_type": "stream",
     "text": [
      "Auto-assigning NUTS sampler...\n",
      "Initializing NUTS using jitter+adapt_diag...\n",
      "Multiprocess sampling (4 chains in 4 jobs)\n",
      "NUTS: [a, b1, sigma]\n"
     ]
    },
    {
     "data": {
      "text/html": [
       "\n",
       "<style>\n",
       "    /* Turns off some styling */\n",
       "    progress {\n",
       "        /* gets rid of default border in Firefox and Opera. */\n",
       "        border: none;\n",
       "        /* Needs to be in here for Safari polyfill so background images work as expected. */\n",
       "        background-size: auto;\n",
       "    }\n",
       "    progress:not([value]), progress:not([value])::-webkit-progress-bar {\n",
       "        background: repeating-linear-gradient(45deg, #7e7e7e, #7e7e7e 10px, #5c5c5c 10px, #5c5c5c 20px);\n",
       "    }\n",
       "    .progress-bar-interrupted, .progress-bar-interrupted::-webkit-progress-bar {\n",
       "        background: #F44336;\n",
       "    }\n",
       "</style>\n"
      ],
      "text/plain": [
       "<IPython.core.display.HTML object>"
      ]
     },
     "metadata": {},
     "output_type": "display_data"
    },
    {
     "data": {
      "text/html": [
       "\n",
       "    <div>\n",
       "      <progress value='8000' class='' max='8000' style='width:300px; height:20px; vertical-align: middle;'></progress>\n",
       "      100.00% [8000/8000 00:06&lt;00:00 Sampling 4 chains, 0 divergences]\n",
       "    </div>\n",
       "    "
      ],
      "text/plain": [
       "<IPython.core.display.HTML object>"
      ]
     },
     "metadata": {},
     "output_type": "display_data"
    },
    {
     "name": "stderr",
     "output_type": "stream",
     "text": [
      "Sampling 4 chains for 1_000 tune and 1_000 draw iterations (4_000 + 4_000 draws total) took 27 seconds.\n"
     ]
    }
   ],
   "source": [
    "with pm.Model() as m5m1_a:\n",
    "    a = pm.Normal('a',0,1)\n",
    "    b1 = pm.Normal('b1', 0,1)\n",
    "    sigma = pm.Exponential('sigma', 1)\n",
    "    mu = a + b1*x\n",
    "    height = pm.Normal(\"y\", mu=mu, sigma=sigma, observed=y)\n",
    "    m5m1_a_trace = pm.sample()"
   ]
  },
  {
   "cell_type": "code",
   "execution_count": 6,
   "id": "6c61099e-ded9-44f0-8908-aeb3fe427f99",
   "metadata": {},
   "outputs": [
    {
     "name": "stderr",
     "output_type": "stream",
     "text": [
      "Auto-assigning NUTS sampler...\n",
      "Initializing NUTS using jitter+adapt_diag...\n",
      "Multiprocess sampling (4 chains in 4 jobs)\n",
      "NUTS: [a, b2, sigma]\n"
     ]
    },
    {
     "data": {
      "text/html": [
       "\n",
       "<style>\n",
       "    /* Turns off some styling */\n",
       "    progress {\n",
       "        /* gets rid of default border in Firefox and Opera. */\n",
       "        border: none;\n",
       "        /* Needs to be in here for Safari polyfill so background images work as expected. */\n",
       "        background-size: auto;\n",
       "    }\n",
       "    progress:not([value]), progress:not([value])::-webkit-progress-bar {\n",
       "        background: repeating-linear-gradient(45deg, #7e7e7e, #7e7e7e 10px, #5c5c5c 10px, #5c5c5c 20px);\n",
       "    }\n",
       "    .progress-bar-interrupted, .progress-bar-interrupted::-webkit-progress-bar {\n",
       "        background: #F44336;\n",
       "    }\n",
       "</style>\n"
      ],
      "text/plain": [
       "<IPython.core.display.HTML object>"
      ]
     },
     "metadata": {},
     "output_type": "display_data"
    },
    {
     "data": {
      "text/html": [
       "\n",
       "    <div>\n",
       "      <progress value='8000' class='' max='8000' style='width:300px; height:20px; vertical-align: middle;'></progress>\n",
       "      100.00% [8000/8000 00:05&lt;00:00 Sampling 4 chains, 0 divergences]\n",
       "    </div>\n",
       "    "
      ],
      "text/plain": [
       "<IPython.core.display.HTML object>"
      ]
     },
     "metadata": {},
     "output_type": "display_data"
    },
    {
     "name": "stderr",
     "output_type": "stream",
     "text": [
      "Sampling 4 chains for 1_000 tune and 1_000 draw iterations (4_000 + 4_000 draws total) took 24 seconds.\n"
     ]
    }
   ],
   "source": [
    "with pm.Model() as m5m1_b:\n",
    "    a = pm.Normal('a',0,1)\n",
    "    b2 = pm.Normal('b2', 0,1)\n",
    "    sigma = pm.Exponential('sigma', 1)\n",
    "    mu = a + b2*x_spur\n",
    "    height = pm.Normal(\"y\", mu=mu, sigma=sigma, observed=y)\n",
    "    m5m1_b_trace = pm.sample()"
   ]
  },
  {
   "cell_type": "code",
   "execution_count": 7,
   "id": "de9fc60e-ad60-4b76-b3fe-bc4a27cdd11c",
   "metadata": {},
   "outputs": [
    {
     "name": "stderr",
     "output_type": "stream",
     "text": [
      "Auto-assigning NUTS sampler...\n",
      "Initializing NUTS using jitter+adapt_diag...\n",
      "Multiprocess sampling (4 chains in 4 jobs)\n",
      "NUTS: [a, b1, b2, sigma]\n"
     ]
    },
    {
     "data": {
      "text/html": [
       "\n",
       "<style>\n",
       "    /* Turns off some styling */\n",
       "    progress {\n",
       "        /* gets rid of default border in Firefox and Opera. */\n",
       "        border: none;\n",
       "        /* Needs to be in here for Safari polyfill so background images work as expected. */\n",
       "        background-size: auto;\n",
       "    }\n",
       "    progress:not([value]), progress:not([value])::-webkit-progress-bar {\n",
       "        background: repeating-linear-gradient(45deg, #7e7e7e, #7e7e7e 10px, #5c5c5c 10px, #5c5c5c 20px);\n",
       "    }\n",
       "    .progress-bar-interrupted, .progress-bar-interrupted::-webkit-progress-bar {\n",
       "        background: #F44336;\n",
       "    }\n",
       "</style>\n"
      ],
      "text/plain": [
       "<IPython.core.display.HTML object>"
      ]
     },
     "metadata": {},
     "output_type": "display_data"
    },
    {
     "data": {
      "text/html": [
       "\n",
       "    <div>\n",
       "      <progress value='8000' class='' max='8000' style='width:300px; height:20px; vertical-align: middle;'></progress>\n",
       "      100.00% [8000/8000 00:07&lt;00:00 Sampling 4 chains, 0 divergences]\n",
       "    </div>\n",
       "    "
      ],
      "text/plain": [
       "<IPython.core.display.HTML object>"
      ]
     },
     "metadata": {},
     "output_type": "display_data"
    },
    {
     "name": "stderr",
     "output_type": "stream",
     "text": [
      "Sampling 4 chains for 1_000 tune and 1_000 draw iterations (4_000 + 4_000 draws total) took 24 seconds.\n"
     ]
    }
   ],
   "source": [
    "with pm.Model() as m5m1_c:\n",
    "    a = pm.Normal('a',0,1)\n",
    "    b1 = pm.Normal('b1', 0,1)\n",
    "    b2 = pm.Normal('b2', 0,1)\n",
    "    sigma = pm.Exponential('sigma', 1)\n",
    "    mu = a + b1*x + b2*x_spur \n",
    "    height = pm.Normal(\"y\", mu=mu, sigma=sigma, observed=y)\n",
    "    m5m1_c_trace = pm.sample()"
   ]
  },
  {
   "cell_type": "code",
   "execution_count": 8,
   "id": "df2613c5-25d9-4c60-b22f-2ce7da22c9b3",
   "metadata": {},
   "outputs": [
    {
     "data": {
      "text/plain": [
       "array([<Axes: title={'center': '94.0% HDI'}>], dtype=object)"
      ]
     },
     "execution_count": 8,
     "metadata": {},
     "output_type": "execute_result"
    },
    {
     "data": {
      "image/png": "[encoded data removed]",
      "text/plain": [
       "<Figure size 600x940 with 1 Axes>"
      ]
     },
     "metadata": {},
     "output_type": "display_data"
    }
   ],
   "source": [
    "az.plot_forest(\n",
    "    [\n",
    "        m5m1_a_trace,\n",
    "        m5m1_b_trace,\n",
    "        m5m1_c_trace\n",
    "    ],\n",
    "    model_names=['X', 'X_Spurious', 'Both'],\n",
    "    var_names=['b1','b2'],\n",
    "    combined=True\n",
    ")"
   ]
  },
  {
   "cell_type": "markdown",
   "id": "1a57150f",
   "metadata": {},
   "source": [
    "As expected, the b2 coefficient moves closer to zero when both variables are included in the model"
   ]
  },
  {
   "cell_type": "markdown",
   "id": "74c96e69",
   "metadata": {},
   "source": [
    "# 5M2 Question\n",
    "Invent your own example of a masked relationship. An outcome variable should be correlated\n",
    "with both predictor variables, but in opposite directions. And the two predictor variables should be\n",
    "correlated with one another"
   ]
  },
  {
   "cell_type": "code",
   "execution_count": 9,
   "id": "070cba59-9ef3-4426-a017-d0c8e5ea51d8",
   "metadata": {},
   "outputs": [],
   "source": [
    "n=100\n",
    "x = np.random.normal(0, 2, size=n)\n",
    "x2 = np.random.normal(x, size=n)\n",
    "y = np.random.normal(x - x2, size=n)"
   ]
  },
  {
   "cell_type": "code",
   "execution_count": 10,
   "id": "d74e2364-5f6c-4d2e-999a-792830613920",
   "metadata": {},
   "outputs": [
    {
     "name": "stderr",
     "output_type": "stream",
     "text": [
      "Auto-assigning NUTS sampler...\n",
      "Initializing NUTS using jitter+adapt_diag...\n",
      "Multiprocess sampling (4 chains in 4 jobs)\n",
      "NUTS: [a, b1, sigma]\n"
     ]
    },
    {
     "data": {
      "text/html": [
       "\n",
       "<style>\n",
       "    /* Turns off some styling */\n",
       "    progress {\n",
       "        /* gets rid of default border in Firefox and Opera. */\n",
       "        border: none;\n",
       "        /* Needs to be in here for Safari polyfill so background images work as expected. */\n",
       "        background-size: auto;\n",
       "    }\n",
       "    progress:not([value]), progress:not([value])::-webkit-progress-bar {\n",
       "        background: repeating-linear-gradient(45deg, #7e7e7e, #7e7e7e 10px, #5c5c5c 10px, #5c5c5c 20px);\n",
       "    }\n",
       "    .progress-bar-interrupted, .progress-bar-interrupted::-webkit-progress-bar {\n",
       "        background: #F44336;\n",
       "    }\n",
       "</style>\n"
      ],
      "text/plain": [
       "<IPython.core.display.HTML object>"
      ]
     },
     "metadata": {},
     "output_type": "display_data"
    },
    {
     "data": {
      "text/html": [
       "\n",
       "    <div>\n",
       "      <progress value='8000' class='' max='8000' style='width:300px; height:20px; vertical-align: middle;'></progress>\n",
       "      100.00% [8000/8000 00:05&lt;00:00 Sampling 4 chains, 0 divergences]\n",
       "    </div>\n",
       "    "
      ],
      "text/plain": [
       "<IPython.core.display.HTML object>"
      ]
     },
     "metadata": {},
     "output_type": "display_data"
    },
    {
     "name": "stderr",
     "output_type": "stream",
     "text": [
      "Sampling 4 chains for 1_000 tune and 1_000 draw iterations (4_000 + 4_000 draws total) took 23 seconds.\n"
     ]
    }
   ],
   "source": [
    "with pm.Model() as m_5m2_a:\n",
    "    a = pm.Normal('a',0,1)\n",
    "    b1 = pm.Normal('b1', 0,1)\n",
    "    sigma = pm.Exponential('sigma', 1)\n",
    "    mu = a + b1*x\n",
    "    height = pm.Normal(\"y\", mu=mu, sigma=sigma, observed=y)\n",
    "    m_5m2_a_trace = pm.sample()"
   ]
  },
  {
   "cell_type": "code",
   "execution_count": 11,
   "id": "8e568c23-dd8b-491d-8d75-e0b30cbc0def",
   "metadata": {},
   "outputs": [
    {
     "name": "stderr",
     "output_type": "stream",
     "text": [
      "Auto-assigning NUTS sampler...\n",
      "Initializing NUTS using jitter+adapt_diag...\n",
      "Multiprocess sampling (4 chains in 4 jobs)\n",
      "NUTS: [a, b2, sigma]\n"
     ]
    },
    {
     "data": {
      "text/html": [
       "\n",
       "<style>\n",
       "    /* Turns off some styling */\n",
       "    progress {\n",
       "        /* gets rid of default border in Firefox and Opera. */\n",
       "        border: none;\n",
       "        /* Needs to be in here for Safari polyfill so background images work as expected. */\n",
       "        background-size: auto;\n",
       "    }\n",
       "    progress:not([value]), progress:not([value])::-webkit-progress-bar {\n",
       "        background: repeating-linear-gradient(45deg, #7e7e7e, #7e7e7e 10px, #5c5c5c 10px, #5c5c5c 20px);\n",
       "    }\n",
       "    .progress-bar-interrupted, .progress-bar-interrupted::-webkit-progress-bar {\n",
       "        background: #F44336;\n",
       "    }\n",
       "</style>\n"
      ],
      "text/plain": [
       "<IPython.core.display.HTML object>"
      ]
     },
     "metadata": {},
     "output_type": "display_data"
    },
    {
     "data": {
      "text/html": [
       "\n",
       "    <div>\n",
       "      <progress value='8000' class='' max='8000' style='width:300px; height:20px; vertical-align: middle;'></progress>\n",
       "      100.00% [8000/8000 00:05&lt;00:00 Sampling 4 chains, 0 divergences]\n",
       "    </div>\n",
       "    "
      ],
      "text/plain": [
       "<IPython.core.display.HTML object>"
      ]
     },
     "metadata": {},
     "output_type": "display_data"
    },
    {
     "name": "stderr",
     "output_type": "stream",
     "text": [
      "Sampling 4 chains for 1_000 tune and 1_000 draw iterations (4_000 + 4_000 draws total) took 23 seconds.\n"
     ]
    }
   ],
   "source": [
    "with pm.Model() as m_5m2_b:\n",
    "    a = pm.Normal('a',0,1)\n",
    "    b2 = pm.Normal('b2', 0,1)\n",
    "    sigma = pm.Exponential('sigma', 1)\n",
    "    mu = a + b2*x2\n",
    "    height = pm.Normal(\"y\", mu=mu, sigma=sigma, observed=y)\n",
    "    m_5m2_b_trace = pm.sample()"
   ]
  },
  {
   "cell_type": "code",
   "execution_count": 12,
   "id": "7e81aac2-2228-4cf7-b70e-04572ca601c5",
   "metadata": {},
   "outputs": [
    {
     "name": "stderr",
     "output_type": "stream",
     "text": [
      "Auto-assigning NUTS sampler...\n",
      "Initializing NUTS using jitter+adapt_diag...\n",
      "Multiprocess sampling (4 chains in 4 jobs)\n",
      "NUTS: [a, b1, b2, sigma]\n"
     ]
    },
    {
     "data": {
      "text/html": [
       "\n",
       "<style>\n",
       "    /* Turns off some styling */\n",
       "    progress {\n",
       "        /* gets rid of default border in Firefox and Opera. */\n",
       "        border: none;\n",
       "        /* Needs to be in here for Safari polyfill so background images work as expected. */\n",
       "        background-size: auto;\n",
       "    }\n",
       "    progress:not([value]), progress:not([value])::-webkit-progress-bar {\n",
       "        background: repeating-linear-gradient(45deg, #7e7e7e, #7e7e7e 10px, #5c5c5c 10px, #5c5c5c 20px);\n",
       "    }\n",
       "    .progress-bar-interrupted, .progress-bar-interrupted::-webkit-progress-bar {\n",
       "        background: #F44336;\n",
       "    }\n",
       "</style>\n"
      ],
      "text/plain": [
       "<IPython.core.display.HTML object>"
      ]
     },
     "metadata": {},
     "output_type": "display_data"
    },
    {
     "data": {
      "text/html": [
       "\n",
       "    <div>\n",
       "      <progress value='8000' class='' max='8000' style='width:300px; height:20px; vertical-align: middle;'></progress>\n",
       "      100.00% [8000/8000 00:06&lt;00:00 Sampling 4 chains, 0 divergences]\n",
       "    </div>\n",
       "    "
      ],
      "text/plain": [
       "<IPython.core.display.HTML object>"
      ]
     },
     "metadata": {},
     "output_type": "display_data"
    },
    {
     "name": "stderr",
     "output_type": "stream",
     "text": [
      "Sampling 4 chains for 1_000 tune and 1_000 draw iterations (4_000 + 4_000 draws total) took 24 seconds.\n"
     ]
    }
   ],
   "source": [
    "with pm.Model() as m_5m2_c:\n",
    "    a = pm.Normal('a',0,1)\n",
    "    b1 = pm.Normal('b1', 0,1)\n",
    "    b2 = pm.Normal('b2', 0,1)\n",
    "    sigma = pm.Exponential('sigma', 1)\n",
    "    mu = a + b1*x + b2*x2 \n",
    "    height = pm.Normal(\"y\", mu=mu, sigma=sigma, observed=y)\n",
    "    m_5m2_c_trace = pm.sample()"
   ]
  },
  {
   "cell_type": "code",
   "execution_count": 13,
   "id": "3b1bf0cc-6547-4b04-9ab2-1b161b721fc9",
   "metadata": {},
   "outputs": [
    {
     "data": {
      "text/plain": [
       "array([<Axes: title={'center': '94.0% HDI'}>], dtype=object)"
      ]
     },
     "execution_count": 13,
     "metadata": {},
     "output_type": "execute_result"
    },
    {
     "data": {
      "image/png": "[encoded data removed]",
      "text/plain": [
       "<Figure size 600x940 with 1 Axes>"
      ]
     },
     "metadata": {},
     "output_type": "display_data"
    }
   ],
   "source": [
    "az.plot_forest(\n",
    "    [\n",
    "        m_5m2_a_trace,\n",
    "        m_5m2_b_trace,\n",
    "        m_5m2_c_trace\n",
    "    ],\n",
    "    model_names=['X', 'X_Spurious', 'Both'],\n",
    "    var_names=['b1','b2'],\n",
    "    combined=True\n",
    ")"
   ]
  },
  {
   "cell_type": "markdown",
   "id": "c4864ab4",
   "metadata": {},
   "source": [
    "We can see that in the model that includes both predictors, the coefficients are the opposite of eather other, one is postive and one is negative."
   ]
  },
  {
   "cell_type": "markdown",
   "id": "ca208cc2",
   "metadata": {},
   "source": [
    "# 5M3 Question\n",
    "It is sometimes observed that the best predictor of fire risk is the presence of firefighters—\n",
    "States and localities with many firefighters also have more fires. Presumably firefighters do not cause\n",
    "fires. Nevertheless, this is not a spurious correlation. Instead fires cause firefighters. Consider the\n",
    "same reversal of causal inference in the context of the divorce and marriage data. How might a high\n",
    "divorce rate cause a higher marriage rate? Can you think of a way to evaluate this relationship, using\n",
    "multiple regression?"
   ]
  },
  {
   "cell_type": "markdown",
   "id": "96d4eb6c-b73b-4c55-99a1-2b830797bc1f",
   "metadata": {},
   "source": [
    "# 5M4 Question\n",
    "In the divorce data, States with high numbers of members of the Church of Jesus Christ of\n",
    "Latter-day Saints (LDS) have much lower divorce rates than the regression models expected. Find a\n",
    "list of LDS population by State and use those numbers as a predictor variable, predicting divorce rate\n",
    "using marriage rate, median age at marriage, and percent LDS population (possibly standardized).\n",
    "You may want to consider transformations of the raw percent LDS variable"
   ]
  },
  {
   "cell_type": "code",
   "execution_count": 4,
   "id": "24025c6a-dfa0-42bb-be4e-061baa0c7859",
   "metadata": {},
   "outputs": [
    {
     "data": {
      "text/html": [
       "<div>\n",
       "<style scoped>\n",
       "    .dataframe tbody tr th:only-of-type {\n",
       "        vertical-align: middle;\n",
       "    }\n",
       "\n",
       "    .dataframe tbody tr th {\n",
       "        vertical-align: top;\n",
       "    }\n",
       "\n",
       "    .dataframe thead th {\n",
       "        text-align: right;\n",
       "    }\n",
       "</style>\n",
       "<table border=\"1\" class=\"dataframe\">\n",
       "  <thead>\n",
       "    <tr style=\"text-align: right;\">\n",
       "      <th></th>\n",
       "      <th>Location</th>\n",
       "      <th>Loc</th>\n",
       "      <th>Population</th>\n",
       "      <th>MedianAgeMarriage</th>\n",
       "      <th>Marriage</th>\n",
       "      <th>Marriage SE</th>\n",
       "      <th>Divorce</th>\n",
       "      <th>Divorce SE</th>\n",
       "      <th>WaffleHouses</th>\n",
       "      <th>South</th>\n",
       "      <th>Slaves1860</th>\n",
       "      <th>Population1860</th>\n",
       "      <th>PropSlaves1860</th>\n",
       "    </tr>\n",
       "  </thead>\n",
       "  <tbody>\n",
       "    <tr>\n",
       "      <th>0</th>\n",
       "      <td>Alabama</td>\n",
       "      <td>AL</td>\n",
       "      <td>4.78</td>\n",
       "      <td>25.3</td>\n",
       "      <td>20.2</td>\n",
       "      <td>1.27</td>\n",
       "      <td>12.7</td>\n",
       "      <td>0.79</td>\n",
       "      <td>128</td>\n",
       "      <td>1</td>\n",
       "      <td>435080</td>\n",
       "      <td>964201</td>\n",
       "      <td>0.45</td>\n",
       "    </tr>\n",
       "    <tr>\n",
       "      <th>1</th>\n",
       "      <td>Alaska</td>\n",
       "      <td>AK</td>\n",
       "      <td>0.71</td>\n",
       "      <td>25.2</td>\n",
       "      <td>26.0</td>\n",
       "      <td>2.93</td>\n",
       "      <td>12.5</td>\n",
       "      <td>2.05</td>\n",
       "      <td>0</td>\n",
       "      <td>0</td>\n",
       "      <td>0</td>\n",
       "      <td>0</td>\n",
       "      <td>0.00</td>\n",
       "    </tr>\n",
       "    <tr>\n",
       "      <th>2</th>\n",
       "      <td>Arizona</td>\n",
       "      <td>AZ</td>\n",
       "      <td>6.33</td>\n",
       "      <td>25.8</td>\n",
       "      <td>20.3</td>\n",
       "      <td>0.98</td>\n",
       "      <td>10.8</td>\n",
       "      <td>0.74</td>\n",
       "      <td>18</td>\n",
       "      <td>0</td>\n",
       "      <td>0</td>\n",
       "      <td>0</td>\n",
       "      <td>0.00</td>\n",
       "    </tr>\n",
       "    <tr>\n",
       "      <th>3</th>\n",
       "      <td>Arkansas</td>\n",
       "      <td>AR</td>\n",
       "      <td>2.92</td>\n",
       "      <td>24.3</td>\n",
       "      <td>26.4</td>\n",
       "      <td>1.70</td>\n",
       "      <td>13.5</td>\n",
       "      <td>1.22</td>\n",
       "      <td>41</td>\n",
       "      <td>1</td>\n",
       "      <td>111115</td>\n",
       "      <td>435450</td>\n",
       "      <td>0.26</td>\n",
       "    </tr>\n",
       "    <tr>\n",
       "      <th>4</th>\n",
       "      <td>California</td>\n",
       "      <td>CA</td>\n",
       "      <td>37.25</td>\n",
       "      <td>26.8</td>\n",
       "      <td>19.1</td>\n",
       "      <td>0.39</td>\n",
       "      <td>8.0</td>\n",
       "      <td>0.24</td>\n",
       "      <td>0</td>\n",
       "      <td>0</td>\n",
       "      <td>0</td>\n",
       "      <td>379994</td>\n",
       "      <td>0.00</td>\n",
       "    </tr>\n",
       "  </tbody>\n",
       "</table>\n",
       "</div>"
      ],
      "text/plain": [
       "     Location Loc  Population  MedianAgeMarriage  Marriage  Marriage SE  \\\n",
       "0     Alabama  AL        4.78               25.3      20.2         1.27   \n",
       "1      Alaska  AK        0.71               25.2      26.0         2.93   \n",
       "2     Arizona  AZ        6.33               25.8      20.3         0.98   \n",
       "3    Arkansas  AR        2.92               24.3      26.4         1.70   \n",
       "4  California  CA       37.25               26.8      19.1         0.39   \n",
       "\n",
       "   Divorce  Divorce SE  WaffleHouses  South  Slaves1860  Population1860  \\\n",
       "0     12.7        0.79           128      1      435080          964201   \n",
       "1     12.5        2.05             0      0           0               0   \n",
       "2     10.8        0.74            18      0           0               0   \n",
       "3     13.5        1.22            41      1      111115          435450   \n",
       "4      8.0        0.24             0      0           0          379994   \n",
       "\n",
       "   PropSlaves1860  \n",
       "0            0.45  \n",
       "1            0.00  \n",
       "2            0.00  \n",
       "3            0.26  \n",
       "4            0.00  "
      ]
     },
     "execution_count": 4,
     "metadata": {},
     "output_type": "execute_result"
    }
   ],
   "source": [
    "divorce = pd.read_csv('./data/WaffleDivorce.csv',sep=';')\n",
    "divorce.head()"
   ]
  },
  {
   "cell_type": "code",
   "execution_count": 5,
   "id": "a3adcb48-f4a1-435f-9b54-c2646f9f4074",
   "metadata": {},
   "outputs": [
    {
     "data": {
      "text/html": [
       "<div>\n",
       "<style scoped>\n",
       "    .dataframe tbody tr th:only-of-type {\n",
       "        vertical-align: middle;\n",
       "    }\n",
       "\n",
       "    .dataframe tbody tr th {\n",
       "        vertical-align: top;\n",
       "    }\n",
       "\n",
       "    .dataframe thead th {\n",
       "        text-align: right;\n",
       "    }\n",
       "</style>\n",
       "<table border=\"1\" class=\"dataframe\">\n",
       "  <thead>\n",
       "    <tr style=\"text-align: right;\">\n",
       "      <th></th>\n",
       "      <th>Location</th>\n",
       "      <th>Members</th>\n",
       "      <th>Population</th>\n",
       "      <th>LDS_pct</th>\n",
       "    </tr>\n",
       "  </thead>\n",
       "  <tbody>\n",
       "    <tr>\n",
       "      <th>0</th>\n",
       "      <td>Alabama</td>\n",
       "      <td>39832.0</td>\n",
       "      <td>5074296.0</td>\n",
       "      <td>0.008</td>\n",
       "    </tr>\n",
       "    <tr>\n",
       "      <th>1</th>\n",
       "      <td>Alaska</td>\n",
       "      <td>33574.0</td>\n",
       "      <td>733583.0</td>\n",
       "      <td>0.046</td>\n",
       "    </tr>\n",
       "    <tr>\n",
       "      <th>2</th>\n",
       "      <td>Arizona</td>\n",
       "      <td>439411.0</td>\n",
       "      <td>7359197.0</td>\n",
       "      <td>0.060</td>\n",
       "    </tr>\n",
       "    <tr>\n",
       "      <th>3</th>\n",
       "      <td>Arkansas</td>\n",
       "      <td>35405.0</td>\n",
       "      <td>3045637.0</td>\n",
       "      <td>0.012</td>\n",
       "    </tr>\n",
       "    <tr>\n",
       "      <th>4</th>\n",
       "      <td>California</td>\n",
       "      <td>728995.0</td>\n",
       "      <td>39029342.0</td>\n",
       "      <td>0.019</td>\n",
       "    </tr>\n",
       "  </tbody>\n",
       "</table>\n",
       "</div>"
      ],
      "text/plain": [
       "     Location   Members  Population  LDS_pct\n",
       "0     Alabama   39832.0   5074296.0    0.008\n",
       "1      Alaska   33574.0    733583.0    0.046\n",
       "2     Arizona  439411.0   7359197.0    0.060\n",
       "3    Arkansas   35405.0   3045637.0    0.012\n",
       "4  California  728995.0  39029342.0    0.019"
      ]
     },
     "execution_count": 5,
     "metadata": {},
     "output_type": "execute_result"
    }
   ],
   "source": [
    "lds_stats = pd.read_csv('./data/lds_stats.csv')\n",
    "lds_stats['LDS_pct'] = np.round(lds_stats['Members'] / lds_stats['Population'],3)\n",
    "lds_stats = lds_stats.rename(columns={'State':'Location'})\n",
    "lds_stats.head()"
   ]
  },
  {
   "cell_type": "code",
   "execution_count": 6,
   "id": "0172499c-8e80-41f0-b171-760304420605",
   "metadata": {},
   "outputs": [
    {
     "data": {
      "text/html": [
       "<div>\n",
       "<style scoped>\n",
       "    .dataframe tbody tr th:only-of-type {\n",
       "        vertical-align: middle;\n",
       "    }\n",
       "\n",
       "    .dataframe tbody tr th {\n",
       "        vertical-align: top;\n",
       "    }\n",
       "\n",
       "    .dataframe thead th {\n",
       "        text-align: right;\n",
       "    }\n",
       "</style>\n",
       "<table border=\"1\" class=\"dataframe\">\n",
       "  <thead>\n",
       "    <tr style=\"text-align: right;\">\n",
       "      <th></th>\n",
       "      <th>Location</th>\n",
       "      <th>Loc</th>\n",
       "      <th>Population_x</th>\n",
       "      <th>MedianAgeMarriage</th>\n",
       "      <th>Marriage</th>\n",
       "      <th>Marriage SE</th>\n",
       "      <th>Divorce</th>\n",
       "      <th>Divorce SE</th>\n",
       "      <th>WaffleHouses</th>\n",
       "      <th>South</th>\n",
       "      <th>Slaves1860</th>\n",
       "      <th>Population1860</th>\n",
       "      <th>PropSlaves1860</th>\n",
       "      <th>Members</th>\n",
       "      <th>Population_y</th>\n",
       "      <th>LDS_pct</th>\n",
       "    </tr>\n",
       "  </thead>\n",
       "  <tbody>\n",
       "    <tr>\n",
       "      <th>0</th>\n",
       "      <td>Alabama</td>\n",
       "      <td>AL</td>\n",
       "      <td>4.78</td>\n",
       "      <td>25.3</td>\n",
       "      <td>20.2</td>\n",
       "      <td>1.27</td>\n",
       "      <td>12.7</td>\n",
       "      <td>0.79</td>\n",
       "      <td>128</td>\n",
       "      <td>1</td>\n",
       "      <td>435080</td>\n",
       "      <td>964201</td>\n",
       "      <td>0.45</td>\n",
       "      <td>39832.0</td>\n",
       "      <td>5074296.0</td>\n",
       "      <td>0.008</td>\n",
       "    </tr>\n",
       "    <tr>\n",
       "      <th>1</th>\n",
       "      <td>Alaska</td>\n",
       "      <td>AK</td>\n",
       "      <td>0.71</td>\n",
       "      <td>25.2</td>\n",
       "      <td>26.0</td>\n",
       "      <td>2.93</td>\n",
       "      <td>12.5</td>\n",
       "      <td>2.05</td>\n",
       "      <td>0</td>\n",
       "      <td>0</td>\n",
       "      <td>0</td>\n",
       "      <td>0</td>\n",
       "      <td>0.00</td>\n",
       "      <td>33574.0</td>\n",
       "      <td>733583.0</td>\n",
       "      <td>0.046</td>\n",
       "    </tr>\n",
       "    <tr>\n",
       "      <th>2</th>\n",
       "      <td>Arizona</td>\n",
       "      <td>AZ</td>\n",
       "      <td>6.33</td>\n",
       "      <td>25.8</td>\n",
       "      <td>20.3</td>\n",
       "      <td>0.98</td>\n",
       "      <td>10.8</td>\n",
       "      <td>0.74</td>\n",
       "      <td>18</td>\n",
       "      <td>0</td>\n",
       "      <td>0</td>\n",
       "      <td>0</td>\n",
       "      <td>0.00</td>\n",
       "      <td>439411.0</td>\n",
       "      <td>7359197.0</td>\n",
       "      <td>0.060</td>\n",
       "    </tr>\n",
       "    <tr>\n",
       "      <th>3</th>\n",
       "      <td>Arkansas</td>\n",
       "      <td>AR</td>\n",
       "      <td>2.92</td>\n",
       "      <td>24.3</td>\n",
       "      <td>26.4</td>\n",
       "      <td>1.70</td>\n",
       "      <td>13.5</td>\n",
       "      <td>1.22</td>\n",
       "      <td>41</td>\n",
       "      <td>1</td>\n",
       "      <td>111115</td>\n",
       "      <td>435450</td>\n",
       "      <td>0.26</td>\n",
       "      <td>35405.0</td>\n",
       "      <td>3045637.0</td>\n",
       "      <td>0.012</td>\n",
       "    </tr>\n",
       "    <tr>\n",
       "      <th>4</th>\n",
       "      <td>California</td>\n",
       "      <td>CA</td>\n",
       "      <td>37.25</td>\n",
       "      <td>26.8</td>\n",
       "      <td>19.1</td>\n",
       "      <td>0.39</td>\n",
       "      <td>8.0</td>\n",
       "      <td>0.24</td>\n",
       "      <td>0</td>\n",
       "      <td>0</td>\n",
       "      <td>0</td>\n",
       "      <td>379994</td>\n",
       "      <td>0.00</td>\n",
       "      <td>728995.0</td>\n",
       "      <td>39029342.0</td>\n",
       "      <td>0.019</td>\n",
       "    </tr>\n",
       "  </tbody>\n",
       "</table>\n",
       "</div>"
      ],
      "text/plain": [
       "     Location Loc  Population_x  MedianAgeMarriage  Marriage  Marriage SE  \\\n",
       "0     Alabama  AL          4.78               25.3      20.2         1.27   \n",
       "1      Alaska  AK          0.71               25.2      26.0         2.93   \n",
       "2     Arizona  AZ          6.33               25.8      20.3         0.98   \n",
       "3    Arkansas  AR          2.92               24.3      26.4         1.70   \n",
       "4  California  CA         37.25               26.8      19.1         0.39   \n",
       "\n",
       "   Divorce  Divorce SE  WaffleHouses  South  Slaves1860  Population1860  \\\n",
       "0     12.7        0.79           128      1      435080          964201   \n",
       "1     12.5        2.05             0      0           0               0   \n",
       "2     10.8        0.74            18      0           0               0   \n",
       "3     13.5        1.22            41      1      111115          435450   \n",
       "4      8.0        0.24             0      0           0          379994   \n",
       "\n",
       "   PropSlaves1860   Members  Population_y  LDS_pct  \n",
       "0            0.45   39832.0     5074296.0    0.008  \n",
       "1            0.00   33574.0      733583.0    0.046  \n",
       "2            0.00  439411.0     7359197.0    0.060  \n",
       "3            0.26   35405.0     3045637.0    0.012  \n",
       "4            0.00  728995.0    39029342.0    0.019  "
      ]
     },
     "execution_count": 6,
     "metadata": {},
     "output_type": "execute_result"
    }
   ],
   "source": [
    "divorce_lds = divorce.merge(lds_stats, on='Location')\n",
    "divorce_lds.head()"
   ]
  },
  {
   "cell_type": "code",
   "execution_count": 15,
   "id": "31288ddd-68ca-4a5f-9c0e-65b0bf9e3f1c",
   "metadata": {},
   "outputs": [
    {
     "data": {
      "text/html": [
       "<div>\n",
       "<style scoped>\n",
       "    .dataframe tbody tr th:only-of-type {\n",
       "        vertical-align: middle;\n",
       "    }\n",
       "\n",
       "    .dataframe tbody tr th {\n",
       "        vertical-align: top;\n",
       "    }\n",
       "\n",
       "    .dataframe thead th {\n",
       "        text-align: right;\n",
       "    }\n",
       "</style>\n",
       "<table border=\"1\" class=\"dataframe\">\n",
       "  <thead>\n",
       "    <tr style=\"text-align: right;\">\n",
       "      <th></th>\n",
       "      <th>Location</th>\n",
       "      <th>Loc</th>\n",
       "      <th>MedianAgeMarriage</th>\n",
       "      <th>Divorce</th>\n",
       "      <th>Marriage</th>\n",
       "      <th>LDS_pct</th>\n",
       "      <th>South</th>\n",
       "    </tr>\n",
       "  </thead>\n",
       "  <tbody>\n",
       "    <tr>\n",
       "      <th>0</th>\n",
       "      <td>Alabama</td>\n",
       "      <td>AL</td>\n",
       "      <td>25.3</td>\n",
       "      <td>12.7</td>\n",
       "      <td>20.2</td>\n",
       "      <td>0.008</td>\n",
       "      <td>1</td>\n",
       "    </tr>\n",
       "    <tr>\n",
       "      <th>1</th>\n",
       "      <td>Alaska</td>\n",
       "      <td>AK</td>\n",
       "      <td>25.2</td>\n",
       "      <td>12.5</td>\n",
       "      <td>26.0</td>\n",
       "      <td>0.046</td>\n",
       "      <td>0</td>\n",
       "    </tr>\n",
       "    <tr>\n",
       "      <th>2</th>\n",
       "      <td>Arizona</td>\n",
       "      <td>AZ</td>\n",
       "      <td>25.8</td>\n",
       "      <td>10.8</td>\n",
       "      <td>20.3</td>\n",
       "      <td>0.060</td>\n",
       "      <td>0</td>\n",
       "    </tr>\n",
       "    <tr>\n",
       "      <th>3</th>\n",
       "      <td>Arkansas</td>\n",
       "      <td>AR</td>\n",
       "      <td>24.3</td>\n",
       "      <td>13.5</td>\n",
       "      <td>26.4</td>\n",
       "      <td>0.012</td>\n",
       "      <td>1</td>\n",
       "    </tr>\n",
       "    <tr>\n",
       "      <th>4</th>\n",
       "      <td>California</td>\n",
       "      <td>CA</td>\n",
       "      <td>26.8</td>\n",
       "      <td>8.0</td>\n",
       "      <td>19.1</td>\n",
       "      <td>0.019</td>\n",
       "      <td>0</td>\n",
       "    </tr>\n",
       "  </tbody>\n",
       "</table>\n",
       "</div>"
      ],
      "text/plain": [
       "     Location Loc  MedianAgeMarriage  Divorce  Marriage  LDS_pct  South\n",
       "0     Alabama  AL               25.3     12.7      20.2    0.008      1\n",
       "1      Alaska  AK               25.2     12.5      26.0    0.046      0\n",
       "2     Arizona  AZ               25.8     10.8      20.3    0.060      0\n",
       "3    Arkansas  AR               24.3     13.5      26.4    0.012      1\n",
       "4  California  CA               26.8      8.0      19.1    0.019      0"
      ]
     },
     "execution_count": 15,
     "metadata": {},
     "output_type": "execute_result"
    }
   ],
   "source": [
    "training_data = divorce_lds[['Location','Loc','MedianAgeMarriage', 'Divorce','Marriage','LDS_pct','South']].copy()\n",
    "training_data.head()"
   ]
  },
  {
   "cell_type": "code",
   "execution_count": 16,
   "id": "d4f63c0d-0d31-42e2-9a5a-4b07b22a9976",
   "metadata": {},
   "outputs": [
    {
     "data": {
      "text/html": [
       "<div>\n",
       "<style scoped>\n",
       "    .dataframe tbody tr th:only-of-type {\n",
       "        vertical-align: middle;\n",
       "    }\n",
       "\n",
       "    .dataframe tbody tr th {\n",
       "        vertical-align: top;\n",
       "    }\n",
       "\n",
       "    .dataframe thead th {\n",
       "        text-align: right;\n",
       "    }\n",
       "</style>\n",
       "<table border=\"1\" class=\"dataframe\">\n",
       "  <thead>\n",
       "    <tr style=\"text-align: right;\">\n",
       "      <th></th>\n",
       "      <th>Location</th>\n",
       "      <th>Loc</th>\n",
       "      <th>MedianAgeMarriage</th>\n",
       "      <th>Divorce</th>\n",
       "      <th>Marriage</th>\n",
       "      <th>LDS_pct</th>\n",
       "      <th>South</th>\n",
       "      <th>MedAgeStd</th>\n",
       "      <th>DivorceStd</th>\n",
       "      <th>MarriageStd</th>\n",
       "      <th>LDSStd</th>\n",
       "    </tr>\n",
       "  </thead>\n",
       "  <tbody>\n",
       "    <tr>\n",
       "      <th>0</th>\n",
       "      <td>Alabama</td>\n",
       "      <td>AL</td>\n",
       "      <td>25.3</td>\n",
       "      <td>12.7</td>\n",
       "      <td>20.2</td>\n",
       "      <td>0.008</td>\n",
       "      <td>1</td>\n",
       "      <td>-0.606290</td>\n",
       "      <td>1.654205</td>\n",
       "      <td>0.022644</td>\n",
       "      <td>-0.262656</td>\n",
       "    </tr>\n",
       "    <tr>\n",
       "      <th>1</th>\n",
       "      <td>Alaska</td>\n",
       "      <td>AK</td>\n",
       "      <td>25.2</td>\n",
       "      <td>12.5</td>\n",
       "      <td>26.0</td>\n",
       "      <td>0.046</td>\n",
       "      <td>0</td>\n",
       "      <td>-0.686699</td>\n",
       "      <td>1.544364</td>\n",
       "      <td>1.549802</td>\n",
       "      <td>0.134042</td>\n",
       "    </tr>\n",
       "    <tr>\n",
       "      <th>2</th>\n",
       "      <td>Arizona</td>\n",
       "      <td>AZ</td>\n",
       "      <td>25.8</td>\n",
       "      <td>10.8</td>\n",
       "      <td>20.3</td>\n",
       "      <td>0.060</td>\n",
       "      <td>0</td>\n",
       "      <td>-0.204241</td>\n",
       "      <td>0.610716</td>\n",
       "      <td>0.048974</td>\n",
       "      <td>0.280194</td>\n",
       "    </tr>\n",
       "    <tr>\n",
       "      <th>3</th>\n",
       "      <td>Arkansas</td>\n",
       "      <td>AR</td>\n",
       "      <td>24.3</td>\n",
       "      <td>13.5</td>\n",
       "      <td>26.4</td>\n",
       "      <td>0.012</td>\n",
       "      <td>1</td>\n",
       "      <td>-1.410387</td>\n",
       "      <td>2.093569</td>\n",
       "      <td>1.655123</td>\n",
       "      <td>-0.220898</td>\n",
       "    </tr>\n",
       "    <tr>\n",
       "      <th>4</th>\n",
       "      <td>California</td>\n",
       "      <td>CA</td>\n",
       "      <td>26.8</td>\n",
       "      <td>8.0</td>\n",
       "      <td>19.1</td>\n",
       "      <td>0.019</td>\n",
       "      <td>0</td>\n",
       "      <td>0.599857</td>\n",
       "      <td>-0.927058</td>\n",
       "      <td>-0.266989</td>\n",
       "      <td>-0.147822</td>\n",
       "    </tr>\n",
       "  </tbody>\n",
       "</table>\n",
       "</div>"
      ],
      "text/plain": [
       "     Location Loc  MedianAgeMarriage  Divorce  Marriage  LDS_pct  South  \\\n",
       "0     Alabama  AL               25.3     12.7      20.2    0.008      1   \n",
       "1      Alaska  AK               25.2     12.5      26.0    0.046      0   \n",
       "2     Arizona  AZ               25.8     10.8      20.3    0.060      0   \n",
       "3    Arkansas  AR               24.3     13.5      26.4    0.012      1   \n",
       "4  California  CA               26.8      8.0      19.1    0.019      0   \n",
       "\n",
       "   MedAgeStd  DivorceStd  MarriageStd    LDSStd  \n",
       "0  -0.606290    1.654205     0.022644 -0.262656  \n",
       "1  -0.686699    1.544364     1.549802  0.134042  \n",
       "2  -0.204241    0.610716     0.048974  0.280194  \n",
       "3  -1.410387    2.093569     1.655123 -0.220898  \n",
       "4   0.599857   -0.927058    -0.266989 -0.147822  "
      ]
     },
     "execution_count": 16,
     "metadata": {},
     "output_type": "execute_result"
    }
   ],
   "source": [
    "training_data['MedAgeStd'] = (training_data['MedianAgeMarriage'] - training_data['MedianAgeMarriage'].mean())/training_data['MedianAgeMarriage'].std()\n",
    "training_data['DivorceStd'] = (training_data['Divorce'] - training_data['Divorce'].mean())/training_data['Divorce'].std()\n",
    "training_data['MarriageStd'] = (training_data['Marriage'] - training_data['Marriage'].mean())/training_data['Marriage'].std()\n",
    "training_data['LDSStd'] = (training_data['LDS_pct'] - training_data['LDS_pct'].mean())/training_data['LDS_pct'].std()\n",
    "training_data.head()"
   ]
  },
  {
   "cell_type": "code",
   "execution_count": 19,
   "id": "d4bdb0ab-2b06-4936-a525-7acb6456997f",
   "metadata": {},
   "outputs": [
    {
     "name": "stderr",
     "output_type": "stream",
     "text": [
      "Auto-assigning NUTS sampler...\n",
      "Initializing NUTS using jitter+adapt_diag...\n",
      "Multiprocess sampling (4 chains in 4 jobs)\n",
      "NUTS: [a, b_m, b_age, b_lds, sigma]\n"
     ]
    },
    {
     "data": {
      "text/html": [
       "\n",
       "<style>\n",
       "    /* Turns off some styling */\n",
       "    progress {\n",
       "        /* gets rid of default border in Firefox and Opera. */\n",
       "        border: none;\n",
       "        /* Needs to be in here for Safari polyfill so background images work as expected. */\n",
       "        background-size: auto;\n",
       "    }\n",
       "    progress:not([value]), progress:not([value])::-webkit-progress-bar {\n",
       "        background: repeating-linear-gradient(45deg, #7e7e7e, #7e7e7e 10px, #5c5c5c 10px, #5c5c5c 20px);\n",
       "    }\n",
       "    .progress-bar-interrupted, .progress-bar-interrupted::-webkit-progress-bar {\n",
       "        background: #F44336;\n",
       "    }\n",
       "</style>\n"
      ],
      "text/plain": [
       "<IPython.core.display.HTML object>"
      ]
     },
     "metadata": {},
     "output_type": "display_data"
    },
    {
     "data": {
      "text/html": [
       "\n",
       "    <div>\n",
       "      <progress value='8000' class='' max='8000' style='width:300px; height:20px; vertical-align: middle;'></progress>\n",
       "      100.00% [8000/8000 00:06&lt;00:00 Sampling 4 chains, 0 divergences]\n",
       "    </div>\n",
       "    "
      ],
      "text/plain": [
       "<IPython.core.display.HTML object>"
      ]
     },
     "metadata": {},
     "output_type": "display_data"
    },
    {
     "name": "stderr",
     "output_type": "stream",
     "text": [
      "Sampling 4 chains for 1_000 tune and 1_000 draw iterations (4_000 + 4_000 draws total) took 24 seconds.\n"
     ]
    }
   ],
   "source": [
    "with pm.Model() as m_5m4_a:\n",
    "    a = pm.Normal('a', 0, 1)\n",
    "    b_m = pm.Normal('b_m', 0,0.5)\n",
    "    b_age = pm.Normal('b_age', 0,0.5)\n",
    "    b_lds = pm.Normal('b_lds',0,0.5)\n",
    "    sigma = pm.Exponential('sigma',1)\n",
    "    mu = a + b_m * training_data['MarriageStd'] + b_age * training_data['MedAgeStd'] + b_lds * training_data['LDSStd']\n",
    "    divorce = pm.Normal('divorce', mu, sigma, observed=training_data['Divorce'])\n",
    "    m_5m4_a_trace = pm.sample()                    "
   ]
  },
  {
   "cell_type": "code",
   "execution_count": 20,
   "id": "69331332-7d73-4738-9f99-4be18c25accb",
   "metadata": {},
   "outputs": [
    {
     "data": {
      "text/html": [
       "<div>\n",
       "<style scoped>\n",
       "    .dataframe tbody tr th:only-of-type {\n",
       "        vertical-align: middle;\n",
       "    }\n",
       "\n",
       "    .dataframe tbody tr th {\n",
       "        vertical-align: top;\n",
       "    }\n",
       "\n",
       "    .dataframe thead th {\n",
       "        text-align: right;\n",
       "    }\n",
       "</style>\n",
       "<table border=\"1\" class=\"dataframe\">\n",
       "  <thead>\n",
       "    <tr style=\"text-align: right;\">\n",
       "      <th></th>\n",
       "      <th>mean</th>\n",
       "      <th>sd</th>\n",
       "      <th>hdi_3%</th>\n",
       "      <th>hdi_97%</th>\n",
       "      <th>mcse_mean</th>\n",
       "      <th>mcse_sd</th>\n",
       "      <th>ess_bulk</th>\n",
       "      <th>ess_tail</th>\n",
       "      <th>r_hat</th>\n",
       "    </tr>\n",
       "  </thead>\n",
       "  <tbody>\n",
       "    <tr>\n",
       "      <th>a</th>\n",
       "      <td>9.266</td>\n",
       "      <td>0.231</td>\n",
       "      <td>8.823</td>\n",
       "      <td>9.680</td>\n",
       "      <td>0.004</td>\n",
       "      <td>0.003</td>\n",
       "      <td>3236.0</td>\n",
       "      <td>2315.0</td>\n",
       "      <td>1.0</td>\n",
       "    </tr>\n",
       "    <tr>\n",
       "      <th>b_m</th>\n",
       "      <td>0.155</td>\n",
       "      <td>0.257</td>\n",
       "      <td>-0.329</td>\n",
       "      <td>0.634</td>\n",
       "      <td>0.005</td>\n",
       "      <td>0.004</td>\n",
       "      <td>2970.0</td>\n",
       "      <td>2838.0</td>\n",
       "      <td>1.0</td>\n",
       "    </tr>\n",
       "    <tr>\n",
       "      <th>b_age</th>\n",
       "      <td>-0.997</td>\n",
       "      <td>0.260</td>\n",
       "      <td>-1.447</td>\n",
       "      <td>-0.475</td>\n",
       "      <td>0.005</td>\n",
       "      <td>0.003</td>\n",
       "      <td>2954.0</td>\n",
       "      <td>2649.0</td>\n",
       "      <td>1.0</td>\n",
       "    </tr>\n",
       "    <tr>\n",
       "      <th>b_lds</th>\n",
       "      <td>-0.431</td>\n",
       "      <td>0.229</td>\n",
       "      <td>-0.861</td>\n",
       "      <td>-0.007</td>\n",
       "      <td>0.004</td>\n",
       "      <td>0.003</td>\n",
       "      <td>3558.0</td>\n",
       "      <td>2772.0</td>\n",
       "      <td>1.0</td>\n",
       "    </tr>\n",
       "    <tr>\n",
       "      <th>sigma</th>\n",
       "      <td>1.499</td>\n",
       "      <td>0.178</td>\n",
       "      <td>1.173</td>\n",
       "      <td>1.816</td>\n",
       "      <td>0.003</td>\n",
       "      <td>0.002</td>\n",
       "      <td>3062.0</td>\n",
       "      <td>2383.0</td>\n",
       "      <td>1.0</td>\n",
       "    </tr>\n",
       "  </tbody>\n",
       "</table>\n",
       "</div>"
      ],
      "text/plain": [
       "        mean     sd  hdi_3%  hdi_97%  mcse_mean  mcse_sd  ess_bulk  ess_tail  \\\n",
       "a      9.266  0.231   8.823    9.680      0.004    0.003    3236.0    2315.0   \n",
       "b_m    0.155  0.257  -0.329    0.634      0.005    0.004    2970.0    2838.0   \n",
       "b_age -0.997  0.260  -1.447   -0.475      0.005    0.003    2954.0    2649.0   \n",
       "b_lds -0.431  0.229  -0.861   -0.007      0.004    0.003    3558.0    2772.0   \n",
       "sigma  1.499  0.178   1.173    1.816      0.003    0.002    3062.0    2383.0   \n",
       "\n",
       "       r_hat  \n",
       "a        1.0  \n",
       "b_m      1.0  \n",
       "b_age    1.0  \n",
       "b_lds    1.0  \n",
       "sigma    1.0  "
      ]
     },
     "execution_count": 20,
     "metadata": {},
     "output_type": "execute_result"
    }
   ],
   "source": [
    "az.summary(m_5m4_a_trace)"
   ]
  },
  {
   "cell_type": "code",
   "execution_count": 21,
   "id": "373ccb94-f847-4de1-a003-0d17ee96853e",
   "metadata": {},
   "outputs": [
    {
     "name": "stderr",
     "output_type": "stream",
     "text": [
      "Auto-assigning NUTS sampler...\n",
      "Initializing NUTS using jitter+adapt_diag...\n",
      "Multiprocess sampling (4 chains in 4 jobs)\n",
      "NUTS: [a, b_m, b_age, sigma]\n"
     ]
    },
    {
     "data": {
      "text/html": [
       "\n",
       "<style>\n",
       "    /* Turns off some styling */\n",
       "    progress {\n",
       "        /* gets rid of default border in Firefox and Opera. */\n",
       "        border: none;\n",
       "        /* Needs to be in here for Safari polyfill so background images work as expected. */\n",
       "        background-size: auto;\n",
       "    }\n",
       "    progress:not([value]), progress:not([value])::-webkit-progress-bar {\n",
       "        background: repeating-linear-gradient(45deg, #7e7e7e, #7e7e7e 10px, #5c5c5c 10px, #5c5c5c 20px);\n",
       "    }\n",
       "    .progress-bar-interrupted, .progress-bar-interrupted::-webkit-progress-bar {\n",
       "        background: #F44336;\n",
       "    }\n",
       "</style>\n"
      ],
      "text/plain": [
       "<IPython.core.display.HTML object>"
      ]
     },
     "metadata": {},
     "output_type": "display_data"
    },
    {
     "data": {
      "text/html": [
       "\n",
       "    <div>\n",
       "      <progress value='8000' class='' max='8000' style='width:300px; height:20px; vertical-align: middle;'></progress>\n",
       "      100.00% [8000/8000 00:06&lt;00:00 Sampling 4 chains, 0 divergences]\n",
       "    </div>\n",
       "    "
      ],
      "text/plain": [
       "<IPython.core.display.HTML object>"
      ]
     },
     "metadata": {},
     "output_type": "display_data"
    },
    {
     "name": "stderr",
     "output_type": "stream",
     "text": [
      "Sampling 4 chains for 1_000 tune and 1_000 draw iterations (4_000 + 4_000 draws total) took 23 seconds.\n"
     ]
    }
   ],
   "source": [
    "with pm.Model() as m_5m4_b:\n",
    "    a = pm.Normal('a', 0, 1)\n",
    "    b_m = pm.Normal('b_m', 0,0.5)\n",
    "    b_age = pm.Normal('b_age', 0,0.5)\n",
    "    sigma = pm.Exponential('sigma',1)\n",
    "    mu = a + b_m * training_data['MarriageStd'] + b_age * training_data['MedAgeStd']\n",
    "    divorce = pm.Normal('divorce', mu, sigma, observed=training_data['Divorce'])\n",
    "    m_5m4_b_trace = pm.sample()     "
   ]
  },
  {
   "cell_type": "code",
   "execution_count": 22,
   "id": "40770cfe-3faf-4fbd-bd65-e7b84917a3f9",
   "metadata": {},
   "outputs": [
    {
     "data": {
      "text/html": [
       "<div>\n",
       "<style scoped>\n",
       "    .dataframe tbody tr th:only-of-type {\n",
       "        vertical-align: middle;\n",
       "    }\n",
       "\n",
       "    .dataframe tbody tr th {\n",
       "        vertical-align: top;\n",
       "    }\n",
       "\n",
       "    .dataframe thead th {\n",
       "        text-align: right;\n",
       "    }\n",
       "</style>\n",
       "<table border=\"1\" class=\"dataframe\">\n",
       "  <thead>\n",
       "    <tr style=\"text-align: right;\">\n",
       "      <th></th>\n",
       "      <th>mean</th>\n",
       "      <th>sd</th>\n",
       "      <th>hdi_3%</th>\n",
       "      <th>hdi_97%</th>\n",
       "      <th>mcse_mean</th>\n",
       "      <th>mcse_sd</th>\n",
       "      <th>ess_bulk</th>\n",
       "      <th>ess_tail</th>\n",
       "      <th>r_hat</th>\n",
       "    </tr>\n",
       "  </thead>\n",
       "  <tbody>\n",
       "    <tr>\n",
       "      <th>a</th>\n",
       "      <td>9.221</td>\n",
       "      <td>0.243</td>\n",
       "      <td>8.753</td>\n",
       "      <td>9.667</td>\n",
       "      <td>0.005</td>\n",
       "      <td>0.003</td>\n",
       "      <td>2549.0</td>\n",
       "      <td>2233.0</td>\n",
       "      <td>1.0</td>\n",
       "    </tr>\n",
       "    <tr>\n",
       "      <th>b_m</th>\n",
       "      <td>0.035</td>\n",
       "      <td>0.256</td>\n",
       "      <td>-0.455</td>\n",
       "      <td>0.494</td>\n",
       "      <td>0.005</td>\n",
       "      <td>0.004</td>\n",
       "      <td>3037.0</td>\n",
       "      <td>2987.0</td>\n",
       "      <td>1.0</td>\n",
       "    </tr>\n",
       "    <tr>\n",
       "      <th>b_age</th>\n",
       "      <td>-0.886</td>\n",
       "      <td>0.257</td>\n",
       "      <td>-1.373</td>\n",
       "      <td>-0.412</td>\n",
       "      <td>0.005</td>\n",
       "      <td>0.003</td>\n",
       "      <td>2806.0</td>\n",
       "      <td>2692.0</td>\n",
       "      <td>1.0</td>\n",
       "    </tr>\n",
       "    <tr>\n",
       "      <th>sigma</th>\n",
       "      <td>1.586</td>\n",
       "      <td>0.189</td>\n",
       "      <td>1.258</td>\n",
       "      <td>1.928</td>\n",
       "      <td>0.004</td>\n",
       "      <td>0.003</td>\n",
       "      <td>2855.0</td>\n",
       "      <td>2771.0</td>\n",
       "      <td>1.0</td>\n",
       "    </tr>\n",
       "  </tbody>\n",
       "</table>\n",
       "</div>"
      ],
      "text/plain": [
       "        mean     sd  hdi_3%  hdi_97%  mcse_mean  mcse_sd  ess_bulk  ess_tail  \\\n",
       "a      9.221  0.243   8.753    9.667      0.005    0.003    2549.0    2233.0   \n",
       "b_m    0.035  0.256  -0.455    0.494      0.005    0.004    3037.0    2987.0   \n",
       "b_age -0.886  0.257  -1.373   -0.412      0.005    0.003    2806.0    2692.0   \n",
       "sigma  1.586  0.189   1.258    1.928      0.004    0.003    2855.0    2771.0   \n",
       "\n",
       "       r_hat  \n",
       "a        1.0  \n",
       "b_m      1.0  \n",
       "b_age    1.0  \n",
       "sigma    1.0  "
      ]
     },
     "execution_count": 22,
     "metadata": {},
     "output_type": "execute_result"
    }
   ],
   "source": [
    "az.summary(m_5m4_b_trace)"
   ]
  },
  {
   "cell_type": "code",
   "execution_count": 23,
   "id": "308392ef-56e7-4d7d-8441-36ea26b75d03",
   "metadata": {},
   "outputs": [
    {
     "data": {
      "text/plain": [
       "Text(0, 0.5, 'Predicted')"
      ]
     },
     "execution_count": 23,
     "metadata": {},
     "output_type": "execute_result"
    },
    {
     "data": {
      "image/png": "[encoded data removed]",
      "text/plain": [
       "<Figure size 640x480 with 1 Axes>"
      ]
     },
     "metadata": {},
     "output_type": "display_data"
    }
   ],
   "source": [
    "predictions_m_5m4_a = (m_5m4_a_trace['posterior']['a'].mean().item(0) + \n",
    "                       (m_5m4_a_trace['posterior']['b_m'].mean().item(0) * training_data['MarriageStd']) + \n",
    "                       (m_5m4_a_trace['posterior']['b_age'].mean().item(0) * training_data['MedAgeStd']) + \n",
    "                       (m_5m4_a_trace['posterior']['b_lds'].mean().item(0) * training_data['LDSStd'])\n",
    ")\n",
    "plt.scatter(training_data['Divorce'], predictions_m_5m4_a)\n",
    "plt.xlabel('Actual')\n",
    "plt.ylabel('Predicted')"
   ]
  },
  {
   "cell_type": "code",
   "execution_count": 24,
   "id": "824f1d18-f279-4864-801a-0dd033085f46",
   "metadata": {},
   "outputs": [
    {
     "data": {
      "text/plain": [
       "<matplotlib.collections.PathCollection at 0x25352683c10>"
      ]
     },
     "execution_count": 24,
     "metadata": {},
     "output_type": "execute_result"
    },
    {
     "data": {
      "image/png": "[encoded data removed]",
      "text/plain": [
       "<Figure size 640x480 with 1 Axes>"
      ]
     },
     "metadata": {},
     "output_type": "display_data"
    }
   ],
   "source": [
    "predictions_m_5m4_b = (m_5m4_b_trace['posterior']['a'].mean().item(0) + \n",
    "                       (m_5m4_b_trace['posterior']['b_m'].mean().item(0) * training_data['MarriageStd']) + \n",
    "                       (m_5m4_b_trace['posterior']['b_age'].mean().item(0))\n",
    ")\n",
    "plt.scatter(training_data['Divorce'], predictions_m_5m4_b)"
   ]
  },
  {
   "cell_type": "code",
   "execution_count": 25,
   "id": "befb3cd5-ad40-4ca5-8b94-53ca9c39f032",
   "metadata": {},
   "outputs": [
    {
     "data": {
      "text/plain": [
       "(2.056449803332794, 5.0335984645291925)"
      ]
     },
     "execution_count": 25,
     "metadata": {},
     "output_type": "execute_result"
    }
   ],
   "source": [
    "mean_squared_error(training_data['Divorce'], predictions_m_5m4_a), mean_squared_error(training_data['Divorce'], predictions_m_5m4_b)"
   ]
  },
  {
   "cell_type": "markdown",
   "id": "822e8ca8",
   "metadata": {},
   "source": [
    "Looking at the mean squared error, the model with the LDS population percentage data performs better than the one without the LDS data.  This can be seen in the plots of the residuals versus the actuals as well, as the model with the LDS population information has points that are closer to the diagnol"
   ]
  },
  {
   "cell_type": "markdown",
   "id": "9f8b6597",
   "metadata": {},
   "source": [
    "# 5M5 Question\n",
    "One way to reason through multiple causation hypotheses is to imagine detailed mechanisms\n",
    "through which predictor variables may influence outcomes. For example, it is sometimes argued that\n",
    "the price of gasoline (predictor variable) is positively associated with lower obesity rates (outcome\n",
    "variable). However, there are at least two important mechanisms by which the price of gas could\n",
    "reduce obesity. First, it could lead to less driving and therefore more exercise. Second, it could lead to\n",
    "less driving, which leads to less eating out, which leads to less consumption of huge restaurant meals.\n",
    "Can you outline one or more multiple regressions that address these two mechanisms? Assume you\n",
    "can have any predictor data you need."
   ]
  },
  {
   "cell_type": "markdown",
   "id": "e4d2e46a-e368-4c65-9c90-c98a298787a8",
   "metadata": {},
   "source": [
    "GP: Gas Price\n",
    " \n",
    "DR: Driving Rate\n",
    "\n",
    "E: Amount of Exercise\n",
    "\n",
    "O: Obesity Rate\n",
    "\n",
    "EO: Eating Out"
   ]
  },
  {
   "cell_type": "code",
   "execution_count": 26,
   "id": "7354b64d-7329-406e-a0c0-8a0a740311a4",
   "metadata": {},
   "outputs": [
    {
     "data": {
      "image/svg+xml": [
       "<?xml version=\"1.0\" encoding=\"UTF-8\" standalone=\"no\"?>\n",
       "<!DOCTYPE svg PUBLIC \"-//W3C//DTD SVG 1.1//EN\"\n",
       " \"http://www.w3.org/Graphics/SVG/1.1/DTD/svg11.dtd\">\n",
       "<!-- Generated by graphviz version 9.0.0 (0)\n",
       " -->\n",
       "<!-- Pages: 1 -->\n",
       "<svg width=\"134pt\" height=\"260pt\"\n",
       " viewBox=\"0.00 0.00 134.00 260.00\" xmlns=\"http://www.w3.org/2000/svg\" xmlns:xlink=\"http://www.w3.org/1999/xlink\">\n",
       "<g id=\"graph0\" class=\"graph\" transform=\"scale(1 1) rotate(0) translate(4 256)\">\n",
       "<polygon fill=\"white\" stroke=\"none\" points=\"-4,4 -4,-256 130,-256 130,4 -4,4\"/>\n",
       "<!-- O -->\n",
       "<g id=\"node1\" class=\"node\">\n",
       "<title>O</title>\n",
       "<ellipse fill=\"none\" stroke=\"black\" cx=\"63\" cy=\"-18\" rx=\"27\" ry=\"18\"/>\n",
       "<text text-anchor=\"middle\" x=\"63\" y=\"-12.95\" font-family=\"Times New Roman,serif\" font-size=\"14.00\">O</text>\n",
       "</g>\n",
       "<!-- GP -->\n",
       "<g id=\"node2\" class=\"node\">\n",
       "<title>GP</title>\n",
       "<ellipse fill=\"none\" stroke=\"black\" cx=\"99\" cy=\"-234\" rx=\"27\" ry=\"18\"/>\n",
       "<text text-anchor=\"middle\" x=\"99\" y=\"-228.95\" font-family=\"Times New Roman,serif\" font-size=\"14.00\">GP</text>\n",
       "</g>\n",
       "<!-- DR -->\n",
       "<g id=\"node3\" class=\"node\">\n",
       "<title>DR</title>\n",
       "<ellipse fill=\"none\" stroke=\"black\" cx=\"99\" cy=\"-162\" rx=\"27\" ry=\"18\"/>\n",
       "<text text-anchor=\"middle\" x=\"99\" y=\"-156.95\" font-family=\"Times New Roman,serif\" font-size=\"14.00\">DR</text>\n",
       "</g>\n",
       "<!-- GP&#45;&gt;DR -->\n",
       "<g id=\"edge1\" class=\"edge\">\n",
       "<title>GP&#45;&gt;DR</title>\n",
       "<path fill=\"none\" stroke=\"black\" d=\"M99,-215.7C99,-208.41 99,-199.73 99,-191.54\"/>\n",
       "<polygon fill=\"black\" stroke=\"black\" points=\"102.5,-191.62 99,-181.62 95.5,-191.62 102.5,-191.62\"/>\n",
       "</g>\n",
       "<!-- E -->\n",
       "<g id=\"node5\" class=\"node\">\n",
       "<title>E</title>\n",
       "<ellipse fill=\"none\" stroke=\"black\" cx=\"99\" cy=\"-90\" rx=\"27\" ry=\"18\"/>\n",
       "<text text-anchor=\"middle\" x=\"99\" y=\"-84.95\" font-family=\"Times New Roman,serif\" font-size=\"14.00\">E</text>\n",
       "</g>\n",
       "<!-- DR&#45;&gt;E -->\n",
       "<g id=\"edge2\" class=\"edge\">\n",
       "<title>DR&#45;&gt;E</title>\n",
       "<path fill=\"none\" stroke=\"black\" d=\"M99,-143.7C99,-136.41 99,-127.73 99,-119.54\"/>\n",
       "<polygon fill=\"black\" stroke=\"black\" points=\"102.5,-119.62 99,-109.62 95.5,-119.62 102.5,-119.62\"/>\n",
       "</g>\n",
       "<!-- EO -->\n",
       "<g id=\"node4\" class=\"node\">\n",
       "<title>EO</title>\n",
       "<ellipse fill=\"none\" stroke=\"black\" cx=\"27\" cy=\"-90\" rx=\"27\" ry=\"18\"/>\n",
       "<text text-anchor=\"middle\" x=\"27\" y=\"-84.95\" font-family=\"Times New Roman,serif\" font-size=\"14.00\">EO</text>\n",
       "</g>\n",
       "<!-- EO&#45;&gt;O -->\n",
       "<g id=\"edge4\" class=\"edge\">\n",
       "<title>EO&#45;&gt;O</title>\n",
       "<path fill=\"none\" stroke=\"black\" d=\"M35.35,-72.76C39.58,-64.55 44.81,-54.37 49.58,-45.09\"/>\n",
       "<polygon fill=\"black\" stroke=\"black\" points=\"52.54,-46.99 54,-36.49 46.32,-43.79 52.54,-46.99\"/>\n",
       "</g>\n",
       "<!-- E&#45;&gt;O -->\n",
       "<g id=\"edge3\" class=\"edge\">\n",
       "<title>E&#45;&gt;O</title>\n",
       "<path fill=\"none\" stroke=\"black\" d=\"M90.65,-72.76C86.42,-64.55 81.19,-54.37 76.42,-45.09\"/>\n",
       "<polygon fill=\"black\" stroke=\"black\" points=\"79.68,-43.79 72,-36.49 73.46,-46.99 79.68,-43.79\"/>\n",
       "</g>\n",
       "</g>\n",
       "</svg>\n"
      ],
      "text/plain": [
       "<graphviz.graphs.Digraph at 0x253519e6e20>"
      ]
     },
     "execution_count": 26,
     "metadata": {},
     "output_type": "execute_result"
    }
   ],
   "source": [
    "m1 = CausalGraphicalModel(\n",
    "    nodes = ['GP','DR','E','O','EO'],\n",
    "    edges =[\n",
    "        ('GP', 'DR'),\n",
    "        ('DR','E'),\n",
    "        ('E','O'),\n",
    "        ('EO','O')\n",
    "    ])\n",
    "    \n",
    "m1.draw()"
   ]
  },
  {
   "cell_type": "code",
   "execution_count": 27,
   "id": "5f030e9f-f7b2-49c1-a157-e536247f81e1",
   "metadata": {},
   "outputs": [
    {
     "data": {
      "image/svg+xml": [
       "<?xml version=\"1.0\" encoding=\"UTF-8\" standalone=\"no\"?>\n",
       "<!DOCTYPE svg PUBLIC \"-//W3C//DTD SVG 1.1//EN\"\n",
       " \"http://www.w3.org/Graphics/SVG/1.1/DTD/svg11.dtd\">\n",
       "<!-- Generated by graphviz version 9.0.0 (0)\n",
       " -->\n",
       "<!-- Pages: 1 -->\n",
       "<svg width=\"134pt\" height=\"260pt\"\n",
       " viewBox=\"0.00 0.00 134.00 260.00\" xmlns=\"http://www.w3.org/2000/svg\" xmlns:xlink=\"http://www.w3.org/1999/xlink\">\n",
       "<g id=\"graph0\" class=\"graph\" transform=\"scale(1 1) rotate(0) translate(4 256)\">\n",
       "<polygon fill=\"white\" stroke=\"none\" points=\"-4,4 -4,-256 130,-256 130,4 -4,4\"/>\n",
       "<!-- O -->\n",
       "<g id=\"node1\" class=\"node\">\n",
       "<title>O</title>\n",
       "<ellipse fill=\"none\" stroke=\"black\" cx=\"27\" cy=\"-18\" rx=\"27\" ry=\"18\"/>\n",
       "<text text-anchor=\"middle\" x=\"27\" y=\"-12.95\" font-family=\"Times New Roman,serif\" font-size=\"14.00\">O</text>\n",
       "</g>\n",
       "<!-- GP -->\n",
       "<g id=\"node2\" class=\"node\">\n",
       "<title>GP</title>\n",
       "<ellipse fill=\"none\" stroke=\"black\" cx=\"27\" cy=\"-234\" rx=\"27\" ry=\"18\"/>\n",
       "<text text-anchor=\"middle\" x=\"27\" y=\"-228.95\" font-family=\"Times New Roman,serif\" font-size=\"14.00\">GP</text>\n",
       "</g>\n",
       "<!-- DR -->\n",
       "<g id=\"node3\" class=\"node\">\n",
       "<title>DR</title>\n",
       "<ellipse fill=\"none\" stroke=\"black\" cx=\"27\" cy=\"-162\" rx=\"27\" ry=\"18\"/>\n",
       "<text text-anchor=\"middle\" x=\"27\" y=\"-156.95\" font-family=\"Times New Roman,serif\" font-size=\"14.00\">DR</text>\n",
       "</g>\n",
       "<!-- GP&#45;&gt;DR -->\n",
       "<g id=\"edge1\" class=\"edge\">\n",
       "<title>GP&#45;&gt;DR</title>\n",
       "<path fill=\"none\" stroke=\"black\" d=\"M27,-215.7C27,-208.41 27,-199.73 27,-191.54\"/>\n",
       "<polygon fill=\"black\" stroke=\"black\" points=\"30.5,-191.62 27,-181.62 23.5,-191.62 30.5,-191.62\"/>\n",
       "</g>\n",
       "<!-- EO -->\n",
       "<g id=\"node4\" class=\"node\">\n",
       "<title>EO</title>\n",
       "<ellipse fill=\"none\" stroke=\"black\" cx=\"27\" cy=\"-90\" rx=\"27\" ry=\"18\"/>\n",
       "<text text-anchor=\"middle\" x=\"27\" y=\"-84.95\" font-family=\"Times New Roman,serif\" font-size=\"14.00\">EO</text>\n",
       "</g>\n",
       "<!-- DR&#45;&gt;EO -->\n",
       "<g id=\"edge2\" class=\"edge\">\n",
       "<title>DR&#45;&gt;EO</title>\n",
       "<path fill=\"none\" stroke=\"black\" d=\"M27,-143.7C27,-136.41 27,-127.73 27,-119.54\"/>\n",
       "<polygon fill=\"black\" stroke=\"black\" points=\"30.5,-119.62 27,-109.62 23.5,-119.62 30.5,-119.62\"/>\n",
       "</g>\n",
       "<!-- EO&#45;&gt;O -->\n",
       "<g id=\"edge3\" class=\"edge\">\n",
       "<title>EO&#45;&gt;O</title>\n",
       "<path fill=\"none\" stroke=\"black\" d=\"M27,-71.7C27,-64.41 27,-55.73 27,-47.54\"/>\n",
       "<polygon fill=\"black\" stroke=\"black\" points=\"30.5,-47.62 27,-37.62 23.5,-47.62 30.5,-47.62\"/>\n",
       "</g>\n",
       "<!-- E -->\n",
       "<g id=\"node5\" class=\"node\">\n",
       "<title>E</title>\n",
       "<ellipse fill=\"none\" stroke=\"black\" cx=\"99\" cy=\"-234\" rx=\"27\" ry=\"18\"/>\n",
       "<text text-anchor=\"middle\" x=\"99\" y=\"-228.95\" font-family=\"Times New Roman,serif\" font-size=\"14.00\">E</text>\n",
       "</g>\n",
       "</g>\n",
       "</svg>\n"
      ],
      "text/plain": [
       "<graphviz.graphs.Digraph at 0x253524d4dc0>"
      ]
     },
     "execution_count": 27,
     "metadata": {},
     "output_type": "execute_result"
    }
   ],
   "source": [
    "m1 = CausalGraphicalModel(\n",
    "    nodes = ['GP','DR','E','O','EO'],\n",
    "    edges =[\n",
    "        ('GP', 'DR'),\n",
    "        ('DR','EO'),\n",
    "        ('EO','O')\n",
    "    ])\n",
    "    \n",
    "m1.draw()"
   ]
  },
  {
   "cell_type": "markdown",
   "id": "39c8e16c",
   "metadata": {},
   "source": [
    "# 5H1 Question\n",
    "In the divorce example, suppose the DAG is: M → A → D. What are the implied conditional\n",
    "independencies of the graph? Are the data consistent with it?"
   ]
  },
  {
   "cell_type": "code",
   "execution_count": 28,
   "id": "7345598b-ab9c-4f57-85b3-3b8b112f3a64",
   "metadata": {},
   "outputs": [
    {
     "name": "stderr",
     "output_type": "stream",
     "text": [
      "Auto-assigning NUTS sampler...\n",
      "Initializing NUTS using jitter+adapt_diag...\n",
      "Multiprocess sampling (4 chains in 4 jobs)\n",
      "NUTS: [a, b_m, b_age, sigma]\n"
     ]
    },
    {
     "data": {
      "text/html": [
       "\n",
       "<style>\n",
       "    /* Turns off some styling */\n",
       "    progress {\n",
       "        /* gets rid of default border in Firefox and Opera. */\n",
       "        border: none;\n",
       "        /* Needs to be in here for Safari polyfill so background images work as expected. */\n",
       "        background-size: auto;\n",
       "    }\n",
       "    progress:not([value]), progress:not([value])::-webkit-progress-bar {\n",
       "        background: repeating-linear-gradient(45deg, #7e7e7e, #7e7e7e 10px, #5c5c5c 10px, #5c5c5c 20px);\n",
       "    }\n",
       "    .progress-bar-interrupted, .progress-bar-interrupted::-webkit-progress-bar {\n",
       "        background: #F44336;\n",
       "    }\n",
       "</style>\n"
      ],
      "text/plain": [
       "<IPython.core.display.HTML object>"
      ]
     },
     "metadata": {},
     "output_type": "display_data"
    },
    {
     "data": {
      "text/html": [
       "\n",
       "    <div>\n",
       "      <progress value='8000' class='' max='8000' style='width:300px; height:20px; vertical-align: middle;'></progress>\n",
       "      100.00% [8000/8000 00:11&lt;00:00 Sampling 4 chains, 0 divergences]\n",
       "    </div>\n",
       "    "
      ],
      "text/plain": [
       "<IPython.core.display.HTML object>"
      ]
     },
     "metadata": {},
     "output_type": "display_data"
    },
    {
     "name": "stderr",
     "output_type": "stream",
     "text": [
      "Sampling 4 chains for 1_000 tune and 1_000 draw iterations (4_000 + 4_000 draws total) took 37 seconds.\n"
     ]
    }
   ],
   "source": [
    "#m-> a -> d\n",
    "with pm.Model() as m_5h1:\n",
    "    a = pm.Normal('a', 0, 1)\n",
    "    b_m = pm.Normal('b_m', 0,0.5)\n",
    "    b_age = pm.Normal('b_age', 0,0.5)\n",
    "    sigma = pm.Exponential('sigma',1)\n",
    "    mu = a + b_m * training_data['MarriageStd'] + b_age * training_data['MedAgeStd']\n",
    "    divorce = pm.Normal('divorce', mu, sigma, observed=training_data['Divorce'])\n",
    "    m_5h1_trace = pm.sample()     "
   ]
  },
  {
   "cell_type": "code",
   "execution_count": 29,
   "id": "f67949f8-5da8-417e-acd8-5d7fb0a9c5f3",
   "metadata": {},
   "outputs": [
    {
     "data": {
      "text/html": [
       "<div>\n",
       "<style scoped>\n",
       "    .dataframe tbody tr th:only-of-type {\n",
       "        vertical-align: middle;\n",
       "    }\n",
       "\n",
       "    .dataframe tbody tr th {\n",
       "        vertical-align: top;\n",
       "    }\n",
       "\n",
       "    .dataframe thead th {\n",
       "        text-align: right;\n",
       "    }\n",
       "</style>\n",
       "<table border=\"1\" class=\"dataframe\">\n",
       "  <thead>\n",
       "    <tr style=\"text-align: right;\">\n",
       "      <th></th>\n",
       "      <th>mean</th>\n",
       "      <th>sd</th>\n",
       "      <th>hdi_3%</th>\n",
       "      <th>hdi_97%</th>\n",
       "      <th>mcse_mean</th>\n",
       "      <th>mcse_sd</th>\n",
       "      <th>ess_bulk</th>\n",
       "      <th>ess_tail</th>\n",
       "      <th>r_hat</th>\n",
       "    </tr>\n",
       "  </thead>\n",
       "  <tbody>\n",
       "    <tr>\n",
       "      <th>a</th>\n",
       "      <td>9.226</td>\n",
       "      <td>0.235</td>\n",
       "      <td>8.752</td>\n",
       "      <td>9.644</td>\n",
       "      <td>0.004</td>\n",
       "      <td>0.003</td>\n",
       "      <td>3282.0</td>\n",
       "      <td>2138.0</td>\n",
       "      <td>1.0</td>\n",
       "    </tr>\n",
       "    <tr>\n",
       "      <th>b_m</th>\n",
       "      <td>0.034</td>\n",
       "      <td>0.265</td>\n",
       "      <td>-0.456</td>\n",
       "      <td>0.525</td>\n",
       "      <td>0.005</td>\n",
       "      <td>0.004</td>\n",
       "      <td>2663.0</td>\n",
       "      <td>2708.0</td>\n",
       "      <td>1.0</td>\n",
       "    </tr>\n",
       "    <tr>\n",
       "      <th>b_age</th>\n",
       "      <td>-0.885</td>\n",
       "      <td>0.269</td>\n",
       "      <td>-1.405</td>\n",
       "      <td>-0.396</td>\n",
       "      <td>0.005</td>\n",
       "      <td>0.004</td>\n",
       "      <td>2528.0</td>\n",
       "      <td>2709.0</td>\n",
       "      <td>1.0</td>\n",
       "    </tr>\n",
       "    <tr>\n",
       "      <th>sigma</th>\n",
       "      <td>1.583</td>\n",
       "      <td>0.181</td>\n",
       "      <td>1.261</td>\n",
       "      <td>1.925</td>\n",
       "      <td>0.004</td>\n",
       "      <td>0.003</td>\n",
       "      <td>2775.0</td>\n",
       "      <td>2747.0</td>\n",
       "      <td>1.0</td>\n",
       "    </tr>\n",
       "  </tbody>\n",
       "</table>\n",
       "</div>"
      ],
      "text/plain": [
       "        mean     sd  hdi_3%  hdi_97%  mcse_mean  mcse_sd  ess_bulk  ess_tail  \\\n",
       "a      9.226  0.235   8.752    9.644      0.004    0.003    3282.0    2138.0   \n",
       "b_m    0.034  0.265  -0.456    0.525      0.005    0.004    2663.0    2708.0   \n",
       "b_age -0.885  0.269  -1.405   -0.396      0.005    0.004    2528.0    2709.0   \n",
       "sigma  1.583  0.181   1.261    1.925      0.004    0.003    2775.0    2747.0   \n",
       "\n",
       "       r_hat  \n",
       "a        1.0  \n",
       "b_m      1.0  \n",
       "b_age    1.0  \n",
       "sigma    1.0  "
      ]
     },
     "execution_count": 29,
     "metadata": {},
     "output_type": "execute_result"
    }
   ],
   "source": [
    "az.summary(m_5h1_trace)"
   ]
  },
  {
   "cell_type": "markdown",
   "id": "44a701aa",
   "metadata": {},
   "source": [
    "Based on the graph, we would expect that the affect of Marriage on Divorce is mediated through Age, removing the influence of Marriage on Divorce.  This is what we see in the model, where the coefficient of marriage (b_m) is close to 0."
   ]
  },
  {
   "cell_type": "markdown",
   "id": "8a1f8a4b",
   "metadata": {},
   "source": [
    "# 5H2 Question\n",
    "Assuming that the DAG for the divorce example is indeed M → A → D, fit a new model and\n",
    "use it to estimate the counterfactual effect of halving a State’s marriage rate M. Use the counterfactual\n",
    "example from the chapter (starting on page 140) as a template"
   ]
  },
  {
   "cell_type": "code",
   "execution_count": 30,
   "id": "f59c0280-6062-4230-b082-cb72473837c6",
   "metadata": {},
   "outputs": [
    {
     "name": "stderr",
     "output_type": "stream",
     "text": [
      "Auto-assigning NUTS sampler...\n",
      "Initializing NUTS using jitter+adapt_diag...\n",
      "Multiprocess sampling (4 chains in 4 jobs)\n",
      "NUTS: [a_a, b_a, sigma_a, a_d, b_d, sigma_d]\n"
     ]
    },
    {
     "data": {
      "text/html": [
       "\n",
       "<style>\n",
       "    /* Turns off some styling */\n",
       "    progress {\n",
       "        /* gets rid of default border in Firefox and Opera. */\n",
       "        border: none;\n",
       "        /* Needs to be in here for Safari polyfill so background images work as expected. */\n",
       "        background-size: auto;\n",
       "    }\n",
       "    progress:not([value]), progress:not([value])::-webkit-progress-bar {\n",
       "        background: repeating-linear-gradient(45deg, #7e7e7e, #7e7e7e 10px, #5c5c5c 10px, #5c5c5c 20px);\n",
       "    }\n",
       "    .progress-bar-interrupted, .progress-bar-interrupted::-webkit-progress-bar {\n",
       "        background: #F44336;\n",
       "    }\n",
       "</style>\n"
      ],
      "text/plain": [
       "<IPython.core.display.HTML object>"
      ]
     },
     "metadata": {},
     "output_type": "display_data"
    },
    {
     "data": {
      "text/html": [
       "\n",
       "    <div>\n",
       "      <progress value='8000' class='' max='8000' style='width:300px; height:20px; vertical-align: middle;'></progress>\n",
       "      100.00% [8000/8000 00:06&lt;00:00 Sampling 4 chains, 0 divergences]\n",
       "    </div>\n",
       "    "
      ],
      "text/plain": [
       "<IPython.core.display.HTML object>"
      ]
     },
     "metadata": {},
     "output_type": "display_data"
    },
    {
     "name": "stderr",
     "output_type": "stream",
     "text": [
      "Sampling 4 chains for 1_000 tune and 1_000 draw iterations (4_000 + 4_000 draws total) took 24 seconds.\n"
     ]
    }
   ],
   "source": [
    "with pm.Model() as m_5h2:\n",
    "    #m -> a\n",
    "    a_a = pm.Normal('a_a', 0, 1)\n",
    "    b_a = pm.Normal('b_a', 0,0.5)\n",
    "    sigma_a = pm.Exponential('sigma_a',1)\n",
    "    mu_a = a_a + b_a * training_data['MarriageStd']\n",
    "    age = pm.Normal('AgeMarriage', mu_a, sigma_a, observed=training_data['MedAgeStd'])\n",
    "    \n",
    "    #a -> d\n",
    "    a_d = pm.Normal('a_d', 0, 1)\n",
    "    b_d = pm.Normal('b_d', 0,0.5)\n",
    "    sigma_d = pm.Exponential('sigma_d',1)\n",
    "    mu_d = a_d + b_d * training_data['MedAgeStd']\n",
    "    divorce = pm.Normal('divorce', mu_d, sigma_d, observed=training_data['DivorceStd'])\n",
    "    \n",
    "    m_5h2_trace = pm.sample()     "
   ]
  },
  {
   "cell_type": "code",
   "execution_count": 31,
   "id": "74d08865-9cdd-48a7-940d-4b92fc625926",
   "metadata": {},
   "outputs": [
    {
     "data": {
      "text/html": [
       "<div>\n",
       "<style scoped>\n",
       "    .dataframe tbody tr th:only-of-type {\n",
       "        vertical-align: middle;\n",
       "    }\n",
       "\n",
       "    .dataframe tbody tr th {\n",
       "        vertical-align: top;\n",
       "    }\n",
       "\n",
       "    .dataframe thead th {\n",
       "        text-align: right;\n",
       "    }\n",
       "</style>\n",
       "<table border=\"1\" class=\"dataframe\">\n",
       "  <thead>\n",
       "    <tr style=\"text-align: right;\">\n",
       "      <th></th>\n",
       "      <th>mean</th>\n",
       "      <th>sd</th>\n",
       "      <th>hdi_3%</th>\n",
       "      <th>hdi_97%</th>\n",
       "      <th>mcse_mean</th>\n",
       "      <th>mcse_sd</th>\n",
       "      <th>ess_bulk</th>\n",
       "      <th>ess_tail</th>\n",
       "      <th>r_hat</th>\n",
       "    </tr>\n",
       "  </thead>\n",
       "  <tbody>\n",
       "    <tr>\n",
       "      <th>a_a</th>\n",
       "      <td>0.001</td>\n",
       "      <td>0.100</td>\n",
       "      <td>-0.187</td>\n",
       "      <td>0.185</td>\n",
       "      <td>0.002</td>\n",
       "      <td>0.001</td>\n",
       "      <td>3733.0</td>\n",
       "      <td>3161.0</td>\n",
       "      <td>1.0</td>\n",
       "    </tr>\n",
       "    <tr>\n",
       "      <th>b_a</th>\n",
       "      <td>-0.694</td>\n",
       "      <td>0.100</td>\n",
       "      <td>-0.879</td>\n",
       "      <td>-0.501</td>\n",
       "      <td>0.001</td>\n",
       "      <td>0.001</td>\n",
       "      <td>4662.0</td>\n",
       "      <td>3611.0</td>\n",
       "      <td>1.0</td>\n",
       "    </tr>\n",
       "    <tr>\n",
       "      <th>a_d</th>\n",
       "      <td>0.000</td>\n",
       "      <td>0.118</td>\n",
       "      <td>-0.220</td>\n",
       "      <td>0.223</td>\n",
       "      <td>0.002</td>\n",
       "      <td>0.002</td>\n",
       "      <td>4820.0</td>\n",
       "      <td>3109.0</td>\n",
       "      <td>1.0</td>\n",
       "    </tr>\n",
       "    <tr>\n",
       "      <th>b_d</th>\n",
       "      <td>-0.567</td>\n",
       "      <td>0.115</td>\n",
       "      <td>-0.795</td>\n",
       "      <td>-0.365</td>\n",
       "      <td>0.002</td>\n",
       "      <td>0.001</td>\n",
       "      <td>5035.0</td>\n",
       "      <td>3270.0</td>\n",
       "      <td>1.0</td>\n",
       "    </tr>\n",
       "    <tr>\n",
       "      <th>sigma_a</th>\n",
       "      <td>0.714</td>\n",
       "      <td>0.076</td>\n",
       "      <td>0.585</td>\n",
       "      <td>0.861</td>\n",
       "      <td>0.001</td>\n",
       "      <td>0.001</td>\n",
       "      <td>4433.0</td>\n",
       "      <td>2912.0</td>\n",
       "      <td>1.0</td>\n",
       "    </tr>\n",
       "    <tr>\n",
       "      <th>sigma_d</th>\n",
       "      <td>0.824</td>\n",
       "      <td>0.085</td>\n",
       "      <td>0.665</td>\n",
       "      <td>0.980</td>\n",
       "      <td>0.001</td>\n",
       "      <td>0.001</td>\n",
       "      <td>5731.0</td>\n",
       "      <td>3445.0</td>\n",
       "      <td>1.0</td>\n",
       "    </tr>\n",
       "  </tbody>\n",
       "</table>\n",
       "</div>"
      ],
      "text/plain": [
       "          mean     sd  hdi_3%  hdi_97%  mcse_mean  mcse_sd  ess_bulk  \\\n",
       "a_a      0.001  0.100  -0.187    0.185      0.002    0.001    3733.0   \n",
       "b_a     -0.694  0.100  -0.879   -0.501      0.001    0.001    4662.0   \n",
       "a_d      0.000  0.118  -0.220    0.223      0.002    0.002    4820.0   \n",
       "b_d     -0.567  0.115  -0.795   -0.365      0.002    0.001    5035.0   \n",
       "sigma_a  0.714  0.076   0.585    0.861      0.001    0.001    4433.0   \n",
       "sigma_d  0.824  0.085   0.665    0.980      0.001    0.001    5731.0   \n",
       "\n",
       "         ess_tail  r_hat  \n",
       "a_a        3161.0    1.0  \n",
       "b_a        3611.0    1.0  \n",
       "a_d        3109.0    1.0  \n",
       "b_d        3270.0    1.0  \n",
       "sigma_a    2912.0    1.0  \n",
       "sigma_d    3445.0    1.0  "
      ]
     },
     "execution_count": 31,
     "metadata": {},
     "output_type": "execute_result"
    }
   ],
   "source": [
    "az.summary(m_5h2_trace)"
   ]
  },
  {
   "cell_type": "code",
   "execution_count": 32,
   "id": "bc1fb4e0-13e6-4c0d-ae49-983fc014c829",
   "metadata": {},
   "outputs": [
    {
     "data": {
      "text/plain": [
       "(-1.7414862240155486, 2.787325849323946)"
      ]
     },
     "execution_count": 32,
     "metadata": {},
     "output_type": "execute_result"
    }
   ],
   "source": [
    "training_data['MarriageStd'].min(),training_data['MarriageStd'].max()"
   ]
  },
  {
   "cell_type": "code",
   "execution_count": 33,
   "id": "61e82a98-002f-4816-b4a7-143c4fb74888",
   "metadata": {},
   "outputs": [],
   "source": [
    "mar_seq = np.linspace(-3,3,50)\n",
    "a_a_values = m_5h2_trace['posterior']['a_a'][0]\n",
    "b_a_values = m_5h2_trace['posterior']['b_a'][0]\n",
    "a_predictions = np.zeros((len(mar_seq), len(a_a_values)))"
   ]
  },
  {
   "cell_type": "code",
   "execution_count": 34,
   "id": "43d800f3-ca00-410d-bff6-1b6b51879984",
   "metadata": {},
   "outputs": [],
   "source": [
    "for i, value in enumerate(mar_seq):\n",
    "    a_predictions[i] = a_a_values + (b_a_values * value)"
   ]
  },
  {
   "cell_type": "code",
   "execution_count": 35,
   "id": "11079e74-a249-4490-b7d6-a4dd950228db",
   "metadata": {},
   "outputs": [],
   "source": [
    "a_predictions_mean = a_predictions.mean(1)\n",
    "a_predictions_hdi = az.hdi(a_predictions_mean.T)"
   ]
  },
  {
   "cell_type": "code",
   "execution_count": 36,
   "id": "aa5d4288-d6c1-4b49-88ec-5344c876e3c9",
   "metadata": {},
   "outputs": [
    {
     "name": "stderr",
     "output_type": "stream",
     "text": [
      "d:\\Python\\venv\\pymc_env\\lib\\site-packages\\arviz\\plots\\hdiplot.py:160: FutureWarning: hdi currently interprets 2d data as (draw, shape) but this will change in a future release to (chain, draw) for coherence with other functions\n",
      "  hdi_data = hdi(y, hdi_prob=hdi_prob, circular=circular, multimodal=False, **hdi_kwargs)\n"
     ]
    },
    {
     "data": {
      "text/plain": [
       "Text(0, 0.5, 'Median Age')"
      ]
     },
     "execution_count": 36,
     "metadata": {},
     "output_type": "execute_result"
    },
    {
     "data": {
      "image/png": "[encoded data removed]",
      "text/plain": [
       "<Figure size 640x480 with 1 Axes>"
      ]
     },
     "metadata": {},
     "output_type": "display_data"
    }
   ],
   "source": [
    "ax = az.plot_hdi(mar_seq, a_predictions.T, hdi_prob=0.89)\n",
    "plt.plot(mar_seq, a_predictions_mean, color='black')\n",
    "plt.grid()\n",
    "plt.xlabel(\"Marriage rate\")\n",
    "plt.ylabel(\"Median Age\")"
   ]
  },
  {
   "cell_type": "code",
   "execution_count": 37,
   "id": "f9907711-0b25-458b-a887-34b26a5c3810",
   "metadata": {},
   "outputs": [],
   "source": [
    "a_d_values = m_5h2_trace['posterior']['a_d'][0]\n",
    "b_d_values = m_5h2_trace['posterior']['b_d'][0]\n",
    "d_predictions = np.zeros((len(a_predictions_mean), len(a_d_values)))"
   ]
  },
  {
   "cell_type": "code",
   "execution_count": 38,
   "id": "6b6cb830-5e21-4a20-9b66-174c96d019b4",
   "metadata": {},
   "outputs": [],
   "source": [
    "for i, value in enumerate(a_predictions_mean):\n",
    "    d_predictions[i] = a_d_values + (b_d_values * value)"
   ]
  },
  {
   "cell_type": "code",
   "execution_count": 39,
   "id": "cc5eb0c7-dc6e-4138-9834-af8c50caae05",
   "metadata": {},
   "outputs": [],
   "source": [
    "d_predictions_mean = d_predictions.mean(1)\n",
    "d_predictions_hdi = az.hdi(d_predictions_mean.T)"
   ]
  },
  {
   "cell_type": "code",
   "execution_count": 40,
   "id": "551acb1a-ad69-4eea-8101-bb2a56908d41",
   "metadata": {},
   "outputs": [
    {
     "data": {
      "text/plain": [
       "-2.663046820334632"
      ]
     },
     "execution_count": 40,
     "metadata": {},
     "output_type": "execute_result"
    }
   ],
   "source": [
    "half_mar_rate = training_data['Marriage'].mean() / 2\n",
    "half_mar_rate_std = (10 - training_data['Marriage'].mean())/training_data['Marriage'].std() \n",
    "half_mar_rate_std"
   ]
  },
  {
   "cell_type": "code",
   "execution_count": 41,
   "id": "6647d4e4-8589-4095-9e5d-96908b0b7a85",
   "metadata": {},
   "outputs": [
    {
     "name": "stderr",
     "output_type": "stream",
     "text": [
      "d:\\Python\\venv\\pymc_env\\lib\\site-packages\\arviz\\plots\\hdiplot.py:160: FutureWarning: hdi currently interprets 2d data as (draw, shape) but this will change in a future release to (chain, draw) for coherence with other functions\n",
      "  hdi_data = hdi(y, hdi_prob=hdi_prob, circular=circular, multimodal=False, **hdi_kwargs)\n"
     ]
    },
    {
     "data": {
      "text/plain": [
       "<matplotlib.lines.Line2D at 0x253543c7eb0>"
      ]
     },
     "execution_count": 41,
     "metadata": {},
     "output_type": "execute_result"
    },
    {
     "data": {
      "image/png": "[encoded data removed]",
      "text/plain": [
       "<Figure size 640x480 with 1 Axes>"
      ]
     },
     "metadata": {},
     "output_type": "display_data"
    }
   ],
   "source": [
    "ax = az.plot_hdi(mar_seq, d_predictions.T, hdi_prob=0.89)\n",
    "plt.plot(mar_seq,  d_predictions_mean, color='black')\n",
    "plt.grid()\n",
    "plt.xlabel(\"Marriage rate\")\n",
    "plt.ylabel(\"Divorce rate\")\n",
    "ax.axvline(half_mar_rate_std)"
   ]
  },
  {
   "cell_type": "markdown",
   "id": "637cf7f7-76bc-4d55-ab49-7b84e9019178",
   "metadata": {},
   "source": [
    "Halving a the marriage rate would decrease the divorce rate by about 1 standard deviation"
   ]
  },
  {
   "cell_type": "markdown",
   "id": "ccad83b8",
   "metadata": {},
   "source": [
    "# 5H3 Question\n",
    "\n",
    "Return to the milk energy model, m5.7. Suppose that the true causal relationship among the variables is:\n",
    "\n",
    "M -> N -> K \\\n",
    "M -> K\n",
    "\n",
    "Now compute the counterfactual effect on K of doubling M. You will need to account for both the\n",
    "direct and indirect paths of causation. Use the counterfactual example from the chapter (starting on\n",
    "page 140) as a template."
   ]
  },
  {
   "cell_type": "code",
   "execution_count": 42,
   "id": "45f18897-c665-442f-9d4d-7d0675561a26",
   "metadata": {},
   "outputs": [
    {
     "data": {
      "text/html": [
       "<div>\n",
       "<style scoped>\n",
       "    .dataframe tbody tr th:only-of-type {\n",
       "        vertical-align: middle;\n",
       "    }\n",
       "\n",
       "    .dataframe tbody tr th {\n",
       "        vertical-align: top;\n",
       "    }\n",
       "\n",
       "    .dataframe thead th {\n",
       "        text-align: right;\n",
       "    }\n",
       "</style>\n",
       "<table border=\"1\" class=\"dataframe\">\n",
       "  <thead>\n",
       "    <tr style=\"text-align: right;\">\n",
       "      <th></th>\n",
       "      <th>clade</th>\n",
       "      <th>species</th>\n",
       "      <th>kcal.per.g</th>\n",
       "      <th>perc.fat</th>\n",
       "      <th>perc.protein</th>\n",
       "      <th>perc.lactose</th>\n",
       "      <th>mass</th>\n",
       "      <th>neocortex.perc</th>\n",
       "    </tr>\n",
       "  </thead>\n",
       "  <tbody>\n",
       "    <tr>\n",
       "      <th>0</th>\n",
       "      <td>Strepsirrhine</td>\n",
       "      <td>Eulemur fulvus</td>\n",
       "      <td>0.49</td>\n",
       "      <td>16.60</td>\n",
       "      <td>15.42</td>\n",
       "      <td>67.98</td>\n",
       "      <td>1.95</td>\n",
       "      <td>55.16</td>\n",
       "    </tr>\n",
       "    <tr>\n",
       "      <th>1</th>\n",
       "      <td>Strepsirrhine</td>\n",
       "      <td>E macaco</td>\n",
       "      <td>0.51</td>\n",
       "      <td>19.27</td>\n",
       "      <td>16.91</td>\n",
       "      <td>63.82</td>\n",
       "      <td>2.09</td>\n",
       "      <td>NaN</td>\n",
       "    </tr>\n",
       "    <tr>\n",
       "      <th>2</th>\n",
       "      <td>Strepsirrhine</td>\n",
       "      <td>E mongoz</td>\n",
       "      <td>0.46</td>\n",
       "      <td>14.11</td>\n",
       "      <td>16.85</td>\n",
       "      <td>69.04</td>\n",
       "      <td>2.51</td>\n",
       "      <td>NaN</td>\n",
       "    </tr>\n",
       "    <tr>\n",
       "      <th>3</th>\n",
       "      <td>Strepsirrhine</td>\n",
       "      <td>E rubriventer</td>\n",
       "      <td>0.48</td>\n",
       "      <td>14.91</td>\n",
       "      <td>13.18</td>\n",
       "      <td>71.91</td>\n",
       "      <td>1.62</td>\n",
       "      <td>NaN</td>\n",
       "    </tr>\n",
       "    <tr>\n",
       "      <th>4</th>\n",
       "      <td>Strepsirrhine</td>\n",
       "      <td>Lemur catta</td>\n",
       "      <td>0.60</td>\n",
       "      <td>27.28</td>\n",
       "      <td>19.50</td>\n",
       "      <td>53.22</td>\n",
       "      <td>2.19</td>\n",
       "      <td>NaN</td>\n",
       "    </tr>\n",
       "  </tbody>\n",
       "</table>\n",
       "</div>"
      ],
      "text/plain": [
       "           clade         species  kcal.per.g  perc.fat  perc.protein  \\\n",
       "0  Strepsirrhine  Eulemur fulvus        0.49     16.60         15.42   \n",
       "1  Strepsirrhine        E macaco        0.51     19.27         16.91   \n",
       "2  Strepsirrhine        E mongoz        0.46     14.11         16.85   \n",
       "3  Strepsirrhine   E rubriventer        0.48     14.91         13.18   \n",
       "4  Strepsirrhine     Lemur catta        0.60     27.28         19.50   \n",
       "\n",
       "   perc.lactose  mass  neocortex.perc  \n",
       "0         67.98  1.95           55.16  \n",
       "1         63.82  2.09             NaN  \n",
       "2         69.04  2.51             NaN  \n",
       "3         71.91  1.62             NaN  \n",
       "4         53.22  2.19             NaN  "
      ]
     },
     "execution_count": 42,
     "metadata": {},
     "output_type": "execute_result"
    }
   ],
   "source": [
    "milk_data = pd.read_csv('./data/milk.csv', delimiter=\";\")\n",
    "milk_data.head()"
   ]
  },
  {
   "cell_type": "code",
   "execution_count": 43,
   "id": "50c1ec0b-d796-447e-a1d3-2d95ff19fd1c",
   "metadata": {},
   "outputs": [],
   "source": [
    "milk_data[\"k\"] = milk_data[\"kcal.per.g\"]\n",
    "milk_data[\"K_std\"] = (milk_data[\"kcal.per.g\"] - milk_data[\"kcal.per.g\"].mean())/milk_data[\"kcal.per.g\"].std()\n",
    "milk_data[\"N\"] = (milk_data[\"neocortex.perc\"] - milk_data[\"neocortex.perc\"].mean())/milk_data[\"neocortex.perc\"].std()\n",
    "milk_data[\"M\"] = (milk_data[\"mass\"] - milk_data[\"mass\"].mean())/milk_data[\"mass\"].std()\n",
    "milk_training = milk_data[['k','K_std','N','M']].dropna()"
   ]
  },
  {
   "cell_type": "code",
   "execution_count": 44,
   "id": "3b249880-3848-46a8-a216-bcc687e022e6",
   "metadata": {},
   "outputs": [
    {
     "name": "stderr",
     "output_type": "stream",
     "text": [
      "Auto-assigning NUTS sampler...\n",
      "Initializing NUTS using jitter+adapt_diag...\n",
      "Multiprocess sampling (4 chains in 4 jobs)\n",
      "NUTS: [a_m, b_m, sigma_m, a_k, b_n_k, b_m_k, sigma_k]\n"
     ]
    },
    {
     "data": {
      "text/html": [
       "\n",
       "<style>\n",
       "    /* Turns off some styling */\n",
       "    progress {\n",
       "        /* gets rid of default border in Firefox and Opera. */\n",
       "        border: none;\n",
       "        /* Needs to be in here for Safari polyfill so background images work as expected. */\n",
       "        background-size: auto;\n",
       "    }\n",
       "    progress:not([value]), progress:not([value])::-webkit-progress-bar {\n",
       "        background: repeating-linear-gradient(45deg, #7e7e7e, #7e7e7e 10px, #5c5c5c 10px, #5c5c5c 20px);\n",
       "    }\n",
       "    .progress-bar-interrupted, .progress-bar-interrupted::-webkit-progress-bar {\n",
       "        background: #F44336;\n",
       "    }\n",
       "</style>\n"
      ],
      "text/plain": [
       "<IPython.core.display.HTML object>"
      ]
     },
     "metadata": {},
     "output_type": "display_data"
    },
    {
     "data": {
      "text/html": [
       "\n",
       "    <div>\n",
       "      <progress value='8000' class='' max='8000' style='width:300px; height:20px; vertical-align: middle;'></progress>\n",
       "      100.00% [8000/8000 00:07&lt;00:00 Sampling 4 chains, 0 divergences]\n",
       "    </div>\n",
       "    "
      ],
      "text/plain": [
       "<IPython.core.display.HTML object>"
      ]
     },
     "metadata": {},
     "output_type": "display_data"
    },
    {
     "name": "stderr",
     "output_type": "stream",
     "text": [
      "Sampling 4 chains for 1_000 tune and 1_000 draw iterations (4_000 + 4_000 draws total) took 26 seconds.\n"
     ]
    }
   ],
   "source": [
    "with pm.Model() as m_5h3:\n",
    "    a_m = pm.Normal('a_m',0,0.5)\n",
    "    b_m = pm.Normal('b_m',0,0.5)\n",
    "    sigma_m = pm.Exponential('sigma_m', 1)\n",
    "    mu_m = a_m + b_m * milk_training['M']\n",
    "    n = pm.Normal('n',mu=mu_m, sigma=sigma_m, observed=milk_training['N'])\n",
    "    \n",
    "    a_k = pm.Normal('a_k',0,0.5)\n",
    "    b_n_k = pm.Normal('b_n_k',0,0.5)\n",
    "    b_m_k = pm.Normal('b_m_k',0,0.5)\n",
    "    sigma_k = pm.Exponential('sigma_k', 1)\n",
    "    mu_k = a_k + b_n_k * milk_training['N'] + b_m_k * milk_training['M']\n",
    "    k = pm.Normal('k',mu=mu_k, sigma=sigma_k, observed=milk_training['K_std'])\n",
    "    m_5h3_trace = pm.sample()"
   ]
  },
  {
   "cell_type": "code",
   "execution_count": 45,
   "id": "0dcf96a0-0768-4824-be60-7de1372f1f1d",
   "metadata": {},
   "outputs": [
    {
     "data": {
      "text/html": [
       "<div>\n",
       "<style scoped>\n",
       "    .dataframe tbody tr th:only-of-type {\n",
       "        vertical-align: middle;\n",
       "    }\n",
       "\n",
       "    .dataframe tbody tr th {\n",
       "        vertical-align: top;\n",
       "    }\n",
       "\n",
       "    .dataframe thead th {\n",
       "        text-align: right;\n",
       "    }\n",
       "</style>\n",
       "<table border=\"1\" class=\"dataframe\">\n",
       "  <thead>\n",
       "    <tr style=\"text-align: right;\">\n",
       "      <th></th>\n",
       "      <th>mean</th>\n",
       "      <th>sd</th>\n",
       "      <th>hdi_3%</th>\n",
       "      <th>hdi_97%</th>\n",
       "      <th>mcse_mean</th>\n",
       "      <th>mcse_sd</th>\n",
       "      <th>ess_bulk</th>\n",
       "      <th>ess_tail</th>\n",
       "      <th>r_hat</th>\n",
       "    </tr>\n",
       "  </thead>\n",
       "  <tbody>\n",
       "    <tr>\n",
       "      <th>a_m</th>\n",
       "      <td>-0.037</td>\n",
       "      <td>0.193</td>\n",
       "      <td>-0.398</td>\n",
       "      <td>0.333</td>\n",
       "      <td>0.003</td>\n",
       "      <td>0.003</td>\n",
       "      <td>4588.0</td>\n",
       "      <td>2919.0</td>\n",
       "      <td>1.0</td>\n",
       "    </tr>\n",
       "    <tr>\n",
       "      <th>b_m</th>\n",
       "      <td>0.535</td>\n",
       "      <td>0.211</td>\n",
       "      <td>0.144</td>\n",
       "      <td>0.935</td>\n",
       "      <td>0.003</td>\n",
       "      <td>0.002</td>\n",
       "      <td>4526.0</td>\n",
       "      <td>2520.0</td>\n",
       "      <td>1.0</td>\n",
       "    </tr>\n",
       "    <tr>\n",
       "      <th>a_k</th>\n",
       "      <td>0.112</td>\n",
       "      <td>0.215</td>\n",
       "      <td>-0.285</td>\n",
       "      <td>0.535</td>\n",
       "      <td>0.003</td>\n",
       "      <td>0.003</td>\n",
       "      <td>4344.0</td>\n",
       "      <td>2765.0</td>\n",
       "      <td>1.0</td>\n",
       "    </tr>\n",
       "    <tr>\n",
       "      <th>b_n_k</th>\n",
       "      <td>0.379</td>\n",
       "      <td>0.253</td>\n",
       "      <td>-0.088</td>\n",
       "      <td>0.850</td>\n",
       "      <td>0.004</td>\n",
       "      <td>0.003</td>\n",
       "      <td>3868.0</td>\n",
       "      <td>3351.0</td>\n",
       "      <td>1.0</td>\n",
       "    </tr>\n",
       "    <tr>\n",
       "      <th>b_m_k</th>\n",
       "      <td>-0.512</td>\n",
       "      <td>0.270</td>\n",
       "      <td>-0.994</td>\n",
       "      <td>0.010</td>\n",
       "      <td>0.004</td>\n",
       "      <td>0.003</td>\n",
       "      <td>4129.0</td>\n",
       "      <td>3201.0</td>\n",
       "      <td>1.0</td>\n",
       "    </tr>\n",
       "    <tr>\n",
       "      <th>sigma_m</th>\n",
       "      <td>0.859</td>\n",
       "      <td>0.168</td>\n",
       "      <td>0.579</td>\n",
       "      <td>1.181</td>\n",
       "      <td>0.003</td>\n",
       "      <td>0.002</td>\n",
       "      <td>4346.0</td>\n",
       "      <td>3056.0</td>\n",
       "      <td>1.0</td>\n",
       "    </tr>\n",
       "    <tr>\n",
       "      <th>sigma_k</th>\n",
       "      <td>0.982</td>\n",
       "      <td>0.199</td>\n",
       "      <td>0.640</td>\n",
       "      <td>1.326</td>\n",
       "      <td>0.003</td>\n",
       "      <td>0.003</td>\n",
       "      <td>3587.0</td>\n",
       "      <td>2875.0</td>\n",
       "      <td>1.0</td>\n",
       "    </tr>\n",
       "  </tbody>\n",
       "</table>\n",
       "</div>"
      ],
      "text/plain": [
       "          mean     sd  hdi_3%  hdi_97%  mcse_mean  mcse_sd  ess_bulk  \\\n",
       "a_m     -0.037  0.193  -0.398    0.333      0.003    0.003    4588.0   \n",
       "b_m      0.535  0.211   0.144    0.935      0.003    0.002    4526.0   \n",
       "a_k      0.112  0.215  -0.285    0.535      0.003    0.003    4344.0   \n",
       "b_n_k    0.379  0.253  -0.088    0.850      0.004    0.003    3868.0   \n",
       "b_m_k   -0.512  0.270  -0.994    0.010      0.004    0.003    4129.0   \n",
       "sigma_m  0.859  0.168   0.579    1.181      0.003    0.002    4346.0   \n",
       "sigma_k  0.982  0.199   0.640    1.326      0.003    0.003    3587.0   \n",
       "\n",
       "         ess_tail  r_hat  \n",
       "a_m        2919.0    1.0  \n",
       "b_m        2520.0    1.0  \n",
       "a_k        2765.0    1.0  \n",
       "b_n_k      3351.0    1.0  \n",
       "b_m_k      3201.0    1.0  \n",
       "sigma_m    3056.0    1.0  \n",
       "sigma_k    2875.0    1.0  "
      ]
     },
     "execution_count": 45,
     "metadata": {},
     "output_type": "execute_result"
    }
   ],
   "source": [
    "az.summary(m_5h3_trace)"
   ]
  },
  {
   "cell_type": "code",
   "execution_count": 46,
   "id": "fb331fd9-274c-45a5-9e3c-596e698f5af2",
   "metadata": {},
   "outputs": [],
   "source": [
    "M_seq = np.linspace(-2,2,30)\n",
    "a_m_values = m_5h3_trace['posterior']['a_m'][0]\n",
    "b_m_values = m_5h3_trace['posterior']['b_m'][0]\n",
    "N_predictions = np.zeros((len(M_seq), len(a_m_values)))"
   ]
  },
  {
   "cell_type": "code",
   "execution_count": 47,
   "id": "27d59a47-41e2-4f1f-8716-1ab2d6c53841",
   "metadata": {},
   "outputs": [],
   "source": [
    "for i, value in enumerate(M_seq):\n",
    "    N_predictions[i] = a_m_values + (b_m_values * value)"
   ]
  },
  {
   "cell_type": "code",
   "execution_count": 48,
   "id": "f90e6826-ac7b-4939-b6a6-79148899b1f4",
   "metadata": {},
   "outputs": [],
   "source": [
    "N_predictions_mean = N_predictions.mean(1)\n",
    "N_predictions_hdi = az.hdi(N_predictions_mean.T)"
   ]
  },
  {
   "cell_type": "code",
   "execution_count": 49,
   "id": "91984125-74c8-40ec-b316-4f7f31225a0d",
   "metadata": {},
   "outputs": [
    {
     "name": "stderr",
     "output_type": "stream",
     "text": [
      "d:\\Python\\venv\\pymc_env\\lib\\site-packages\\arviz\\plots\\hdiplot.py:160: FutureWarning: hdi currently interprets 2d data as (draw, shape) but this will change in a future release to (chain, draw) for coherence with other functions\n",
      "  hdi_data = hdi(y, hdi_prob=hdi_prob, circular=circular, multimodal=False, **hdi_kwargs)\n"
     ]
    },
    {
     "data": {
      "text/plain": [
       "Text(0, 0.5, 'Neocortext Pct')"
      ]
     },
     "execution_count": 49,
     "metadata": {},
     "output_type": "execute_result"
    },
    {
     "data": {
      "image/png": "[encoded data removed]",
      "text/plain": [
       "<Figure size 640x480 with 1 Axes>"
      ]
     },
     "metadata": {},
     "output_type": "display_data"
    }
   ],
   "source": [
    "ax = az.plot_hdi(M_seq, N_predictions.T, hdi_prob=0.89)\n",
    "plt.plot(M_seq,  N_predictions_mean, color='black')\n",
    "plt.grid()\n",
    "plt.xlabel(\"Mass\")\n",
    "plt.ylabel(\"Neocortext Pct\")"
   ]
  },
  {
   "cell_type": "code",
   "execution_count": 50,
   "id": "e61006e2-0152-4b05-ad45-1b61a6a96864",
   "metadata": {},
   "outputs": [],
   "source": [
    "a_k_values = m_5h3_trace['posterior']['a_k'][0]\n",
    "b_n_k_values = m_5h3_trace['posterior']['b_n_k'][0]\n",
    "b_m_k_values = m_5h3_trace['posterior']['b_m_k'][0]\n",
    "K_predictions = np.zeros((len(N_predictions_mean), len(a_k_values)))"
   ]
  },
  {
   "cell_type": "code",
   "execution_count": 51,
   "id": "629e3753-cf11-47f6-80a1-64a420682312",
   "metadata": {},
   "outputs": [],
   "source": [
    "for i, value in enumerate(N_predictions_mean):\n",
    "    K_predictions[i] = a_k_values + (b_n_k_values * value) + (b_m_k_values * M_seq[i])"
   ]
  },
  {
   "cell_type": "code",
   "execution_count": 52,
   "id": "0552de4e-1ae4-433d-891e-09758c77a385",
   "metadata": {},
   "outputs": [],
   "source": [
    "K_predictions_mean = K_predictions.mean(1)\n",
    "K_predictions_hdi = az.hdi(K_predictions_mean.T)"
   ]
  },
  {
   "cell_type": "code",
   "execution_count": 53,
   "id": "46d34b93-48a4-49e3-984a-e1472bbdc9e7",
   "metadata": {},
   "outputs": [
    {
     "data": {
      "text/plain": [
       "(14.726896551724137, 29.453793103448273, 0.5945344174388668)"
      ]
     },
     "execution_count": 53,
     "metadata": {},
     "output_type": "execute_result"
    }
   ],
   "source": [
    "mean_M = milk_data['mass'].mean() \n",
    "double_M_std = ((mean_M * 2)- milk_data['mass'].mean())/milk_data['mass'].std() \n",
    "mean_M, mean_M*2, double_M_std"
   ]
  },
  {
   "cell_type": "code",
   "execution_count": 54,
   "id": "df24a7b6-508e-4205-9add-582005800df4",
   "metadata": {},
   "outputs": [
    {
     "name": "stderr",
     "output_type": "stream",
     "text": [
      "d:\\Python\\venv\\pymc_env\\lib\\site-packages\\arviz\\plots\\hdiplot.py:160: FutureWarning: hdi currently interprets 2d data as (draw, shape) but this will change in a future release to (chain, draw) for coherence with other functions\n",
      "  hdi_data = hdi(y, hdi_prob=hdi_prob, circular=circular, multimodal=False, **hdi_kwargs)\n"
     ]
    },
    {
     "data": {
      "text/plain": [
       "<matplotlib.lines.Line2D at 0x25354ae67c0>"
      ]
     },
     "execution_count": 54,
     "metadata": {},
     "output_type": "execute_result"
    },
    {
     "data": {
      "image/png": "[encoded data removed]",
      "text/plain": [
       "<Figure size 640x480 with 1 Axes>"
      ]
     },
     "metadata": {},
     "output_type": "display_data"
    }
   ],
   "source": [
    "M_res = M_seq * milk_data['mass'].std() + milk_data['mass'].mean()\n",
    "ax = az.plot_hdi(M_seq, K_predictions.T, hdi_prob=0.89)\n",
    "plt.plot(M_seq,  K_predictions_mean, color='black')\n",
    "plt.grid()\n",
    "plt.xlabel(\"Mass\")\n",
    "plt.ylabel('Kilo Cal')\n",
    "#plt.xlim(0)\n",
    "ax.axvline(0, color='black')\n",
    "ax.axvline(double_M_std, color='red')"
   ]
  },
  {
   "cell_type": "markdown",
   "id": "6c2db6a9-9885-4629-b40b-d80c49be571e",
   "metadata": {},
   "source": [
    "If you look at the difference between the mean mass (z score = 0) and doubling it, the change in K is very small.  It moves from about 0.1 to -0.1, so a drop of about 0.2 z  "
   ]
  },
  {
   "cell_type": "markdown",
   "id": "85067ab0",
   "metadata": {},
   "source": [
    "# 5H4 Question\n",
    "\n",
    "5H4. Here is an open practice problem to engage your imagination. In the divorce date, States in\n",
    "the southern United States have many of the highest divorce rates. Add the South indicator variable\n",
    "to the analysis. First, draw one or more DAGs that represent your ideas for how Southern American\n",
    "culture might influence any of the other three variables (D, M or A). Then list the testable implications\n",
    "of your DAGs, if there are any, and fit one or more models to evaluate the implications. What do you\n",
    "think the influence of “Southerness” is"
   ]
  },
  {
   "cell_type": "code",
   "execution_count": 33,
   "id": "18f6389d",
   "metadata": {},
   "outputs": [],
   "source": [
    "region = training_data['South']"
   ]
  },
  {
   "cell_type": "code",
   "execution_count": 34,
   "id": "f2f4f3a5",
   "metadata": {},
   "outputs": [
    {
     "name": "stderr",
     "output_type": "stream",
     "text": [
      "Auto-assigning NUTS sampler...\n",
      "Initializing NUTS using jitter+adapt_diag...\n",
      "Multiprocess sampling (4 chains in 4 jobs)\n",
      "NUTS: [a, bA, bR, sigma]\n"
     ]
    },
    {
     "data": {
      "text/html": [
       "\n",
       "<style>\n",
       "    /* Turns off some styling */\n",
       "    progress {\n",
       "        /* gets rid of default border in Firefox and Opera. */\n",
       "        border: none;\n",
       "        /* Needs to be in here for Safari polyfill so background images work as expected. */\n",
       "        background-size: auto;\n",
       "    }\n",
       "    progress:not([value]), progress:not([value])::-webkit-progress-bar {\n",
       "        background: repeating-linear-gradient(45deg, #7e7e7e, #7e7e7e 10px, #5c5c5c 10px, #5c5c5c 20px);\n",
       "    }\n",
       "    .progress-bar-interrupted, .progress-bar-interrupted::-webkit-progress-bar {\n",
       "        background: #F44336;\n",
       "    }\n",
       "</style>\n"
      ],
      "text/plain": [
       "<IPython.core.display.HTML object>"
      ]
     },
     "metadata": {},
     "output_type": "display_data"
    },
    {
     "data": {
      "text/html": [
       "\n",
       "    <div>\n",
       "      <progress value='8000' class='' max='8000' style='width:300px; height:20px; vertical-align: middle;'></progress>\n",
       "      100.00% [8000/8000 00:04&lt;00:00 Sampling 4 chains, 0 divergences]\n",
       "    </div>\n",
       "    "
      ],
      "text/plain": [
       "<IPython.core.display.HTML object>"
      ]
     },
     "metadata": {},
     "output_type": "display_data"
    },
    {
     "name": "stderr",
     "output_type": "stream",
     "text": [
      "Sampling 4 chains for 1_000 tune and 1_000 draw iterations (4_000 + 4_000 draws total) took 17 seconds.\n"
     ]
    }
   ],
   "source": [
    "with pm.Model() as m_5h4:\n",
    "    a = pm.Normal(\"a\", 0, 0.2)\n",
    "    bA = pm.Normal(\"bA\", 0, 0.5)\n",
    "    bR = pm.Normal(\"bR\", 10, 2, shape=2)\n",
    "    sigma = pm.Exponential(\"sigma\", 1)\n",
    "    mu = bA * training_data[\"MedAgeStd\"].values + bR[region]\n",
    "    divorce = pm.Normal('divorce', mu = mu, sigma = sigma, observed=training_data['Divorce'].values)\n",
    "    m_5h4_trace = pm.sample()"
   ]
  },
  {
   "cell_type": "code",
   "execution_count": 35,
   "id": "ae709526",
   "metadata": {},
   "outputs": [
    {
     "data": {
      "text/html": [
       "<div>\n",
       "<style scoped>\n",
       "    .dataframe tbody tr th:only-of-type {\n",
       "        vertical-align: middle;\n",
       "    }\n",
       "\n",
       "    .dataframe tbody tr th {\n",
       "        vertical-align: top;\n",
       "    }\n",
       "\n",
       "    .dataframe thead th {\n",
       "        text-align: right;\n",
       "    }\n",
       "</style>\n",
       "<table border=\"1\" class=\"dataframe\">\n",
       "  <thead>\n",
       "    <tr style=\"text-align: right;\">\n",
       "      <th></th>\n",
       "      <th>mean</th>\n",
       "      <th>sd</th>\n",
       "      <th>hdi_3%</th>\n",
       "      <th>hdi_97%</th>\n",
       "      <th>mcse_mean</th>\n",
       "      <th>mcse_sd</th>\n",
       "      <th>ess_bulk</th>\n",
       "      <th>ess_tail</th>\n",
       "      <th>r_hat</th>\n",
       "    </tr>\n",
       "  </thead>\n",
       "  <tbody>\n",
       "    <tr>\n",
       "      <th>a</th>\n",
       "      <td>0.001</td>\n",
       "      <td>0.202</td>\n",
       "      <td>-0.381</td>\n",
       "      <td>0.365</td>\n",
       "      <td>0.003</td>\n",
       "      <td>0.003</td>\n",
       "      <td>5466.0</td>\n",
       "      <td>3422.0</td>\n",
       "      <td>1.0</td>\n",
       "    </tr>\n",
       "    <tr>\n",
       "      <th>bA</th>\n",
       "      <td>-0.840</td>\n",
       "      <td>0.201</td>\n",
       "      <td>-1.208</td>\n",
       "      <td>-0.464</td>\n",
       "      <td>0.003</td>\n",
       "      <td>0.002</td>\n",
       "      <td>4572.0</td>\n",
       "      <td>3029.0</td>\n",
       "      <td>1.0</td>\n",
       "    </tr>\n",
       "    <tr>\n",
       "      <th>bR[0]</th>\n",
       "      <td>9.431</td>\n",
       "      <td>0.242</td>\n",
       "      <td>8.962</td>\n",
       "      <td>9.876</td>\n",
       "      <td>0.003</td>\n",
       "      <td>0.002</td>\n",
       "      <td>5060.0</td>\n",
       "      <td>3028.0</td>\n",
       "      <td>1.0</td>\n",
       "    </tr>\n",
       "    <tr>\n",
       "      <th>bR[1]</th>\n",
       "      <td>10.347</td>\n",
       "      <td>0.397</td>\n",
       "      <td>9.607</td>\n",
       "      <td>11.099</td>\n",
       "      <td>0.006</td>\n",
       "      <td>0.004</td>\n",
       "      <td>4778.0</td>\n",
       "      <td>3374.0</td>\n",
       "      <td>1.0</td>\n",
       "    </tr>\n",
       "    <tr>\n",
       "      <th>sigma</th>\n",
       "      <td>1.461</td>\n",
       "      <td>0.154</td>\n",
       "      <td>1.200</td>\n",
       "      <td>1.766</td>\n",
       "      <td>0.002</td>\n",
       "      <td>0.002</td>\n",
       "      <td>4747.0</td>\n",
       "      <td>3088.0</td>\n",
       "      <td>1.0</td>\n",
       "    </tr>\n",
       "  </tbody>\n",
       "</table>\n",
       "</div>"
      ],
      "text/plain": [
       "         mean     sd  hdi_3%  hdi_97%  mcse_mean  mcse_sd  ess_bulk  ess_tail  \\\n",
       "a       0.001  0.202  -0.381    0.365      0.003    0.003    5466.0    3422.0   \n",
       "bA     -0.840  0.201  -1.208   -0.464      0.003    0.002    4572.0    3029.0   \n",
       "bR[0]   9.431  0.242   8.962    9.876      0.003    0.002    5060.0    3028.0   \n",
       "bR[1]  10.347  0.397   9.607   11.099      0.006    0.004    4778.0    3374.0   \n",
       "sigma   1.461  0.154   1.200    1.766      0.002    0.002    4747.0    3088.0   \n",
       "\n",
       "       r_hat  \n",
       "a        1.0  \n",
       "bA       1.0  \n",
       "bR[0]    1.0  \n",
       "bR[1]    1.0  \n",
       "sigma    1.0  "
      ]
     },
     "execution_count": 35,
     "metadata": {},
     "output_type": "execute_result"
    }
   ],
   "source": [
    "az.summary(m_5h4_trace)"
   ]
  },
  {
   "cell_type": "code",
   "execution_count": 36,
   "id": "1a43a5f6",
   "metadata": {},
   "outputs": [
    {
     "name": "stderr",
     "output_type": "stream",
     "text": [
      "Auto-assigning NUTS sampler...\n",
      "Initializing NUTS using jitter+adapt_diag...\n",
      "Multiprocess sampling (4 chains in 4 jobs)\n",
      "NUTS: [a, b_age, sigma]\n"
     ]
    },
    {
     "data": {
      "text/html": [
       "\n",
       "<style>\n",
       "    /* Turns off some styling */\n",
       "    progress {\n",
       "        /* gets rid of default border in Firefox and Opera. */\n",
       "        border: none;\n",
       "        /* Needs to be in here for Safari polyfill so background images work as expected. */\n",
       "        background-size: auto;\n",
       "    }\n",
       "    progress:not([value]), progress:not([value])::-webkit-progress-bar {\n",
       "        background: repeating-linear-gradient(45deg, #7e7e7e, #7e7e7e 10px, #5c5c5c 10px, #5c5c5c 20px);\n",
       "    }\n",
       "    .progress-bar-interrupted, .progress-bar-interrupted::-webkit-progress-bar {\n",
       "        background: #F44336;\n",
       "    }\n",
       "</style>\n"
      ],
      "text/plain": [
       "<IPython.core.display.HTML object>"
      ]
     },
     "metadata": {},
     "output_type": "display_data"
    },
    {
     "data": {
      "text/html": [
       "\n",
       "    <div>\n",
       "      <progress value='8000' class='' max='8000' style='width:300px; height:20px; vertical-align: middle;'></progress>\n",
       "      100.00% [8000/8000 00:04&lt;00:00 Sampling 4 chains, 0 divergences]\n",
       "    </div>\n",
       "    "
      ],
      "text/plain": [
       "<IPython.core.display.HTML object>"
      ]
     },
     "metadata": {},
     "output_type": "display_data"
    },
    {
     "name": "stderr",
     "output_type": "stream",
     "text": [
      "Sampling 4 chains for 1_000 tune and 1_000 draw iterations (4_000 + 4_000 draws total) took 16 seconds.\n"
     ]
    }
   ],
   "source": [
    "#Compare to model with only Median Marriage Age\n",
    "with pm.Model() as m_5h4_b:\n",
    "    a = pm.Normal('a', 0, 1)\n",
    "    bA = pm.Normal('b_age', 0,0.5)\n",
    "    sigma = pm.Exponential('sigma',1)\n",
    "    mu = a + bA * training_data['MedAgeStd']\n",
    "    divorce = pm.Normal('divorce', mu, sigma, observed=training_data['Divorce'])\n",
    "    m_5h4_b_trace = pm.sample()     "
   ]
  },
  {
   "cell_type": "code",
   "execution_count": 37,
   "id": "032c98bd",
   "metadata": {},
   "outputs": [
    {
     "data": {
      "text/html": [
       "<div>\n",
       "<style scoped>\n",
       "    .dataframe tbody tr th:only-of-type {\n",
       "        vertical-align: middle;\n",
       "    }\n",
       "\n",
       "    .dataframe tbody tr th {\n",
       "        vertical-align: top;\n",
       "    }\n",
       "\n",
       "    .dataframe thead th {\n",
       "        text-align: right;\n",
       "    }\n",
       "</style>\n",
       "<table border=\"1\" class=\"dataframe\">\n",
       "  <thead>\n",
       "    <tr style=\"text-align: right;\">\n",
       "      <th></th>\n",
       "      <th>mean</th>\n",
       "      <th>sd</th>\n",
       "      <th>hdi_3%</th>\n",
       "      <th>hdi_97%</th>\n",
       "      <th>mcse_mean</th>\n",
       "      <th>mcse_sd</th>\n",
       "      <th>ess_bulk</th>\n",
       "      <th>ess_tail</th>\n",
       "      <th>r_hat</th>\n",
       "    </tr>\n",
       "  </thead>\n",
       "  <tbody>\n",
       "    <tr>\n",
       "      <th>a</th>\n",
       "      <td>9.226</td>\n",
       "      <td>0.241</td>\n",
       "      <td>8.766</td>\n",
       "      <td>9.655</td>\n",
       "      <td>0.004</td>\n",
       "      <td>0.003</td>\n",
       "      <td>3181.0</td>\n",
       "      <td>2365.0</td>\n",
       "      <td>1.0</td>\n",
       "    </tr>\n",
       "    <tr>\n",
       "      <th>b_age</th>\n",
       "      <td>-0.903</td>\n",
       "      <td>0.210</td>\n",
       "      <td>-1.301</td>\n",
       "      <td>-0.508</td>\n",
       "      <td>0.003</td>\n",
       "      <td>0.002</td>\n",
       "      <td>4714.0</td>\n",
       "      <td>2913.0</td>\n",
       "      <td>1.0</td>\n",
       "    </tr>\n",
       "    <tr>\n",
       "      <th>sigma</th>\n",
       "      <td>1.576</td>\n",
       "      <td>0.183</td>\n",
       "      <td>1.257</td>\n",
       "      <td>1.925</td>\n",
       "      <td>0.003</td>\n",
       "      <td>0.003</td>\n",
       "      <td>2852.0</td>\n",
       "      <td>2700.0</td>\n",
       "      <td>1.0</td>\n",
       "    </tr>\n",
       "  </tbody>\n",
       "</table>\n",
       "</div>"
      ],
      "text/plain": [
       "        mean     sd  hdi_3%  hdi_97%  mcse_mean  mcse_sd  ess_bulk  ess_tail  \\\n",
       "a      9.226  0.241   8.766    9.655      0.004    0.003    3181.0    2365.0   \n",
       "b_age -0.903  0.210  -1.301   -0.508      0.003    0.002    4714.0    2913.0   \n",
       "sigma  1.576  0.183   1.257    1.925      0.003    0.003    2852.0    2700.0   \n",
       "\n",
       "       r_hat  \n",
       "a        1.0  \n",
       "b_age    1.0  \n",
       "sigma    1.0  "
      ]
     },
     "execution_count": 37,
     "metadata": {},
     "output_type": "execute_result"
    }
   ],
   "source": [
    "az.summary(m_5h4_b_trace)"
   ]
  },
  {
   "cell_type": "markdown",
   "id": "c0df2b35",
   "metadata": {},
   "source": [
    "I really only wanted to check one thing, and that was the theory that southerness influences the median age of marriage, which would be inversely related to the divorce rate (e.g. as the median age went up, the divorce rate would go down).  The coeffecient for age weaker in the model without the region variable in it, which indicates southerness could explain some of how median age drives divorce rate,     "
   ]
  }
 ],
 "metadata": {
  "kernelspec": {
   "display_name": "Python 3 (ipykernel)",
   "language": "python",
   "name": "python3"
  },
  "language_info": {
   "codemirror_mode": {
    "name": "ipython",
    "version": 3
   },
   "file_extension": ".py",
   "mimetype": "text/x-python",
   "name": "python",
   "nbconvert_exporter": "python",
   "pygments_lexer": "ipython3",
   "version": "3.9.18"
  }
 },
 "nbformat": 4,
 "nbformat_minor": 5
}
