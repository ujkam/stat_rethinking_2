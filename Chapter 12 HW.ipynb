{
 "cells": [
  {
   "cell_type": "markdown",
   "id": "14206cff",
   "metadata": {},
   "source": [
    "# Chapter 12 Practice Answers"
   ]
  },
  {
   "cell_type": "code",
   "execution_count": 1,
   "id": "2e3b881d-3915-43fa-a34b-ca82117d7c00",
   "metadata": {},
   "outputs": [
    {
     "name": "stderr",
     "output_type": "stream",
     "text": [
      "WARNING (pytensor.tensor.blas): Using NumPy C-API based implementation for BLAS functions.\n"
     ]
    }
   ],
   "source": [
    "import pandas as pd\n",
    "import arviz as az\n",
    "import pymc as pm\n",
    "import matplotlib.pyplot as plt\n",
    "import numpy as np\n",
    "import scipy\n",
    "import pytensor.tensor as pt\n",
    "from causalgraphicalmodels import CausalGraphicalModel\n",
    "from watermark import watermark"
   ]
  },
  {
   "cell_type": "code",
   "execution_count": 2,
   "id": "9f94797d",
   "metadata": {},
   "outputs": [
    {
     "name": "stdout",
     "output_type": "stream",
     "text": [
      "Last updated: 2024-07-07T14:06:39.722300-04:00\n",
      "\n",
      "Python implementation: CPython\n",
      "Python version       : 3.9.18\n",
      "IPython version      : 8.17.2\n",
      "\n",
      "Compiler    : MSC v.1929 64 bit (AMD64)\n",
      "OS          : Windows\n",
      "Release     : 10\n",
      "Machine     : AMD64\n",
      "Processor   : Intel64 Family 6 Model 141 Stepping 1, GenuineIntel\n",
      "CPU cores   : 12\n",
      "Architecture: 64bit\n",
      "\n"
     ]
    }
   ],
   "source": [
    "%load_ext watermark\n",
    "%watermark"
   ]
  },
  {
   "cell_type": "code",
   "execution_count": 3,
   "id": "106f0728",
   "metadata": {},
   "outputs": [
    {
     "name": "stdout",
     "output_type": "stream",
     "text": [
      "pandas    : 2.1.3\n",
      "scipy     : 1.11.3\n",
      "arviz     : 0.16.1\n",
      "pytensor  : 2.13.1\n",
      "pymc      : 5.9.2\n",
      "numpy     : 1.25.2\n",
      "matplotlib: 3.8.2\n",
      "\n"
     ]
    }
   ],
   "source": [
    "%watermark --iversions"
   ]
  },
  {
   "cell_type": "markdown",
   "id": "a37f0a17",
   "metadata": {},
   "source": [
    "# 12E1 Question\n",
    "What is the difference between an ordered categorical variable and an unordered one? Define\n",
    "and then give an example of each."
   ]
  },
  {
   "cell_type": "markdown",
   "id": "c45d9263-d029-4454-8c6e-df2ff31a07c6",
   "metadata": {},
   "source": [
    "12E1 Answer: An ordered categorical variable is one where the order of the variables matter.  For example, if you have job title as a variable, the order matters because in a company, job titles indicate the level in a corporate hierarchy.  Compare this to unordered variable, where the values have no inherent order.  For example, if the variable indicated a favorite ice cream flavor, there is no inherent ordering where one in higher/lower or better/worse."
   ]
  },
  {
   "cell_type": "markdown",
   "id": "62ca5497",
   "metadata": {},
   "source": [
    "# 12E2 Question\n",
    "\n",
    "What kind of link function does an ordered logistic regression employ? How does it differ\n",
    "from an ordinary logit link?"
   ]
  },
  {
   "cell_type": "markdown",
   "id": "a26e13f4-8014-4f23-acd0-9324f5f357a9",
   "metadata": {},
   "source": [
    "12E2 Answer: Ordered Logistic Regression uses a cumulative link function.  Basically, it uses a cumulative log odds instead of just the log ods."
   ]
  },
  {
   "cell_type": "markdown",
   "id": "0f9e88f3",
   "metadata": {},
   "source": [
    "# 12E3 Question\n",
    "When count data are zero-inflated, using a model that ignores zero-inflation will tend to induce which kind of inferential error?\n"
   ]
  },
  {
   "cell_type": "markdown",
   "id": "36e29574-4e67-41be-9bb0-b4918ad50d20",
   "metadata": {},
   "source": [
    "12E3 Answer:  Since the model will assume one process instead of two, it will push the estimates of the rate closer to 0 than it actually is."
   ]
  },
  {
   "cell_type": "markdown",
   "id": "e40ab0d4",
   "metadata": {},
   "source": [
    "# 12E4 Question\n",
    " Over-dispersion is common in count data. Give an example of a natural process that might\n",
    "produce over-dispersed counts. Can you also give an example of a process that might produce underdispersed counts?\n"
   ]
  },
  {
   "cell_type": "markdown",
   "id": "033bd58c-36df-4fe7-8d21-f406dff36cf3",
   "metadata": {},
   "source": [
    "12E4. Overdispersion comes about because of different rates in areas where we have samples.  Imagine that we count the number of luxury car brands we see an an intsersection, but we have intersections located in very different neighboords.  If we put all of these in the same model assuming the rate is the same for all intersections, it will be overidspersed.\n",
    "\n",
    "Underdisperson can happen because we are not random enough in our sample, which can lead to auto-correlation.  For example, if we cound the luxury cars at 9am every weekday, we might see more people taking their luxury car to work, whereas on the weekend or other others since caregivers are taking their kids to school (e.g. a minivan)"
   ]
  },
  {
   "cell_type": "markdown",
   "id": "69e51f19",
   "metadata": {},
   "source": [
    "# 12M1 Question\n",
    "At a certain university, employees are annually rated from 1 to 4 on their productivity, with\n",
    "1 being least productive and 4 most productive. In a certain department at this certain university\n",
    "in a certain year, the numbers of employees receiving each rating were (from 1 to 4): 12, 36, 7, 41.\n",
    "Compute the log cumulative odds of each rating"
   ]
  },
  {
   "cell_type": "code",
   "execution_count": 4,
   "id": "f258acf7-e27d-4778-b4f0-4d6363eed638",
   "metadata": {},
   "outputs": [
    {
     "name": "stderr",
     "output_type": "stream",
     "text": [
      "C:\\Users\\ukamath\\AppData\\Local\\Temp\\ipykernel_29744\\1913578793.py:5: RuntimeWarning: divide by zero encountered in scalar divide\n",
      "  emp_rating_cum_log_odds = [np.log(x/(1-x)) for x in emp_rating_prop_cusum]\n"
     ]
    },
    {
     "data": {
      "text/plain": [
       "[-1.9459101490553135, 0.0, 0.293761118528163, inf]"
      ]
     },
     "execution_count": 4,
     "metadata": {},
     "output_type": "execute_result"
    }
   ],
   "source": [
    "#12M1\n",
    "emp_rating = [12,36,7,41]\n",
    "emp_rating_prop = emp_rating / np.sum(emp_rating)\n",
    "emp_rating_prop_cusum = np.cumsum(emp_rating_prop)\n",
    "emp_rating_cum_log_odds = [np.log(x/(1-x)) for x in emp_rating_prop_cusum]\n",
    "emp_rating_cum_log_odds"
   ]
  },
  {
   "cell_type": "markdown",
   "id": "122ab25a",
   "metadata": {},
   "source": [
    "# 12M2 Question\n",
    "Make a version of Figure 12.5 for the employee ratings data given just above.\n"
   ]
  },
  {
   "cell_type": "code",
   "execution_count": 5,
   "id": "b0a05bee-d532-4bb9-adca-f5a9e1c3e84a",
   "metadata": {},
   "outputs": [
    {
     "data": {
      "image/png": "[encoded data removed]",
      "text/plain": [
       "<Figure size 640x480 with 1 Axes>"
      ]
     },
     "metadata": {},
     "output_type": "display_data"
    }
   ],
   "source": [
    "#12M2\n",
    "x = [1,2,3,4]\n",
    "\n",
    "plt.plot(x, emp_rating_prop_cusum, '-o', color='black')\n",
    "plt.bar(x, emp_rating_prop_cusum, width=0.01, color ='grey', align='edge')\n",
    "plt.bar(x,[emp_rating_prop_cusum[0]] + list(np.diff(emp_rating_prop_cusum)), width=-0.02, bottom=([0] + list(emp_rating_prop_cusum[:-1])),align='edge')\n",
    "plt.ylim(0,1.1)\n",
    "\n",
    "plt.ylabel('Cumulative Proportion')\n",
    "plt.xlabel('Rating')\n",
    "plt.show()"
   ]
  },
  {
   "cell_type": "markdown",
   "id": "98fb8e2f",
   "metadata": {},
   "source": [
    "# 12H1 Question\n",
    "In 2014, a paper was published that was entitled “Female hurricanes are deadlier than male\n",
    "hurricanes.”191 As the title suggests, the paper claimed that hurricanes with female names have caused\n",
    "greater loss of life, and the explanation given is that people unconsciously rate female hurricanes\n",
    "as less dangerous and so are less likely to evacuate. Statisticians severely criticized the paper after\n",
    "publication. Here, you’ll explore the complete data used in the paper and consider the hypothesis\n",
    "that hurricanes with female names are deadlier. Load the data with:\n",
    "\n",
    "library(rethinking)\n",
    "data(Hurricanes)\n",
    "\n",
    "Acquaint yourself with the columns by inspecting the help ?Hurricanes. In this problem, you’ll focus on predicting deaths using femininity of each hurricane’s name. Fit and interpret the simplest\n",
    "possible model, a Poisson model of deaths using femininity as a predictor. You can use quap or\n",
    "ulam. Compare the model to an intercept-only Poisson model of deaths. How strong is the association between femininity of name and deaths? Which storms does the model fit (retrodict) well?\n",
    "Which storms does it fit poorly"
   ]
  },
  {
   "cell_type": "code",
   "execution_count": 6,
   "id": "c22cfc83-3bc1-49ef-a5e7-974b92381c40",
   "metadata": {},
   "outputs": [
    {
     "data": {
      "text/html": [
       "<div>\n",
       "<style scoped>\n",
       "    .dataframe tbody tr th:only-of-type {\n",
       "        vertical-align: middle;\n",
       "    }\n",
       "\n",
       "    .dataframe tbody tr th {\n",
       "        vertical-align: top;\n",
       "    }\n",
       "\n",
       "    .dataframe thead th {\n",
       "        text-align: right;\n",
       "    }\n",
       "</style>\n",
       "<table border=\"1\" class=\"dataframe\">\n",
       "  <thead>\n",
       "    <tr style=\"text-align: right;\">\n",
       "      <th></th>\n",
       "      <th>name</th>\n",
       "      <th>year</th>\n",
       "      <th>deaths</th>\n",
       "      <th>category</th>\n",
       "      <th>min_pressure</th>\n",
       "      <th>damage_norm</th>\n",
       "      <th>female</th>\n",
       "      <th>femininity</th>\n",
       "    </tr>\n",
       "  </thead>\n",
       "  <tbody>\n",
       "    <tr>\n",
       "      <th>0</th>\n",
       "      <td>Easy</td>\n",
       "      <td>1950</td>\n",
       "      <td>2</td>\n",
       "      <td>3</td>\n",
       "      <td>960</td>\n",
       "      <td>1590</td>\n",
       "      <td>1</td>\n",
       "      <td>6.77778</td>\n",
       "    </tr>\n",
       "    <tr>\n",
       "      <th>1</th>\n",
       "      <td>King</td>\n",
       "      <td>1950</td>\n",
       "      <td>4</td>\n",
       "      <td>3</td>\n",
       "      <td>955</td>\n",
       "      <td>5350</td>\n",
       "      <td>0</td>\n",
       "      <td>1.38889</td>\n",
       "    </tr>\n",
       "    <tr>\n",
       "      <th>2</th>\n",
       "      <td>Able</td>\n",
       "      <td>1952</td>\n",
       "      <td>3</td>\n",
       "      <td>1</td>\n",
       "      <td>985</td>\n",
       "      <td>150</td>\n",
       "      <td>0</td>\n",
       "      <td>3.83333</td>\n",
       "    </tr>\n",
       "    <tr>\n",
       "      <th>3</th>\n",
       "      <td>Barbara</td>\n",
       "      <td>1953</td>\n",
       "      <td>1</td>\n",
       "      <td>1</td>\n",
       "      <td>987</td>\n",
       "      <td>58</td>\n",
       "      <td>1</td>\n",
       "      <td>9.83333</td>\n",
       "    </tr>\n",
       "    <tr>\n",
       "      <th>4</th>\n",
       "      <td>Florence</td>\n",
       "      <td>1953</td>\n",
       "      <td>0</td>\n",
       "      <td>1</td>\n",
       "      <td>985</td>\n",
       "      <td>15</td>\n",
       "      <td>1</td>\n",
       "      <td>8.33333</td>\n",
       "    </tr>\n",
       "  </tbody>\n",
       "</table>\n",
       "</div>"
      ],
      "text/plain": [
       "       name  year  deaths  category  min_pressure  damage_norm  female  \\\n",
       "0      Easy  1950       2         3           960         1590       1   \n",
       "1      King  1950       4         3           955         5350       0   \n",
       "2      Able  1952       3         1           985          150       0   \n",
       "3   Barbara  1953       1         1           987           58       1   \n",
       "4  Florence  1953       0         1           985           15       1   \n",
       "\n",
       "   femininity  \n",
       "0     6.77778  \n",
       "1     1.38889  \n",
       "2     3.83333  \n",
       "3     9.83333  \n",
       "4     8.33333  "
      ]
     },
     "execution_count": 6,
     "metadata": {},
     "output_type": "execute_result"
    }
   ],
   "source": [
    "hurricanes_data = pd.read_csv('./data/Hurricanes.csv',sep=';')\n",
    "hurricanes_data.head()"
   ]
  },
  {
   "cell_type": "code",
   "execution_count": 7,
   "id": "ded5877b-2c79-4297-8ec1-e5627a1e9b8d",
   "metadata": {},
   "outputs": [],
   "source": [
    "def normalize(x):\n",
    "    return (x - x.mean()) / x.std()"
   ]
  },
  {
   "cell_type": "code",
   "execution_count": 8,
   "id": "595b950c-5322-4aad-b8f2-a0e75ae53d17",
   "metadata": {},
   "outputs": [],
   "source": [
    "hurricanes_data['femininity_std'] = normalize(hurricanes_data['femininity'])"
   ]
  },
  {
   "cell_type": "code",
   "execution_count": 9,
   "id": "0e7ea4ed-0e55-4ee9-962b-88826f48f92e",
   "metadata": {},
   "outputs": [
    {
     "name": "stderr",
     "output_type": "stream",
     "text": [
      "Auto-assigning NUTS sampler...\n",
      "Initializing NUTS using jitter+adapt_diag...\n",
      "Multiprocess sampling (4 chains in 4 jobs)\n",
      "NUTS: [a, b]\n"
     ]
    },
    {
     "data": {
      "text/html": [
       "\n",
       "<style>\n",
       "    /* Turns off some styling */\n",
       "    progress {\n",
       "        /* gets rid of default border in Firefox and Opera. */\n",
       "        border: none;\n",
       "        /* Needs to be in here for Safari polyfill so background images work as expected. */\n",
       "        background-size: auto;\n",
       "    }\n",
       "    progress:not([value]), progress:not([value])::-webkit-progress-bar {\n",
       "        background: repeating-linear-gradient(45deg, #7e7e7e, #7e7e7e 10px, #5c5c5c 10px, #5c5c5c 20px);\n",
       "    }\n",
       "    .progress-bar-interrupted, .progress-bar-interrupted::-webkit-progress-bar {\n",
       "        background: #F44336;\n",
       "    }\n",
       "</style>\n"
      ],
      "text/plain": [
       "<IPython.core.display.HTML object>"
      ]
     },
     "metadata": {},
     "output_type": "display_data"
    },
    {
     "data": {
      "text/html": [
       "\n",
       "    <div>\n",
       "      <progress value='8000' class='' max='8000' style='width:300px; height:20px; vertical-align: middle;'></progress>\n",
       "      100.00% [8000/8000 00:05&lt;00:00 Sampling 4 chains, 0 divergences]\n",
       "    </div>\n",
       "    "
      ],
      "text/plain": [
       "<IPython.core.display.HTML object>"
      ]
     },
     "metadata": {},
     "output_type": "display_data"
    },
    {
     "name": "stderr",
     "output_type": "stream",
     "text": [
      "Sampling 4 chains for 1_000 tune and 1_000 draw iterations (4_000 + 4_000 draws total) took 20 seconds.\n",
      "Auto-assigning NUTS sampler...\n",
      "Initializing NUTS using jitter+adapt_diag...\n",
      "Multiprocess sampling (4 chains in 4 jobs)\n",
      "NUTS: [a]\n"
     ]
    },
    {
     "data": {
      "text/html": [
       "\n",
       "<style>\n",
       "    /* Turns off some styling */\n",
       "    progress {\n",
       "        /* gets rid of default border in Firefox and Opera. */\n",
       "        border: none;\n",
       "        /* Needs to be in here for Safari polyfill so background images work as expected. */\n",
       "        background-size: auto;\n",
       "    }\n",
       "    progress:not([value]), progress:not([value])::-webkit-progress-bar {\n",
       "        background: repeating-linear-gradient(45deg, #7e7e7e, #7e7e7e 10px, #5c5c5c 10px, #5c5c5c 20px);\n",
       "    }\n",
       "    .progress-bar-interrupted, .progress-bar-interrupted::-webkit-progress-bar {\n",
       "        background: #F44336;\n",
       "    }\n",
       "</style>\n"
      ],
      "text/plain": [
       "<IPython.core.display.HTML object>"
      ]
     },
     "metadata": {},
     "output_type": "display_data"
    },
    {
     "data": {
      "text/html": [
       "\n",
       "    <div>\n",
       "      <progress value='8000' class='' max='8000' style='width:300px; height:20px; vertical-align: middle;'></progress>\n",
       "      100.00% [8000/8000 00:04&lt;00:00 Sampling 4 chains, 0 divergences]\n",
       "    </div>\n",
       "    "
      ],
      "text/plain": [
       "<IPython.core.display.HTML object>"
      ]
     },
     "metadata": {},
     "output_type": "display_data"
    },
    {
     "name": "stderr",
     "output_type": "stream",
     "text": [
      "Sampling 4 chains for 1_000 tune and 1_000 draw iterations (4_000 + 4_000 draws total) took 17 seconds.\n"
     ]
    }
   ],
   "source": [
    "with pm.Model() as m_12h1:\n",
    "    a = pm.Normal('a',1,0.5)\n",
    "    b = pm.Normal('b',0,1) \n",
    "    p = pm.Deterministic(\"p\", pm.math.exp(a + b*hurricanes_data['femininity_std']))\n",
    "    T = pm.Poisson('deaths',p,observed=hurricanes_data['deaths'])\n",
    "    m_12h1_trace = pm.sample(idata_kwargs={\"log_likelihood\": True})\n",
    "\n",
    "with pm.Model() as m_12h1_a:\n",
    "    a = pm.Normal('a',1,0.5)\n",
    "    p = pm.Deterministic(\"p\", pm.math.exp(a))\n",
    "    T = pm.Poisson('deaths',p,observed=hurricanes_data['deaths'])\n",
    "    m_12h1_a_trace = pm.sample(idata_kwargs={\"log_likelihood\": True})"
   ]
  },
  {
   "cell_type": "code",
   "execution_count": 10,
   "id": "a34ecc1a-3681-4583-a0b3-a9f1f50d5bfd",
   "metadata": {},
   "outputs": [
    {
     "data": {
      "text/html": [
       "<div>\n",
       "<style scoped>\n",
       "    .dataframe tbody tr th:only-of-type {\n",
       "        vertical-align: middle;\n",
       "    }\n",
       "\n",
       "    .dataframe tbody tr th {\n",
       "        vertical-align: top;\n",
       "    }\n",
       "\n",
       "    .dataframe thead th {\n",
       "        text-align: right;\n",
       "    }\n",
       "</style>\n",
       "<table border=\"1\" class=\"dataframe\">\n",
       "  <thead>\n",
       "    <tr style=\"text-align: right;\">\n",
       "      <th></th>\n",
       "      <th>mean</th>\n",
       "      <th>sd</th>\n",
       "      <th>hdi_3%</th>\n",
       "      <th>hdi_97%</th>\n",
       "      <th>mcse_mean</th>\n",
       "      <th>mcse_sd</th>\n",
       "      <th>ess_bulk</th>\n",
       "      <th>ess_tail</th>\n",
       "      <th>r_hat</th>\n",
       "    </tr>\n",
       "  </thead>\n",
       "  <tbody>\n",
       "    <tr>\n",
       "      <th>a</th>\n",
       "      <td>2.997</td>\n",
       "      <td>0.024</td>\n",
       "      <td>2.951</td>\n",
       "      <td>3.043</td>\n",
       "      <td>0.0</td>\n",
       "      <td>0.0</td>\n",
       "      <td>3516.0</td>\n",
       "      <td>2943.0</td>\n",
       "      <td>1.0</td>\n",
       "    </tr>\n",
       "    <tr>\n",
       "      <th>b</th>\n",
       "      <td>0.239</td>\n",
       "      <td>0.026</td>\n",
       "      <td>0.191</td>\n",
       "      <td>0.286</td>\n",
       "      <td>0.0</td>\n",
       "      <td>0.0</td>\n",
       "      <td>3540.0</td>\n",
       "      <td>2774.0</td>\n",
       "      <td>1.0</td>\n",
       "    </tr>\n",
       "  </tbody>\n",
       "</table>\n",
       "</div>"
      ],
      "text/plain": [
       "    mean     sd  hdi_3%  hdi_97%  mcse_mean  mcse_sd  ess_bulk  ess_tail  \\\n",
       "a  2.997  0.024   2.951    3.043        0.0      0.0    3516.0    2943.0   \n",
       "b  0.239  0.026   0.191    0.286        0.0      0.0    3540.0    2774.0   \n",
       "\n",
       "   r_hat  \n",
       "a    1.0  \n",
       "b    1.0  "
      ]
     },
     "execution_count": 10,
     "metadata": {},
     "output_type": "execute_result"
    }
   ],
   "source": [
    "az.summary(m_12h1_trace, var_names=['a','b'])"
   ]
  },
  {
   "cell_type": "code",
   "execution_count": 11,
   "id": "394f03d8-6b4d-4994-aac1-0cde361c3626",
   "metadata": {},
   "outputs": [
    {
     "data": {
      "text/html": [
       "<div>\n",
       "<style scoped>\n",
       "    .dataframe tbody tr th:only-of-type {\n",
       "        vertical-align: middle;\n",
       "    }\n",
       "\n",
       "    .dataframe tbody tr th {\n",
       "        vertical-align: top;\n",
       "    }\n",
       "\n",
       "    .dataframe thead th {\n",
       "        text-align: right;\n",
       "    }\n",
       "</style>\n",
       "<table border=\"1\" class=\"dataframe\">\n",
       "  <thead>\n",
       "    <tr style=\"text-align: right;\">\n",
       "      <th></th>\n",
       "      <th>mean</th>\n",
       "      <th>sd</th>\n",
       "      <th>hdi_3%</th>\n",
       "      <th>hdi_97%</th>\n",
       "      <th>mcse_mean</th>\n",
       "      <th>mcse_sd</th>\n",
       "      <th>ess_bulk</th>\n",
       "      <th>ess_tail</th>\n",
       "      <th>r_hat</th>\n",
       "    </tr>\n",
       "  </thead>\n",
       "  <tbody>\n",
       "    <tr>\n",
       "      <th>a</th>\n",
       "      <td>3.023</td>\n",
       "      <td>0.022</td>\n",
       "      <td>2.983</td>\n",
       "      <td>3.065</td>\n",
       "      <td>0.001</td>\n",
       "      <td>0.0</td>\n",
       "      <td>1715.0</td>\n",
       "      <td>2751.0</td>\n",
       "      <td>1.0</td>\n",
       "    </tr>\n",
       "  </tbody>\n",
       "</table>\n",
       "</div>"
      ],
      "text/plain": [
       "    mean     sd  hdi_3%  hdi_97%  mcse_mean  mcse_sd  ess_bulk  ess_tail  \\\n",
       "a  3.023  0.022   2.983    3.065      0.001      0.0    1715.0    2751.0   \n",
       "\n",
       "   r_hat  \n",
       "a    1.0  "
      ]
     },
     "execution_count": 11,
     "metadata": {},
     "output_type": "execute_result"
    }
   ],
   "source": [
    "az.summary(m_12h1_a_trace, var_names=['a'])"
   ]
  },
  {
   "cell_type": "code",
   "execution_count": 12,
   "id": "9547967a-97d3-4a9c-9afc-a1cd01ec3e8b",
   "metadata": {},
   "outputs": [
    {
     "name": "stderr",
     "output_type": "stream",
     "text": [
      "d:\\Python\\venv\\pymc_env\\lib\\site-packages\\arviz\\stats\\stats.py:803: UserWarning: Estimated shape parameter of Pareto distribution is greater than 0.7 for one or more samples. You should consider using a more robust model, this is because importance sampling is less likely to work well if the marginal posterior and LOO posterior are very different. This is more likely to happen with a non-robust model and highly influential observations.\n",
      "  warnings.warn(\n",
      "d:\\Python\\venv\\pymc_env\\lib\\site-packages\\arviz\\stats\\stats.py:803: UserWarning: Estimated shape parameter of Pareto distribution is greater than 0.7 for one or more samples. You should consider using a more robust model, this is because importance sampling is less likely to work well if the marginal posterior and LOO posterior are very different. This is more likely to happen with a non-robust model and highly influential observations.\n",
      "  warnings.warn(\n",
      "d:\\Python\\venv\\pymc_env\\lib\\site-packages\\arviz\\stats\\stats.py:307: FutureWarning: Setting an item of incompatible dtype is deprecated and will raise in a future error of pandas. Value 'True' has dtype incompatible with float64, please explicitly cast to a compatible dtype first.\n",
      "  df_comp.loc[val] = (\n",
      "d:\\Python\\venv\\pymc_env\\lib\\site-packages\\arviz\\stats\\stats.py:307: FutureWarning: Setting an item of incompatible dtype is deprecated and will raise in a future error of pandas. Value 'deviance' has dtype incompatible with float64, please explicitly cast to a compatible dtype first.\n",
      "  df_comp.loc[val] = (\n"
     ]
    },
    {
     "data": {
      "text/html": [
       "<div>\n",
       "<style scoped>\n",
       "    .dataframe tbody tr th:only-of-type {\n",
       "        vertical-align: middle;\n",
       "    }\n",
       "\n",
       "    .dataframe tbody tr th {\n",
       "        vertical-align: top;\n",
       "    }\n",
       "\n",
       "    .dataframe thead th {\n",
       "        text-align: right;\n",
       "    }\n",
       "</style>\n",
       "<table border=\"1\" class=\"dataframe\">\n",
       "  <thead>\n",
       "    <tr style=\"text-align: right;\">\n",
       "      <th></th>\n",
       "      <th>rank</th>\n",
       "      <th>elpd_loo</th>\n",
       "      <th>p_loo</th>\n",
       "      <th>elpd_diff</th>\n",
       "      <th>weight</th>\n",
       "      <th>se</th>\n",
       "      <th>dse</th>\n",
       "      <th>warning</th>\n",
       "      <th>scale</th>\n",
       "    </tr>\n",
       "  </thead>\n",
       "  <tbody>\n",
       "    <tr>\n",
       "      <th>Femininity</th>\n",
       "      <td>0</td>\n",
       "      <td>4381.338136</td>\n",
       "      <td>117.070452</td>\n",
       "      <td>0.000000</td>\n",
       "      <td>0.468159</td>\n",
       "      <td>981.771979</td>\n",
       "      <td>0.000000</td>\n",
       "      <td>True</td>\n",
       "      <td>deviance</td>\n",
       "    </tr>\n",
       "    <tr>\n",
       "      <th>Intercept_Only</th>\n",
       "      <td>1</td>\n",
       "      <td>4421.967455</td>\n",
       "      <td>67.298006</td>\n",
       "      <td>40.629319</td>\n",
       "      <td>0.531841</td>\n",
       "      <td>1062.541041</td>\n",
       "      <td>144.107331</td>\n",
       "      <td>True</td>\n",
       "      <td>deviance</td>\n",
       "    </tr>\n",
       "  </tbody>\n",
       "</table>\n",
       "</div>"
      ],
      "text/plain": [
       "                rank     elpd_loo       p_loo  elpd_diff    weight  \\\n",
       "Femininity         0  4381.338136  117.070452   0.000000  0.468159   \n",
       "Intercept_Only     1  4421.967455   67.298006  40.629319  0.531841   \n",
       "\n",
       "                         se         dse  warning     scale  \n",
       "Femininity       981.771979    0.000000     True  deviance  \n",
       "Intercept_Only  1062.541041  144.107331     True  deviance  "
      ]
     },
     "execution_count": 12,
     "metadata": {},
     "output_type": "execute_result"
    }
   ],
   "source": [
    "compare_12h1 = {\n",
    "    \"Intercept_Only\": m_12h1_a_trace, \n",
    "    \"Femininity\": m_12h1_trace}\n",
    "az.compare(compare_12h1, ic='loo',scale='deviance')"
   ]
  },
  {
   "cell_type": "markdown",
   "id": "55f2faa5-cff7-421a-b2f8-96c4c72d450c",
   "metadata": {},
   "source": [
    "Adding Feminity doesn't add much to the intercept model, although it does seem to add a small improvement. The coeffficient is also fairly small, indicating a weaker relationship between feminity and deaths"
   ]
  },
  {
   "cell_type": "code",
   "execution_count": 13,
   "id": "8aaf5de5-d6e6-4d6b-bc74-8cb46a3e239b",
   "metadata": {},
   "outputs": [
    {
     "data": {
      "text/plain": [
       "[<matplotlib.lines.Line2D at 0x128e32fa0a0>]"
      ]
     },
     "execution_count": 13,
     "metadata": {},
     "output_type": "execute_result"
    },
    {
     "data": {
      "image/png": "[encoded data removed]",
      "text/plain": [
       "<Figure size 1500x1000 with 1 Axes>"
      ]
     },
     "metadata": {},
     "output_type": "display_data"
    }
   ],
   "source": [
    "#x_predict = np.linspace(-2,2, 100)\n",
    "#predictions = np.exp(m12h1_trace['posterior']['a'].mean().values) + x_predict *  np.exp(m12h1_trace['posterior']['b'].mean().values)\n",
    "\n",
    "sort_order = np.argsort(hurricanes_data['femininity_std'])\n",
    "plt.figure(figsize=(15,10))\n",
    "ax = az.plot_hdi(hurricanes_data['femininity_std'], m_12h1_trace.posterior[\"p\"], hdi_prob=.94, color=\"yellow\")\n",
    "ax.scatter(hurricanes_data['femininity_std'],hurricanes_data['deaths'], s=4)\n",
    "ax.plot(hurricanes_data['femininity_std'][sort_order], m_12h1_trace['posterior']['p'].mean(['chain','draw']).values[sort_order],color='black')\n",
    "#plt.plot(x_predict,predictions, color='black',ax=ax)"
   ]
  },
  {
   "cell_type": "markdown",
   "id": "73653df7-6808-4371-ac93-256eca5e0da5",
   "metadata": {},
   "source": [
    "It's clear that this model isn't really capturing the data at all, even in the prediction interval.  The model is especially bad the more feminine and more masculine the names are"
   ]
  },
  {
   "cell_type": "markdown",
   "id": "2d44e7a3",
   "metadata": {},
   "source": [
    "# 12H2 Question\n",
    "Counts are nearly always over-dispersed relative to Poisson. So fit a gamma-Poisson (aka\n",
    "negative-binomial) model to predict deaths using femininity. Show that the over-dispersed model\n",
    "no longer shows as precise a positive association between femininity and deaths, with an 89% interval\n",
    "that overlaps zero. Can you explain why the association diminished in strength"
   ]
  },
  {
   "cell_type": "code",
   "execution_count": 14,
   "id": "f42237ba-12af-44c3-8d8a-619aee02df92",
   "metadata": {},
   "outputs": [
    {
     "name": "stderr",
     "output_type": "stream",
     "text": [
      "Auto-assigning NUTS sampler...\n",
      "Initializing NUTS using jitter+adapt_diag...\n",
      "Multiprocess sampling (4 chains in 4 jobs)\n",
      "NUTS: [a, b, phi]\n"
     ]
    },
    {
     "data": {
      "text/html": [
       "\n",
       "<style>\n",
       "    /* Turns off some styling */\n",
       "    progress {\n",
       "        /* gets rid of default border in Firefox and Opera. */\n",
       "        border: none;\n",
       "        /* Needs to be in here for Safari polyfill so background images work as expected. */\n",
       "        background-size: auto;\n",
       "    }\n",
       "    progress:not([value]), progress:not([value])::-webkit-progress-bar {\n",
       "        background: repeating-linear-gradient(45deg, #7e7e7e, #7e7e7e 10px, #5c5c5c 10px, #5c5c5c 20px);\n",
       "    }\n",
       "    .progress-bar-interrupted, .progress-bar-interrupted::-webkit-progress-bar {\n",
       "        background: #F44336;\n",
       "    }\n",
       "</style>\n"
      ],
      "text/plain": [
       "<IPython.core.display.HTML object>"
      ]
     },
     "metadata": {},
     "output_type": "display_data"
    },
    {
     "data": {
      "text/html": [
       "\n",
       "    <div>\n",
       "      <progress value='8000' class='' max='8000' style='width:300px; height:20px; vertical-align: middle;'></progress>\n",
       "      100.00% [8000/8000 00:05&lt;00:00 Sampling 4 chains, 0 divergences]\n",
       "    </div>\n",
       "    "
      ],
      "text/plain": [
       "<IPython.core.display.HTML object>"
      ]
     },
     "metadata": {},
     "output_type": "display_data"
    },
    {
     "name": "stderr",
     "output_type": "stream",
     "text": [
      "Sampling 4 chains for 1_000 tune and 1_000 draw iterations (4_000 + 4_000 draws total) took 17 seconds.\n"
     ]
    }
   ],
   "source": [
    "#12h2\n",
    "with pm.Model() as m_12h2:\n",
    "    a = pm.Normal('a',1,0.5)\n",
    "    b = pm.Normal('b',0,1) \n",
    "    phi = pm.Exponential(\"phi\", 1.0)\n",
    "    p = pm.Deterministic(\"p\", pm.math.exp(a + b*hurricanes_data['femininity_std']))\n",
    "    T = pm.NegativeBinomial('deaths',p,phi, observed=hurricanes_data['deaths'])\n",
    "    m_12h2_trace = pm.sample(idata_kwargs={\"log_likelihood\": True})"
   ]
  },
  {
   "cell_type": "code",
   "execution_count": 15,
   "id": "1b8ccbe0-8d2f-4df2-bce4-bd04ed79db66",
   "metadata": {},
   "outputs": [
    {
     "data": {
      "text/html": [
       "<div>\n",
       "<style scoped>\n",
       "    .dataframe tbody tr th:only-of-type {\n",
       "        vertical-align: middle;\n",
       "    }\n",
       "\n",
       "    .dataframe tbody tr th {\n",
       "        vertical-align: top;\n",
       "    }\n",
       "\n",
       "    .dataframe thead th {\n",
       "        text-align: right;\n",
       "    }\n",
       "</style>\n",
       "<table border=\"1\" class=\"dataframe\">\n",
       "  <thead>\n",
       "    <tr style=\"text-align: right;\">\n",
       "      <th></th>\n",
       "      <th>mean</th>\n",
       "      <th>sd</th>\n",
       "      <th>hdi_3%</th>\n",
       "      <th>hdi_97%</th>\n",
       "      <th>mcse_mean</th>\n",
       "      <th>mcse_sd</th>\n",
       "      <th>ess_bulk</th>\n",
       "      <th>ess_tail</th>\n",
       "      <th>r_hat</th>\n",
       "    </tr>\n",
       "  </thead>\n",
       "  <tbody>\n",
       "    <tr>\n",
       "      <th>a</th>\n",
       "      <td>2.854</td>\n",
       "      <td>0.139</td>\n",
       "      <td>2.594</td>\n",
       "      <td>3.108</td>\n",
       "      <td>0.002</td>\n",
       "      <td>0.001</td>\n",
       "      <td>5874.0</td>\n",
       "      <td>3351.0</td>\n",
       "      <td>1.0</td>\n",
       "    </tr>\n",
       "    <tr>\n",
       "      <th>b</th>\n",
       "      <td>0.215</td>\n",
       "      <td>0.144</td>\n",
       "      <td>-0.050</td>\n",
       "      <td>0.487</td>\n",
       "      <td>0.002</td>\n",
       "      <td>0.002</td>\n",
       "      <td>5210.0</td>\n",
       "      <td>3115.0</td>\n",
       "      <td>1.0</td>\n",
       "    </tr>\n",
       "  </tbody>\n",
       "</table>\n",
       "</div>"
      ],
      "text/plain": [
       "    mean     sd  hdi_3%  hdi_97%  mcse_mean  mcse_sd  ess_bulk  ess_tail  \\\n",
       "a  2.854  0.139   2.594    3.108      0.002    0.001    5874.0    3351.0   \n",
       "b  0.215  0.144  -0.050    0.487      0.002    0.002    5210.0    3115.0   \n",
       "\n",
       "   r_hat  \n",
       "a    1.0  \n",
       "b    1.0  "
      ]
     },
     "execution_count": 15,
     "metadata": {},
     "output_type": "execute_result"
    }
   ],
   "source": [
    "az.summary(m_12h2_trace,var_names=['a','b'])"
   ]
  },
  {
   "cell_type": "code",
   "execution_count": 16,
   "id": "afa94a87-8570-44c2-8283-3ec37f4bee31",
   "metadata": {},
   "outputs": [
    {
     "data": {
      "text/plain": [
       "array([<Axes: title={'center': '94.0% HDI'}>], dtype=object)"
      ]
     },
     "execution_count": 16,
     "metadata": {},
     "output_type": "execute_result"
    },
    {
     "data": {
      "image/png": "[encoded data removed]",
      "text/plain": [
       "<Figure size 600x520 with 1 Axes>"
      ]
     },
     "metadata": {},
     "output_type": "display_data"
    }
   ],
   "source": [
    "az.plot_forest(m_12h2_trace, var_names=['a','b'], combined=True)"
   ]
  },
  {
   "cell_type": "markdown",
   "id": "941df4e2-fa79-49fb-8991-b0b2252b8e83",
   "metadata": {},
   "source": [
    "The uncernaity around b (the coefficient for femininity) has increased and overlaps with zero."
   ]
  },
  {
   "cell_type": "code",
   "execution_count": 17,
   "id": "fa001825-b4f4-4c5b-adeb-aea1d0387dc8",
   "metadata": {},
   "outputs": [
    {
     "data": {
      "text/plain": [
       "[<matplotlib.lines.Line2D at 0x128e273a7f0>]"
      ]
     },
     "execution_count": 17,
     "metadata": {},
     "output_type": "execute_result"
    },
    {
     "data": {
      "image/png": "[encoded data removed]",
      "text/plain": [
       "<Figure size 1500x1000 with 1 Axes>"
      ]
     },
     "metadata": {},
     "output_type": "display_data"
    }
   ],
   "source": [
    "#x_predict = np.linspace(-2,2, 100)\n",
    "#predictions = np.exp(m12h1_trace['posterior']['a'].mean().values) + x_predict *  np.exp(m12h1_trace['posterior']['b'].mean().values)\n",
    "\n",
    "sort_order = np.argsort(hurricanes_data['femininity_std'])\n",
    "plt.figure(figsize=(15,10))\n",
    "ax = az.plot_hdi(hurricanes_data['femininity_std'], m_12h2_trace.posterior[\"p\"], color=\"yellow\")\n",
    "ax.scatter(hurricanes_data['femininity_std'],hurricanes_data['deaths'], s=4)\n",
    "ax.plot(hurricanes_data['femininity_std'][sort_order], m_12h2_trace['posterior']['p'].mean(['chain','draw']).values[sort_order],color='black')\n",
    "ax.plot(hurricanes_data['femininity_std'][sort_order], m_12h1_trace['posterior']['p'].mean(['chain','draw']).values[sort_order],color='red')\n",
    "#plt.plot(x_predict,predictions, color='black',ax=ax)"
   ]
  },
  {
   "cell_type": "markdown",
   "id": "b3702a77-abd4-44d4-8c28-308228a86fe8",
   "metadata": {},
   "source": [
    "Apart from increasing the uncernaity and pulling more predictions into the hdi_interval, this model is still quite bad.  One immediate challenge is that there are are lot of extreme values at either end of this chart.  One advantage of the Gamma-Possion model is that you can see the effect of the extreme values on the right side of this chart is less pronouced, as black line is not being pulled up like the original Possion model.  As for why, this is because the Gamma-Possion allows the rate to have a distribution across cases, and not assume the same rate for every case."
   ]
  },
  {
   "cell_type": "code",
   "execution_count": 18,
   "id": "de92d703-55fa-4557-a277-82e628ca8064",
   "metadata": {},
   "outputs": [
    {
     "name": "stderr",
     "output_type": "stream",
     "text": [
      "d:\\Python\\venv\\pymc_env\\lib\\site-packages\\arviz\\stats\\stats.py:803: UserWarning: Estimated shape parameter of Pareto distribution is greater than 0.7 for one or more samples. You should consider using a more robust model, this is because importance sampling is less likely to work well if the marginal posterior and LOO posterior are very different. This is more likely to happen with a non-robust model and highly influential observations.\n",
      "  warnings.warn(\n",
      "d:\\Python\\venv\\pymc_env\\lib\\site-packages\\arviz\\stats\\stats.py:803: UserWarning: Estimated shape parameter of Pareto distribution is greater than 0.7 for one or more samples. You should consider using a more robust model, this is because importance sampling is less likely to work well if the marginal posterior and LOO posterior are very different. This is more likely to happen with a non-robust model and highly influential observations.\n",
      "  warnings.warn(\n",
      "d:\\Python\\venv\\pymc_env\\lib\\site-packages\\arviz\\stats\\stats.py:307: FutureWarning: Setting an item of incompatible dtype is deprecated and will raise in a future error of pandas. Value 'False' has dtype incompatible with float64, please explicitly cast to a compatible dtype first.\n",
      "  df_comp.loc[val] = (\n",
      "d:\\Python\\venv\\pymc_env\\lib\\site-packages\\arviz\\stats\\stats.py:307: FutureWarning: Setting an item of incompatible dtype is deprecated and will raise in a future error of pandas. Value 'deviance' has dtype incompatible with float64, please explicitly cast to a compatible dtype first.\n",
      "  df_comp.loc[val] = (\n"
     ]
    },
    {
     "data": {
      "text/html": [
       "<div>\n",
       "<style scoped>\n",
       "    .dataframe tbody tr th:only-of-type {\n",
       "        vertical-align: middle;\n",
       "    }\n",
       "\n",
       "    .dataframe tbody tr th {\n",
       "        vertical-align: top;\n",
       "    }\n",
       "\n",
       "    .dataframe thead th {\n",
       "        text-align: right;\n",
       "    }\n",
       "</style>\n",
       "<table border=\"1\" class=\"dataframe\">\n",
       "  <thead>\n",
       "    <tr style=\"text-align: right;\">\n",
       "      <th></th>\n",
       "      <th>rank</th>\n",
       "      <th>elpd_loo</th>\n",
       "      <th>p_loo</th>\n",
       "      <th>elpd_diff</th>\n",
       "      <th>weight</th>\n",
       "      <th>se</th>\n",
       "      <th>dse</th>\n",
       "      <th>warning</th>\n",
       "      <th>scale</th>\n",
       "    </tr>\n",
       "  </thead>\n",
       "  <tbody>\n",
       "    <tr>\n",
       "      <th>Gamma-Poisson</th>\n",
       "      <td>0</td>\n",
       "      <td>710.553070</td>\n",
       "      <td>3.799551</td>\n",
       "      <td>0.000000</td>\n",
       "      <td>1.000000e+00</td>\n",
       "      <td>34.601964</td>\n",
       "      <td>0.000000</td>\n",
       "      <td>False</td>\n",
       "      <td>deviance</td>\n",
       "    </tr>\n",
       "    <tr>\n",
       "      <th>Femininity</th>\n",
       "      <td>1</td>\n",
       "      <td>4381.338136</td>\n",
       "      <td>117.070452</td>\n",
       "      <td>3670.785066</td>\n",
       "      <td>0.000000e+00</td>\n",
       "      <td>981.771979</td>\n",
       "      <td>957.863894</td>\n",
       "      <td>True</td>\n",
       "      <td>deviance</td>\n",
       "    </tr>\n",
       "    <tr>\n",
       "      <th>Intercept_Only</th>\n",
       "      <td>2</td>\n",
       "      <td>4421.967455</td>\n",
       "      <td>67.298006</td>\n",
       "      <td>3711.414385</td>\n",
       "      <td>6.369685e-10</td>\n",
       "      <td>1062.541041</td>\n",
       "      <td>1039.184911</td>\n",
       "      <td>True</td>\n",
       "      <td>deviance</td>\n",
       "    </tr>\n",
       "  </tbody>\n",
       "</table>\n",
       "</div>"
      ],
      "text/plain": [
       "                rank     elpd_loo       p_loo    elpd_diff        weight  \\\n",
       "Gamma-Poisson      0   710.553070    3.799551     0.000000  1.000000e+00   \n",
       "Femininity         1  4381.338136  117.070452  3670.785066  0.000000e+00   \n",
       "Intercept_Only     2  4421.967455   67.298006  3711.414385  6.369685e-10   \n",
       "\n",
       "                         se          dse  warning     scale  \n",
       "Gamma-Poisson     34.601964     0.000000    False  deviance  \n",
       "Femininity       981.771979   957.863894     True  deviance  \n",
       "Intercept_Only  1062.541041  1039.184911     True  deviance  "
      ]
     },
     "execution_count": 18,
     "metadata": {},
     "output_type": "execute_result"
    }
   ],
   "source": [
    "compare_12h2 = {\n",
    "    \"Intercept_Only\": m_12h1_a_trace, \n",
    "    \"Femininity\": m_12h1_trace,\n",
    "    \"Gamma-Poisson\": m_12h2_trace}\n",
    "az.compare(compare_12h2, ic='loo',scale='deviance')"
   ]
  },
  {
   "cell_type": "code",
   "execution_count": 19,
   "id": "d392b2b2-0c71-489a-847b-8423be5be41f",
   "metadata": {},
   "outputs": [
    {
     "name": "stderr",
     "output_type": "stream",
     "text": [
      "d:\\Python\\venv\\pymc_env\\lib\\site-packages\\arviz\\stats\\stats.py:803: UserWarning: Estimated shape parameter of Pareto distribution is greater than 0.7 for one or more samples. You should consider using a more robust model, this is because importance sampling is less likely to work well if the marginal posterior and LOO posterior are very different. This is more likely to happen with a non-robust model and highly influential observations.\n",
      "  warnings.warn(\n"
     ]
    },
    {
     "data": {
      "text/plain": [
       "Computed from 4000 posterior samples and 92 observations log-likelihood matrix.\n",
       "\n",
       "         Estimate       SE\n",
       "elpd_loo -2190.67   490.89\n",
       "p_loo      117.07        -\n",
       "\n",
       "There has been a warning during the calculation. Please check the results.\n",
       "------\n",
       "\n",
       "Pareto k diagnostic values:\n",
       "                         Count   Pct.\n",
       "(-Inf, 0.5]   (good)       84   91.3%\n",
       " (0.5, 0.7]   (ok)          2    2.2%\n",
       "   (0.7, 1]   (bad)         2    2.2%\n",
       "   (1, Inf)   (very bad)    4    4.3%"
      ]
     },
     "execution_count": 19,
     "metadata": {},
     "output_type": "execute_result"
    }
   ],
   "source": [
    "az.loo(m_12h1_trace)"
   ]
  },
  {
   "cell_type": "code",
   "execution_count": 20,
   "id": "77e16880-7764-42b2-b739-89717c5c3bb6",
   "metadata": {},
   "outputs": [
    {
     "data": {
      "text/plain": [
       "Computed from 4000 posterior samples and 92 observations log-likelihood matrix.\n",
       "\n",
       "         Estimate       SE\n",
       "elpd_loo  -355.28    17.30\n",
       "p_loo        3.80        -\n",
       "------\n",
       "\n",
       "Pareto k diagnostic values:\n",
       "                         Count   Pct.\n",
       "(-Inf, 0.5]   (good)       92  100.0%\n",
       " (0.5, 0.7]   (ok)          0    0.0%\n",
       "   (0.7, 1]   (bad)         0    0.0%\n",
       "   (1, Inf)   (very bad)    0    0.0%"
      ]
     },
     "execution_count": 20,
     "metadata": {},
     "output_type": "execute_result"
    }
   ],
   "source": [
    "az.loo(m_12h2_trace)"
   ]
  },
  {
   "cell_type": "markdown",
   "id": "f8c27968-d516-4dda-9637-8524abf42122",
   "metadata": {},
   "source": [
    "One benefit of the Gamma-Poisson model is that you can see that the number of highly influencal points is much lower, with no values above 1"
   ]
  },
  {
   "cell_type": "markdown",
   "id": "ebd1e399",
   "metadata": {},
   "source": [
    "# 12H3 Question\n",
    "In the data, there are two measures of a hurricane’s potential to cause death: damage_norm\n",
    "and min_pressure. Consult ?Hurricanes for their meanings. It makes some sense to imagine that\n",
    "femininity of a name matters more when the hurricane is itself deadly. This implies an interaction\n",
    "between femininity and either or both of damage_norm and min_pressure. Fit a series of models\n",
    "evaluating these interactions. Interpret and compare the models. In interpreting the estimates, it\n",
    "may help to generate counterfactual predictions contrasting hurricanes with masculine and feminine\n",
    "names. Are the effect sizes plausible"
   ]
  },
  {
   "cell_type": "code",
   "execution_count": 21,
   "id": "04d9463a-4bbc-40ec-aa8e-edabda3d7c13",
   "metadata": {},
   "outputs": [],
   "source": [
    "#12H3\n",
    "hurricanes_data['damage_norm_std'] = normalize(hurricanes_data['damage_norm'])\n",
    "hurricanes_data['min_pressure_std'] = normalize(hurricanes_data['min_pressure'])"
   ]
  },
  {
   "cell_type": "code",
   "execution_count": 22,
   "id": "a124400a-da4f-453c-8c56-aae36b2a42a5",
   "metadata": {},
   "outputs": [
    {
     "name": "stderr",
     "output_type": "stream",
     "text": [
      "Auto-assigning NUTS sampler...\n",
      "Initializing NUTS using jitter+adapt_diag...\n",
      "Multiprocess sampling (4 chains in 4 jobs)\n",
      "NUTS: [a, bf, bdn, bfdn, alpha]\n"
     ]
    },
    {
     "data": {
      "text/html": [
       "\n",
       "<style>\n",
       "    /* Turns off some styling */\n",
       "    progress {\n",
       "        /* gets rid of default border in Firefox and Opera. */\n",
       "        border: none;\n",
       "        /* Needs to be in here for Safari polyfill so background images work as expected. */\n",
       "        background-size: auto;\n",
       "    }\n",
       "    progress:not([value]), progress:not([value])::-webkit-progress-bar {\n",
       "        background: repeating-linear-gradient(45deg, #7e7e7e, #7e7e7e 10px, #5c5c5c 10px, #5c5c5c 20px);\n",
       "    }\n",
       "    .progress-bar-interrupted, .progress-bar-interrupted::-webkit-progress-bar {\n",
       "        background: #F44336;\n",
       "    }\n",
       "</style>\n"
      ],
      "text/plain": [
       "<IPython.core.display.HTML object>"
      ]
     },
     "metadata": {},
     "output_type": "display_data"
    },
    {
     "data": {
      "text/html": [
       "\n",
       "    <div>\n",
       "      <progress value='8000' class='' max='8000' style='width:300px; height:20px; vertical-align: middle;'></progress>\n",
       "      100.00% [8000/8000 00:05&lt;00:00 Sampling 4 chains, 0 divergences]\n",
       "    </div>\n",
       "    "
      ],
      "text/plain": [
       "<IPython.core.display.HTML object>"
      ]
     },
     "metadata": {},
     "output_type": "display_data"
    },
    {
     "name": "stderr",
     "output_type": "stream",
     "text": [
      "Sampling 4 chains for 1_000 tune and 1_000 draw iterations (4_000 + 4_000 draws total) took 18 seconds.\n"
     ]
    }
   ],
   "source": [
    "#12h3\n",
    "with pm.Model() as m_12h3_a:\n",
    "    a = pm.Normal('a',0,1)\n",
    "    bf = pm.Normal('bf',0,1) \n",
    "    bdn = pm.Normal('bdn', 0,1)\n",
    "    bfdn = pm.Normal('bfdn',0,1)\n",
    "    alpha = pm.Exponential(\"alpha\", 1)\n",
    "    femty = pm.MutableData('femty', hurricanes_data['femininity_std'], dims=\"obs_id\")\n",
    "    dnstd = pm.MutableData('dnstd', hurricanes_data['damage_norm_std'], dims=\"obs_id\")\n",
    "    p = pm.Deterministic(\"p\", pm.math.exp(a + \n",
    "                                          bf*femty + \n",
    "                                          bdn*dnstd+  \n",
    "                                          bfdn*femty*dnstd\n",
    "                                         )\n",
    "                        )\n",
    "    deaths = pm.NegativeBinomial('deaths',mu=p,alpha=alpha, observed=hurricanes_data['deaths'])\n",
    "    m_12h3_a_trace = pm.sample(idata_kwargs={\"log_likelihood\": True})"
   ]
  },
  {
   "cell_type": "code",
   "execution_count": 23,
   "id": "ebe8435c-e9b1-45a7-8d1b-375356229304",
   "metadata": {},
   "outputs": [
    {
     "data": {
      "text/html": [
       "<div>\n",
       "<style scoped>\n",
       "    .dataframe tbody tr th:only-of-type {\n",
       "        vertical-align: middle;\n",
       "    }\n",
       "\n",
       "    .dataframe tbody tr th {\n",
       "        vertical-align: top;\n",
       "    }\n",
       "\n",
       "    .dataframe thead th {\n",
       "        text-align: right;\n",
       "    }\n",
       "</style>\n",
       "<table border=\"1\" class=\"dataframe\">\n",
       "  <thead>\n",
       "    <tr style=\"text-align: right;\">\n",
       "      <th></th>\n",
       "      <th>mean</th>\n",
       "      <th>sd</th>\n",
       "      <th>hdi_3%</th>\n",
       "      <th>hdi_97%</th>\n",
       "      <th>mcse_mean</th>\n",
       "      <th>mcse_sd</th>\n",
       "      <th>ess_bulk</th>\n",
       "      <th>ess_tail</th>\n",
       "      <th>r_hat</th>\n",
       "    </tr>\n",
       "  </thead>\n",
       "  <tbody>\n",
       "    <tr>\n",
       "      <th>a</th>\n",
       "      <td>2.553</td>\n",
       "      <td>0.131</td>\n",
       "      <td>2.295</td>\n",
       "      <td>2.785</td>\n",
       "      <td>0.002</td>\n",
       "      <td>0.002</td>\n",
       "      <td>3680.0</td>\n",
       "      <td>2721.0</td>\n",
       "      <td>1.0</td>\n",
       "    </tr>\n",
       "    <tr>\n",
       "      <th>bf</th>\n",
       "      <td>0.087</td>\n",
       "      <td>0.123</td>\n",
       "      <td>-0.145</td>\n",
       "      <td>0.315</td>\n",
       "      <td>0.002</td>\n",
       "      <td>0.002</td>\n",
       "      <td>4284.0</td>\n",
       "      <td>2800.0</td>\n",
       "      <td>1.0</td>\n",
       "    </tr>\n",
       "    <tr>\n",
       "      <th>bdn</th>\n",
       "      <td>1.249</td>\n",
       "      <td>0.215</td>\n",
       "      <td>0.843</td>\n",
       "      <td>1.646</td>\n",
       "      <td>0.004</td>\n",
       "      <td>0.003</td>\n",
       "      <td>3734.0</td>\n",
       "      <td>2938.0</td>\n",
       "      <td>1.0</td>\n",
       "    </tr>\n",
       "    <tr>\n",
       "      <th>bfdn</th>\n",
       "      <td>0.307</td>\n",
       "      <td>0.204</td>\n",
       "      <td>-0.104</td>\n",
       "      <td>0.661</td>\n",
       "      <td>0.003</td>\n",
       "      <td>0.003</td>\n",
       "      <td>3783.0</td>\n",
       "      <td>2571.0</td>\n",
       "      <td>1.0</td>\n",
       "    </tr>\n",
       "  </tbody>\n",
       "</table>\n",
       "</div>"
      ],
      "text/plain": [
       "       mean     sd  hdi_3%  hdi_97%  mcse_mean  mcse_sd  ess_bulk  ess_tail  \\\n",
       "a     2.553  0.131   2.295    2.785      0.002    0.002    3680.0    2721.0   \n",
       "bf    0.087  0.123  -0.145    0.315      0.002    0.002    4284.0    2800.0   \n",
       "bdn   1.249  0.215   0.843    1.646      0.004    0.003    3734.0    2938.0   \n",
       "bfdn  0.307  0.204  -0.104    0.661      0.003    0.003    3783.0    2571.0   \n",
       "\n",
       "      r_hat  \n",
       "a       1.0  \n",
       "bf      1.0  \n",
       "bdn     1.0  \n",
       "bfdn    1.0  "
      ]
     },
     "execution_count": 23,
     "metadata": {},
     "output_type": "execute_result"
    }
   ],
   "source": [
    "az.summary(m_12h3_a_trace, var_names=['a','bf','bdn','bfdn'])"
   ]
  },
  {
   "cell_type": "markdown",
   "id": "5f60cd02-502a-4e1e-a17a-028f9f996fd3",
   "metadata": {},
   "source": [
    "We can see that once we add damage norm, feminity goes to zero.  However, there is some effect between the interaction of feminity and damange norm."
   ]
  },
  {
   "cell_type": "code",
   "execution_count": 24,
   "id": "b27d4e23-65b1-4e88-adbf-17ced913d63d",
   "metadata": {},
   "outputs": [
    {
     "name": "stderr",
     "output_type": "stream",
     "text": [
      "Sampling: [deaths]\n"
     ]
    },
    {
     "data": {
      "text/html": [
       "\n",
       "<style>\n",
       "    /* Turns off some styling */\n",
       "    progress {\n",
       "        /* gets rid of default border in Firefox and Opera. */\n",
       "        border: none;\n",
       "        /* Needs to be in here for Safari polyfill so background images work as expected. */\n",
       "        background-size: auto;\n",
       "    }\n",
       "    progress:not([value]), progress:not([value])::-webkit-progress-bar {\n",
       "        background: repeating-linear-gradient(45deg, #7e7e7e, #7e7e7e 10px, #5c5c5c 10px, #5c5c5c 20px);\n",
       "    }\n",
       "    .progress-bar-interrupted, .progress-bar-interrupted::-webkit-progress-bar {\n",
       "        background: #F44336;\n",
       "    }\n",
       "</style>\n"
      ],
      "text/plain": [
       "<IPython.core.display.HTML object>"
      ]
     },
     "metadata": {},
     "output_type": "display_data"
    },
    {
     "data": {
      "text/html": [
       "\n",
       "    <div>\n",
       "      <progress value='4000' class='' max='4000' style='width:300px; height:20px; vertical-align: middle;'></progress>\n",
       "      100.00% [4000/4000 00:00&lt;00:00]\n",
       "    </div>\n",
       "    "
      ],
      "text/plain": [
       "<IPython.core.display.HTML object>"
      ]
     },
     "metadata": {},
     "output_type": "display_data"
    },
    {
     "name": "stderr",
     "output_type": "stream",
     "text": [
      "Sampling: [deaths]\n"
     ]
    },
    {
     "data": {
      "text/html": [
       "\n",
       "<style>\n",
       "    /* Turns off some styling */\n",
       "    progress {\n",
       "        /* gets rid of default border in Firefox and Opera. */\n",
       "        border: none;\n",
       "        /* Needs to be in here for Safari polyfill so background images work as expected. */\n",
       "        background-size: auto;\n",
       "    }\n",
       "    progress:not([value]), progress:not([value])::-webkit-progress-bar {\n",
       "        background: repeating-linear-gradient(45deg, #7e7e7e, #7e7e7e 10px, #5c5c5c 10px, #5c5c5c 20px);\n",
       "    }\n",
       "    .progress-bar-interrupted, .progress-bar-interrupted::-webkit-progress-bar {\n",
       "        background: #F44336;\n",
       "    }\n",
       "</style>\n"
      ],
      "text/plain": [
       "<IPython.core.display.HTML object>"
      ]
     },
     "metadata": {},
     "output_type": "display_data"
    },
    {
     "data": {
      "text/html": [
       "\n",
       "    <div>\n",
       "      <progress value='4000' class='' max='4000' style='width:300px; height:20px; vertical-align: middle;'></progress>\n",
       "      100.00% [4000/4000 00:00&lt;00:00]\n",
       "    </div>\n",
       "    "
      ],
      "text/plain": [
       "<IPython.core.display.HTML object>"
      ]
     },
     "metadata": {},
     "output_type": "display_data"
    }
   ],
   "source": [
    "dnseq = np.linspace(-1,5,hurricanes_data.shape[0])\n",
    "with m_12h3_a:\n",
    "    pm.set_data({'femty':np.full(hurricanes_data.shape[0], 1), 'dnstd':dnseq})\n",
    "    fem_post_pred = pm.sample_posterior_predictive(m_12h3_a_trace,\n",
    "                                                   return_inferencedata=True,\n",
    "                                                   predictions=True)\n",
    "\n",
    "with m_12h3_a:\n",
    "    pm.set_data({'femty':np.full(hurricanes_data.shape[0], -1), 'dnstd':dnseq})\n",
    "    masc_post_pred = pm.sample_posterior_predictive(m_12h3_a_trace,\n",
    "                                                   return_inferencedata=True,\n",
    "                                                   predictions=True)"
   ]
  },
  {
   "cell_type": "code",
   "execution_count": 25,
   "id": "bb0835e2-f88b-4c61-a96a-322395a946f9",
   "metadata": {},
   "outputs": [
    {
     "data": {
      "image/png": "[encoded data removed]",
      "text/plain": [
       "<Figure size 1500x1000 with 1 Axes>"
      ]
     },
     "metadata": {},
     "output_type": "display_data"
    }
   ],
   "source": [
    "point_colors = hurricanes_data['female'].apply(lambda x: 'red' if x == 1 else 'blue')\n",
    "plt.figure(figsize=(15,10))\n",
    "ax = az.plot_hdi(dnseq,fem_post_pred['predictions']['deaths'], color='red',fill_kwargs={\"alpha\": 0.2})\n",
    "\n",
    "ax.plot(dnseq,fem_post_pred['predictions']['deaths'].mean(['chain','draw']).values, color = 'red', label = 'Feminine')\n",
    "\n",
    "az.plot_hdi(dnseq,masc_post_pred['predictions']['deaths'], color='blue',fill_kwargs={\"alpha\": 0.2}, ax=ax)\n",
    "ax.plot(dnseq,masc_post_pred['predictions']['deaths'].mean(['chain','draw']).values, color = 'blue', label = 'Masculine')\n",
    "ax.scatter(hurricanes_data['damage_norm_std'],hurricanes_data['deaths'], color = point_colors)\n",
    "plt.ylim(-10,300)\n",
    "plt.ylabel('Deaths')\n",
    "plt.xlabel('Damage Norm Std')\n",
    "plt.show()"
   ]
  },
  {
   "cell_type": "markdown",
   "id": "462cfe83-fc8e-4071-bc2c-4f4037b59ca7",
   "metadata": {},
   "source": [
    "It looks like there isn't much of a difference as the lower end, but the number of deaths from storms with feminine names rises a lot quicker than masculine names.  But this is likely the result of the storms in the upper left side with very high death numbers.  This helps to explain the interaction as well"
   ]
  },
  {
   "cell_type": "code",
   "execution_count": 26,
   "id": "7fe5772f-a380-404a-9497-e9c2e28950f7",
   "metadata": {},
   "outputs": [
    {
     "name": "stderr",
     "output_type": "stream",
     "text": [
      "Auto-assigning NUTS sampler...\n",
      "Initializing NUTS using jitter+adapt_diag...\n",
      "Multiprocess sampling (4 chains in 4 jobs)\n",
      "NUTS: [a, bf, bmp, bfmp, alpha]\n"
     ]
    },
    {
     "data": {
      "text/html": [
       "\n",
       "<style>\n",
       "    /* Turns off some styling */\n",
       "    progress {\n",
       "        /* gets rid of default border in Firefox and Opera. */\n",
       "        border: none;\n",
       "        /* Needs to be in here for Safari polyfill so background images work as expected. */\n",
       "        background-size: auto;\n",
       "    }\n",
       "    progress:not([value]), progress:not([value])::-webkit-progress-bar {\n",
       "        background: repeating-linear-gradient(45deg, #7e7e7e, #7e7e7e 10px, #5c5c5c 10px, #5c5c5c 20px);\n",
       "    }\n",
       "    .progress-bar-interrupted, .progress-bar-interrupted::-webkit-progress-bar {\n",
       "        background: #F44336;\n",
       "    }\n",
       "</style>\n"
      ],
      "text/plain": [
       "<IPython.core.display.HTML object>"
      ]
     },
     "metadata": {},
     "output_type": "display_data"
    },
    {
     "data": {
      "text/html": [
       "\n",
       "    <div>\n",
       "      <progress value='8000' class='' max='8000' style='width:300px; height:20px; vertical-align: middle;'></progress>\n",
       "      100.00% [8000/8000 00:05&lt;00:00 Sampling 4 chains, 0 divergences]\n",
       "    </div>\n",
       "    "
      ],
      "text/plain": [
       "<IPython.core.display.HTML object>"
      ]
     },
     "metadata": {},
     "output_type": "display_data"
    },
    {
     "name": "stderr",
     "output_type": "stream",
     "text": [
      "Sampling 4 chains for 1_000 tune and 1_000 draw iterations (4_000 + 4_000 draws total) took 18 seconds.\n"
     ]
    }
   ],
   "source": [
    "#12h3\n",
    "with pm.Model() as m_12h3_b:\n",
    "    a = pm.Normal('a',1,1)\n",
    "    bf = pm.Normal('bf',0,1) \n",
    "    bmp = pm.Normal('bmp', 0,1)\n",
    "    bfmp = pm.Normal('bfmp',0,1)\n",
    "    alpha = pm.Exponential(\"alpha\", 1)\n",
    "    femty = pm.MutableData('femty', hurricanes_data['femininity_std'], dims=\"obs_id\")\n",
    "    mpstd = pm.MutableData('mpstd', hurricanes_data['min_pressure_std'], dims=\"obs_id\")\n",
    "    p = pm.Deterministic(\"p\", pm.math.exp(a + \n",
    "                                          bf*femty + \n",
    "                                          bmp*mpstd+  \n",
    "                                          bfmp*femty*mpstd\n",
    "                                         )\n",
    "                        )\n",
    "    deaths = pm.NegativeBinomial('deaths',mu=p,alpha=alpha, observed=hurricanes_data['deaths'])\n",
    "    m_12h3_b_trace = pm.sample(idata_kwargs={\"log_likelihood\": True})"
   ]
  },
  {
   "cell_type": "code",
   "execution_count": 27,
   "id": "c6d9fea0-f14b-4a19-8520-9805c67de76f",
   "metadata": {},
   "outputs": [
    {
     "data": {
      "text/html": [
       "<div>\n",
       "<style scoped>\n",
       "    .dataframe tbody tr th:only-of-type {\n",
       "        vertical-align: middle;\n",
       "    }\n",
       "\n",
       "    .dataframe tbody tr th {\n",
       "        vertical-align: top;\n",
       "    }\n",
       "\n",
       "    .dataframe thead th {\n",
       "        text-align: right;\n",
       "    }\n",
       "</style>\n",
       "<table border=\"1\" class=\"dataframe\">\n",
       "  <thead>\n",
       "    <tr style=\"text-align: right;\">\n",
       "      <th></th>\n",
       "      <th>mean</th>\n",
       "      <th>sd</th>\n",
       "      <th>hdi_3%</th>\n",
       "      <th>hdi_97%</th>\n",
       "      <th>mcse_mean</th>\n",
       "      <th>mcse_sd</th>\n",
       "      <th>ess_bulk</th>\n",
       "      <th>ess_tail</th>\n",
       "      <th>r_hat</th>\n",
       "    </tr>\n",
       "  </thead>\n",
       "  <tbody>\n",
       "    <tr>\n",
       "      <th>a</th>\n",
       "      <td>2.751</td>\n",
       "      <td>0.142</td>\n",
       "      <td>2.490</td>\n",
       "      <td>3.020</td>\n",
       "      <td>0.002</td>\n",
       "      <td>0.001</td>\n",
       "      <td>4778.0</td>\n",
       "      <td>3091.0</td>\n",
       "      <td>1.0</td>\n",
       "    </tr>\n",
       "    <tr>\n",
       "      <th>bf</th>\n",
       "      <td>0.299</td>\n",
       "      <td>0.143</td>\n",
       "      <td>0.045</td>\n",
       "      <td>0.582</td>\n",
       "      <td>0.002</td>\n",
       "      <td>0.002</td>\n",
       "      <td>4410.0</td>\n",
       "      <td>3139.0</td>\n",
       "      <td>1.0</td>\n",
       "    </tr>\n",
       "    <tr>\n",
       "      <th>bmp</th>\n",
       "      <td>-0.673</td>\n",
       "      <td>0.138</td>\n",
       "      <td>-0.932</td>\n",
       "      <td>-0.424</td>\n",
       "      <td>0.002</td>\n",
       "      <td>0.001</td>\n",
       "      <td>4251.0</td>\n",
       "      <td>3328.0</td>\n",
       "      <td>1.0</td>\n",
       "    </tr>\n",
       "    <tr>\n",
       "      <th>bfmp</th>\n",
       "      <td>0.302</td>\n",
       "      <td>0.146</td>\n",
       "      <td>0.050</td>\n",
       "      <td>0.594</td>\n",
       "      <td>0.002</td>\n",
       "      <td>0.002</td>\n",
       "      <td>3819.0</td>\n",
       "      <td>2995.0</td>\n",
       "      <td>1.0</td>\n",
       "    </tr>\n",
       "  </tbody>\n",
       "</table>\n",
       "</div>"
      ],
      "text/plain": [
       "       mean     sd  hdi_3%  hdi_97%  mcse_mean  mcse_sd  ess_bulk  ess_tail  \\\n",
       "a     2.751  0.142   2.490    3.020      0.002    0.001    4778.0    3091.0   \n",
       "bf    0.299  0.143   0.045    0.582      0.002    0.002    4410.0    3139.0   \n",
       "bmp  -0.673  0.138  -0.932   -0.424      0.002    0.001    4251.0    3328.0   \n",
       "bfmp  0.302  0.146   0.050    0.594      0.002    0.002    3819.0    2995.0   \n",
       "\n",
       "      r_hat  \n",
       "a       1.0  \n",
       "bf      1.0  \n",
       "bmp     1.0  \n",
       "bfmp    1.0  "
      ]
     },
     "execution_count": 27,
     "metadata": {},
     "output_type": "execute_result"
    }
   ],
   "source": [
    "az.summary(m_12h3_b_trace, var_names=['a','bf','bmp','bfmp'])"
   ]
  },
  {
   "cell_type": "markdown",
   "id": "688381de-2e2b-4820-9e3e-7dea39ddc85a",
   "metadata": {},
   "source": [
    "With min_pressure, feminity has a strong associated with deaths, and there is an interaction.  The min_pressure relationship is strongly negative, which makes sense since lower values indicate stronger storms."
   ]
  },
  {
   "cell_type": "code",
   "execution_count": 28,
   "id": "3621d05d-b5de-4785-8e6b-18f87a16926b",
   "metadata": {},
   "outputs": [
    {
     "name": "stderr",
     "output_type": "stream",
     "text": [
      "Sampling: [deaths]\n"
     ]
    },
    {
     "data": {
      "text/html": [
       "\n",
       "<style>\n",
       "    /* Turns off some styling */\n",
       "    progress {\n",
       "        /* gets rid of default border in Firefox and Opera. */\n",
       "        border: none;\n",
       "        /* Needs to be in here for Safari polyfill so background images work as expected. */\n",
       "        background-size: auto;\n",
       "    }\n",
       "    progress:not([value]), progress:not([value])::-webkit-progress-bar {\n",
       "        background: repeating-linear-gradient(45deg, #7e7e7e, #7e7e7e 10px, #5c5c5c 10px, #5c5c5c 20px);\n",
       "    }\n",
       "    .progress-bar-interrupted, .progress-bar-interrupted::-webkit-progress-bar {\n",
       "        background: #F44336;\n",
       "    }\n",
       "</style>\n"
      ],
      "text/plain": [
       "<IPython.core.display.HTML object>"
      ]
     },
     "metadata": {},
     "output_type": "display_data"
    },
    {
     "data": {
      "text/html": [
       "\n",
       "    <div>\n",
       "      <progress value='4000' class='' max='4000' style='width:300px; height:20px; vertical-align: middle;'></progress>\n",
       "      100.00% [4000/4000 00:00&lt;00:00]\n",
       "    </div>\n",
       "    "
      ],
      "text/plain": [
       "<IPython.core.display.HTML object>"
      ]
     },
     "metadata": {},
     "output_type": "display_data"
    },
    {
     "name": "stderr",
     "output_type": "stream",
     "text": [
      "Sampling: [deaths]\n"
     ]
    },
    {
     "data": {
      "text/html": [
       "\n",
       "<style>\n",
       "    /* Turns off some styling */\n",
       "    progress {\n",
       "        /* gets rid of default border in Firefox and Opera. */\n",
       "        border: none;\n",
       "        /* Needs to be in here for Safari polyfill so background images work as expected. */\n",
       "        background-size: auto;\n",
       "    }\n",
       "    progress:not([value]), progress:not([value])::-webkit-progress-bar {\n",
       "        background: repeating-linear-gradient(45deg, #7e7e7e, #7e7e7e 10px, #5c5c5c 10px, #5c5c5c 20px);\n",
       "    }\n",
       "    .progress-bar-interrupted, .progress-bar-interrupted::-webkit-progress-bar {\n",
       "        background: #F44336;\n",
       "    }\n",
       "</style>\n"
      ],
      "text/plain": [
       "<IPython.core.display.HTML object>"
      ]
     },
     "metadata": {},
     "output_type": "display_data"
    },
    {
     "data": {
      "text/html": [
       "\n",
       "    <div>\n",
       "      <progress value='4000' class='' max='4000' style='width:300px; height:20px; vertical-align: middle;'></progress>\n",
       "      100.00% [4000/4000 00:00&lt;00:00]\n",
       "    </div>\n",
       "    "
      ],
      "text/plain": [
       "<IPython.core.display.HTML object>"
      ]
     },
     "metadata": {},
     "output_type": "display_data"
    }
   ],
   "source": [
    "mpseq = np.linspace(-3,2,hurricanes_data.shape[0])\n",
    "with m_12h3_b:\n",
    "    pm.set_data({'femty':np.full(hurricanes_data.shape[0], 1), 'mpstd':mpseq})\n",
    "    fem_post_pred = pm.sample_posterior_predictive(m_12h3_b_trace,\n",
    "                                                   return_inferencedata=True,\n",
    "                                                   predictions=True)\n",
    "\n",
    "with m_12h3_b:\n",
    "    pm.set_data({'femty':np.full(hurricanes_data.shape[0], -1), 'mpstd':mpseq})\n",
    "    masc_post_pred = pm.sample_posterior_predictive(m_12h3_b_trace,\n",
    "                                                   return_inferencedata=True,\n",
    "                                                   predictions=True)"
   ]
  },
  {
   "cell_type": "code",
   "execution_count": 29,
   "id": "d0089a4c-4221-4df6-9424-e8dd6f835479",
   "metadata": {},
   "outputs": [
    {
     "data": {
      "image/png": "[encoded data removed]",
      "text/plain": [
       "<Figure size 1500x1000 with 1 Axes>"
      ]
     },
     "metadata": {},
     "output_type": "display_data"
    }
   ],
   "source": [
    "point_colors = hurricanes_data['female'].apply(lambda x: 'red' if x == 1 else 'blue')\n",
    "plt.figure(figsize=(15,10))\n",
    "ax = az.plot_hdi(mpseq,fem_post_pred['predictions']['deaths'], color='red',fill_kwargs={\"alpha\": 0.2})\n",
    "\n",
    "ax.plot(mpseq,fem_post_pred['predictions']['deaths'].mean(['chain','draw']).values, color = 'red', label = 'Feminine')\n",
    "\n",
    "az.plot_hdi(mpseq,masc_post_pred['predictions']['deaths'], color='blue',fill_kwargs={\"alpha\": 0.2}, ax=ax)\n",
    "ax.plot(mpseq,masc_post_pred['predictions']['deaths'].mean(['chain','draw']).values, color = 'blue', label = 'Masculine')\n",
    "ax.scatter(hurricanes_data['min_pressure_std'],hurricanes_data['deaths'], color = point_colors)\n",
    "plt.ylim(-10,300)\n",
    "plt.ylabel('Deaths')\n",
    "plt.xlabel('Min Pressure')\n",
    "plt.show()"
   ]
  },
  {
   "cell_type": "markdown",
   "id": "97a1f8f9-cfe6-44c8-8641-5f9ff246b847",
   "metadata": {},
   "source": [
    "The feminine versus masculine trend seems to reverse itself in this.  However, this might be because of the weaker storms with a high number of deathers (on the right hand side) pulling the feminine trend upwards."
   ]
  },
  {
   "cell_type": "markdown",
   "id": "c7a2e662-adff-45f1-bb16-182d52bdd35a",
   "metadata": {},
   "source": [
    "#12H4. \n",
    "In the original hurricanes paper, storm damage (damage_norm) was used directly. This assumption implies that mortality increases exponentially with a linear increase in storm strength, because a Poisson regression uses a log link. So it’s worth exploring an alternative hypothesis: that the\n",
    "logarithm of storm strength is what matters. Explore this by using the logarithm of damage_norm as\n",
    "a predictor. Using the best model structure from the previous problem, compare a model that uses\n",
    "log(damage_norm) to a model that uses damage_norm directly. Compare their PSIS/WAIC values\n",
    "as well as their implied predictions. What do you conclude?"
   ]
  },
  {
   "cell_type": "code",
   "execution_count": 30,
   "id": "bb6070a4-2645-4845-9819-ff996648e755",
   "metadata": {},
   "outputs": [],
   "source": [
    "hurricanes_data['damage_norm_log_std'] = normalize(np.log(hurricanes_data['damage_norm']))"
   ]
  },
  {
   "cell_type": "code",
   "execution_count": 31,
   "id": "860fb8f3-1d51-465a-83b5-c031c53f21ec",
   "metadata": {},
   "outputs": [
    {
     "name": "stderr",
     "output_type": "stream",
     "text": [
      "Auto-assigning NUTS sampler...\n",
      "Initializing NUTS using jitter+adapt_diag...\n",
      "Multiprocess sampling (4 chains in 4 jobs)\n",
      "NUTS: [a, bf, bdn, bfdn, alpha]\n"
     ]
    },
    {
     "data": {
      "text/html": [
       "\n",
       "<style>\n",
       "    /* Turns off some styling */\n",
       "    progress {\n",
       "        /* gets rid of default border in Firefox and Opera. */\n",
       "        border: none;\n",
       "        /* Needs to be in here for Safari polyfill so background images work as expected. */\n",
       "        background-size: auto;\n",
       "    }\n",
       "    progress:not([value]), progress:not([value])::-webkit-progress-bar {\n",
       "        background: repeating-linear-gradient(45deg, #7e7e7e, #7e7e7e 10px, #5c5c5c 10px, #5c5c5c 20px);\n",
       "    }\n",
       "    .progress-bar-interrupted, .progress-bar-interrupted::-webkit-progress-bar {\n",
       "        background: #F44336;\n",
       "    }\n",
       "</style>\n"
      ],
      "text/plain": [
       "<IPython.core.display.HTML object>"
      ]
     },
     "metadata": {},
     "output_type": "display_data"
    },
    {
     "data": {
      "text/html": [
       "\n",
       "    <div>\n",
       "      <progress value='8000' class='' max='8000' style='width:300px; height:20px; vertical-align: middle;'></progress>\n",
       "      100.00% [8000/8000 00:06&lt;00:00 Sampling 4 chains, 0 divergences]\n",
       "    </div>\n",
       "    "
      ],
      "text/plain": [
       "<IPython.core.display.HTML object>"
      ]
     },
     "metadata": {},
     "output_type": "display_data"
    },
    {
     "name": "stderr",
     "output_type": "stream",
     "text": [
      "Sampling 4 chains for 1_000 tune and 1_000 draw iterations (4_000 + 4_000 draws total) took 19 seconds.\n"
     ]
    }
   ],
   "source": [
    "with pm.Model() as m_12h4:\n",
    "    a = pm.Normal('a',0,1)\n",
    "    bf = pm.Normal('bf',0,1) \n",
    "    bdn = pm.Normal('bdn', 0,1)\n",
    "    bfdn = pm.Normal('bfdn',0,1)\n",
    "    alpha = pm.Exponential(\"alpha\", 1)\n",
    "    femty = pm.MutableData('femty', hurricanes_data['femininity_std'], dims=\"obs_id\")\n",
    "    dnlstd = pm.MutableData('dnlstd', hurricanes_data['damage_norm_log_std'], dims=\"obs_id\")\n",
    "    p = pm.Deterministic(\"p\", pm.math.exp(a + \n",
    "                                          bf*femty + \n",
    "                                          bdn*dnlstd+  \n",
    "                                          bfdn*femty*dnlstd\n",
    "                                         )\n",
    "                        )\n",
    "    deaths = pm.NegativeBinomial('deaths',mu=p,alpha=alpha, observed=hurricanes_data['deaths'])\n",
    "    m_12h4_trace = pm.sample(idata_kwargs={\"log_likelihood\": True})"
   ]
  },
  {
   "cell_type": "code",
   "execution_count": 32,
   "id": "3277cc32-02f7-4353-9b9b-b24325baa813",
   "metadata": {},
   "outputs": [
    {
     "name": "stderr",
     "output_type": "stream",
     "text": [
      "d:\\Python\\venv\\pymc_env\\lib\\site-packages\\arviz\\stats\\stats.py:803: UserWarning: Estimated shape parameter of Pareto distribution is greater than 0.7 for one or more samples. You should consider using a more robust model, this is because importance sampling is less likely to work well if the marginal posterior and LOO posterior are very different. This is more likely to happen with a non-robust model and highly influential observations.\n",
      "  warnings.warn(\n",
      "d:\\Python\\venv\\pymc_env\\lib\\site-packages\\arviz\\stats\\stats.py:803: UserWarning: Estimated shape parameter of Pareto distribution is greater than 0.7 for one or more samples. You should consider using a more robust model, this is because importance sampling is less likely to work well if the marginal posterior and LOO posterior are very different. This is more likely to happen with a non-robust model and highly influential observations.\n",
      "  warnings.warn(\n",
      "d:\\Python\\venv\\pymc_env\\lib\\site-packages\\arviz\\stats\\stats.py:307: FutureWarning: Setting an item of incompatible dtype is deprecated and will raise in a future error of pandas. Value 'False' has dtype incompatible with float64, please explicitly cast to a compatible dtype first.\n",
      "  df_comp.loc[val] = (\n",
      "d:\\Python\\venv\\pymc_env\\lib\\site-packages\\arviz\\stats\\stats.py:307: FutureWarning: Setting an item of incompatible dtype is deprecated and will raise in a future error of pandas. Value 'deviance' has dtype incompatible with float64, please explicitly cast to a compatible dtype first.\n",
      "  df_comp.loc[val] = (\n"
     ]
    },
    {
     "data": {
      "text/html": [
       "<div>\n",
       "<style scoped>\n",
       "    .dataframe tbody tr th:only-of-type {\n",
       "        vertical-align: middle;\n",
       "    }\n",
       "\n",
       "    .dataframe tbody tr th {\n",
       "        vertical-align: top;\n",
       "    }\n",
       "\n",
       "    .dataframe thead th {\n",
       "        text-align: right;\n",
       "    }\n",
       "</style>\n",
       "<table border=\"1\" class=\"dataframe\">\n",
       "  <thead>\n",
       "    <tr style=\"text-align: right;\">\n",
       "      <th></th>\n",
       "      <th>rank</th>\n",
       "      <th>elpd_loo</th>\n",
       "      <th>p_loo</th>\n",
       "      <th>elpd_diff</th>\n",
       "      <th>weight</th>\n",
       "      <th>se</th>\n",
       "      <th>dse</th>\n",
       "      <th>warning</th>\n",
       "      <th>scale</th>\n",
       "    </tr>\n",
       "  </thead>\n",
       "  <tbody>\n",
       "    <tr>\n",
       "      <th>Gamma-Poisson</th>\n",
       "      <td>0</td>\n",
       "      <td>710.553070</td>\n",
       "      <td>3.799551</td>\n",
       "      <td>0.000000</td>\n",
       "      <td>1.000000e+00</td>\n",
       "      <td>34.601964</td>\n",
       "      <td>0.000000</td>\n",
       "      <td>False</td>\n",
       "      <td>deviance</td>\n",
       "    </tr>\n",
       "    <tr>\n",
       "      <th>Femininity</th>\n",
       "      <td>1</td>\n",
       "      <td>4381.338136</td>\n",
       "      <td>117.070452</td>\n",
       "      <td>3670.785066</td>\n",
       "      <td>0.000000e+00</td>\n",
       "      <td>981.771979</td>\n",
       "      <td>957.863894</td>\n",
       "      <td>True</td>\n",
       "      <td>deviance</td>\n",
       "    </tr>\n",
       "    <tr>\n",
       "      <th>Intercept_Only</th>\n",
       "      <td>2</td>\n",
       "      <td>4421.967455</td>\n",
       "      <td>67.298006</td>\n",
       "      <td>3711.414385</td>\n",
       "      <td>6.369685e-10</td>\n",
       "      <td>1062.541041</td>\n",
       "      <td>1039.184911</td>\n",
       "      <td>True</td>\n",
       "      <td>deviance</td>\n",
       "    </tr>\n",
       "  </tbody>\n",
       "</table>\n",
       "</div>"
      ],
      "text/plain": [
       "                rank     elpd_loo       p_loo    elpd_diff        weight  \\\n",
       "Gamma-Poisson      0   710.553070    3.799551     0.000000  1.000000e+00   \n",
       "Femininity         1  4381.338136  117.070452  3670.785066  0.000000e+00   \n",
       "Intercept_Only     2  4421.967455   67.298006  3711.414385  6.369685e-10   \n",
       "\n",
       "                         se          dse  warning     scale  \n",
       "Gamma-Poisson     34.601964     0.000000    False  deviance  \n",
       "Femininity       981.771979   957.863894     True  deviance  \n",
       "Intercept_Only  1062.541041  1039.184911     True  deviance  "
      ]
     },
     "execution_count": 32,
     "metadata": {},
     "output_type": "execute_result"
    }
   ],
   "source": [
    "compare_12h4 = {\n",
    "    \"Damage Norm\": m_12h3_a_trace, \n",
    "    \"Damange Norm Log\": m_12h4_trace}\n",
    "az.compare(compare_12h2, ic='loo',scale='deviance')"
   ]
  },
  {
   "cell_type": "code",
   "execution_count": 33,
   "id": "f964426d-4eba-49a4-b91c-c40700db57a1",
   "metadata": {},
   "outputs": [
    {
     "data": {
      "text/plain": [
       "array([<Axes: title={'center': '94.0% HDI'}>], dtype=object)"
      ]
     },
     "execution_count": 33,
     "metadata": {},
     "output_type": "execute_result"
    },
    {
     "data": {
      "image/png": "[encoded data removed]",
      "text/plain": [
       "<Figure size 600x1180 with 1 Axes>"
      ]
     },
     "metadata": {},
     "output_type": "display_data"
    }
   ],
   "source": [
    "az.plot_forest([m_12h3_a_trace,m_12h4_trace], model_names=['Damage Norm', 'Damage Norm Log'],var_names=['a','bf','bdn','bfdn'], combined=True)"
   ]
  },
  {
   "cell_type": "markdown",
   "id": "504a40f1-401d-414d-80dd-2e1f3f2ff692",
   "metadata": {},
   "source": [
    "The log model is performing better than just the Damage Norm, but it does look like the interval for each coeffient has grown as well. But all of the coeffiients do overlap to a large degree"
   ]
  },
  {
   "cell_type": "code",
   "execution_count": 34,
   "id": "fb8b1ddc-300d-4906-9b94-e06a5b3f5412",
   "metadata": {},
   "outputs": [
    {
     "name": "stderr",
     "output_type": "stream",
     "text": [
      "Sampling: [deaths]\n"
     ]
    },
    {
     "data": {
      "text/html": [
       "\n",
       "<style>\n",
       "    /* Turns off some styling */\n",
       "    progress {\n",
       "        /* gets rid of default border in Firefox and Opera. */\n",
       "        border: none;\n",
       "        /* Needs to be in here for Safari polyfill so background images work as expected. */\n",
       "        background-size: auto;\n",
       "    }\n",
       "    progress:not([value]), progress:not([value])::-webkit-progress-bar {\n",
       "        background: repeating-linear-gradient(45deg, #7e7e7e, #7e7e7e 10px, #5c5c5c 10px, #5c5c5c 20px);\n",
       "    }\n",
       "    .progress-bar-interrupted, .progress-bar-interrupted::-webkit-progress-bar {\n",
       "        background: #F44336;\n",
       "    }\n",
       "</style>\n"
      ],
      "text/plain": [
       "<IPython.core.display.HTML object>"
      ]
     },
     "metadata": {},
     "output_type": "display_data"
    },
    {
     "data": {
      "text/html": [
       "\n",
       "    <div>\n",
       "      <progress value='4000' class='' max='4000' style='width:300px; height:20px; vertical-align: middle;'></progress>\n",
       "      100.00% [4000/4000 00:00&lt;00:00]\n",
       "    </div>\n",
       "    "
      ],
      "text/plain": [
       "<IPython.core.display.HTML object>"
      ]
     },
     "metadata": {},
     "output_type": "display_data"
    },
    {
     "name": "stderr",
     "output_type": "stream",
     "text": [
      "Sampling: [deaths]\n"
     ]
    },
    {
     "data": {
      "text/html": [
       "\n",
       "<style>\n",
       "    /* Turns off some styling */\n",
       "    progress {\n",
       "        /* gets rid of default border in Firefox and Opera. */\n",
       "        border: none;\n",
       "        /* Needs to be in here for Safari polyfill so background images work as expected. */\n",
       "        background-size: auto;\n",
       "    }\n",
       "    progress:not([value]), progress:not([value])::-webkit-progress-bar {\n",
       "        background: repeating-linear-gradient(45deg, #7e7e7e, #7e7e7e 10px, #5c5c5c 10px, #5c5c5c 20px);\n",
       "    }\n",
       "    .progress-bar-interrupted, .progress-bar-interrupted::-webkit-progress-bar {\n",
       "        background: #F44336;\n",
       "    }\n",
       "</style>\n"
      ],
      "text/plain": [
       "<IPython.core.display.HTML object>"
      ]
     },
     "metadata": {},
     "output_type": "display_data"
    },
    {
     "data": {
      "text/html": [
       "\n",
       "    <div>\n",
       "      <progress value='4000' class='' max='4000' style='width:300px; height:20px; vertical-align: middle;'></progress>\n",
       "      100.00% [4000/4000 00:00&lt;00:00]\n",
       "    </div>\n",
       "    "
      ],
      "text/plain": [
       "<IPython.core.display.HTML object>"
      ]
     },
     "metadata": {},
     "output_type": "display_data"
    }
   ],
   "source": [
    "dnseq = np.linspace(-3,2,hurricanes_data.shape[0])\n",
    "with m_12h4:\n",
    "    pm.set_data({'femty':np.full(hurricanes_data.shape[0], 1), 'dnlstd':dnseq})\n",
    "    fem_post_pred = pm.sample_posterior_predictive(m_12h4_trace,\n",
    "                                                   return_inferencedata=True,\n",
    "                                                   predictions=True)\n",
    "\n",
    "with m_12h4:\n",
    "    pm.set_data({'femty':np.full(hurricanes_data.shape[0], -1), 'dnlstd':dnseq})\n",
    "    masc_post_pred = pm.sample_posterior_predictive(m_12h4_trace,\n",
    "                                                   return_inferencedata=True,\n",
    "                                                   predictions=True)"
   ]
  },
  {
   "cell_type": "code",
   "execution_count": 35,
   "id": "ca96ecc2-c5f2-46b1-8e6b-ce482bf10096",
   "metadata": {},
   "outputs": [
    {
     "data": {
      "image/png": "[encoded data removed]",
      "text/plain": [
       "<Figure size 1500x1000 with 1 Axes>"
      ]
     },
     "metadata": {},
     "output_type": "display_data"
    }
   ],
   "source": [
    "point_colors = hurricanes_data['female'].apply(lambda x: 'red' if x == 1 else 'blue')\n",
    "plt.figure(figsize=(15,10))\n",
    "ax = az.plot_hdi(dnseq,fem_post_pred['predictions']['deaths'], color='red',fill_kwargs={\"alpha\": 0.2})\n",
    "\n",
    "ax.plot(dnseq,fem_post_pred['predictions']['deaths'].mean(['chain','draw']).values, color = 'red', label = 'Feminine')\n",
    "\n",
    "az.plot_hdi(dnseq,masc_post_pred['predictions']['deaths'], color='blue',fill_kwargs={\"alpha\": 0.2}, ax=ax)\n",
    "ax.plot(dnseq,masc_post_pred['predictions']['deaths'].mean(['chain','draw']).values, color = 'blue', label = 'Masculine')\n",
    "ax.scatter(hurricanes_data['damage_norm_log_std'],hurricanes_data['deaths'], color = point_colors)\n",
    "plt.ylim(-10,300)\n",
    "plt.ylabel('Deaths')\n",
    "plt.xlabel('Log Damage Norm Std')\n",
    "plt.show()"
   ]
  },
  {
   "cell_type": "markdown",
   "id": "4af3ccfd-20ea-4b9e-ad04-53754bc62266",
   "metadata": {},
   "source": [
    "Now it looks like the model fits the data a lot better.  It still looks like a few extreme values (where the deaths > 100) are pulling the feminine trend higher faster on the right hand side."
   ]
  },
  {
   "cell_type": "code",
   "execution_count": 36,
   "id": "4e773981-e71c-445d-ac01-cc856ad5dfda",
   "metadata": {},
   "outputs": [
    {
     "name": "stderr",
     "output_type": "stream",
     "text": [
      "Auto-assigning NUTS sampler...\n",
      "Initializing NUTS using jitter+adapt_diag...\n",
      "Multiprocess sampling (4 chains in 4 jobs)\n",
      "NUTS: [a, bf, bdn, bfdn, alpha]\n"
     ]
    },
    {
     "data": {
      "text/html": [
       "\n",
       "<style>\n",
       "    /* Turns off some styling */\n",
       "    progress {\n",
       "        /* gets rid of default border in Firefox and Opera. */\n",
       "        border: none;\n",
       "        /* Needs to be in here for Safari polyfill so background images work as expected. */\n",
       "        background-size: auto;\n",
       "    }\n",
       "    progress:not([value]), progress:not([value])::-webkit-progress-bar {\n",
       "        background: repeating-linear-gradient(45deg, #7e7e7e, #7e7e7e 10px, #5c5c5c 10px, #5c5c5c 20px);\n",
       "    }\n",
       "    .progress-bar-interrupted, .progress-bar-interrupted::-webkit-progress-bar {\n",
       "        background: #F44336;\n",
       "    }\n",
       "</style>\n"
      ],
      "text/plain": [
       "<IPython.core.display.HTML object>"
      ]
     },
     "metadata": {},
     "output_type": "display_data"
    },
    {
     "data": {
      "text/html": [
       "\n",
       "    <div>\n",
       "      <progress value='8000' class='' max='8000' style='width:300px; height:20px; vertical-align: middle;'></progress>\n",
       "      100.00% [8000/8000 00:06&lt;00:00 Sampling 4 chains, 0 divergences]\n",
       "    </div>\n",
       "    "
      ],
      "text/plain": [
       "<IPython.core.display.HTML object>"
      ]
     },
     "metadata": {},
     "output_type": "display_data"
    },
    {
     "name": "stderr",
     "output_type": "stream",
     "text": [
      "Sampling 4 chains for 1_000 tune and 1_000 draw iterations (4_000 + 4_000 draws total) took 18 seconds.\n"
     ]
    }
   ],
   "source": [
    "#one of the things that looks odd to me are the intervals with the Gamma-Poisson models.  They are just incredibly wide and I couldn't\n",
    "#figure out if this is just the way things because of the data, or if there's a bug in how the intervals are being calculated.  \n",
    "# Trying a regular poisson just for the sake of it.\n",
    "with pm.Model() as m_12h4_p:\n",
    "    a = pm.Normal('a',0,1)\n",
    "    bf = pm.Normal('bf',0,1) \n",
    "    bdn = pm.Normal('bdn', 0,1)\n",
    "    bfdn = pm.Normal('bfdn',0,1)\n",
    "    alpha = pm.Exponential(\"alpha\", 1)\n",
    "    femty = pm.MutableData('femty', hurricanes_data['femininity_std'], dims=\"obs_id\")\n",
    "    dnlstd = pm.MutableData('dnlstd', hurricanes_data['damage_norm_log_std'], dims=\"obs_id\")\n",
    "    p = pm.Deterministic(\"p\", pm.math.exp(a + \n",
    "                                          bf*femty + \n",
    "                                          bdn*dnlstd+  \n",
    "                                          bfdn*femty*dnlstd\n",
    "                                         )\n",
    "                        )\n",
    "    deaths = pm.Poisson('deaths',mu=p, observed=hurricanes_data['deaths'])\n",
    "    m_12h4_p_trace = pm.sample(idata_kwargs={\"log_likelihood\": True})"
   ]
  },
  {
   "cell_type": "code",
   "execution_count": 37,
   "id": "4790051e-9277-4084-8dd9-2fe1d769ed12",
   "metadata": {},
   "outputs": [
    {
     "name": "stderr",
     "output_type": "stream",
     "text": [
      "Sampling: [deaths]\n"
     ]
    },
    {
     "data": {
      "text/html": [
       "\n",
       "<style>\n",
       "    /* Turns off some styling */\n",
       "    progress {\n",
       "        /* gets rid of default border in Firefox and Opera. */\n",
       "        border: none;\n",
       "        /* Needs to be in here for Safari polyfill so background images work as expected. */\n",
       "        background-size: auto;\n",
       "    }\n",
       "    progress:not([value]), progress:not([value])::-webkit-progress-bar {\n",
       "        background: repeating-linear-gradient(45deg, #7e7e7e, #7e7e7e 10px, #5c5c5c 10px, #5c5c5c 20px);\n",
       "    }\n",
       "    .progress-bar-interrupted, .progress-bar-interrupted::-webkit-progress-bar {\n",
       "        background: #F44336;\n",
       "    }\n",
       "</style>\n"
      ],
      "text/plain": [
       "<IPython.core.display.HTML object>"
      ]
     },
     "metadata": {},
     "output_type": "display_data"
    },
    {
     "data": {
      "text/html": [
       "\n",
       "    <div>\n",
       "      <progress value='4000' class='' max='4000' style='width:300px; height:20px; vertical-align: middle;'></progress>\n",
       "      100.00% [4000/4000 00:00&lt;00:00]\n",
       "    </div>\n",
       "    "
      ],
      "text/plain": [
       "<IPython.core.display.HTML object>"
      ]
     },
     "metadata": {},
     "output_type": "display_data"
    },
    {
     "name": "stderr",
     "output_type": "stream",
     "text": [
      "Sampling: [deaths]\n"
     ]
    },
    {
     "data": {
      "text/html": [
       "\n",
       "<style>\n",
       "    /* Turns off some styling */\n",
       "    progress {\n",
       "        /* gets rid of default border in Firefox and Opera. */\n",
       "        border: none;\n",
       "        /* Needs to be in here for Safari polyfill so background images work as expected. */\n",
       "        background-size: auto;\n",
       "    }\n",
       "    progress:not([value]), progress:not([value])::-webkit-progress-bar {\n",
       "        background: repeating-linear-gradient(45deg, #7e7e7e, #7e7e7e 10px, #5c5c5c 10px, #5c5c5c 20px);\n",
       "    }\n",
       "    .progress-bar-interrupted, .progress-bar-interrupted::-webkit-progress-bar {\n",
       "        background: #F44336;\n",
       "    }\n",
       "</style>\n"
      ],
      "text/plain": [
       "<IPython.core.display.HTML object>"
      ]
     },
     "metadata": {},
     "output_type": "display_data"
    },
    {
     "data": {
      "text/html": [
       "\n",
       "    <div>\n",
       "      <progress value='4000' class='' max='4000' style='width:300px; height:20px; vertical-align: middle;'></progress>\n",
       "      100.00% [4000/4000 00:00&lt;00:00]\n",
       "    </div>\n",
       "    "
      ],
      "text/plain": [
       "<IPython.core.display.HTML object>"
      ]
     },
     "metadata": {},
     "output_type": "display_data"
    }
   ],
   "source": [
    "dnseq = np.linspace(-3,2,hurricanes_data.shape[0])\n",
    "with m_12h4_p:\n",
    "    pm.set_data({'femty':np.full(hurricanes_data.shape[0], 1), 'dnlstd':dnseq})\n",
    "    fem_post_pred = pm.sample_posterior_predictive(m_12h4_p_trace,\n",
    "                                                   return_inferencedata=True,\n",
    "                                                   predictions=True)\n",
    "\n",
    "with m_12h4_p:\n",
    "    pm.set_data({'femty':np.full(hurricanes_data.shape[0], -1), 'dnlstd':dnseq})\n",
    "    masc_post_pred = pm.sample_posterior_predictive(m_12h4_p_trace,\n",
    "                                                   return_inferencedata=True,\n",
    "                                                   predictions=True)"
   ]
  },
  {
   "cell_type": "code",
   "execution_count": 38,
   "id": "6f8daa4c-56d7-422a-b4c6-4ee3cd122d77",
   "metadata": {},
   "outputs": [
    {
     "data": {
      "image/png": "[encoded data removed]",
      "text/plain": [
       "<Figure size 1500x1000 with 1 Axes>"
      ]
     },
     "metadata": {},
     "output_type": "display_data"
    }
   ],
   "source": [
    "point_colors = hurricanes_data['female'].apply(lambda x: 'red' if x == 1 else 'blue')\n",
    "plt.figure(figsize=(15,10))\n",
    "ax = az.plot_hdi(dnseq,fem_post_pred['predictions']['deaths'], color='red',fill_kwargs={\"alpha\": 0.2})\n",
    "\n",
    "ax.plot(dnseq,fem_post_pred['predictions']['deaths'].mean(['chain','draw']).values, color = 'red', label = 'Feminine')\n",
    "\n",
    "az.plot_hdi(dnseq,masc_post_pred['predictions']['deaths'], color='blue',fill_kwargs={\"alpha\": 0.2}, ax=ax)\n",
    "ax.plot(dnseq,masc_post_pred['predictions']['deaths'].mean(['chain','draw']).values, color = 'blue', label = 'Masculine')\n",
    "ax.scatter(hurricanes_data['damage_norm_log_std'],hurricanes_data['deaths'], color = point_colors)\n",
    "plt.ylim(-10,300)\n",
    "plt.ylabel('Deaths')\n",
    "plt.xlabel('Log Damage Norm Std')\n",
    "plt.show()"
   ]
  },
  {
   "cell_type": "markdown",
   "id": "2e5c5221-5be5-44ba-9f13-68e616f882f8",
   "metadata": {},
   "source": [
    "Moving to Poisson shrinks the intervals considerably."
   ]
  },
  {
   "cell_type": "markdown",
   "id": "9bf70921-c5f5-449c-bf72-d25c31c78719",
   "metadata": {},
   "source": [
    "# 12H5 Question\n",
    "\n",
    "One hypothesis from developmental psychology, usually attributed to Carol Gilligan, proposes that women and men have different average tendencies in moral reasoning. Like most hypotheses in social psychology, it is descriptive, not causal. The notion is that women are more concerned with care (avoiding harm), while men are more concerned with justice and rights. Evaluate this hypothesis, using the Trolley data, supposing that contact provides a proxy for physical harm. Are\n",
    "women more or less bothered by contact than are men, in these data? Figure out the model(s) that is\n",
    "needed to address this question."
   ]
  },
  {
   "cell_type": "code",
   "execution_count": 39,
   "id": "3ad3ab34-9ae8-42a5-b543-52d0a8031415",
   "metadata": {},
   "outputs": [
    {
     "data": {
      "text/html": [
       "<div>\n",
       "<style scoped>\n",
       "    .dataframe tbody tr th:only-of-type {\n",
       "        vertical-align: middle;\n",
       "    }\n",
       "\n",
       "    .dataframe tbody tr th {\n",
       "        vertical-align: top;\n",
       "    }\n",
       "\n",
       "    .dataframe thead th {\n",
       "        text-align: right;\n",
       "    }\n",
       "</style>\n",
       "<table border=\"1\" class=\"dataframe\">\n",
       "  <thead>\n",
       "    <tr style=\"text-align: right;\">\n",
       "      <th></th>\n",
       "      <th>case</th>\n",
       "      <th>response</th>\n",
       "      <th>order</th>\n",
       "      <th>id</th>\n",
       "      <th>age</th>\n",
       "      <th>male</th>\n",
       "      <th>edu</th>\n",
       "      <th>action</th>\n",
       "      <th>intention</th>\n",
       "      <th>contact</th>\n",
       "      <th>story</th>\n",
       "      <th>action2</th>\n",
       "    </tr>\n",
       "  </thead>\n",
       "  <tbody>\n",
       "    <tr>\n",
       "      <th>0</th>\n",
       "      <td>cfaqu</td>\n",
       "      <td>4</td>\n",
       "      <td>2</td>\n",
       "      <td>96;434</td>\n",
       "      <td>14</td>\n",
       "      <td>0</td>\n",
       "      <td>Middle School</td>\n",
       "      <td>0</td>\n",
       "      <td>0</td>\n",
       "      <td>1</td>\n",
       "      <td>aqu</td>\n",
       "      <td>1</td>\n",
       "    </tr>\n",
       "    <tr>\n",
       "      <th>1</th>\n",
       "      <td>cfbur</td>\n",
       "      <td>3</td>\n",
       "      <td>31</td>\n",
       "      <td>96;434</td>\n",
       "      <td>14</td>\n",
       "      <td>0</td>\n",
       "      <td>Middle School</td>\n",
       "      <td>0</td>\n",
       "      <td>0</td>\n",
       "      <td>1</td>\n",
       "      <td>bur</td>\n",
       "      <td>1</td>\n",
       "    </tr>\n",
       "    <tr>\n",
       "      <th>2</th>\n",
       "      <td>cfrub</td>\n",
       "      <td>4</td>\n",
       "      <td>16</td>\n",
       "      <td>96;434</td>\n",
       "      <td>14</td>\n",
       "      <td>0</td>\n",
       "      <td>Middle School</td>\n",
       "      <td>0</td>\n",
       "      <td>0</td>\n",
       "      <td>1</td>\n",
       "      <td>rub</td>\n",
       "      <td>1</td>\n",
       "    </tr>\n",
       "    <tr>\n",
       "      <th>3</th>\n",
       "      <td>cibox</td>\n",
       "      <td>3</td>\n",
       "      <td>32</td>\n",
       "      <td>96;434</td>\n",
       "      <td>14</td>\n",
       "      <td>0</td>\n",
       "      <td>Middle School</td>\n",
       "      <td>0</td>\n",
       "      <td>1</td>\n",
       "      <td>1</td>\n",
       "      <td>box</td>\n",
       "      <td>1</td>\n",
       "    </tr>\n",
       "    <tr>\n",
       "      <th>4</th>\n",
       "      <td>cibur</td>\n",
       "      <td>3</td>\n",
       "      <td>4</td>\n",
       "      <td>96;434</td>\n",
       "      <td>14</td>\n",
       "      <td>0</td>\n",
       "      <td>Middle School</td>\n",
       "      <td>0</td>\n",
       "      <td>1</td>\n",
       "      <td>1</td>\n",
       "      <td>bur</td>\n",
       "      <td>1</td>\n",
       "    </tr>\n",
       "  </tbody>\n",
       "</table>\n",
       "</div>"
      ],
      "text/plain": [
       "    case  response  order      id  age  male            edu  action  \\\n",
       "0  cfaqu         4      2  96;434   14     0  Middle School       0   \n",
       "1  cfbur         3     31  96;434   14     0  Middle School       0   \n",
       "2  cfrub         4     16  96;434   14     0  Middle School       0   \n",
       "3  cibox         3     32  96;434   14     0  Middle School       0   \n",
       "4  cibur         3      4  96;434   14     0  Middle School       0   \n",
       "\n",
       "   intention  contact story  action2  \n",
       "0          0        1   aqu        1  \n",
       "1          0        1   bur        1  \n",
       "2          0        1   rub        1  \n",
       "3          1        1   box        1  \n",
       "4          1        1   bur        1  "
      ]
     },
     "execution_count": 39,
     "metadata": {},
     "output_type": "execute_result"
    }
   ],
   "source": [
    "trolley_data = pd.read_csv('./data/Trolley.csv', sep = ';')\n",
    "trolley_data.head()"
   ]
  },
  {
   "cell_type": "code",
   "execution_count": 40,
   "id": "ad796719-d574-4703-95c4-fb4d463cfbc9",
   "metadata": {},
   "outputs": [
    {
     "name": "stderr",
     "output_type": "stream",
     "text": [
      "d:\\Python\\venv\\pymc_env\\lib\\site-packages\\pymc\\distributions\\transforms.py:56: FutureWarning: univariate_ordered has been deprecated, use ordered instead.\n",
      "  warnings.warn(f\"{name} has been deprecated, use ordered instead.\", FutureWarning)\n",
      "d:\\Python\\venv\\pymc_env\\lib\\site-packages\\pymc\\data.py:433: UserWarning: The `mutable` kwarg was not specified. Before v4.1.0 it defaulted to `pm.Data(mutable=True)`, which is equivalent to using `pm.MutableData()`. In v4.1.0 the default changed to `pm.Data(mutable=False)`, equivalent to `pm.ConstantData`. Use `pm.ConstantData`/`pm.MutableData` or pass `pm.Data(..., mutable=False/True)` to avoid this warning.\n",
      "  warnings.warn(\n",
      "Auto-assigning NUTS sampler...\n",
      "Initializing NUTS using jitter+adapt_diag...\n",
      "Multiprocess sampling (4 chains in 4 jobs)\n",
      "NUTS: [cutpoints, bA, bC, bI, bIA, bIC]\n"
     ]
    },
    {
     "data": {
      "text/html": [
       "\n",
       "<style>\n",
       "    /* Turns off some styling */\n",
       "    progress {\n",
       "        /* gets rid of default border in Firefox and Opera. */\n",
       "        border: none;\n",
       "        /* Needs to be in here for Safari polyfill so background images work as expected. */\n",
       "        background-size: auto;\n",
       "    }\n",
       "    progress:not([value]), progress:not([value])::-webkit-progress-bar {\n",
       "        background: repeating-linear-gradient(45deg, #7e7e7e, #7e7e7e 10px, #5c5c5c 10px, #5c5c5c 20px);\n",
       "    }\n",
       "    .progress-bar-interrupted, .progress-bar-interrupted::-webkit-progress-bar {\n",
       "        background: #F44336;\n",
       "    }\n",
       "</style>\n"
      ],
      "text/plain": [
       "<IPython.core.display.HTML object>"
      ]
     },
     "metadata": {},
     "output_type": "display_data"
    },
    {
     "data": {
      "text/html": [
       "\n",
       "    <div>\n",
       "      <progress value='8000' class='' max='8000' style='width:300px; height:20px; vertical-align: middle;'></progress>\n",
       "      100.00% [8000/8000 03:09&lt;00:00 Sampling 4 chains, 0 divergences]\n",
       "    </div>\n",
       "    "
      ],
      "text/plain": [
       "<IPython.core.display.HTML object>"
      ]
     },
     "metadata": {},
     "output_type": "display_data"
    },
    {
     "name": "stderr",
     "output_type": "stream",
     "text": [
      "Sampling 4 chains for 1_000 tune and 1_000 draw iterations (4_000 + 4_000 draws total) took 201 seconds.\n"
     ]
    }
   ],
   "source": [
    "trolley_data['response_adj'] = trolley_data['response'] - 1\n",
    "gid = trolley_data['male']\n",
    "\n",
    "with pm.Model() as m_12h5:\n",
    "    cutpoints = pm.Normal(\n",
    "        \"cutpoints\",\n",
    "        0.0,\n",
    "        1.5,\n",
    "        transform=pm.distributions.transforms.univariate_ordered,\n",
    "        shape=6,\n",
    "        initval=np.arange(6) - 2.5,\n",
    "    )\n",
    "    bA = pm.Normal(\"bA\", 0.0, 0.5)\n",
    "    bC = pm.Normal(\"bC\", 0.0, 0.5, shape=2)\n",
    "    bI = pm.Normal(\"bI\", 0.0, 0.5)\n",
    "    bIA = pm.Normal(\"bIA\", 0.0, 0.5)\n",
    "    bIC = pm.Normal(\"bIC\", 0.0, 0.5, shape=2)\n",
    "\n",
    "    Action = pm.Data(\"action\", trolley_data['action'])\n",
    "    Intention = pm.Data(\"intention\", trolley_data['intention'])\n",
    "    Contact = pm.Data(\"contact\", trolley_data['contact'])\n",
    "\n",
    "    BI = bI + bIA * Action + bIC[gid] * Contact\n",
    "    phi = pm.Deterministic(\"phi\", bA * Action + bC[gid] * Contact + BI * Intention)\n",
    "\n",
    "    resp_obs = pm.OrderedLogistic(\"resp_obs\", phi, cutpoints, observed=trolley_data['response_adj'])\n",
    "\n",
    "    m_12h5_trace = pm.sample()"
   ]
  },
  {
   "cell_type": "code",
   "execution_count": 41,
   "id": "fc027171-de47-4ce6-9832-9ea8668ee492",
   "metadata": {},
   "outputs": [
    {
     "data": {
      "text/html": [
       "<div>\n",
       "<style scoped>\n",
       "    .dataframe tbody tr th:only-of-type {\n",
       "        vertical-align: middle;\n",
       "    }\n",
       "\n",
       "    .dataframe tbody tr th {\n",
       "        vertical-align: top;\n",
       "    }\n",
       "\n",
       "    .dataframe thead th {\n",
       "        text-align: right;\n",
       "    }\n",
       "</style>\n",
       "<table border=\"1\" class=\"dataframe\">\n",
       "  <thead>\n",
       "    <tr style=\"text-align: right;\">\n",
       "      <th></th>\n",
       "      <th>mean</th>\n",
       "      <th>sd</th>\n",
       "      <th>hdi_3%</th>\n",
       "      <th>hdi_97%</th>\n",
       "      <th>mcse_mean</th>\n",
       "      <th>mcse_sd</th>\n",
       "      <th>ess_bulk</th>\n",
       "      <th>ess_tail</th>\n",
       "      <th>r_hat</th>\n",
       "    </tr>\n",
       "  </thead>\n",
       "  <tbody>\n",
       "    <tr>\n",
       "      <th>bIC[0]</th>\n",
       "      <td>-1.10</td>\n",
       "      <td>0.13</td>\n",
       "      <td>-1.34</td>\n",
       "      <td>-0.87</td>\n",
       "      <td>0.0</td>\n",
       "      <td>0.0</td>\n",
       "      <td>3724.50</td>\n",
       "      <td>3081.00</td>\n",
       "      <td>1.0</td>\n",
       "    </tr>\n",
       "    <tr>\n",
       "      <th>bIC[1]</th>\n",
       "      <td>-1.29</td>\n",
       "      <td>0.12</td>\n",
       "      <td>-1.52</td>\n",
       "      <td>-1.08</td>\n",
       "      <td>0.0</td>\n",
       "      <td>0.0</td>\n",
       "      <td>3382.89</td>\n",
       "      <td>3206.77</td>\n",
       "      <td>1.0</td>\n",
       "    </tr>\n",
       "    <tr>\n",
       "      <th>bIA</th>\n",
       "      <td>-0.43</td>\n",
       "      <td>0.08</td>\n",
       "      <td>-0.58</td>\n",
       "      <td>-0.28</td>\n",
       "      <td>0.0</td>\n",
       "      <td>0.0</td>\n",
       "      <td>3187.72</td>\n",
       "      <td>3360.19</td>\n",
       "      <td>1.0</td>\n",
       "    </tr>\n",
       "    <tr>\n",
       "      <th>bC[0]</th>\n",
       "      <td>-0.62</td>\n",
       "      <td>0.09</td>\n",
       "      <td>-0.78</td>\n",
       "      <td>-0.45</td>\n",
       "      <td>0.0</td>\n",
       "      <td>0.0</td>\n",
       "      <td>3522.73</td>\n",
       "      <td>3166.88</td>\n",
       "      <td>1.0</td>\n",
       "    </tr>\n",
       "    <tr>\n",
       "      <th>bC[1]</th>\n",
       "      <td>-0.13</td>\n",
       "      <td>0.08</td>\n",
       "      <td>-0.29</td>\n",
       "      <td>0.02</td>\n",
       "      <td>0.0</td>\n",
       "      <td>0.0</td>\n",
       "      <td>3533.36</td>\n",
       "      <td>2702.87</td>\n",
       "      <td>1.0</td>\n",
       "    </tr>\n",
       "    <tr>\n",
       "      <th>bI</th>\n",
       "      <td>-0.30</td>\n",
       "      <td>0.06</td>\n",
       "      <td>-0.41</td>\n",
       "      <td>-0.20</td>\n",
       "      <td>0.0</td>\n",
       "      <td>0.0</td>\n",
       "      <td>3048.33</td>\n",
       "      <td>3193.64</td>\n",
       "      <td>1.0</td>\n",
       "    </tr>\n",
       "    <tr>\n",
       "      <th>bA</th>\n",
       "      <td>-0.48</td>\n",
       "      <td>0.05</td>\n",
       "      <td>-0.58</td>\n",
       "      <td>-0.38</td>\n",
       "      <td>0.0</td>\n",
       "      <td>0.0</td>\n",
       "      <td>3062.65</td>\n",
       "      <td>2988.51</td>\n",
       "      <td>1.0</td>\n",
       "    </tr>\n",
       "  </tbody>\n",
       "</table>\n",
       "</div>"
      ],
      "text/plain": [
       "        mean    sd  hdi_3%  hdi_97%  mcse_mean  mcse_sd  ess_bulk  ess_tail  \\\n",
       "bIC[0] -1.10  0.13   -1.34    -0.87        0.0      0.0   3724.50   3081.00   \n",
       "bIC[1] -1.29  0.12   -1.52    -1.08        0.0      0.0   3382.89   3206.77   \n",
       "bIA    -0.43  0.08   -0.58    -0.28        0.0      0.0   3187.72   3360.19   \n",
       "bC[0]  -0.62  0.09   -0.78    -0.45        0.0      0.0   3522.73   3166.88   \n",
       "bC[1]  -0.13  0.08   -0.29     0.02        0.0      0.0   3533.36   2702.87   \n",
       "bI     -0.30  0.06   -0.41    -0.20        0.0      0.0   3048.33   3193.64   \n",
       "bA     -0.48  0.05   -0.58    -0.38        0.0      0.0   3062.65   2988.51   \n",
       "\n",
       "        r_hat  \n",
       "bIC[0]    1.0  \n",
       "bIC[1]    1.0  \n",
       "bIA       1.0  \n",
       "bC[0]     1.0  \n",
       "bC[1]     1.0  \n",
       "bI        1.0  \n",
       "bA        1.0  "
      ]
     },
     "execution_count": 41,
     "metadata": {},
     "output_type": "execute_result"
    }
   ],
   "source": [
    "az.summary(m_12h5_trace, var_names=[\"bIC\", \"bIA\", \"bC\", \"bI\", \"bA\"], round_to=2)"
   ]
  },
  {
   "cell_type": "markdown",
   "id": "244e495c-9d60-451e-b841-533b0708f5e8",
   "metadata": {},
   "source": [
    "If we look at BC, we can see that women are more bothered by contact.  But it reverses itself in the interaction between contact and interaction , which is a stronger predictor than just contact."
   ]
  },
  {
   "cell_type": "markdown",
   "id": "796a8a66-800f-4eea-86e6-058f07763d38",
   "metadata": {},
   "source": [
    "# 12H6 Question\n",
    "The data in data(Fish) are records of visits to a national park. See ?Fish for details. The\n",
    "question of interest is how many fish an average visitor takes per hour, when fishing. The problem is\n",
    "that not everyone tried to fish, so the fish_caught numbers are zero-inflated. As with the monks\n",
    "example in the chapter, there is a process that determines who is fishing (working) and another process that determines fish per hour (manuscripts per day), conditional on fishing (working). We want\n",
    "to model both. Otherwise we’ll end up with an underestimate of rate of fish extraction from the park.\n",
    "You will model these data using zero-inflated Poisson GLMs. Predict fish_caught as a function\n",
    "of any of the other variables you think are relevant. One thing you must do, however, is use a proper\n",
    "Poisson offset/exposure in the Poisson portion of the zero-inflated model. Then use the hours variable to construct the offset. This will adjust the model for the differing amount of time individuals\n",
    "spent in the park."
   ]
  },
  {
   "cell_type": "code",
   "execution_count": 42,
   "id": "d8dd2a92-3a88-46f5-b533-670a503a220d",
   "metadata": {},
   "outputs": [
    {
     "data": {
      "text/html": [
       "<div>\n",
       "<style scoped>\n",
       "    .dataframe tbody tr th:only-of-type {\n",
       "        vertical-align: middle;\n",
       "    }\n",
       "\n",
       "    .dataframe tbody tr th {\n",
       "        vertical-align: top;\n",
       "    }\n",
       "\n",
       "    .dataframe thead th {\n",
       "        text-align: right;\n",
       "    }\n",
       "</style>\n",
       "<table border=\"1\" class=\"dataframe\">\n",
       "  <thead>\n",
       "    <tr style=\"text-align: right;\">\n",
       "      <th></th>\n",
       "      <th>fish_caught</th>\n",
       "      <th>livebait</th>\n",
       "      <th>camper</th>\n",
       "      <th>persons</th>\n",
       "      <th>child</th>\n",
       "      <th>hours</th>\n",
       "    </tr>\n",
       "  </thead>\n",
       "  <tbody>\n",
       "    <tr>\n",
       "      <th>0</th>\n",
       "      <td>0</td>\n",
       "      <td>0</td>\n",
       "      <td>0</td>\n",
       "      <td>1</td>\n",
       "      <td>0</td>\n",
       "      <td>21.124</td>\n",
       "    </tr>\n",
       "    <tr>\n",
       "      <th>1</th>\n",
       "      <td>0</td>\n",
       "      <td>1</td>\n",
       "      <td>1</td>\n",
       "      <td>1</td>\n",
       "      <td>0</td>\n",
       "      <td>5.732</td>\n",
       "    </tr>\n",
       "    <tr>\n",
       "      <th>2</th>\n",
       "      <td>0</td>\n",
       "      <td>1</td>\n",
       "      <td>0</td>\n",
       "      <td>1</td>\n",
       "      <td>0</td>\n",
       "      <td>1.323</td>\n",
       "    </tr>\n",
       "    <tr>\n",
       "      <th>3</th>\n",
       "      <td>0</td>\n",
       "      <td>1</td>\n",
       "      <td>1</td>\n",
       "      <td>2</td>\n",
       "      <td>1</td>\n",
       "      <td>0.548</td>\n",
       "    </tr>\n",
       "    <tr>\n",
       "      <th>4</th>\n",
       "      <td>1</td>\n",
       "      <td>1</td>\n",
       "      <td>0</td>\n",
       "      <td>1</td>\n",
       "      <td>0</td>\n",
       "      <td>1.695</td>\n",
       "    </tr>\n",
       "    <tr>\n",
       "      <th>...</th>\n",
       "      <td>...</td>\n",
       "      <td>...</td>\n",
       "      <td>...</td>\n",
       "      <td>...</td>\n",
       "      <td>...</td>\n",
       "      <td>...</td>\n",
       "    </tr>\n",
       "    <tr>\n",
       "      <th>245</th>\n",
       "      <td>0</td>\n",
       "      <td>1</td>\n",
       "      <td>1</td>\n",
       "      <td>2</td>\n",
       "      <td>0</td>\n",
       "      <td>10.219</td>\n",
       "    </tr>\n",
       "    <tr>\n",
       "      <th>246</th>\n",
       "      <td>0</td>\n",
       "      <td>1</td>\n",
       "      <td>1</td>\n",
       "      <td>4</td>\n",
       "      <td>3</td>\n",
       "      <td>0.004</td>\n",
       "    </tr>\n",
       "    <tr>\n",
       "      <th>247</th>\n",
       "      <td>0</td>\n",
       "      <td>1</td>\n",
       "      <td>1</td>\n",
       "      <td>2</td>\n",
       "      <td>1</td>\n",
       "      <td>1.969</td>\n",
       "    </tr>\n",
       "    <tr>\n",
       "      <th>248</th>\n",
       "      <td>0</td>\n",
       "      <td>1</td>\n",
       "      <td>1</td>\n",
       "      <td>3</td>\n",
       "      <td>2</td>\n",
       "      <td>0.075</td>\n",
       "    </tr>\n",
       "    <tr>\n",
       "      <th>249</th>\n",
       "      <td>0</td>\n",
       "      <td>1</td>\n",
       "      <td>1</td>\n",
       "      <td>2</td>\n",
       "      <td>1</td>\n",
       "      <td>0.233</td>\n",
       "    </tr>\n",
       "  </tbody>\n",
       "</table>\n",
       "<p>250 rows × 6 columns</p>\n",
       "</div>"
      ],
      "text/plain": [
       "     fish_caught  livebait  camper  persons  child   hours\n",
       "0              0         0       0        1      0  21.124\n",
       "1              0         1       1        1      0   5.732\n",
       "2              0         1       0        1      0   1.323\n",
       "3              0         1       1        2      1   0.548\n",
       "4              1         1       0        1      0   1.695\n",
       "..           ...       ...     ...      ...    ...     ...\n",
       "245            0         1       1        2      0  10.219\n",
       "246            0         1       1        4      3   0.004\n",
       "247            0         1       1        2      1   1.969\n",
       "248            0         1       1        3      2   0.075\n",
       "249            0         1       1        2      1   0.233\n",
       "\n",
       "[250 rows x 6 columns]"
      ]
     },
     "execution_count": 42,
     "metadata": {},
     "output_type": "execute_result"
    }
   ],
   "source": [
    "fish_data = pd.read_csv('./data/Fish.csv',sep=';')\n",
    "fish_data"
   ]
  },
  {
   "cell_type": "code",
   "execution_count": 43,
   "id": "8014eec8-8720-4fae-9617-2d1fba780fa7",
   "metadata": {},
   "outputs": [],
   "source": [
    "fish_data['hours_log'] = np.log(fish_data['hours'])"
   ]
  },
  {
   "cell_type": "code",
   "execution_count": 44,
   "id": "ff038e9c-0500-44ba-846c-88c11260f4a6",
   "metadata": {},
   "outputs": [
    {
     "name": "stderr",
     "output_type": "stream",
     "text": [
      "Auto-assigning NUTS sampler...\n",
      "Initializing NUTS using jitter+adapt_diag...\n",
      "Multiprocess sampling (4 chains in 4 jobs)\n",
      "NUTS: [a0, a1, bcamp, bchild, bbait, bpersons, bhours]\n"
     ]
    },
    {
     "data": {
      "text/html": [
       "\n",
       "<style>\n",
       "    /* Turns off some styling */\n",
       "    progress {\n",
       "        /* gets rid of default border in Firefox and Opera. */\n",
       "        border: none;\n",
       "        /* Needs to be in here for Safari polyfill so background images work as expected. */\n",
       "        background-size: auto;\n",
       "    }\n",
       "    progress:not([value]), progress:not([value])::-webkit-progress-bar {\n",
       "        background: repeating-linear-gradient(45deg, #7e7e7e, #7e7e7e 10px, #5c5c5c 10px, #5c5c5c 20px);\n",
       "    }\n",
       "    .progress-bar-interrupted, .progress-bar-interrupted::-webkit-progress-bar {\n",
       "        background: #F44336;\n",
       "    }\n",
       "</style>\n"
      ],
      "text/plain": [
       "<IPython.core.display.HTML object>"
      ]
     },
     "metadata": {},
     "output_type": "display_data"
    },
    {
     "data": {
      "text/html": [
       "\n",
       "    <div>\n",
       "      <progress value='8000' class='' max='8000' style='width:300px; height:20px; vertical-align: middle;'></progress>\n",
       "      100.00% [8000/8000 00:24&lt;00:00 Sampling 4 chains, 0 divergences]\n",
       "    </div>\n",
       "    "
      ],
      "text/plain": [
       "<IPython.core.display.HTML object>"
      ]
     },
     "metadata": {},
     "output_type": "display_data"
    },
    {
     "name": "stderr",
     "output_type": "stream",
     "text": [
      "Sampling 4 chains for 1_000 tune and 1_000 draw iterations (4_000 + 4_000 draws total) took 37 seconds.\n"
     ]
    }
   ],
   "source": [
    "#My logic here is that if you are a camper and if you have children will determine the probability of if you go fishing.  I assume camper increases the probability of fishing because\n",
    "#you are there for more time.  And having kids with you will generally decrease the probability of fishing, because they want do to active things, not sitting around in a boat for hours\n",
    "with pm.Model() as m_12h6:\n",
    "    a0 = pm.Normal('a0',0,1)\n",
    "    a1 = pm.Normal('a1',0,1)\n",
    "    bcamp =  pm.Normal(\"bcamp\", 0, 1)\n",
    "    bchild = pm.Normal(\"bchild\", 0, 1)\n",
    "    bbait = pm.Normal('bbait',0,1)\n",
    "    bpersons = pm.Normal('bpersons',0,1)\n",
    "    bhours = pm.Normal('bhours',0,1)\n",
    "\n",
    "    persons = pm.MutableData(\"persons\", fish_data['persons'], dims=\"obs_id\")\n",
    "    hours = pm.MutableData(\"hours\", fish_data['hours_log'], dims=\"obs_id\")\n",
    "    child = pm.MutableData(\"child\", fish_data['child'], dims=\"obs_id\")\n",
    "    camper = pm.MutableData(\"camper\", fish_data['camper'], dims=\"obs_id\")\n",
    "    livebait = pm.MutableData(\"livebait\", fish_data['livebait'], dims=\"obs_id\")\n",
    "\n",
    "    p = pm.Deterministic(\"p\",pm.math.invlogit(a0 + bcamp * camper + bchild * child),dims=\"obs_id\")\n",
    "    lambda_ = pm.Deterministic(\"lambda_\",pm.math.exp(a1 + bbait * livebait + bpersons * persons + bhours*hours),dims=\"obs_id\")\n",
    "\n",
    "    caught = pm.ZeroInflatedPoisson(\"caught\", p,lambda_, observed=fish_data['fish_caught'],dims=\"obs_id\")\n",
    "\n",
    "    m_12h6_trace = pm.sample()"
   ]
  },
  {
   "cell_type": "code",
   "execution_count": 45,
   "id": "90d355d8-30ea-4e45-9c9c-15aae9e8bd3b",
   "metadata": {},
   "outputs": [
    {
     "data": {
      "text/html": [
       "<div>\n",
       "<style scoped>\n",
       "    .dataframe tbody tr th:only-of-type {\n",
       "        vertical-align: middle;\n",
       "    }\n",
       "\n",
       "    .dataframe tbody tr th {\n",
       "        vertical-align: top;\n",
       "    }\n",
       "\n",
       "    .dataframe thead th {\n",
       "        text-align: right;\n",
       "    }\n",
       "</style>\n",
       "<table border=\"1\" class=\"dataframe\">\n",
       "  <thead>\n",
       "    <tr style=\"text-align: right;\">\n",
       "      <th></th>\n",
       "      <th>mean</th>\n",
       "      <th>sd</th>\n",
       "      <th>hdi_3%</th>\n",
       "      <th>hdi_97%</th>\n",
       "      <th>mcse_mean</th>\n",
       "      <th>mcse_sd</th>\n",
       "      <th>ess_bulk</th>\n",
       "      <th>ess_tail</th>\n",
       "      <th>r_hat</th>\n",
       "    </tr>\n",
       "  </thead>\n",
       "  <tbody>\n",
       "    <tr>\n",
       "      <th>a0</th>\n",
       "      <td>0.672</td>\n",
       "      <td>0.316</td>\n",
       "      <td>0.103</td>\n",
       "      <td>1.277</td>\n",
       "      <td>0.006</td>\n",
       "      <td>0.005</td>\n",
       "      <td>2763.0</td>\n",
       "      <td>2408.0</td>\n",
       "      <td>1.0</td>\n",
       "    </tr>\n",
       "    <tr>\n",
       "      <th>a1</th>\n",
       "      <td>-2.524</td>\n",
       "      <td>0.261</td>\n",
       "      <td>-3.023</td>\n",
       "      <td>-2.044</td>\n",
       "      <td>0.005</td>\n",
       "      <td>0.004</td>\n",
       "      <td>2364.0</td>\n",
       "      <td>2591.0</td>\n",
       "      <td>1.0</td>\n",
       "    </tr>\n",
       "    <tr>\n",
       "      <th>bcamp</th>\n",
       "      <td>0.789</td>\n",
       "      <td>0.353</td>\n",
       "      <td>0.162</td>\n",
       "      <td>1.500</td>\n",
       "      <td>0.006</td>\n",
       "      <td>0.005</td>\n",
       "      <td>3481.0</td>\n",
       "      <td>2512.0</td>\n",
       "      <td>1.0</td>\n",
       "    </tr>\n",
       "    <tr>\n",
       "      <th>bchild</th>\n",
       "      <td>-1.441</td>\n",
       "      <td>0.265</td>\n",
       "      <td>-1.933</td>\n",
       "      <td>-0.952</td>\n",
       "      <td>0.005</td>\n",
       "      <td>0.003</td>\n",
       "      <td>3331.0</td>\n",
       "      <td>2107.0</td>\n",
       "      <td>1.0</td>\n",
       "    </tr>\n",
       "    <tr>\n",
       "      <th>bbait</th>\n",
       "      <td>1.505</td>\n",
       "      <td>0.218</td>\n",
       "      <td>1.127</td>\n",
       "      <td>1.927</td>\n",
       "      <td>0.004</td>\n",
       "      <td>0.003</td>\n",
       "      <td>2827.0</td>\n",
       "      <td>2372.0</td>\n",
       "      <td>1.0</td>\n",
       "    </tr>\n",
       "    <tr>\n",
       "      <th>bpersons</th>\n",
       "      <td>0.817</td>\n",
       "      <td>0.043</td>\n",
       "      <td>0.736</td>\n",
       "      <td>0.896</td>\n",
       "      <td>0.001</td>\n",
       "      <td>0.001</td>\n",
       "      <td>3287.0</td>\n",
       "      <td>2647.0</td>\n",
       "      <td>1.0</td>\n",
       "    </tr>\n",
       "    <tr>\n",
       "      <th>bhours</th>\n",
       "      <td>0.334</td>\n",
       "      <td>0.027</td>\n",
       "      <td>0.283</td>\n",
       "      <td>0.385</td>\n",
       "      <td>0.000</td>\n",
       "      <td>0.000</td>\n",
       "      <td>4056.0</td>\n",
       "      <td>2854.0</td>\n",
       "      <td>1.0</td>\n",
       "    </tr>\n",
       "  </tbody>\n",
       "</table>\n",
       "</div>"
      ],
      "text/plain": [
       "           mean     sd  hdi_3%  hdi_97%  mcse_mean  mcse_sd  ess_bulk  \\\n",
       "a0        0.672  0.316   0.103    1.277      0.006    0.005    2763.0   \n",
       "a1       -2.524  0.261  -3.023   -2.044      0.005    0.004    2364.0   \n",
       "bcamp     0.789  0.353   0.162    1.500      0.006    0.005    3481.0   \n",
       "bchild   -1.441  0.265  -1.933   -0.952      0.005    0.003    3331.0   \n",
       "bbait     1.505  0.218   1.127    1.927      0.004    0.003    2827.0   \n",
       "bpersons  0.817  0.043   0.736    0.896      0.001    0.001    3287.0   \n",
       "bhours    0.334  0.027   0.283    0.385      0.000    0.000    4056.0   \n",
       "\n",
       "          ess_tail  r_hat  \n",
       "a0          2408.0    1.0  \n",
       "a1          2591.0    1.0  \n",
       "bcamp       2512.0    1.0  \n",
       "bchild      2107.0    1.0  \n",
       "bbait       2372.0    1.0  \n",
       "bpersons    2647.0    1.0  \n",
       "bhours      2854.0    1.0  "
      ]
     },
     "execution_count": 45,
     "metadata": {},
     "output_type": "execute_result"
    }
   ],
   "source": [
    "az.summary(m_12h6_trace, var_names=['a0','a1','bcamp','bchild','bbait','bpersons','bhours'])"
   ]
  },
  {
   "cell_type": "markdown",
   "id": "4a380438-b75a-451d-853d-3678a6f0387c",
   "metadata": {},
   "source": [
    "Genally speaking, people won't catch fish (a1).  As expected, camping increases the fish caught, and number of kids decreases it.  Live bait increases the number, and more people fishing means more fish caught as well."
   ]
  },
  {
   "cell_type": "code",
   "execution_count": 46,
   "id": "1117ff20-d7c2-4206-978e-4762edf65adc",
   "metadata": {},
   "outputs": [
    {
     "name": "stdout",
     "output_type": "stream",
     "text": [
      "Probability of Fishing 0.66\n"
     ]
    }
   ],
   "source": [
    "def inv_logit(x):\n",
    "    return np.exp(x)/(1+np.exp(x))\n",
    "    \n",
    "prop_fishing = inv_logit(m_12h6_trace['posterior']['a0'].mean().values)\n",
    "print(f'Probability of Fishing {round(prop_fishing,2)}')\n",
    "#TBH I'm nots sure if the output means they are 66% not likely to fish, or 66% likely to fish "
   ]
  },
  {
   "cell_type": "code",
   "execution_count": 47,
   "id": "a9d086e7-b037-4637-8fbe-e1421df23aa4",
   "metadata": {},
   "outputs": [
    {
     "name": "stdout",
     "output_type": "stream",
     "text": [
      "Average Number of Fish caught 0.08\n"
     ]
    }
   ],
   "source": [
    "#Average Number of Fish caught - basically zero\n",
    "typ_avg_fish_caught = np.exp(m_12h6_trace['posterior']['a1'].mean().values)\n",
    "print(f'Average Number of Fish caught {round(typ_avg_fish_caught,2)}')"
   ]
  },
  {
   "cell_type": "code",
   "execution_count": 48,
   "id": "6697590d-75d5-466f-8015-2805d2063df8",
   "metadata": {},
   "outputs": [
    {
     "name": "stderr",
     "output_type": "stream",
     "text": [
      "Sampling: [caught]\n"
     ]
    },
    {
     "data": {
      "text/html": [
       "\n",
       "<style>\n",
       "    /* Turns off some styling */\n",
       "    progress {\n",
       "        /* gets rid of default border in Firefox and Opera. */\n",
       "        border: none;\n",
       "        /* Needs to be in here for Safari polyfill so background images work as expected. */\n",
       "        background-size: auto;\n",
       "    }\n",
       "    progress:not([value]), progress:not([value])::-webkit-progress-bar {\n",
       "        background: repeating-linear-gradient(45deg, #7e7e7e, #7e7e7e 10px, #5c5c5c 10px, #5c5c5c 20px);\n",
       "    }\n",
       "    .progress-bar-interrupted, .progress-bar-interrupted::-webkit-progress-bar {\n",
       "        background: #F44336;\n",
       "    }\n",
       "</style>\n"
      ],
      "text/plain": [
       "<IPython.core.display.HTML object>"
      ]
     },
     "metadata": {},
     "output_type": "display_data"
    },
    {
     "data": {
      "text/html": [
       "\n",
       "    <div>\n",
       "      <progress value='4000' class='' max='4000' style='width:300px; height:20px; vertical-align: middle;'></progress>\n",
       "      100.00% [4000/4000 00:00&lt;00:00]\n",
       "    </div>\n",
       "    "
      ],
      "text/plain": [
       "<IPython.core.display.HTML object>"
      ]
     },
     "metadata": {},
     "output_type": "display_data"
    }
   ],
   "source": [
    "with m_12h6:\n",
    "    pm.set_data({'persons':[1,1],\n",
    "                 'hours':[np.log(1),np.log(1)],\n",
    "                 'child':[0,0],\n",
    "                 'camper':[0,0],\n",
    "                 'livebait':[0,1]}\n",
    "                 )\n",
    "    m_12h6_post_pred = pm.sample_posterior_predictive(m_12h6_trace,\n",
    "                                                   return_inferencedata=True,\n",
    "                                                   predictions=True)"
   ]
  },
  {
   "cell_type": "code",
   "execution_count": 49,
   "id": "4bc08991-37c4-4726-89d7-24bbe24077bb",
   "metadata": {},
   "outputs": [
    {
     "data": {
      "text/plain": [
       "array(0.126)"
      ]
     },
     "execution_count": 49,
     "metadata": {},
     "output_type": "execute_result"
    }
   ],
   "source": [
    "#Predicted Number of Fish caught in 1 hour by 1 person\n",
    "m_12h6_post_pred['predictions']['caught'][:,:,0].mean().values"
   ]
  },
  {
   "cell_type": "code",
   "execution_count": 50,
   "id": "12b332fc-1997-4305-8ba2-296db3dbc594",
   "metadata": {},
   "outputs": [
    {
     "data": {
      "text/plain": [
       "array(0.53125)"
      ]
     },
     "execution_count": 50,
     "metadata": {},
     "output_type": "execute_result"
    }
   ],
   "source": [
    "#Predicted Number of Fish caught in 1 hour by 1 person with live bait.  Using live bait does increase things by quite a bit\n",
    "m_12h6_post_pred['predictions']['caught'][:,:,1].mean().values"
   ]
  },
  {
   "cell_type": "markdown",
   "id": "f6d878bd",
   "metadata": {},
   "source": [
    "# 12H7 Question\n",
    "In the trolley data—data(Trolley)—we saw how education level (modeled as an ordered\n",
    "category) is associated with responses. But is this association causal? One plausible confound is that\n",
    "education is also associated with age, through a causal process: People are older when they finish\n",
    "school than when they begin it. Reconsider the Trolley data in this light. Draw a DAG that represents hypothetical causal relationships among response, education, and age. Which statical model or\n",
    "models do you need to evaluate the causal influence of education on responses? Fit these models to\n",
    "the trolley data. What do you conclude about the causal relationships among these three variables?\n"
   ]
  },
  {
   "cell_type": "code",
   "execution_count": 51,
   "id": "938029cb-e6eb-49b1-bb37-449922d8caac",
   "metadata": {},
   "outputs": [
    {
     "data": {
      "text/html": [
       "<div>\n",
       "<style scoped>\n",
       "    .dataframe tbody tr th:only-of-type {\n",
       "        vertical-align: middle;\n",
       "    }\n",
       "\n",
       "    .dataframe tbody tr th {\n",
       "        vertical-align: top;\n",
       "    }\n",
       "\n",
       "    .dataframe thead th {\n",
       "        text-align: right;\n",
       "    }\n",
       "</style>\n",
       "<table border=\"1\" class=\"dataframe\">\n",
       "  <thead>\n",
       "    <tr style=\"text-align: right;\">\n",
       "      <th></th>\n",
       "      <th>case</th>\n",
       "      <th>response</th>\n",
       "      <th>order</th>\n",
       "      <th>id</th>\n",
       "      <th>age</th>\n",
       "      <th>male</th>\n",
       "      <th>edu</th>\n",
       "      <th>action</th>\n",
       "      <th>intention</th>\n",
       "      <th>contact</th>\n",
       "      <th>story</th>\n",
       "      <th>action2</th>\n",
       "    </tr>\n",
       "  </thead>\n",
       "  <tbody>\n",
       "    <tr>\n",
       "      <th>0</th>\n",
       "      <td>cfaqu</td>\n",
       "      <td>4</td>\n",
       "      <td>2</td>\n",
       "      <td>96;434</td>\n",
       "      <td>14</td>\n",
       "      <td>0</td>\n",
       "      <td>Middle School</td>\n",
       "      <td>0</td>\n",
       "      <td>0</td>\n",
       "      <td>1</td>\n",
       "      <td>aqu</td>\n",
       "      <td>1</td>\n",
       "    </tr>\n",
       "    <tr>\n",
       "      <th>1</th>\n",
       "      <td>cfbur</td>\n",
       "      <td>3</td>\n",
       "      <td>31</td>\n",
       "      <td>96;434</td>\n",
       "      <td>14</td>\n",
       "      <td>0</td>\n",
       "      <td>Middle School</td>\n",
       "      <td>0</td>\n",
       "      <td>0</td>\n",
       "      <td>1</td>\n",
       "      <td>bur</td>\n",
       "      <td>1</td>\n",
       "    </tr>\n",
       "    <tr>\n",
       "      <th>2</th>\n",
       "      <td>cfrub</td>\n",
       "      <td>4</td>\n",
       "      <td>16</td>\n",
       "      <td>96;434</td>\n",
       "      <td>14</td>\n",
       "      <td>0</td>\n",
       "      <td>Middle School</td>\n",
       "      <td>0</td>\n",
       "      <td>0</td>\n",
       "      <td>1</td>\n",
       "      <td>rub</td>\n",
       "      <td>1</td>\n",
       "    </tr>\n",
       "    <tr>\n",
       "      <th>3</th>\n",
       "      <td>cibox</td>\n",
       "      <td>3</td>\n",
       "      <td>32</td>\n",
       "      <td>96;434</td>\n",
       "      <td>14</td>\n",
       "      <td>0</td>\n",
       "      <td>Middle School</td>\n",
       "      <td>0</td>\n",
       "      <td>1</td>\n",
       "      <td>1</td>\n",
       "      <td>box</td>\n",
       "      <td>1</td>\n",
       "    </tr>\n",
       "    <tr>\n",
       "      <th>4</th>\n",
       "      <td>cibur</td>\n",
       "      <td>3</td>\n",
       "      <td>4</td>\n",
       "      <td>96;434</td>\n",
       "      <td>14</td>\n",
       "      <td>0</td>\n",
       "      <td>Middle School</td>\n",
       "      <td>0</td>\n",
       "      <td>1</td>\n",
       "      <td>1</td>\n",
       "      <td>bur</td>\n",
       "      <td>1</td>\n",
       "    </tr>\n",
       "  </tbody>\n",
       "</table>\n",
       "</div>"
      ],
      "text/plain": [
       "    case  response  order      id  age  male            edu  action  \\\n",
       "0  cfaqu         4      2  96;434   14     0  Middle School       0   \n",
       "1  cfbur         3     31  96;434   14     0  Middle School       0   \n",
       "2  cfrub         4     16  96;434   14     0  Middle School       0   \n",
       "3  cibox         3     32  96;434   14     0  Middle School       0   \n",
       "4  cibur         3      4  96;434   14     0  Middle School       0   \n",
       "\n",
       "   intention  contact story  action2  \n",
       "0          0        1   aqu        1  \n",
       "1          0        1   bur        1  \n",
       "2          0        1   rub        1  \n",
       "3          1        1   box        1  \n",
       "4          1        1   bur        1  "
      ]
     },
     "execution_count": 51,
     "metadata": {},
     "output_type": "execute_result"
    }
   ],
   "source": [
    "#12h7\n",
    "trolley_data = pd.read_csv(\"./data/Trolley.csv\", sep=\";\")\n",
    "trolley_data.head()"
   ]
  },
  {
   "cell_type": "code",
   "execution_count": 52,
   "id": "8fe0a904-de34-4c6d-9847-65bffc5f715f",
   "metadata": {},
   "outputs": [
    {
     "data": {
      "image/svg+xml": [
       "<?xml version=\"1.0\" encoding=\"UTF-8\" standalone=\"no\"?>\n",
       "<!DOCTYPE svg PUBLIC \"-//W3C//DTD SVG 1.1//EN\"\n",
       " \"http://www.w3.org/Graphics/SVG/1.1/DTD/svg11.dtd\">\n",
       "<!-- Generated by graphviz version 9.0.0 (0)\n",
       " -->\n",
       "<!-- Pages: 1 -->\n",
       "<svg width=\"144pt\" height=\"188pt\"\n",
       " viewBox=\"0.00 0.00 144.10 188.00\" xmlns=\"http://www.w3.org/2000/svg\" xmlns:xlink=\"http://www.w3.org/1999/xlink\">\n",
       "<g id=\"graph0\" class=\"graph\" transform=\"scale(1 1) rotate(0) translate(4 184)\">\n",
       "<polygon fill=\"white\" stroke=\"none\" points=\"-4,4 -4,-184 140.1,-184 140.1,4 -4,4\"/>\n",
       "<!-- Responses -->\n",
       "<g id=\"node1\" class=\"node\">\n",
       "<title>Responses</title>\n",
       "<ellipse fill=\"none\" stroke=\"black\" cx=\"49.82\" cy=\"-18\" rx=\"49.82\" ry=\"18\"/>\n",
       "<text text-anchor=\"middle\" x=\"49.82\" y=\"-12.95\" font-family=\"Times New Roman,serif\" font-size=\"14.00\">Responses</text>\n",
       "</g>\n",
       "<!-- Education -->\n",
       "<g id=\"node2\" class=\"node\">\n",
       "<title>Education</title>\n",
       "<ellipse fill=\"none\" stroke=\"black\" cx=\"87.82\" cy=\"-90\" rx=\"48.28\" ry=\"18\"/>\n",
       "<text text-anchor=\"middle\" x=\"87.82\" y=\"-84.95\" font-family=\"Times New Roman,serif\" font-size=\"14.00\">Education</text>\n",
       "</g>\n",
       "<!-- Education&#45;&gt;Responses -->\n",
       "<g id=\"edge3\" class=\"edge\">\n",
       "<title>Education&#45;&gt;Responses</title>\n",
       "<path fill=\"none\" stroke=\"black\" d=\"M78.62,-72.05C74.32,-64.14 69.11,-54.54 64.3,-45.69\"/>\n",
       "<polygon fill=\"black\" stroke=\"black\" points=\"67.5,-44.24 59.65,-37.12 61.35,-47.58 67.5,-44.24\"/>\n",
       "</g>\n",
       "<!-- Age -->\n",
       "<g id=\"node3\" class=\"node\">\n",
       "<title>Age</title>\n",
       "<ellipse fill=\"none\" stroke=\"black\" cx=\"49.82\" cy=\"-162\" rx=\"27\" ry=\"18\"/>\n",
       "<text text-anchor=\"middle\" x=\"49.82\" y=\"-156.95\" font-family=\"Times New Roman,serif\" font-size=\"14.00\">Age</text>\n",
       "</g>\n",
       "<!-- Age&#45;&gt;Responses -->\n",
       "<g id=\"edge2\" class=\"edge\">\n",
       "<title>Age&#45;&gt;Responses</title>\n",
       "<path fill=\"none\" stroke=\"black\" d=\"M42.32,-144.69C38.01,-134.41 33.03,-120.71 30.82,-108 28.08,-92.24 28.08,-87.76 30.82,-72 32.27,-63.62 34.93,-54.82 37.81,-46.84\"/>\n",
       "<polygon fill=\"black\" stroke=\"black\" points=\"41.02,-48.25 41.38,-37.67 34.49,-45.72 41.02,-48.25\"/>\n",
       "</g>\n",
       "<!-- Age&#45;&gt;Education -->\n",
       "<g id=\"edge1\" class=\"edge\">\n",
       "<title>Age&#45;&gt;Education</title>\n",
       "<path fill=\"none\" stroke=\"black\" d=\"M58.63,-144.76C62.92,-136.87 68.18,-127.16 73.06,-118.18\"/>\n",
       "<polygon fill=\"black\" stroke=\"black\" points=\"76.1,-119.91 77.8,-109.45 69.95,-116.57 76.1,-119.91\"/>\n",
       "</g>\n",
       "</g>\n",
       "</svg>\n"
      ],
      "text/plain": [
       "<graphviz.graphs.Digraph at 0x128e227aeb0>"
      ]
     },
     "execution_count": 52,
     "metadata": {},
     "output_type": "execute_result"
    }
   ],
   "source": [
    "trolley_age = CausalGraphicalModel(\n",
    "    nodes=[\"Responses\",\"Age\",\"Education\"],\n",
    "    edges=[\n",
    "        (\"Age\", \"Education\"),\n",
    "        (\"Age\", \"Responses\"),\n",
    "        (\"Education\", \"Responses\")\n",
    "    ]\n",
    ")\n",
    "trolley_age.draw()"
   ]
  },
  {
   "cell_type": "code",
   "execution_count": 53,
   "id": "7bd9cde1-ec64-4b2e-877a-90158f99fff5",
   "metadata": {},
   "outputs": [],
   "source": [
    "trolley_data[\"edu_new\"] = pd.Categorical(\n",
    "    trolley_data.edu.values,\n",
    "    categories=[\n",
    "        \"Elementary School\",\n",
    "        \"Middle School\",\n",
    "        \"Some High School\",\n",
    "        \"High School Graduate\",\n",
    "        \"Some College\",\n",
    "        \"Bachelor's Degree\",\n",
    "        \"Master's Degree\",\n",
    "        \"Graduate Degree\",\n",
    "    ],\n",
    "    ordered=True,\n",
    ")\n",
    "trolley_data[\"edu_new\"] = trolley_data.edu_new.cat.codes"
   ]
  },
  {
   "cell_type": "code",
   "execution_count": 54,
   "id": "feea266b-6c51-4f90-9aba-6421903f8a71",
   "metadata": {},
   "outputs": [],
   "source": [
    "R = trolley_data.response.values - 1\n",
    "A = trolley_data.action.values\n",
    "I = trolley_data.intention.values\n",
    "C = trolley_data.contact.values\n",
    "E = trolley_data.edu_new.values\n",
    "AGE = normalize(trolley_data['age'])\n"
   ]
  },
  {
   "cell_type": "code",
   "execution_count": 55,
   "id": "81c35aa4-e9f5-4a4e-8838-8d5ca2ab1fb5",
   "metadata": {},
   "outputs": [
    {
     "name": "stderr",
     "output_type": "stream",
     "text": [
      "d:\\Python\\venv\\pymc_env\\lib\\site-packages\\pymc\\distributions\\transforms.py:56: FutureWarning: univariate_ordered has been deprecated, use ordered instead.\n",
      "  warnings.warn(f\"{name} has been deprecated, use ordered instead.\", FutureWarning)\n",
      "C:\\Users\\ukamath\\AppData\\Local\\Temp\\ipykernel_29744\\3750799152.py:2: FutureWarning: The `testval` argument is deprecated; use `initval`.\n",
      "  kappa = pm.Normal(\n",
      "Auto-assigning NUTS sampler...\n",
      "Initializing NUTS using jitter+adapt_diag...\n",
      "Multiprocess sampling (4 chains in 4 jobs)\n",
      "NUTS: [kappa, bA, bC, bI, bE, bAge, delta]\n"
     ]
    },
    {
     "data": {
      "text/html": [
       "\n",
       "<style>\n",
       "    /* Turns off some styling */\n",
       "    progress {\n",
       "        /* gets rid of default border in Firefox and Opera. */\n",
       "        border: none;\n",
       "        /* Needs to be in here for Safari polyfill so background images work as expected. */\n",
       "        background-size: auto;\n",
       "    }\n",
       "    progress:not([value]), progress:not([value])::-webkit-progress-bar {\n",
       "        background: repeating-linear-gradient(45deg, #7e7e7e, #7e7e7e 10px, #5c5c5c 10px, #5c5c5c 20px);\n",
       "    }\n",
       "    .progress-bar-interrupted, .progress-bar-interrupted::-webkit-progress-bar {\n",
       "        background: #F44336;\n",
       "    }\n",
       "</style>\n"
      ],
      "text/plain": [
       "<IPython.core.display.HTML object>"
      ]
     },
     "metadata": {},
     "output_type": "display_data"
    },
    {
     "data": {
      "text/html": [
       "\n",
       "    <div>\n",
       "      <progress value='8000' class='' max='8000' style='width:300px; height:20px; vertical-align: middle;'></progress>\n",
       "      100.00% [8000/8000 06:46&lt;00:00 Sampling 4 chains, 0 divergences]\n",
       "    </div>\n",
       "    "
      ],
      "text/plain": [
       "<IPython.core.display.HTML object>"
      ]
     },
     "metadata": {},
     "output_type": "display_data"
    },
    {
     "name": "stderr",
     "output_type": "stream",
     "text": [
      "Sampling 4 chains for 1_000 tune and 1_000 draw iterations (4_000 + 4_000 draws total) took 420 seconds.\n"
     ]
    }
   ],
   "source": [
    "with pm.Model() as m_12h7:\n",
    "    kappa = pm.Normal(\n",
    "        \"kappa\",\n",
    "        0.0,\n",
    "        1.5,\n",
    "        transform=pm.distributions.transforms.univariate_ordered,\n",
    "        shape=6,\n",
    "        testval=np.arange(6),\n",
    "    )\n",
    "\n",
    "    bA = pm.Normal(\"bA\", 0.0, 0.5)\n",
    "    bC = pm.Normal(\"bC\", 0.0, 0.5)\n",
    "    bI = pm.Normal(\"bI\", 0.0, 0.5)\n",
    "    bE = pm.Normal(\"bE\", 0.0, 0.5)\n",
    "    bAge = pm.Normal(\"bAge\", 0.0, 0.5)\n",
    "\n",
    "    delta = pm.Dirichlet(\"delta\", np.repeat(2.0, 7), shape=7)\n",
    "    delta_j = pt.concatenate([pt.zeros(1), delta])\n",
    "    delta_j_cumulative = pt.cumsum(delta_j)\n",
    "\n",
    "    phi = bE * delta_j_cumulative[E] + bA * A + bC * C + bI * I + bAge * AGE\n",
    "\n",
    "    resp_obs = pm.OrderedLogistic(\"resp_obs\", phi, kappa, observed=R)\n",
    "\n",
    "    m_12h7_trace = pm.sample()"
   ]
  },
  {
   "cell_type": "code",
   "execution_count": 56,
   "id": "101fa409-e95b-4bf4-aa29-fd56e5430365",
   "metadata": {},
   "outputs": [
    {
     "data": {
      "text/html": [
       "<div>\n",
       "<style scoped>\n",
       "    .dataframe tbody tr th:only-of-type {\n",
       "        vertical-align: middle;\n",
       "    }\n",
       "\n",
       "    .dataframe tbody tr th {\n",
       "        vertical-align: top;\n",
       "    }\n",
       "\n",
       "    .dataframe thead th {\n",
       "        text-align: right;\n",
       "    }\n",
       "</style>\n",
       "<table border=\"1\" class=\"dataframe\">\n",
       "  <thead>\n",
       "    <tr style=\"text-align: right;\">\n",
       "      <th></th>\n",
       "      <th>mean</th>\n",
       "      <th>sd</th>\n",
       "      <th>hdi_3%</th>\n",
       "      <th>hdi_97%</th>\n",
       "      <th>mcse_mean</th>\n",
       "      <th>mcse_sd</th>\n",
       "      <th>ess_bulk</th>\n",
       "      <th>ess_tail</th>\n",
       "      <th>r_hat</th>\n",
       "    </tr>\n",
       "  </thead>\n",
       "  <tbody>\n",
       "    <tr>\n",
       "      <th>bA</th>\n",
       "      <td>-0.701</td>\n",
       "      <td>0.041</td>\n",
       "      <td>-0.779</td>\n",
       "      <td>-0.625</td>\n",
       "      <td>0.001</td>\n",
       "      <td>0.001</td>\n",
       "      <td>3096.0</td>\n",
       "      <td>2478.0</td>\n",
       "      <td>1.0</td>\n",
       "    </tr>\n",
       "    <tr>\n",
       "      <th>bC</th>\n",
       "      <td>-0.951</td>\n",
       "      <td>0.049</td>\n",
       "      <td>-1.039</td>\n",
       "      <td>-0.853</td>\n",
       "      <td>0.001</td>\n",
       "      <td>0.001</td>\n",
       "      <td>3192.0</td>\n",
       "      <td>2812.0</td>\n",
       "      <td>1.0</td>\n",
       "    </tr>\n",
       "    <tr>\n",
       "      <th>bI</th>\n",
       "      <td>-0.715</td>\n",
       "      <td>0.036</td>\n",
       "      <td>-0.781</td>\n",
       "      <td>-0.646</td>\n",
       "      <td>0.001</td>\n",
       "      <td>0.000</td>\n",
       "      <td>3575.0</td>\n",
       "      <td>3083.0</td>\n",
       "      <td>1.0</td>\n",
       "    </tr>\n",
       "    <tr>\n",
       "      <th>bE</th>\n",
       "      <td>0.229</td>\n",
       "      <td>0.103</td>\n",
       "      <td>0.051</td>\n",
       "      <td>0.416</td>\n",
       "      <td>0.004</td>\n",
       "      <td>0.003</td>\n",
       "      <td>1365.0</td>\n",
       "      <td>552.0</td>\n",
       "      <td>1.0</td>\n",
       "    </tr>\n",
       "    <tr>\n",
       "      <th>bAge</th>\n",
       "      <td>-0.098</td>\n",
       "      <td>0.021</td>\n",
       "      <td>-0.137</td>\n",
       "      <td>-0.060</td>\n",
       "      <td>0.000</td>\n",
       "      <td>0.000</td>\n",
       "      <td>2192.0</td>\n",
       "      <td>1572.0</td>\n",
       "      <td>1.0</td>\n",
       "    </tr>\n",
       "    <tr>\n",
       "      <th>delta[0]</th>\n",
       "      <td>0.110</td>\n",
       "      <td>0.072</td>\n",
       "      <td>0.002</td>\n",
       "      <td>0.239</td>\n",
       "      <td>0.001</td>\n",
       "      <td>0.001</td>\n",
       "      <td>3152.0</td>\n",
       "      <td>2358.0</td>\n",
       "      <td>1.0</td>\n",
       "    </tr>\n",
       "    <tr>\n",
       "      <th>delta[1]</th>\n",
       "      <td>0.119</td>\n",
       "      <td>0.077</td>\n",
       "      <td>0.003</td>\n",
       "      <td>0.258</td>\n",
       "      <td>0.001</td>\n",
       "      <td>0.001</td>\n",
       "      <td>3270.0</td>\n",
       "      <td>2120.0</td>\n",
       "      <td>1.0</td>\n",
       "    </tr>\n",
       "    <tr>\n",
       "      <th>delta[2]</th>\n",
       "      <td>0.087</td>\n",
       "      <td>0.060</td>\n",
       "      <td>0.003</td>\n",
       "      <td>0.197</td>\n",
       "      <td>0.001</td>\n",
       "      <td>0.001</td>\n",
       "      <td>2654.0</td>\n",
       "      <td>2290.0</td>\n",
       "      <td>1.0</td>\n",
       "    </tr>\n",
       "    <tr>\n",
       "      <th>delta[3]</th>\n",
       "      <td>0.066</td>\n",
       "      <td>0.054</td>\n",
       "      <td>0.002</td>\n",
       "      <td>0.157</td>\n",
       "      <td>0.001</td>\n",
       "      <td>0.001</td>\n",
       "      <td>2493.0</td>\n",
       "      <td>1717.0</td>\n",
       "      <td>1.0</td>\n",
       "    </tr>\n",
       "    <tr>\n",
       "      <th>delta[4]</th>\n",
       "      <td>0.438</td>\n",
       "      <td>0.138</td>\n",
       "      <td>0.146</td>\n",
       "      <td>0.684</td>\n",
       "      <td>0.004</td>\n",
       "      <td>0.003</td>\n",
       "      <td>1367.0</td>\n",
       "      <td>558.0</td>\n",
       "      <td>1.0</td>\n",
       "    </tr>\n",
       "    <tr>\n",
       "      <th>delta[5]</th>\n",
       "      <td>0.084</td>\n",
       "      <td>0.059</td>\n",
       "      <td>0.003</td>\n",
       "      <td>0.192</td>\n",
       "      <td>0.001</td>\n",
       "      <td>0.001</td>\n",
       "      <td>2712.0</td>\n",
       "      <td>2287.0</td>\n",
       "      <td>1.0</td>\n",
       "    </tr>\n",
       "    <tr>\n",
       "      <th>delta[6]</th>\n",
       "      <td>0.096</td>\n",
       "      <td>0.062</td>\n",
       "      <td>0.003</td>\n",
       "      <td>0.204</td>\n",
       "      <td>0.001</td>\n",
       "      <td>0.001</td>\n",
       "      <td>3938.0</td>\n",
       "      <td>3036.0</td>\n",
       "      <td>1.0</td>\n",
       "    </tr>\n",
       "  </tbody>\n",
       "</table>\n",
       "</div>"
      ],
      "text/plain": [
       "           mean     sd  hdi_3%  hdi_97%  mcse_mean  mcse_sd  ess_bulk  \\\n",
       "bA       -0.701  0.041  -0.779   -0.625      0.001    0.001    3096.0   \n",
       "bC       -0.951  0.049  -1.039   -0.853      0.001    0.001    3192.0   \n",
       "bI       -0.715  0.036  -0.781   -0.646      0.001    0.000    3575.0   \n",
       "bE        0.229  0.103   0.051    0.416      0.004    0.003    1365.0   \n",
       "bAge     -0.098  0.021  -0.137   -0.060      0.000    0.000    2192.0   \n",
       "delta[0]  0.110  0.072   0.002    0.239      0.001    0.001    3152.0   \n",
       "delta[1]  0.119  0.077   0.003    0.258      0.001    0.001    3270.0   \n",
       "delta[2]  0.087  0.060   0.003    0.197      0.001    0.001    2654.0   \n",
       "delta[3]  0.066  0.054   0.002    0.157      0.001    0.001    2493.0   \n",
       "delta[4]  0.438  0.138   0.146    0.684      0.004    0.003    1367.0   \n",
       "delta[5]  0.084  0.059   0.003    0.192      0.001    0.001    2712.0   \n",
       "delta[6]  0.096  0.062   0.003    0.204      0.001    0.001    3938.0   \n",
       "\n",
       "          ess_tail  r_hat  \n",
       "bA          2478.0    1.0  \n",
       "bC          2812.0    1.0  \n",
       "bI          3083.0    1.0  \n",
       "bE           552.0    1.0  \n",
       "bAge        1572.0    1.0  \n",
       "delta[0]    2358.0    1.0  \n",
       "delta[1]    2120.0    1.0  \n",
       "delta[2]    2290.0    1.0  \n",
       "delta[3]    1717.0    1.0  \n",
       "delta[4]     558.0    1.0  \n",
       "delta[5]    2287.0    1.0  \n",
       "delta[6]    3036.0    1.0  "
      ]
     },
     "execution_count": 56,
     "metadata": {},
     "output_type": "execute_result"
    }
   ],
   "source": [
    "az.summary(m_12h7_trace,var_names=[\"bA\", \"bC\", \"bI\", \"bE\",\"bAge\",\"delta\"])"
   ]
  },
  {
   "cell_type": "markdown",
   "id": "bafffefb-1efb-460b-91ce-55687385b479",
   "metadata": {},
   "source": [
    "If you compare this to the model (in the book) without Age, you'll notice that while all the other b* coefficients are mostly the same, bE has gone from negative to positive.  So now more educated people disapprove less.  However, the older you are, the more you disapprove of things.  So obviously both Age and Education are interacting to influence the reponses"
   ]
  },
  {
   "cell_type": "markdown",
   "id": "b518d17a-f417-47fe-bdd7-f7215589dd03",
   "metadata": {},
   "source": [
    "# 12H8 Question\n",
    "Consider one more variable in the trolley data: Gender. Suppose that gender might influence\n",
    "education as well as response directly. Draw the DAG now that includes response, education, age, and\n",
    "gender. Using only the DAG, is it possible that the inferences from 12H7 above are confounded by\n",
    "gender? If so, define any additional models you need to infer the causal influence of education on\n",
    "response. What do you conclude"
   ]
  },
  {
   "cell_type": "code",
   "execution_count": 57,
   "id": "98a9bf1a-86f4-4690-92cd-ce085f6eb517",
   "metadata": {},
   "outputs": [
    {
     "data": {
      "image/svg+xml": [
       "<?xml version=\"1.0\" encoding=\"UTF-8\" standalone=\"no\"?>\n",
       "<!DOCTYPE svg PUBLIC \"-//W3C//DTD SVG 1.1//EN\"\n",
       " \"http://www.w3.org/Graphics/SVG/1.1/DTD/svg11.dtd\">\n",
       "<!-- Generated by graphviz version 9.0.0 (0)\n",
       " -->\n",
       "<!-- Pages: 1 -->\n",
       "<svg width=\"173pt\" height=\"188pt\"\n",
       " viewBox=\"0.00 0.00 173.04 188.00\" xmlns=\"http://www.w3.org/2000/svg\" xmlns:xlink=\"http://www.w3.org/1999/xlink\">\n",
       "<g id=\"graph0\" class=\"graph\" transform=\"scale(1 1) rotate(0) translate(4 184)\">\n",
       "<polygon fill=\"white\" stroke=\"none\" points=\"-4,4 -4,-184 169.04,-184 169.04,4 -4,4\"/>\n",
       "<!-- Gender -->\n",
       "<g id=\"node1\" class=\"node\">\n",
       "<title>Gender</title>\n",
       "<ellipse fill=\"none\" stroke=\"black\" cx=\"38.04\" cy=\"-162\" rx=\"38.04\" ry=\"18\"/>\n",
       "<text text-anchor=\"middle\" x=\"38.04\" y=\"-156.95\" font-family=\"Times New Roman,serif\" font-size=\"14.00\">Gender</text>\n",
       "</g>\n",
       "<!-- Responses -->\n",
       "<g id=\"node2\" class=\"node\">\n",
       "<title>Responses</title>\n",
       "<ellipse fill=\"none\" stroke=\"black\" cx=\"80.04\" cy=\"-18\" rx=\"49.82\" ry=\"18\"/>\n",
       "<text text-anchor=\"middle\" x=\"80.04\" y=\"-12.95\" font-family=\"Times New Roman,serif\" font-size=\"14.00\">Responses</text>\n",
       "</g>\n",
       "<!-- Gender&#45;&gt;Responses -->\n",
       "<g id=\"edge5\" class=\"edge\">\n",
       "<title>Gender&#45;&gt;Responses</title>\n",
       "<path fill=\"none\" stroke=\"black\" d=\"M29.79,-144.24C21.93,-125.82 12.72,-95.7 23.04,-72 28.25,-60.05 37.63,-49.58 47.29,-41.17\"/>\n",
       "<polygon fill=\"black\" stroke=\"black\" points=\"49.37,-43.99 54.96,-35 44.98,-38.54 49.37,-43.99\"/>\n",
       "</g>\n",
       "<!-- Education -->\n",
       "<g id=\"node3\" class=\"node\">\n",
       "<title>Education</title>\n",
       "<ellipse fill=\"none\" stroke=\"black\" cx=\"80.04\" cy=\"-90\" rx=\"48.28\" ry=\"18\"/>\n",
       "<text text-anchor=\"middle\" x=\"80.04\" y=\"-84.95\" font-family=\"Times New Roman,serif\" font-size=\"14.00\">Education</text>\n",
       "</g>\n",
       "<!-- Gender&#45;&gt;Education -->\n",
       "<g id=\"edge4\" class=\"edge\">\n",
       "<title>Gender&#45;&gt;Education</title>\n",
       "<path fill=\"none\" stroke=\"black\" d=\"M48,-144.41C52.79,-136.42 58.66,-126.64 64.06,-117.64\"/>\n",
       "<polygon fill=\"black\" stroke=\"black\" points=\"66.95,-119.63 69.09,-109.25 60.95,-116.03 66.95,-119.63\"/>\n",
       "</g>\n",
       "<!-- Education&#45;&gt;Responses -->\n",
       "<g id=\"edge3\" class=\"edge\">\n",
       "<title>Education&#45;&gt;Responses</title>\n",
       "<path fill=\"none\" stroke=\"black\" d=\"M80.04,-71.7C80.04,-64.41 80.04,-55.73 80.04,-47.54\"/>\n",
       "<polygon fill=\"black\" stroke=\"black\" points=\"83.54,-47.62 80.04,-37.62 76.54,-47.62 83.54,-47.62\"/>\n",
       "</g>\n",
       "<!-- Age -->\n",
       "<g id=\"node4\" class=\"node\">\n",
       "<title>Age</title>\n",
       "<ellipse fill=\"none\" stroke=\"black\" cx=\"138.04\" cy=\"-162\" rx=\"27\" ry=\"18\"/>\n",
       "<text text-anchor=\"middle\" x=\"138.04\" y=\"-156.95\" font-family=\"Times New Roman,serif\" font-size=\"14.00\">Age</text>\n",
       "</g>\n",
       "<!-- Age&#45;&gt;Responses -->\n",
       "<g id=\"edge2\" class=\"edge\">\n",
       "<title>Age&#45;&gt;Responses</title>\n",
       "<path fill=\"none\" stroke=\"black\" d=\"M141.72,-143.76C144.82,-125.18 147.3,-95.18 137.04,-72 131.77,-60.08 122.38,-49.62 112.72,-41.21\"/>\n",
       "<polygon fill=\"black\" stroke=\"black\" points=\"115.04,-38.58 105.06,-35.03 110.65,-44.03 115.04,-38.58\"/>\n",
       "</g>\n",
       "<!-- Age&#45;&gt;Education -->\n",
       "<g id=\"edge1\" class=\"edge\">\n",
       "<title>Age&#45;&gt;Education</title>\n",
       "<path fill=\"none\" stroke=\"black\" d=\"M125.46,-145.81C118.32,-137.19 109.19,-126.18 101,-116.29\"/>\n",
       "<polygon fill=\"black\" stroke=\"black\" points=\"103.86,-114.26 94.79,-108.79 98.47,-118.73 103.86,-114.26\"/>\n",
       "</g>\n",
       "</g>\n",
       "</svg>\n"
      ],
      "text/plain": [
       "<graphviz.graphs.Digraph at 0x128e9a422e0>"
      ]
     },
     "execution_count": 57,
     "metadata": {},
     "output_type": "execute_result"
    }
   ],
   "source": [
    "trolley_age = CausalGraphicalModel(\n",
    "    nodes=[\"Responses\",\"Age\",\"Education\",\"Gender\"],\n",
    "    edges=[\n",
    "        (\"Age\", \"Education\"),\n",
    "        (\"Age\", \"Responses\"),\n",
    "        (\"Gender\",\"Education\"),\n",
    "        (\"Education\", \"Responses\"),\n",
    "        (\"Gender\",\"Responses\")\n",
    "    ]\n",
    ")\n",
    "trolley_age.draw()"
   ]
  },
  {
   "cell_type": "code",
   "execution_count": 58,
   "id": "2b1e3c35-5b13-4966-8654-a0889de023ce",
   "metadata": {},
   "outputs": [
    {
     "data": {
      "text/plain": [
       "array([<Axes: title={'center': '0'}>, <Axes: title={'center': '1'}>],\n",
       "      dtype=object)"
      ]
     },
     "execution_count": 58,
     "metadata": {},
     "output_type": "execute_result"
    },
    {
     "data": {
      "image/png": "[encoded data removed]",
      "text/plain": [
       "<Figure size 640x480 with 2 Axes>"
      ]
     },
     "metadata": {},
     "output_type": "display_data"
    }
   ],
   "source": [
    "#Looking at simple histograms, we can see there are some differences between men and women.\n",
    "trolley_data.hist('response', by = 'male')"
   ]
  },
  {
   "cell_type": "code",
   "execution_count": 59,
   "id": "7d034597-edb4-48dc-a01c-13d9e5088ee6",
   "metadata": {},
   "outputs": [],
   "source": [
    "gid = trolley_data['male']"
   ]
  },
  {
   "cell_type": "code",
   "execution_count": 60,
   "id": "84aff485-e569-4df4-985b-4cb4bd587b5b",
   "metadata": {},
   "outputs": [
    {
     "name": "stderr",
     "output_type": "stream",
     "text": [
      "d:\\Python\\venv\\pymc_env\\lib\\site-packages\\pymc\\distributions\\transforms.py:56: FutureWarning: univariate_ordered has been deprecated, use ordered instead.\n",
      "  warnings.warn(f\"{name} has been deprecated, use ordered instead.\", FutureWarning)\n",
      "C:\\Users\\ukamath\\AppData\\Local\\Temp\\ipykernel_29744\\2162002943.py:2: FutureWarning: The `testval` argument is deprecated; use `initval`.\n",
      "  kappa = pm.Normal(\n",
      "Auto-assigning NUTS sampler...\n",
      "Initializing NUTS using jitter+adapt_diag...\n",
      "Multiprocess sampling (4 chains in 4 jobs)\n",
      "NUTS: [kappa, bA, bC, bI, bE, bAge, delta]\n"
     ]
    },
    {
     "data": {
      "text/html": [
       "\n",
       "<style>\n",
       "    /* Turns off some styling */\n",
       "    progress {\n",
       "        /* gets rid of default border in Firefox and Opera. */\n",
       "        border: none;\n",
       "        /* Needs to be in here for Safari polyfill so background images work as expected. */\n",
       "        background-size: auto;\n",
       "    }\n",
       "    progress:not([value]), progress:not([value])::-webkit-progress-bar {\n",
       "        background: repeating-linear-gradient(45deg, #7e7e7e, #7e7e7e 10px, #5c5c5c 10px, #5c5c5c 20px);\n",
       "    }\n",
       "    .progress-bar-interrupted, .progress-bar-interrupted::-webkit-progress-bar {\n",
       "        background: #F44336;\n",
       "    }\n",
       "</style>\n"
      ],
      "text/plain": [
       "<IPython.core.display.HTML object>"
      ]
     },
     "metadata": {},
     "output_type": "display_data"
    },
    {
     "data": {
      "text/html": [
       "\n",
       "    <div>\n",
       "      <progress value='8000' class='' max='8000' style='width:300px; height:20px; vertical-align: middle;'></progress>\n",
       "      100.00% [8000/8000 06:40&lt;00:00 Sampling 4 chains, 0 divergences]\n",
       "    </div>\n",
       "    "
      ],
      "text/plain": [
       "<IPython.core.display.HTML object>"
      ]
     },
     "metadata": {},
     "output_type": "display_data"
    },
    {
     "name": "stderr",
     "output_type": "stream",
     "text": [
      "Sampling 4 chains for 1_000 tune and 1_000 draw iterations (4_000 + 4_000 draws total) took 412 seconds.\n"
     ]
    }
   ],
   "source": [
    "with pm.Model() as m_12h8:\n",
    "    kappa = pm.Normal(\n",
    "        \"kappa\",\n",
    "        0.0,\n",
    "        1.5,\n",
    "        transform=pm.distributions.transforms.univariate_ordered,\n",
    "        shape=6,\n",
    "        testval=np.arange(6),\n",
    "    )\n",
    "\n",
    "    bA = pm.Normal(\"bA\", 0.0, 0.5)\n",
    "    bC = pm.Normal(\"bC\", 0.0, 0.5)\n",
    "    bI = pm.Normal(\"bI\", 0.0, 0.5)\n",
    "    bE = pm.Normal(\"bE\", 0.0, 0.5, shape=2)\n",
    "    bAge = pm.Normal(\"bAge\", 0.0, 0.5)\n",
    "\n",
    "    delta = pm.Dirichlet(\"delta\", np.repeat(2.0, 7), shape=7)\n",
    "    delta_j = pt.concatenate([pt.zeros(1), delta])\n",
    "    delta_j_cumulative = pt.cumsum(delta_j)\n",
    "\n",
    "    phi = bE[gid] * delta_j_cumulative[E] + bA * A + bC * C + bI * I + bAge * AGE\n",
    "\n",
    "    resp_obs = pm.OrderedLogistic(\"resp_obs\", phi, kappa, observed=R)\n",
    "\n",
    "    m_12h8_trace = pm.sample()"
   ]
  },
  {
   "cell_type": "code",
   "execution_count": 61,
   "id": "c4073821-9a38-4ab1-8421-db70d90913d9",
   "metadata": {},
   "outputs": [
    {
     "data": {
      "text/html": [
       "<div>\n",
       "<style scoped>\n",
       "    .dataframe tbody tr th:only-of-type {\n",
       "        vertical-align: middle;\n",
       "    }\n",
       "\n",
       "    .dataframe tbody tr th {\n",
       "        vertical-align: top;\n",
       "    }\n",
       "\n",
       "    .dataframe thead th {\n",
       "        text-align: right;\n",
       "    }\n",
       "</style>\n",
       "<table border=\"1\" class=\"dataframe\">\n",
       "  <thead>\n",
       "    <tr style=\"text-align: right;\">\n",
       "      <th></th>\n",
       "      <th>mean</th>\n",
       "      <th>sd</th>\n",
       "      <th>hdi_3%</th>\n",
       "      <th>hdi_97%</th>\n",
       "      <th>mcse_mean</th>\n",
       "      <th>mcse_sd</th>\n",
       "      <th>ess_bulk</th>\n",
       "      <th>ess_tail</th>\n",
       "      <th>r_hat</th>\n",
       "    </tr>\n",
       "  </thead>\n",
       "  <tbody>\n",
       "    <tr>\n",
       "      <th>bA</th>\n",
       "      <td>-0.704</td>\n",
       "      <td>0.040</td>\n",
       "      <td>-0.782</td>\n",
       "      <td>-0.629</td>\n",
       "      <td>0.001</td>\n",
       "      <td>0.000</td>\n",
       "      <td>3950.0</td>\n",
       "      <td>3029.0</td>\n",
       "      <td>1.0</td>\n",
       "    </tr>\n",
       "    <tr>\n",
       "      <th>bC</th>\n",
       "      <td>-0.959</td>\n",
       "      <td>0.050</td>\n",
       "      <td>-1.056</td>\n",
       "      <td>-0.869</td>\n",
       "      <td>0.001</td>\n",
       "      <td>0.001</td>\n",
       "      <td>3762.0</td>\n",
       "      <td>3034.0</td>\n",
       "      <td>1.0</td>\n",
       "    </tr>\n",
       "    <tr>\n",
       "      <th>bI</th>\n",
       "      <td>-0.722</td>\n",
       "      <td>0.036</td>\n",
       "      <td>-0.792</td>\n",
       "      <td>-0.659</td>\n",
       "      <td>0.001</td>\n",
       "      <td>0.000</td>\n",
       "      <td>3409.0</td>\n",
       "      <td>2701.0</td>\n",
       "      <td>1.0</td>\n",
       "    </tr>\n",
       "    <tr>\n",
       "      <th>bE[0]</th>\n",
       "      <td>-0.561</td>\n",
       "      <td>0.123</td>\n",
       "      <td>-0.783</td>\n",
       "      <td>-0.316</td>\n",
       "      <td>0.003</td>\n",
       "      <td>0.002</td>\n",
       "      <td>1672.0</td>\n",
       "      <td>2044.0</td>\n",
       "      <td>1.0</td>\n",
       "    </tr>\n",
       "    <tr>\n",
       "      <th>bE[1]</th>\n",
       "      <td>0.192</td>\n",
       "      <td>0.132</td>\n",
       "      <td>-0.055</td>\n",
       "      <td>0.445</td>\n",
       "      <td>0.003</td>\n",
       "      <td>0.002</td>\n",
       "      <td>1606.0</td>\n",
       "      <td>1757.0</td>\n",
       "      <td>1.0</td>\n",
       "    </tr>\n",
       "    <tr>\n",
       "      <th>bAge</th>\n",
       "      <td>-0.065</td>\n",
       "      <td>0.020</td>\n",
       "      <td>-0.103</td>\n",
       "      <td>-0.028</td>\n",
       "      <td>0.000</td>\n",
       "      <td>0.000</td>\n",
       "      <td>3046.0</td>\n",
       "      <td>2556.0</td>\n",
       "      <td>1.0</td>\n",
       "    </tr>\n",
       "    <tr>\n",
       "      <th>delta[0]</th>\n",
       "      <td>0.175</td>\n",
       "      <td>0.098</td>\n",
       "      <td>0.016</td>\n",
       "      <td>0.348</td>\n",
       "      <td>0.002</td>\n",
       "      <td>0.001</td>\n",
       "      <td>3252.0</td>\n",
       "      <td>2065.0</td>\n",
       "      <td>1.0</td>\n",
       "    </tr>\n",
       "    <tr>\n",
       "      <th>delta[1]</th>\n",
       "      <td>0.149</td>\n",
       "      <td>0.089</td>\n",
       "      <td>0.010</td>\n",
       "      <td>0.315</td>\n",
       "      <td>0.001</td>\n",
       "      <td>0.001</td>\n",
       "      <td>3148.0</td>\n",
       "      <td>2343.0</td>\n",
       "      <td>1.0</td>\n",
       "    </tr>\n",
       "    <tr>\n",
       "      <th>delta[2]</th>\n",
       "      <td>0.246</td>\n",
       "      <td>0.115</td>\n",
       "      <td>0.045</td>\n",
       "      <td>0.459</td>\n",
       "      <td>0.002</td>\n",
       "      <td>0.001</td>\n",
       "      <td>3026.0</td>\n",
       "      <td>2131.0</td>\n",
       "      <td>1.0</td>\n",
       "    </tr>\n",
       "    <tr>\n",
       "      <th>delta[3]</th>\n",
       "      <td>0.109</td>\n",
       "      <td>0.065</td>\n",
       "      <td>0.004</td>\n",
       "      <td>0.224</td>\n",
       "      <td>0.001</td>\n",
       "      <td>0.001</td>\n",
       "      <td>2863.0</td>\n",
       "      <td>2038.0</td>\n",
       "      <td>1.0</td>\n",
       "    </tr>\n",
       "    <tr>\n",
       "      <th>delta[4]</th>\n",
       "      <td>0.048</td>\n",
       "      <td>0.040</td>\n",
       "      <td>0.001</td>\n",
       "      <td>0.119</td>\n",
       "      <td>0.001</td>\n",
       "      <td>0.001</td>\n",
       "      <td>2389.0</td>\n",
       "      <td>2528.0</td>\n",
       "      <td>1.0</td>\n",
       "    </tr>\n",
       "    <tr>\n",
       "      <th>delta[5]</th>\n",
       "      <td>0.229</td>\n",
       "      <td>0.082</td>\n",
       "      <td>0.076</td>\n",
       "      <td>0.384</td>\n",
       "      <td>0.002</td>\n",
       "      <td>0.001</td>\n",
       "      <td>2573.0</td>\n",
       "      <td>1667.0</td>\n",
       "      <td>1.0</td>\n",
       "    </tr>\n",
       "    <tr>\n",
       "      <th>delta[6]</th>\n",
       "      <td>0.045</td>\n",
       "      <td>0.030</td>\n",
       "      <td>0.002</td>\n",
       "      <td>0.101</td>\n",
       "      <td>0.000</td>\n",
       "      <td>0.000</td>\n",
       "      <td>5101.0</td>\n",
       "      <td>3479.0</td>\n",
       "      <td>1.0</td>\n",
       "    </tr>\n",
       "  </tbody>\n",
       "</table>\n",
       "</div>"
      ],
      "text/plain": [
       "           mean     sd  hdi_3%  hdi_97%  mcse_mean  mcse_sd  ess_bulk  \\\n",
       "bA       -0.704  0.040  -0.782   -0.629      0.001    0.000    3950.0   \n",
       "bC       -0.959  0.050  -1.056   -0.869      0.001    0.001    3762.0   \n",
       "bI       -0.722  0.036  -0.792   -0.659      0.001    0.000    3409.0   \n",
       "bE[0]    -0.561  0.123  -0.783   -0.316      0.003    0.002    1672.0   \n",
       "bE[1]     0.192  0.132  -0.055    0.445      0.003    0.002    1606.0   \n",
       "bAge     -0.065  0.020  -0.103   -0.028      0.000    0.000    3046.0   \n",
       "delta[0]  0.175  0.098   0.016    0.348      0.002    0.001    3252.0   \n",
       "delta[1]  0.149  0.089   0.010    0.315      0.001    0.001    3148.0   \n",
       "delta[2]  0.246  0.115   0.045    0.459      0.002    0.001    3026.0   \n",
       "delta[3]  0.109  0.065   0.004    0.224      0.001    0.001    2863.0   \n",
       "delta[4]  0.048  0.040   0.001    0.119      0.001    0.001    2389.0   \n",
       "delta[5]  0.229  0.082   0.076    0.384      0.002    0.001    2573.0   \n",
       "delta[6]  0.045  0.030   0.002    0.101      0.000    0.000    5101.0   \n",
       "\n",
       "          ess_tail  r_hat  \n",
       "bA          3029.0    1.0  \n",
       "bC          3034.0    1.0  \n",
       "bI          2701.0    1.0  \n",
       "bE[0]       2044.0    1.0  \n",
       "bE[1]       1757.0    1.0  \n",
       "bAge        2556.0    1.0  \n",
       "delta[0]    2065.0    1.0  \n",
       "delta[1]    2343.0    1.0  \n",
       "delta[2]    2131.0    1.0  \n",
       "delta[3]    2038.0    1.0  \n",
       "delta[4]    2528.0    1.0  \n",
       "delta[5]    1667.0    1.0  \n",
       "delta[6]    3479.0    1.0  "
      ]
     },
     "execution_count": 61,
     "metadata": {},
     "output_type": "execute_result"
    }
   ],
   "source": [
    "az.summary(m_12h8_trace, var_names=[\"bA\", \"bC\", \"bI\", \"bE\",\"bAge\",\"delta\"])"
   ]
  },
  {
   "cell_type": "markdown",
   "id": "2ca1547a-2853-4589-a8be-33e4267f4427",
   "metadata": {},
   "source": [
    "Interestingly enough, bAge moves much closer to zero when we include Gender.  And you can see in bE that as education rises, females disapprove more.  But it's the opposite for men, where as educational attainment rises, the males disapprove less."
   ]
  },
  {
   "cell_type": "markdown",
   "id": "3fef664b-98c9-4dc6-b6e1-279a8e706bac",
   "metadata": {},
   "source": []
  }
 ],
 "metadata": {
  "kernelspec": {
   "display_name": "Python 3 (ipykernel)",
   "language": "python",
   "name": "python3"
  },
  "language_info": {
   "codemirror_mode": {
    "name": "ipython",
    "version": 3
   },
   "file_extension": ".py",
   "mimetype": "text/x-python",
   "name": "python",
   "nbconvert_exporter": "python",
   "pygments_lexer": "ipython3",
   "version": "3.9.18"
  }
 },
 "nbformat": 4,
 "nbformat_minor": 5
}
