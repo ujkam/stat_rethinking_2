{
 "cells": [
  {
   "cell_type": "markdown",
   "id": "b9751ff4",
   "metadata": {},
   "source": [
    "Chapter 7 Homework Answers"
   ]
  },
  {
   "cell_type": "code",
   "execution_count": 2,
   "id": "eee8219f",
   "metadata": {},
   "outputs": [
    {
     "name": "stderr",
     "output_type": "stream",
     "text": [
      "WARNING (pytensor.tensor.blas): Using NumPy C-API based implementation for BLAS functions.\n"
     ]
    }
   ],
   "source": [
    "import numpy as np\n",
    "import pandas as pd\n",
    "import arviz as az\n",
    "import pymc as pm\n",
    "import matplotlib.pyplot as plt\n",
    "from causalgraphicalmodels import CausalGraphicalModel\n",
    "from watermark import watermark"
   ]
  },
  {
   "cell_type": "code",
   "execution_count": 4,
   "id": "688a1ae5",
   "metadata": {},
   "outputs": [
    {
     "name": "stdout",
     "output_type": "stream",
     "text": [
      "Last updated: 2024-07-02T11:50:22.812957-04:00\n",
      "\n",
      "Python implementation: CPython\n",
      "Python version       : 3.9.18\n",
      "IPython version      : 8.17.2\n",
      "\n",
      "Compiler    : MSC v.1929 64 bit (AMD64)\n",
      "OS          : Windows\n",
      "Release     : 10\n",
      "Machine     : AMD64\n",
      "Processor   : Intel64 Family 6 Model 141 Stepping 1, GenuineIntel\n",
      "CPU cores   : 12\n",
      "Architecture: 64bit\n",
      "\n"
     ]
    }
   ],
   "source": [
    "%load_ext watermark\n",
    "%watermark"
   ]
  },
  {
   "cell_type": "code",
   "execution_count": 6,
   "id": "5ab36cc1",
   "metadata": {},
   "outputs": [
    {
     "name": "stdout",
     "output_type": "stream",
     "text": [
      "numpy     : 1.25.2\n",
      "matplotlib: 3.8.2\n",
      "arviz     : 0.16.1\n",
      "pandas    : 2.1.3\n",
      "pymc      : 5.9.2\n",
      "\n"
     ]
    }
   ],
   "source": [
    "%watermark --iversions"
   ]
  },
  {
   "cell_type": "markdown",
   "id": "183ae831",
   "metadata": {},
   "source": [
    "# 7E1. State the three motivating criteria that define information entropy. Try to express each in your own words.\n"
   ]
  },
  {
   "cell_type": "markdown",
   "id": "56f4e281-9f5d-4955-a8ee-2c8dfd41293a",
   "metadata": {},
   "source": [
    "7E1\n",
    "1. The measure of uncertainity should be continuous.\n",
    "1. An increase in number of events should increase uncernaity \n",
    "1. The measure of uncernaity should be additive.  It's the sum of the invidual uncertanities"
   ]
  },
  {
   "cell_type": "markdown",
   "id": "1733c08b",
   "metadata": {},
   "source": [
    "# 7E2. Suppose a coin is weighted such that, when it is tossed and lands on a table, it comes up heads 70% of the time. What is the entropy of this coin?\n"
   ]
  },
  {
   "cell_type": "code",
   "execution_count": 8,
   "id": "9f1a1735-4f4d-4063-b345-c87e8f5911a0",
   "metadata": {},
   "outputs": [],
   "source": [
    "def calc_entropy(values):\n",
    "    np_values = np.array(values)\n",
    "    return np.round(-np.sum(np_values * np.log(np_values)),2)"
   ]
  },
  {
   "cell_type": "code",
   "execution_count": 9,
   "id": "4cfb0e87-3196-4f36-8742-94e59963ac08",
   "metadata": {},
   "outputs": [
    {
     "data": {
      "text/plain": [
       "0.61"
      ]
     },
     "execution_count": 9,
     "metadata": {},
     "output_type": "execute_result"
    }
   ],
   "source": [
    "calc_entropy([0.7,0.3])"
   ]
  },
  {
   "cell_type": "markdown",
   "id": "108de7da",
   "metadata": {},
   "source": [
    "# 7E3. Suppose a four-sided die is loaded such that, when tossed onto a table, it shows “1” 20%, “2” 25%, “3” 25%, and “4” 30% of the time. What is the entropy of this die?"
   ]
  },
  {
   "cell_type": "code",
   "execution_count": 10,
   "id": "47967b6c-106e-49de-bca7-adff471a5c0e",
   "metadata": {},
   "outputs": [
    {
     "data": {
      "text/plain": [
       "1.38"
      ]
     },
     "execution_count": 10,
     "metadata": {},
     "output_type": "execute_result"
    }
   ],
   "source": [
    "#7E3\n",
    "calc_entropy([.2,.25,.25,.3])"
   ]
  },
  {
   "cell_type": "markdown",
   "id": "2a653e60",
   "metadata": {},
   "source": [
    "# 7E4. Suppose another four-sided die is loaded such that it never shows “4”. The other three sides show equally often. What is the entropy of this die"
   ]
  },
  {
   "cell_type": "code",
   "execution_count": 11,
   "id": "4ac24c90-0f85-4a0d-805e-cfb69635f836",
   "metadata": {},
   "outputs": [
    {
     "data": {
      "text/plain": [
       "1.1"
      ]
     },
     "execution_count": 11,
     "metadata": {},
     "output_type": "execute_result"
    }
   ],
   "source": [
    "calc_entropy([.33,.33,.33])"
   ]
  },
  {
   "cell_type": "markdown",
   "id": "2d98233c",
   "metadata": {},
   "source": [
    "# 7M1. Write down and compare the definitions of AIC and WAIC. Which of these criteria is most general? Which assumptions are required to transform the more general criterion into a less general one?"
   ]
  },
  {
   "cell_type": "markdown",
   "id": "ae946488-349e-4ea0-b9ba-bacde45cc28c",
   "metadata": {},
   "source": [
    "## 7M1 Answer: AIC and WAIC are both information criteria that use pointwise calculations, but WAIC has a different pentality term.  WAIC is more widely applicable becauese it does not make any assumptions about the priors, the posterior.  AIC assumes flat priors and a multivariate gaussian posterior"
   ]
  },
  {
   "cell_type": "markdown",
   "id": "94650894",
   "metadata": {},
   "source": [
    "# 7M2. Explain the difference between model selection and model comparison. What information is lost under model selection?"
   ]
  },
  {
   "cell_type": "markdown",
   "id": "70ec4ebc-a0e2-42e0-a98a-c229ea00b225",
   "metadata": {},
   "source": [
    "## 7M2 Answer: \n",
    "\n",
    "Model selection is when you select a model based purely on some information criteria such as predictive accuracy.  However, when picking models like this, you throw away other information such as information about casuality.  More complex models tend to have lower scores in such criteria, so they always win.\n",
    "\n",
    "Model comparison allows to explore causality and how the predictors drive prediction.  So we are not throwing away information"
   ]
  },
  {
   "cell_type": "markdown",
   "id": "03e766f0",
   "metadata": {},
   "source": [
    "# 7M3. When comparing models with an information criterion, why must all models be fit to exactly the same observations? What would happen to the information criterion values, if the models were fit to different numbers of observations? Perform some experiments, if you are not sure.\n"
   ]
  },
  {
   "cell_type": "code",
   "execution_count": 6,
   "id": "ffecf884-4e4f-4777-a2e1-6d3b38840140",
   "metadata": {},
   "outputs": [
    {
     "name": "stderr",
     "output_type": "stream",
     "text": [
      "Auto-assigning NUTS sampler...\n",
      "Initializing NUTS using jitter+adapt_diag...\n",
      "Multiprocess sampling (4 chains in 4 jobs)\n",
      "NUTS: [a, b, sigma]\n"
     ]
    },
    {
     "data": {
      "text/html": [
       "\n",
       "<style>\n",
       "    /* Turns off some styling */\n",
       "    progress {\n",
       "        /* gets rid of default border in Firefox and Opera. */\n",
       "        border: none;\n",
       "        /* Needs to be in here for Safari polyfill so background images work as expected. */\n",
       "        background-size: auto;\n",
       "    }\n",
       "    progress:not([value]), progress:not([value])::-webkit-progress-bar {\n",
       "        background: repeating-linear-gradient(45deg, #7e7e7e, #7e7e7e 10px, #5c5c5c 10px, #5c5c5c 20px);\n",
       "    }\n",
       "    .progress-bar-interrupted, .progress-bar-interrupted::-webkit-progress-bar {\n",
       "        background: #F44336;\n",
       "    }\n",
       "</style>\n"
      ],
      "text/plain": [
       "<IPython.core.display.HTML object>"
      ]
     },
     "metadata": {},
     "output_type": "display_data"
    },
    {
     "data": {
      "text/html": [
       "\n",
       "    <div>\n",
       "      <progress value='8000' class='' max='8000' style='width:300px; height:20px; vertical-align: middle;'></progress>\n",
       "      100.00% [8000/8000 00:06&lt;00:00 Sampling 4 chains, 0 divergences]\n",
       "    </div>\n",
       "    "
      ],
      "text/plain": [
       "<IPython.core.display.HTML object>"
      ]
     },
     "metadata": {},
     "output_type": "display_data"
    },
    {
     "name": "stderr",
     "output_type": "stream",
     "text": [
      "Sampling 4 chains for 1_000 tune and 1_000 draw iterations (4_000 + 4_000 draws total) took 19 seconds.\n",
      "Auto-assigning NUTS sampler...\n",
      "Initializing NUTS using jitter+adapt_diag...\n",
      "Multiprocess sampling (4 chains in 4 jobs)\n",
      "NUTS: [a, b, sigma]\n"
     ]
    },
    {
     "data": {
      "text/html": [
       "\n",
       "<style>\n",
       "    /* Turns off some styling */\n",
       "    progress {\n",
       "        /* gets rid of default border in Firefox and Opera. */\n",
       "        border: none;\n",
       "        /* Needs to be in here for Safari polyfill so background images work as expected. */\n",
       "        background-size: auto;\n",
       "    }\n",
       "    progress:not([value]), progress:not([value])::-webkit-progress-bar {\n",
       "        background: repeating-linear-gradient(45deg, #7e7e7e, #7e7e7e 10px, #5c5c5c 10px, #5c5c5c 20px);\n",
       "    }\n",
       "    .progress-bar-interrupted, .progress-bar-interrupted::-webkit-progress-bar {\n",
       "        background: #F44336;\n",
       "    }\n",
       "</style>\n"
      ],
      "text/plain": [
       "<IPython.core.display.HTML object>"
      ]
     },
     "metadata": {},
     "output_type": "display_data"
    },
    {
     "data": {
      "text/html": [
       "\n",
       "    <div>\n",
       "      <progress value='8000' class='' max='8000' style='width:300px; height:20px; vertical-align: middle;'></progress>\n",
       "      100.00% [8000/8000 00:06&lt;00:00 Sampling 4 chains, 0 divergences]\n",
       "    </div>\n",
       "    "
      ],
      "text/plain": [
       "<IPython.core.display.HTML object>"
      ]
     },
     "metadata": {},
     "output_type": "display_data"
    },
    {
     "name": "stderr",
     "output_type": "stream",
     "text": [
      "Sampling 4 chains for 1_000 tune and 1_000 draw iterations (4_000 + 4_000 draws total) took 19 seconds.\n",
      "Auto-assigning NUTS sampler...\n",
      "Initializing NUTS using jitter+adapt_diag...\n",
      "Multiprocess sampling (4 chains in 4 jobs)\n",
      "NUTS: [a, b, sigma]\n"
     ]
    },
    {
     "data": {
      "text/html": [
       "\n",
       "<style>\n",
       "    /* Turns off some styling */\n",
       "    progress {\n",
       "        /* gets rid of default border in Firefox and Opera. */\n",
       "        border: none;\n",
       "        /* Needs to be in here for Safari polyfill so background images work as expected. */\n",
       "        background-size: auto;\n",
       "    }\n",
       "    progress:not([value]), progress:not([value])::-webkit-progress-bar {\n",
       "        background: repeating-linear-gradient(45deg, #7e7e7e, #7e7e7e 10px, #5c5c5c 10px, #5c5c5c 20px);\n",
       "    }\n",
       "    .progress-bar-interrupted, .progress-bar-interrupted::-webkit-progress-bar {\n",
       "        background: #F44336;\n",
       "    }\n",
       "</style>\n"
      ],
      "text/plain": [
       "<IPython.core.display.HTML object>"
      ]
     },
     "metadata": {},
     "output_type": "display_data"
    },
    {
     "data": {
      "text/html": [
       "\n",
       "    <div>\n",
       "      <progress value='8000' class='' max='8000' style='width:300px; height:20px; vertical-align: middle;'></progress>\n",
       "      100.00% [8000/8000 00:06&lt;00:00 Sampling 4 chains, 0 divergences]\n",
       "    </div>\n",
       "    "
      ],
      "text/plain": [
       "<IPython.core.display.HTML object>"
      ]
     },
     "metadata": {},
     "output_type": "display_data"
    },
    {
     "name": "stderr",
     "output_type": "stream",
     "text": [
      "Sampling 4 chains for 1_000 tune and 1_000 draw iterations (4_000 + 4_000 draws total) took 19 seconds.\n"
     ]
    }
   ],
   "source": [
    "#All information criteria use the lppd, which is the average of a pointwise calculation.  \n",
    "#So if we change the number of datapoints, this actually changes the lppd, which means we cannot\n",
    "#compare models using information criteria if the points are different.\n",
    "\n",
    "#Simulation\n",
    "n = 100\n",
    "intercept = 10,\n",
    "x_values = np.random.normal(10,2,n)\n",
    "y_values = intercept + (.5*x_values) + 0.1*np.random.normal(5,1,n)\n",
    "\n",
    "output_vals = []\n",
    "#Simulate training a model with an increasing number of datapoints removed from the training data\n",
    "for i in [98,99,100]:\n",
    "    with pm.Model() as m_7m3:\n",
    "        a = pm.Normal('a', 10, 1)\n",
    "        b = pm.Normal('b', 5,3)\n",
    "        sigma = pm.Exponential('sigma',1)\n",
    "        mu = pm.Deterministic('mu',a + b*x_values[0:i])\n",
    "        y = pm.Normal('y', mu, sigma, observed=y_values[0:i])\n",
    "        m_7m3_trace = pm.sample(idata_kwargs={\"log_likelihood\": True}) \n",
    "        waic_output = az.waic(m_7m3_trace, pointwise=True, scale='deviance')\n",
    "        b_estimate = az.summary(m_7m3_trace, var_names='b').mean()\n",
    "    output_vals.append((i, waic_output.elpd_waic, b_estimate['mean'], b_estimate['sd']))\n",
    "    #print(f'Len: {i}, WAIC {waic_output.elpd_waic}')"
   ]
  },
  {
   "cell_type": "code",
   "execution_count": 5,
   "id": "6003393b-6489-4985-84c6-895f8db78d27",
   "metadata": {},
   "outputs": [
    {
     "data": {
      "text/plain": [
       "[(98, -164.25540520326234, 0.509, 0.005),\n",
       " (99, -166.129017765523, 0.509, 0.005),\n",
       " (100, -168.7095153740814, 0.509, 0.005)]"
      ]
     },
     "execution_count": 5,
     "metadata": {},
     "output_type": "execute_result"
    }
   ],
   "source": [
    "#The 2nd value in the tuple is the WAIC score, 3rd the estimate for b, and the last is the se for b.\n",
    "#Despite all the models having a good esimate for B, the WAIC score is increasing based on the \n",
    "#number of samples (the first value in the tuple).  This is because WAIC goes up based on sample size, \n",
    "#so models with different sample sizes should not be compared.\n",
    "output_vals"
   ]
  },
  {
   "cell_type": "markdown",
   "id": "f8e8366a",
   "metadata": {},
   "source": [
    "# 7M4. What happens to the effective number of parameters, as measured by PSIS or WAIC, as a prior becomes more concentrated? Why? Perform some experiments, if you are not sure."
   ]
  },
  {
   "cell_type": "code",
   "execution_count": 10,
   "id": "45606bd8-44c4-4fd3-8f3b-ceaa48e4eb1f",
   "metadata": {},
   "outputs": [
    {
     "name": "stderr",
     "output_type": "stream",
     "text": [
      "Auto-assigning NUTS sampler...\n",
      "Initializing NUTS using jitter+adapt_diag...\n",
      "Multiprocess sampling (4 chains in 4 jobs)\n",
      "NUTS: [a, b1, b2, b3, sigma]\n"
     ]
    },
    {
     "data": {
      "text/html": [
       "\n",
       "<style>\n",
       "    /* Turns off some styling */\n",
       "    progress {\n",
       "        /* gets rid of default border in Firefox and Opera. */\n",
       "        border: none;\n",
       "        /* Needs to be in here for Safari polyfill so background images work as expected. */\n",
       "        background-size: auto;\n",
       "    }\n",
       "    progress:not([value]), progress:not([value])::-webkit-progress-bar {\n",
       "        background: repeating-linear-gradient(45deg, #7e7e7e, #7e7e7e 10px, #5c5c5c 10px, #5c5c5c 20px);\n",
       "    }\n",
       "    .progress-bar-interrupted, .progress-bar-interrupted::-webkit-progress-bar {\n",
       "        background: #F44336;\n",
       "    }\n",
       "</style>\n"
      ],
      "text/plain": [
       "<IPython.core.display.HTML object>"
      ]
     },
     "metadata": {},
     "output_type": "display_data"
    },
    {
     "data": {
      "text/html": [
       "\n",
       "    <div>\n",
       "      <progress value='8000' class='' max='8000' style='width:300px; height:20px; vertical-align: middle;'></progress>\n",
       "      100.00% [8000/8000 00:18&lt;00:00 Sampling 4 chains, 0 divergences]\n",
       "    </div>\n",
       "    "
      ],
      "text/plain": [
       "<IPython.core.display.HTML object>"
      ]
     },
     "metadata": {},
     "output_type": "display_data"
    },
    {
     "name": "stderr",
     "output_type": "stream",
     "text": [
      "Sampling 4 chains for 1_000 tune and 1_000 draw iterations (4_000 + 4_000 draws total) took 30 seconds.\n",
      "d:\\Python\\venv\\pymc_env\\lib\\site-packages\\arviz\\stats\\stats.py:1645: UserWarning: For one or more samples the posterior variance of the log predictive densities exceeds 0.4. This could be indication of WAIC starting to fail. \n",
      "See http://arxiv.org/abs/1507.04544 for details\n",
      "  warnings.warn(\n",
      "Auto-assigning NUTS sampler...\n",
      "Initializing NUTS using jitter+adapt_diag...\n",
      "Multiprocess sampling (4 chains in 4 jobs)\n",
      "NUTS: [a, b1, b2, b3, sigma]\n"
     ]
    },
    {
     "data": {
      "text/html": [
       "\n",
       "<style>\n",
       "    /* Turns off some styling */\n",
       "    progress {\n",
       "        /* gets rid of default border in Firefox and Opera. */\n",
       "        border: none;\n",
       "        /* Needs to be in here for Safari polyfill so background images work as expected. */\n",
       "        background-size: auto;\n",
       "    }\n",
       "    progress:not([value]), progress:not([value])::-webkit-progress-bar {\n",
       "        background: repeating-linear-gradient(45deg, #7e7e7e, #7e7e7e 10px, #5c5c5c 10px, #5c5c5c 20px);\n",
       "    }\n",
       "    .progress-bar-interrupted, .progress-bar-interrupted::-webkit-progress-bar {\n",
       "        background: #F44336;\n",
       "    }\n",
       "</style>\n"
      ],
      "text/plain": [
       "<IPython.core.display.HTML object>"
      ]
     },
     "metadata": {},
     "output_type": "display_data"
    },
    {
     "data": {
      "text/html": [
       "\n",
       "    <div>\n",
       "      <progress value='8000' class='' max='8000' style='width:300px; height:20px; vertical-align: middle;'></progress>\n",
       "      100.00% [8000/8000 00:08&lt;00:00 Sampling 4 chains, 0 divergences]\n",
       "    </div>\n",
       "    "
      ],
      "text/plain": [
       "<IPython.core.display.HTML object>"
      ]
     },
     "metadata": {},
     "output_type": "display_data"
    },
    {
     "name": "stderr",
     "output_type": "stream",
     "text": [
      "Sampling 4 chains for 1_000 tune and 1_000 draw iterations (4_000 + 4_000 draws total) took 20 seconds.\n",
      "d:\\Python\\venv\\pymc_env\\lib\\site-packages\\arviz\\stats\\stats.py:1645: UserWarning: For one or more samples the posterior variance of the log predictive densities exceeds 0.4. This could be indication of WAIC starting to fail. \n",
      "See http://arxiv.org/abs/1507.04544 for details\n",
      "  warnings.warn(\n",
      "Auto-assigning NUTS sampler...\n",
      "Initializing NUTS using jitter+adapt_diag...\n",
      "Multiprocess sampling (4 chains in 4 jobs)\n",
      "NUTS: [a, b1, b2, b3, sigma]\n"
     ]
    },
    {
     "data": {
      "text/html": [
       "\n",
       "<style>\n",
       "    /* Turns off some styling */\n",
       "    progress {\n",
       "        /* gets rid of default border in Firefox and Opera. */\n",
       "        border: none;\n",
       "        /* Needs to be in here for Safari polyfill so background images work as expected. */\n",
       "        background-size: auto;\n",
       "    }\n",
       "    progress:not([value]), progress:not([value])::-webkit-progress-bar {\n",
       "        background: repeating-linear-gradient(45deg, #7e7e7e, #7e7e7e 10px, #5c5c5c 10px, #5c5c5c 20px);\n",
       "    }\n",
       "    .progress-bar-interrupted, .progress-bar-interrupted::-webkit-progress-bar {\n",
       "        background: #F44336;\n",
       "    }\n",
       "</style>\n"
      ],
      "text/plain": [
       "<IPython.core.display.HTML object>"
      ]
     },
     "metadata": {},
     "output_type": "display_data"
    },
    {
     "data": {
      "text/html": [
       "\n",
       "    <div>\n",
       "      <progress value='8000' class='' max='8000' style='width:300px; height:20px; vertical-align: middle;'></progress>\n",
       "      100.00% [8000/8000 00:04&lt;00:00 Sampling 4 chains, 0 divergences]\n",
       "    </div>\n",
       "    "
      ],
      "text/plain": [
       "<IPython.core.display.HTML object>"
      ]
     },
     "metadata": {},
     "output_type": "display_data"
    },
    {
     "name": "stderr",
     "output_type": "stream",
     "text": [
      "Sampling 4 chains for 1_000 tune and 1_000 draw iterations (4_000 + 4_000 draws total) took 17 seconds.\n"
     ]
    }
   ],
   "source": [
    "#Simulation\n",
    "n = 100\n",
    "intercept = 10,\n",
    "x1_values = np.random.normal(0,1,n)\n",
    "x2_values = np.random.normal(0,1,n)\n",
    "x3_values = np.random.normal(0,1,n)\n",
    "y_values = intercept + (0.35*x1_values) + (.45*x2_values) + (.55*x3_values) + np.random.normal(0,1,n)\n",
    "\n",
    "output_vals = []\n",
    "#Simulate shrinking the standard deviation in the b priors\n",
    "for i in [3,1,0.1]:\n",
    "    with pm.Model() as m_7m4:\n",
    "        a = pm.Normal('a', 5, 2)\n",
    "        b1 = pm.Normal('b1', 0,i)\n",
    "        b2 = pm.Normal('b2', 0,i)\n",
    "        b3 = pm.Normal('b3', 0,i)\n",
    "        sigma = pm.Exponential('sigma',1)\n",
    "        mu = pm.Deterministic('mu',a + b1*x1_values + b2*x2_values + b3*x2_values)\n",
    "        y = pm.Normal('y', mu, sigma, observed=y_values)\n",
    "        m_7m4_trace= pm.sample(idata_kwargs={\"log_likelihood\": True}) \n",
    "        waic_output = az.waic(m_7m4_trace, pointwise=True, scale='deviance')\n",
    "        b_estimate = az.summary(m_7m4_trace, var_names=['b1','b2','b3'])\n",
    "    output_vals.append((i, waic_output.p_waic, b_estimate['mean']['b1'], b_estimate['sd']['b1'],\n",
    "                       b_estimate['mean']['b2'], b_estimate['sd']['b2'],\n",
    "                       b_estimate['mean']['b3'], b_estimate['sd']['b3']))\n",
    "    #print(f'Len: {i}, WAIC {waic_output.elpd_waic}')"
   ]
  },
  {
   "cell_type": "code",
   "execution_count": 11,
   "id": "d3d27ab6-8268-4992-8a74-2d19ea26f879",
   "metadata": {},
   "outputs": [
    {
     "data": {
      "text/plain": [
       "[(3, 4.046546623483409, 0.537, 0.119, 0.193, 2.13, 0.067, 2.13),\n",
       " (1, 4.071658933808531, 0.528, 0.12, 0.117, 0.727, 0.141, 0.727),\n",
       " (0.1, 2.8426013552907037, 0.21, 0.081, 0.071, 0.087, 0.068, 0.086)]"
      ]
     },
     "execution_count": 11,
     "metadata": {},
     "output_type": "execute_result"
    }
   ],
   "source": [
    "#As the priors become stronger, the effective number of paramters should decrease.  This is because the penalty \n",
    "#term for WAIC uses a variance term, and with strong priors the possible variance in the posterior is decreased.\n",
    "#The second value in the tuple is the number of effective paramters\n",
    "output_vals"
   ]
  },
  {
   "cell_type": "markdown",
   "id": "56f12e7d",
   "metadata": {},
   "source": [
    "# 7M5: Provide an informal explanation of why informative priors reduce overfitting."
   ]
  },
  {
   "cell_type": "markdown",
   "id": "38cba382-2868-4205-819c-91e5e8284595",
   "metadata": {},
   "source": [
    "## 7M5 Answer:\n",
    "Informative Priors constrain the parameter space and act as a regularization method.  It contrains the parameters to resonable general values, and not a value specific to our sample "
   ]
  },
  {
   "cell_type": "markdown",
   "id": "73c70112",
   "metadata": {},
   "source": [
    "# 7M6. Provide an informal explanation of why overly informative priors result in underfitting.\n"
   ]
  },
  {
   "cell_type": "markdown",
   "id": "2523e977",
   "metadata": {},
   "source": [
    "## 7M6 Answer:\n",
    "\n",
    "Overly Informative priors constrain the paramter space too much, limiting the paramter values, which results in underfitting.  We essentially get back our priors instead of the parameters fit to the data"
   ]
  },
  {
   "cell_type": "markdown",
   "id": "b751a4b0",
   "metadata": {},
   "source": [
    "# 7H1. In 2007, The Wall Street Journal published an editorial (“We’re Num\u0002ber One, Alas”) with a graph of corporate tax rates in 29 countries ploted against tax revenue. A badly fit curve was drawn in (reconstructed at right), seemingly by hand, to make the argument that the relationship between tax rate and tax revenue increases and then declines, such that higher tax rates can actually produce less tax revenue. I want you to actally fit a curve to these data, found in data(Laffer). Consider models that use tax rate to predict tax revenue. Compare, using WAIC or PSIS, a straight-line model to any curved models you like. What do you conclude about the relationship between tax rate and tax revenue?\n"
   ]
  },
  {
   "cell_type": "code",
   "execution_count": 13,
   "id": "f6ff324a-590c-4315-84bf-6abf502766f8",
   "metadata": {},
   "outputs": [],
   "source": [
    "laffer = pd.read_csv('.\\data\\Laffer.csv', sep=';')"
   ]
  },
  {
   "cell_type": "code",
   "execution_count": 14,
   "id": "397b9575-7183-4965-93c4-0dbaf7ae203b",
   "metadata": {},
   "outputs": [
    {
     "data": {
      "text/plain": [
       "<Axes: xlabel='tax_rate', ylabel='tax_revenue'>"
      ]
     },
     "execution_count": 14,
     "metadata": {},
     "output_type": "execute_result"
    },
    {
     "data": {
      "image/png": "[encoded data removed]",
      "text/plain": [
       "<Figure size 640x480 with 1 Axes>"
      ]
     },
     "metadata": {},
     "output_type": "display_data"
    }
   ],
   "source": [
    "laffer.plot.scatter(x='tax_rate',y='tax_revenue')"
   ]
  },
  {
   "cell_type": "code",
   "execution_count": 15,
   "id": "3fc26a73-5655-43cf-b8d7-a2edce348579",
   "metadata": {},
   "outputs": [],
   "source": [
    "def standardize(x):\n",
    "    return (x - np.mean(x)) / np.std(x)"
   ]
  },
  {
   "cell_type": "code",
   "execution_count": 16,
   "id": "0aae59ea-454b-409d-9a6c-04614e012c88",
   "metadata": {},
   "outputs": [],
   "source": [
    "laffer['tax_rate_std'] = standardize(laffer['tax_rate'])\n",
    "laffer['tax_revenue_std'] = standardize(laffer['tax_revenue'])\n",
    "laffer.shape"
   ]
  },
  {
   "cell_type": "code",
   "execution_count": 19,
   "id": "30a01ad3-4f6f-401a-b4e4-91205acbdd4e",
   "metadata": {},
   "outputs": [],
   "source": [
    "laffer2 = laffer[laffer['tax_revenue'] < 10]"
   ]
  },
  {
   "cell_type": "code",
   "execution_count": 20,
   "id": "075117cc-7941-4cd2-8054-c451805c8bea",
   "metadata": {},
   "outputs": [
    {
     "name": "stderr",
     "output_type": "stream",
     "text": [
      "d:\\Python\\venv\\pymc_env\\lib\\site-packages\\pymc\\data.py:433: UserWarning: The `mutable` kwarg was not specified. Before v4.1.0 it defaulted to `pm.Data(mutable=True)`, which is equivalent to using `pm.MutableData()`. In v4.1.0 the default changed to `pm.Data(mutable=False)`, equivalent to `pm.ConstantData`. Use `pm.ConstantData`/`pm.MutableData` or pass `pm.Data(..., mutable=False/True)` to avoid this warning.\n",
      "  warnings.warn(\n",
      "Auto-assigning NUTS sampler...\n",
      "Initializing NUTS using jitter+adapt_diag...\n",
      "Multiprocess sampling (4 chains in 4 jobs)\n",
      "NUTS: [a, b1, sigma]\n"
     ]
    },
    {
     "data": {
      "text/html": [
       "\n",
       "<style>\n",
       "    /* Turns off some styling */\n",
       "    progress {\n",
       "        /* gets rid of default border in Firefox and Opera. */\n",
       "        border: none;\n",
       "        /* Needs to be in here for Safari polyfill so background images work as expected. */\n",
       "        background-size: auto;\n",
       "    }\n",
       "    progress:not([value]), progress:not([value])::-webkit-progress-bar {\n",
       "        background: repeating-linear-gradient(45deg, #7e7e7e, #7e7e7e 10px, #5c5c5c 10px, #5c5c5c 20px);\n",
       "    }\n",
       "    .progress-bar-interrupted, .progress-bar-interrupted::-webkit-progress-bar {\n",
       "        background: #F44336;\n",
       "    }\n",
       "</style>\n"
      ],
      "text/plain": [
       "<IPython.core.display.HTML object>"
      ]
     },
     "metadata": {},
     "output_type": "display_data"
    },
    {
     "data": {
      "text/html": [
       "\n",
       "    <div>\n",
       "      <progress value='8000' class='' max='8000' style='width:300px; height:20px; vertical-align: middle;'></progress>\n",
       "      100.00% [8000/8000 00:03&lt;00:00 Sampling 4 chains, 0 divergences]\n",
       "    </div>\n",
       "    "
      ],
      "text/plain": [
       "<IPython.core.display.HTML object>"
      ]
     },
     "metadata": {},
     "output_type": "display_data"
    },
    {
     "name": "stderr",
     "output_type": "stream",
     "text": [
      "Sampling 4 chains for 1_000 tune and 1_000 draw iterations (4_000 + 4_000 draws total) took 15 seconds.\n",
      "d:\\Python\\venv\\pymc_env\\lib\\site-packages\\pymc\\data.py:433: UserWarning: The `mutable` kwarg was not specified. Before v4.1.0 it defaulted to `pm.Data(mutable=True)`, which is equivalent to using `pm.MutableData()`. In v4.1.0 the default changed to `pm.Data(mutable=False)`, equivalent to `pm.ConstantData`. Use `pm.ConstantData`/`pm.MutableData` or pass `pm.Data(..., mutable=False/True)` to avoid this warning.\n",
      "  warnings.warn(\n",
      "Auto-assigning NUTS sampler...\n",
      "Initializing NUTS using jitter+adapt_diag...\n",
      "Multiprocess sampling (4 chains in 4 jobs)\n",
      "NUTS: [a, b1, b2, sigma]\n"
     ]
    },
    {
     "data": {
      "text/html": [
       "\n",
       "<style>\n",
       "    /* Turns off some styling */\n",
       "    progress {\n",
       "        /* gets rid of default border in Firefox and Opera. */\n",
       "        border: none;\n",
       "        /* Needs to be in here for Safari polyfill so background images work as expected. */\n",
       "        background-size: auto;\n",
       "    }\n",
       "    progress:not([value]), progress:not([value])::-webkit-progress-bar {\n",
       "        background: repeating-linear-gradient(45deg, #7e7e7e, #7e7e7e 10px, #5c5c5c 10px, #5c5c5c 20px);\n",
       "    }\n",
       "    .progress-bar-interrupted, .progress-bar-interrupted::-webkit-progress-bar {\n",
       "        background: #F44336;\n",
       "    }\n",
       "</style>\n"
      ],
      "text/plain": [
       "<IPython.core.display.HTML object>"
      ]
     },
     "metadata": {},
     "output_type": "display_data"
    },
    {
     "data": {
      "text/html": [
       "\n",
       "    <div>\n",
       "      <progress value='8000' class='' max='8000' style='width:300px; height:20px; vertical-align: middle;'></progress>\n",
       "      100.00% [8000/8000 00:04&lt;00:00 Sampling 4 chains, 0 divergences]\n",
       "    </div>\n",
       "    "
      ],
      "text/plain": [
       "<IPython.core.display.HTML object>"
      ]
     },
     "metadata": {},
     "output_type": "display_data"
    },
    {
     "name": "stderr",
     "output_type": "stream",
     "text": [
      "Sampling 4 chains for 1_000 tune and 1_000 draw iterations (4_000 + 4_000 draws total) took 16 seconds.\n",
      "Auto-assigning NUTS sampler...\n",
      "Initializing NUTS using jitter+adapt_diag...\n",
      "Multiprocess sampling (4 chains in 4 jobs)\n",
      "NUTS: [a, b1, b2, b3, sigma]\n"
     ]
    },
    {
     "data": {
      "text/html": [
       "\n",
       "<style>\n",
       "    /* Turns off some styling */\n",
       "    progress {\n",
       "        /* gets rid of default border in Firefox and Opera. */\n",
       "        border: none;\n",
       "        /* Needs to be in here for Safari polyfill so background images work as expected. */\n",
       "        background-size: auto;\n",
       "    }\n",
       "    progress:not([value]), progress:not([value])::-webkit-progress-bar {\n",
       "        background: repeating-linear-gradient(45deg, #7e7e7e, #7e7e7e 10px, #5c5c5c 10px, #5c5c5c 20px);\n",
       "    }\n",
       "    .progress-bar-interrupted, .progress-bar-interrupted::-webkit-progress-bar {\n",
       "        background: #F44336;\n",
       "    }\n",
       "</style>\n"
      ],
      "text/plain": [
       "<IPython.core.display.HTML object>"
      ]
     },
     "metadata": {},
     "output_type": "display_data"
    },
    {
     "data": {
      "text/html": [
       "\n",
       "    <div>\n",
       "      <progress value='8000' class='' max='8000' style='width:300px; height:20px; vertical-align: middle;'></progress>\n",
       "      100.00% [8000/8000 00:06&lt;00:00 Sampling 4 chains, 0 divergences]\n",
       "    </div>\n",
       "    "
      ],
      "text/plain": [
       "<IPython.core.display.HTML object>"
      ]
     },
     "metadata": {},
     "output_type": "display_data"
    },
    {
     "name": "stderr",
     "output_type": "stream",
     "text": [
      "Sampling 4 chains for 1_000 tune and 1_000 draw iterations (4_000 + 4_000 draws total) took 18 seconds.\n"
     ]
    }
   ],
   "source": [
    "with pm.Model() as m_7h1_a:\n",
    "        a = pm.Normal('a', 0, .5)\n",
    "        b1 = pm.Normal('b1', 0, .5)\n",
    "        x_values = pm.Data('x_values', laffer['tax_rate_std'])\n",
    "        y_values = pm.Data('y_values', laffer['tax_revenue_std'])\n",
    "        sigma = pm.Exponential('sigma',1)\n",
    "        mu = pm.Deterministic('mu',a + b1*x_values)\n",
    "        y = pm.Normal('y', mu, sigma, observed=y_values)\n",
    "        m_7h1_a_trace = pm.sample(idata_kwargs={\"log_likelihood\": True}) \n",
    "\n",
    "with pm.Model() as m_7h1_b:\n",
    "        a = pm.Normal('a', 0, .5)\n",
    "        b1 = pm.Normal('b1', 0, .5)\n",
    "        b2 = pm.Normal('b2', 0, .5)\n",
    "        x_values = pm.Data('x_values', laffer['tax_rate_std'])\n",
    "        y_values = pm.Data('y_values', laffer['tax_revenue_std'])\n",
    "        sigma = pm.Exponential('sigma',1)\n",
    "        mu = pm.Deterministic('mu',a + b1*x_values + b2*x_values**2)\n",
    "        y = pm.Normal('y', mu, sigma, observed=y_values)\n",
    "        m_7h1_b_trace = pm.sample(idata_kwargs={\"log_likelihood\": True})\n",
    "\n",
    "with pm.Model() as m_7h1_c:\n",
    "        a = pm.Normal('a', 0, .5)\n",
    "        b1 = pm.Normal('b1', 0,.5)\n",
    "        b2 = pm.Normal('b2', 0,.5)\n",
    "        b3 = pm.Normal('b3', 0,.5)\n",
    "        x_values = pm.ConstantData('x_values', laffer['tax_rate_std'])\n",
    "        sigma = pm.Exponential('sigma',1)\n",
    "        mu = pm.Deterministic('mu',a + b1*x_values + b2*x_values**2 + b3*x_values**3)\n",
    "        y = pm.Normal('y', mu, sigma, observed=laffer['tax_revenue_std'])\n",
    "        m_7h1_c_trace = pm.sample(idata_kwargs={\"log_likelihood\": True})"
   ]
  },
  {
   "cell_type": "code",
   "execution_count": 21,
   "id": "6e5f31c7-02e3-4830-8b87-5fb1b38d65e5",
   "metadata": {},
   "outputs": [
    {
     "data": {
      "text/plain": [
       "[<matplotlib.lines.Line2D at 0x242d07949d0>]"
      ]
     },
     "execution_count": 21,
     "metadata": {},
     "output_type": "execute_result"
    },
    {
     "data": {
      "image/png": "[encoded data removed]",
      "text/plain": [
       "<Figure size 640x480 with 1 Axes>"
      ]
     },
     "metadata": {},
     "output_type": "display_data"
    }
   ],
   "source": [
    "x_axis_points = np.linspace(-3.5,1.5, 200)\n",
    "y_model_1 = m_7h1_a_trace['posterior']['a'].mean().item(0) + m_7h1_a_trace['posterior']['b1'].mean().item(0) * x_axis_points\n",
    "\n",
    "y_model_2 = (m_7h1_b_trace['posterior']['a'].mean().item(0) + \n",
    "             m_7h1_b_trace['posterior']['b1'].mean().item(0) * x_axis_points +  \n",
    "             m_7h1_b_trace['posterior']['b2'].mean().item(0) * x_axis_points**2)\n",
    "\n",
    "y_model_3 = (m_7h1_c_trace['posterior']['a'].mean().item(0) + \n",
    "             m_7h1_c_trace['posterior']['b1'].mean().item(0) * x_axis_points +  \n",
    "             m_7h1_c_trace['posterior']['b2'].mean().item(0) * x_axis_points**2  + \n",
    "             m_7h1_c_trace['posterior']['b3'].mean().item(0) * x_axis_points**3)\n",
    "\n",
    "plt.scatter(laffer['tax_rate_std'],laffer['tax_revenue_std'])\n",
    "plt.plot(x_axis_points,y_model_1)\n",
    "plt.plot(x_axis_points,y_model_2)\n",
    "plt.plot(x_axis_points,y_model_3)"
   ]
  },
  {
   "cell_type": "code",
   "execution_count": 22,
   "id": "1a5a1d7c-a5f2-4cac-b767-ae5d46a7cc32",
   "metadata": {},
   "outputs": [
    {
     "name": "stderr",
     "output_type": "stream",
     "text": [
      "d:\\Python\\venv\\pymc_env\\lib\\site-packages\\arviz\\stats\\stats.py:803: UserWarning: Estimated shape parameter of Pareto distribution is greater than 0.7 for one or more samples. You should consider using a more robust model, this is because importance sampling is less likely to work well if the marginal posterior and LOO posterior are very different. This is more likely to happen with a non-robust model and highly influential observations.\n",
      "  warnings.warn(\n",
      "d:\\Python\\venv\\pymc_env\\lib\\site-packages\\arviz\\stats\\stats.py:803: UserWarning: Estimated shape parameter of Pareto distribution is greater than 0.7 for one or more samples. You should consider using a more robust model, this is because importance sampling is less likely to work well if the marginal posterior and LOO posterior are very different. This is more likely to happen with a non-robust model and highly influential observations.\n",
      "  warnings.warn(\n",
      "d:\\Python\\venv\\pymc_env\\lib\\site-packages\\arviz\\stats\\stats.py:803: UserWarning: Estimated shape parameter of Pareto distribution is greater than 0.7 for one or more samples. You should consider using a more robust model, this is because importance sampling is less likely to work well if the marginal posterior and LOO posterior are very different. This is more likely to happen with a non-robust model and highly influential observations.\n",
      "  warnings.warn(\n",
      "d:\\Python\\venv\\pymc_env\\lib\\site-packages\\arviz\\stats\\stats.py:307: FutureWarning: Setting an item of incompatible dtype is deprecated and will raise in a future error of pandas. Value 'True' has dtype incompatible with float64, please explicitly cast to a compatible dtype first.\n",
      "  df_comp.loc[val] = (\n",
      "d:\\Python\\venv\\pymc_env\\lib\\site-packages\\arviz\\stats\\stats.py:307: FutureWarning: Setting an item of incompatible dtype is deprecated and will raise in a future error of pandas. Value 'deviance' has dtype incompatible with float64, please explicitly cast to a compatible dtype first.\n",
      "  df_comp.loc[val] = (\n"
     ]
    },
    {
     "data": {
      "text/html": [
       "<div>\n",
       "<style scoped>\n",
       "    .dataframe tbody tr th:only-of-type {\n",
       "        vertical-align: middle;\n",
       "    }\n",
       "\n",
       "    .dataframe tbody tr th {\n",
       "        vertical-align: top;\n",
       "    }\n",
       "\n",
       "    .dataframe thead th {\n",
       "        text-align: right;\n",
       "    }\n",
       "</style>\n",
       "<table border=\"1\" class=\"dataframe\">\n",
       "  <thead>\n",
       "    <tr style=\"text-align: right;\">\n",
       "      <th></th>\n",
       "      <th>rank</th>\n",
       "      <th>elpd_loo</th>\n",
       "      <th>p_loo</th>\n",
       "      <th>elpd_diff</th>\n",
       "      <th>weight</th>\n",
       "      <th>se</th>\n",
       "      <th>dse</th>\n",
       "      <th>warning</th>\n",
       "      <th>scale</th>\n",
       "    </tr>\n",
       "  </thead>\n",
       "  <tbody>\n",
       "    <tr>\n",
       "      <th>2_parameter</th>\n",
       "      <td>0</td>\n",
       "      <td>87.159222</td>\n",
       "      <td>5.509821</td>\n",
       "      <td>0.000000</td>\n",
       "      <td>1.000000e+00</td>\n",
       "      <td>18.930994</td>\n",
       "      <td>0.000000</td>\n",
       "      <td>True</td>\n",
       "      <td>deviance</td>\n",
       "    </tr>\n",
       "    <tr>\n",
       "      <th>3_parameter</th>\n",
       "      <td>1</td>\n",
       "      <td>87.763555</td>\n",
       "      <td>5.895503</td>\n",
       "      <td>0.604333</td>\n",
       "      <td>1.942890e-16</td>\n",
       "      <td>18.476577</td>\n",
       "      <td>1.063597</td>\n",
       "      <td>True</td>\n",
       "      <td>deviance</td>\n",
       "    </tr>\n",
       "    <tr>\n",
       "      <th>1_paramter</th>\n",
       "      <td>2</td>\n",
       "      <td>88.788373</td>\n",
       "      <td>5.258869</td>\n",
       "      <td>1.629152</td>\n",
       "      <td>0.000000e+00</td>\n",
       "      <td>18.880448</td>\n",
       "      <td>1.497942</td>\n",
       "      <td>True</td>\n",
       "      <td>deviance</td>\n",
       "    </tr>\n",
       "  </tbody>\n",
       "</table>\n",
       "</div>"
      ],
      "text/plain": [
       "             rank   elpd_loo     p_loo  elpd_diff        weight         se  \\\n",
       "2_parameter     0  87.159222  5.509821   0.000000  1.000000e+00  18.930994   \n",
       "3_parameter     1  87.763555  5.895503   0.604333  1.942890e-16  18.476577   \n",
       "1_paramter      2  88.788373  5.258869   1.629152  0.000000e+00  18.880448   \n",
       "\n",
       "                  dse  warning     scale  \n",
       "2_parameter  0.000000     True  deviance  \n",
       "3_parameter  1.063597     True  deviance  \n",
       "1_paramter   1.497942     True  deviance  "
      ]
     },
     "execution_count": 22,
     "metadata": {},
     "output_type": "execute_result"
    }
   ],
   "source": [
    "compare_data = az.compare({'1_paramter':m_7h1_a_trace,\n",
    "            '2_parameter':m_7h1_b_trace,\n",
    "            '3_parameter':m_7h1_c_trace},\n",
    "           scale='deviance',\n",
    "           ic='loo'\n",
    "          )\n",
    "compare_data"
   ]
  },
  {
   "cell_type": "code",
   "execution_count": 23,
   "id": "6335761e-20b5-4198-a17f-bb12d1f25a11",
   "metadata": {},
   "outputs": [
    {
     "name": "stderr",
     "output_type": "stream",
     "text": [
      "d:\\Python\\venv\\pymc_env\\lib\\site-packages\\arviz\\plots\\backends\\matplotlib\\compareplot.py:87: FutureWarning: Series.__getitem__ treating keys as positions is deprecated. In a future version, integer keys will always be treated as labels (consistent with DataFrame behavior). To access a value by position, use `ser.iloc[pos]`\n",
      "  scale = comp_df[\"scale\"][0]\n"
     ]
    },
    {
     "data": {
      "text/plain": [
       "<Axes: title={'center': 'Model comparison\\nlower is better'}, xlabel='elpd_loo (deviance)', ylabel='ranked models'>"
      ]
     },
     "execution_count": 23,
     "metadata": {},
     "output_type": "execute_result"
    },
    {
     "data": {
      "image/png": "[encoded data removed]",
      "text/plain": [
       "<Figure size 600x300 with 1 Axes>"
      ]
     },
     "metadata": {},
     "output_type": "display_data"
    }
   ],
   "source": [
    "az.plot_compare(compare_data)"
   ]
  },
  {
   "cell_type": "markdown",
   "id": "41aba3b1-95d4-4784-9306-8a30890d4be7",
   "metadata": {},
   "source": [
    "## Looking at the scores, we can see that the 2 parameter model (not including intercept) is only slightly better than the 1 parameter model, but the 3 parameter model is starting to overfit because it is worse than the model with only one beta parameter"
   ]
  },
  {
   "cell_type": "markdown",
   "id": "060dfd8e",
   "metadata": {},
   "source": [
    "# 7H2 In the Laffer data, there is one country with a high tax revenue that is an outlier. Use PSIS and WAIC to measure the importance of this outlier in the models you fit in the previous problem. Then use robust regression with a Student’s t distribution to revisit the curve fitting problem. How much does a curved relationship depend upon the outlier point?"
   ]
  },
  {
   "cell_type": "code",
   "execution_count": 24,
   "id": "92dd18b3-1886-496b-97ce-2d4daf93e7fb",
   "metadata": {},
   "outputs": [
    {
     "name": "stderr",
     "output_type": "stream",
     "text": [
      "d:\\Python\\venv\\pymc_env\\lib\\site-packages\\pymc\\data.py:433: UserWarning: The `mutable` kwarg was not specified. Before v4.1.0 it defaulted to `pm.Data(mutable=True)`, which is equivalent to using `pm.MutableData()`. In v4.1.0 the default changed to `pm.Data(mutable=False)`, equivalent to `pm.ConstantData`. Use `pm.ConstantData`/`pm.MutableData` or pass `pm.Data(..., mutable=False/True)` to avoid this warning.\n",
      "  warnings.warn(\n",
      "Auto-assigning NUTS sampler...\n",
      "Initializing NUTS using jitter+adapt_diag...\n",
      "Multiprocess sampling (4 chains in 4 jobs)\n",
      "NUTS: [a, b1, b2, sigma]\n"
     ]
    },
    {
     "data": {
      "text/html": [
       "\n",
       "<style>\n",
       "    /* Turns off some styling */\n",
       "    progress {\n",
       "        /* gets rid of default border in Firefox and Opera. */\n",
       "        border: none;\n",
       "        /* Needs to be in here for Safari polyfill so background images work as expected. */\n",
       "        background-size: auto;\n",
       "    }\n",
       "    progress:not([value]), progress:not([value])::-webkit-progress-bar {\n",
       "        background: repeating-linear-gradient(45deg, #7e7e7e, #7e7e7e 10px, #5c5c5c 10px, #5c5c5c 20px);\n",
       "    }\n",
       "    .progress-bar-interrupted, .progress-bar-interrupted::-webkit-progress-bar {\n",
       "        background: #F44336;\n",
       "    }\n",
       "</style>\n"
      ],
      "text/plain": [
       "<IPython.core.display.HTML object>"
      ]
     },
     "metadata": {},
     "output_type": "display_data"
    },
    {
     "data": {
      "text/html": [
       "\n",
       "    <div>\n",
       "      <progress value='8000' class='' max='8000' style='width:300px; height:20px; vertical-align: middle;'></progress>\n",
       "      100.00% [8000/8000 00:04&lt;00:00 Sampling 4 chains, 0 divergences]\n",
       "    </div>\n",
       "    "
      ],
      "text/plain": [
       "<IPython.core.display.HTML object>"
      ]
     },
     "metadata": {},
     "output_type": "display_data"
    },
    {
     "name": "stderr",
     "output_type": "stream",
     "text": [
      "Sampling 4 chains for 1_000 tune and 1_000 draw iterations (4_000 + 4_000 draws total) took 17 seconds.\n"
     ]
    }
   ],
   "source": [
    "#7h2\n",
    "with pm.Model() as m_7h2_a:\n",
    "        a = pm.Normal('a', 0, .5)\n",
    "        b1 = pm.Normal('b1', 0, .5)\n",
    "        b2 = pm.Normal('b2', 0, .5)\n",
    "        x_values = pm.Data('x_values', laffer['tax_rate_std'])\n",
    "        y_values = pm.Data('y_values', laffer['tax_revenue_std'])\n",
    "        sigma = pm.Exponential('sigma',1)\n",
    "        mu = pm.Deterministic('mu',a + b1*x_values + b2*x_values**2)\n",
    "        y = pm.Normal('y', mu, sigma, observed=y_values)\n",
    "        m_7h2_a_trace = pm.sample(idata_kwargs={\"log_likelihood\": True})"
   ]
  },
  {
   "cell_type": "code",
   "execution_count": 25,
   "id": "7b6cd8e0-6d31-465d-8677-2ee179aa5c16",
   "metadata": {},
   "outputs": [
    {
     "name": "stderr",
     "output_type": "stream",
     "text": [
      "d:\\Python\\venv\\pymc_env\\lib\\site-packages\\arviz\\stats\\stats.py:1645: UserWarning: For one or more samples the posterior variance of the log predictive densities exceeds 0.4. This could be indication of WAIC starting to fail. \n",
      "See http://arxiv.org/abs/1507.04544 for details\n",
      "  warnings.warn(\n"
     ]
    },
    {
     "data": {
      "text/plain": [
       "Computed from 4000 posterior samples and 29 observations log-likelihood matrix.\n",
       "\n",
       "              Estimate       SE\n",
       "deviance_waic    86.47    18.35\n",
       "p_waic            5.15        -\n",
       "\n",
       "There has been a warning during the calculation. Please check the results."
      ]
     },
     "execution_count": 25,
     "metadata": {},
     "output_type": "execute_result"
    }
   ],
   "source": [
    "m_7h2_a_waic = az.waic(m_7h2_a_trace, scale='deviance', pointwise=True)\n",
    "m_7h2_a_waic"
   ]
  },
  {
   "cell_type": "code",
   "execution_count": 26,
   "id": "ced4d600-f0b5-497c-8ecb-32e91c14e48d",
   "metadata": {},
   "outputs": [
    {
     "name": "stderr",
     "output_type": "stream",
     "text": [
      "d:\\Python\\venv\\pymc_env\\lib\\site-packages\\arviz\\stats\\stats.py:803: UserWarning: Estimated shape parameter of Pareto distribution is greater than 0.7 for one or more samples. You should consider using a more robust model, this is because importance sampling is less likely to work well if the marginal posterior and LOO posterior are very different. This is more likely to happen with a non-robust model and highly influential observations.\n",
      "  warnings.warn(\n"
     ]
    }
   ],
   "source": [
    "m_7h2_a_loo = az.loo(m_7h2_a_trace, scale='deviance', pointwise=True)"
   ]
  },
  {
   "cell_type": "code",
   "execution_count": 27,
   "id": "54248e38-520c-47aa-acf8-5dec88802007",
   "metadata": {},
   "outputs": [
    {
     "data": {
      "text/plain": [
       "Computed from 4000 posterior samples and 29 observations log-likelihood matrix.\n",
       "\n",
       "             Estimate       SE\n",
       "deviance_loo    86.89    18.56\n",
       "p_loo            5.36        -\n",
       "\n",
       "There has been a warning during the calculation. Please check the results.\n",
       "------\n",
       "\n",
       "Pareto k diagnostic values:\n",
       "                         Count   Pct.\n",
       "(-Inf, 0.5]   (good)       27   93.1%\n",
       " (0.5, 0.7]   (ok)          1    3.4%\n",
       "   (0.7, 1]   (bad)         1    3.4%\n",
       "   (1, Inf)   (very bad)    0    0.0%"
      ]
     },
     "execution_count": 27,
     "metadata": {},
     "output_type": "execute_result"
    }
   ],
   "source": [
    "m_7h2_a_loo"
   ]
  },
  {
   "cell_type": "code",
   "execution_count": 28,
   "id": "031863dc-c968-451e-b4d1-aabf584ea437",
   "metadata": {},
   "outputs": [
    {
     "data": {
      "text/html": [
       "<div><svg style=\"position: absolute; width: 0; height: 0; overflow: hidden\">\n",
       "<defs>\n",
       "<symbol id=\"icon-database\" viewBox=\"0 0 32 32\">\n",
       "<path d=\"M16 0c-8.837 0-16 2.239-16 5v4c0 2.761 7.163 5 16 5s16-2.239 16-5v-4c0-2.761-7.163-5-16-5z\"></path>\n",
       "<path d=\"M16 17c-8.837 0-16-2.239-16-5v6c0 2.761 7.163 5 16 5s16-2.239 16-5v-6c0 2.761-7.163 5-16 5z\"></path>\n",
       "<path d=\"M16 26c-8.837 0-16-2.239-16-5v6c0 2.761 7.163 5 16 5s16-2.239 16-5v-6c0 2.761-7.163 5-16 5z\"></path>\n",
       "</symbol>\n",
       "<symbol id=\"icon-file-text2\" viewBox=\"0 0 32 32\">\n",
       "<path d=\"M28.681 7.159c-0.694-0.947-1.662-2.053-2.724-3.116s-2.169-2.030-3.116-2.724c-1.612-1.182-2.393-1.319-2.841-1.319h-15.5c-1.378 0-2.5 1.121-2.5 2.5v27c0 1.378 1.122 2.5 2.5 2.5h23c1.378 0 2.5-1.122 2.5-2.5v-19.5c0-0.448-0.137-1.23-1.319-2.841zM24.543 5.457c0.959 0.959 1.712 1.825 2.268 2.543h-4.811v-4.811c0.718 0.556 1.584 1.309 2.543 2.268zM28 29.5c0 0.271-0.229 0.5-0.5 0.5h-23c-0.271 0-0.5-0.229-0.5-0.5v-27c0-0.271 0.229-0.5 0.5-0.5 0 0 15.499-0 15.5 0v7c0 0.552 0.448 1 1 1h7v19.5z\"></path>\n",
       "<path d=\"M23 26h-14c-0.552 0-1-0.448-1-1s0.448-1 1-1h14c0.552 0 1 0.448 1 1s-0.448 1-1 1z\"></path>\n",
       "<path d=\"M23 22h-14c-0.552 0-1-0.448-1-1s0.448-1 1-1h14c0.552 0 1 0.448 1 1s-0.448 1-1 1z\"></path>\n",
       "<path d=\"M23 18h-14c-0.552 0-1-0.448-1-1s0.448-1 1-1h14c0.552 0 1 0.448 1 1s-0.448 1-1 1z\"></path>\n",
       "</symbol>\n",
       "</defs>\n",
       "</svg>\n",
       "<style>/* CSS stylesheet for displaying xarray objects in jupyterlab.\n",
       " *\n",
       " */\n",
       "\n",
       ":root {\n",
       "  --xr-font-color0: var(--jp-content-font-color0, rgba(0, 0, 0, 1));\n",
       "  --xr-font-color2: var(--jp-content-font-color2, rgba(0, 0, 0, 0.54));\n",
       "  --xr-font-color3: var(--jp-content-font-color3, rgba(0, 0, 0, 0.38));\n",
       "  --xr-border-color: var(--jp-border-color2, #e0e0e0);\n",
       "  --xr-disabled-color: var(--jp-layout-color3, #bdbdbd);\n",
       "  --xr-background-color: var(--jp-layout-color0, white);\n",
       "  --xr-background-color-row-even: var(--jp-layout-color1, white);\n",
       "  --xr-background-color-row-odd: var(--jp-layout-color2, #eeeeee);\n",
       "}\n",
       "\n",
       "html[theme=dark],\n",
       "body[data-theme=dark],\n",
       "body.vscode-dark {\n",
       "  --xr-font-color0: rgba(255, 255, 255, 1);\n",
       "  --xr-font-color2: rgba(255, 255, 255, 0.54);\n",
       "  --xr-font-color3: rgba(255, 255, 255, 0.38);\n",
       "  --xr-border-color: #1F1F1F;\n",
       "  --xr-disabled-color: #515151;\n",
       "  --xr-background-color: #111111;\n",
       "  --xr-background-color-row-even: #111111;\n",
       "  --xr-background-color-row-odd: #313131;\n",
       "}\n",
       "\n",
       ".xr-wrap {\n",
       "  display: block !important;\n",
       "  min-width: 300px;\n",
       "  max-width: 700px;\n",
       "}\n",
       "\n",
       ".xr-text-repr-fallback {\n",
       "  /* fallback to plain text repr when CSS is not injected (untrusted notebook) */\n",
       "  display: none;\n",
       "}\n",
       "\n",
       ".xr-header {\n",
       "  padding-top: 6px;\n",
       "  padding-bottom: 6px;\n",
       "  margin-bottom: 4px;\n",
       "  border-bottom: solid 1px var(--xr-border-color);\n",
       "}\n",
       "\n",
       ".xr-header > div,\n",
       ".xr-header > ul {\n",
       "  display: inline;\n",
       "  margin-top: 0;\n",
       "  margin-bottom: 0;\n",
       "}\n",
       "\n",
       ".xr-obj-type,\n",
       ".xr-array-name {\n",
       "  margin-left: 2px;\n",
       "  margin-right: 10px;\n",
       "}\n",
       "\n",
       ".xr-obj-type {\n",
       "  color: var(--xr-font-color2);\n",
       "}\n",
       "\n",
       ".xr-sections {\n",
       "  padding-left: 0 !important;\n",
       "  display: grid;\n",
       "  grid-template-columns: 150px auto auto 1fr 20px 20px;\n",
       "}\n",
       "\n",
       ".xr-section-item {\n",
       "  display: contents;\n",
       "}\n",
       "\n",
       ".xr-section-item input {\n",
       "  display: none;\n",
       "}\n",
       "\n",
       ".xr-section-item input + label {\n",
       "  color: var(--xr-disabled-color);\n",
       "}\n",
       "\n",
       ".xr-section-item input:enabled + label {\n",
       "  cursor: pointer;\n",
       "  color: var(--xr-font-color2);\n",
       "}\n",
       "\n",
       ".xr-section-item input:enabled + label:hover {\n",
       "  color: var(--xr-font-color0);\n",
       "}\n",
       "\n",
       ".xr-section-summary {\n",
       "  grid-column: 1;\n",
       "  color: var(--xr-font-color2);\n",
       "  font-weight: 500;\n",
       "}\n",
       "\n",
       ".xr-section-summary > span {\n",
       "  display: inline-block;\n",
       "  padding-left: 0.5em;\n",
       "}\n",
       "\n",
       ".xr-section-summary-in:disabled + label {\n",
       "  color: var(--xr-font-color2);\n",
       "}\n",
       "\n",
       ".xr-section-summary-in + label:before {\n",
       "  display: inline-block;\n",
       "  content: '►';\n",
       "  font-size: 11px;\n",
       "  width: 15px;\n",
       "  text-align: center;\n",
       "}\n",
       "\n",
       ".xr-section-summary-in:disabled + label:before {\n",
       "  color: var(--xr-disabled-color);\n",
       "}\n",
       "\n",
       ".xr-section-summary-in:checked + label:before {\n",
       "  content: '▼';\n",
       "}\n",
       "\n",
       ".xr-section-summary-in:checked + label > span {\n",
       "  display: none;\n",
       "}\n",
       "\n",
       ".xr-section-summary,\n",
       ".xr-section-inline-details {\n",
       "  padding-top: 4px;\n",
       "  padding-bottom: 4px;\n",
       "}\n",
       "\n",
       ".xr-section-inline-details {\n",
       "  grid-column: 2 / -1;\n",
       "}\n",
       "\n",
       ".xr-section-details {\n",
       "  display: none;\n",
       "  grid-column: 1 / -1;\n",
       "  margin-bottom: 5px;\n",
       "}\n",
       "\n",
       ".xr-section-summary-in:checked ~ .xr-section-details {\n",
       "  display: contents;\n",
       "}\n",
       "\n",
       ".xr-array-wrap {\n",
       "  grid-column: 1 / -1;\n",
       "  display: grid;\n",
       "  grid-template-columns: 20px auto;\n",
       "}\n",
       "\n",
       ".xr-array-wrap > label {\n",
       "  grid-column: 1;\n",
       "  vertical-align: top;\n",
       "}\n",
       "\n",
       ".xr-preview {\n",
       "  color: var(--xr-font-color3);\n",
       "}\n",
       "\n",
       ".xr-array-preview,\n",
       ".xr-array-data {\n",
       "  padding: 0 5px !important;\n",
       "  grid-column: 2;\n",
       "}\n",
       "\n",
       ".xr-array-data,\n",
       ".xr-array-in:checked ~ .xr-array-preview {\n",
       "  display: none;\n",
       "}\n",
       "\n",
       ".xr-array-in:checked ~ .xr-array-data,\n",
       ".xr-array-preview {\n",
       "  display: inline-block;\n",
       "}\n",
       "\n",
       ".xr-dim-list {\n",
       "  display: inline-block !important;\n",
       "  list-style: none;\n",
       "  padding: 0 !important;\n",
       "  margin: 0;\n",
       "}\n",
       "\n",
       ".xr-dim-list li {\n",
       "  display: inline-block;\n",
       "  padding: 0;\n",
       "  margin: 0;\n",
       "}\n",
       "\n",
       ".xr-dim-list:before {\n",
       "  content: '(';\n",
       "}\n",
       "\n",
       ".xr-dim-list:after {\n",
       "  content: ')';\n",
       "}\n",
       "\n",
       ".xr-dim-list li:not(:last-child):after {\n",
       "  content: ',';\n",
       "  padding-right: 5px;\n",
       "}\n",
       "\n",
       ".xr-has-index {\n",
       "  font-weight: bold;\n",
       "}\n",
       "\n",
       ".xr-var-list,\n",
       ".xr-var-item {\n",
       "  display: contents;\n",
       "}\n",
       "\n",
       ".xr-var-item > div,\n",
       ".xr-var-item label,\n",
       ".xr-var-item > .xr-var-name span {\n",
       "  background-color: var(--xr-background-color-row-even);\n",
       "  margin-bottom: 0;\n",
       "}\n",
       "\n",
       ".xr-var-item > .xr-var-name:hover span {\n",
       "  padding-right: 5px;\n",
       "}\n",
       "\n",
       ".xr-var-list > li:nth-child(odd) > div,\n",
       ".xr-var-list > li:nth-child(odd) > label,\n",
       ".xr-var-list > li:nth-child(odd) > .xr-var-name span {\n",
       "  background-color: var(--xr-background-color-row-odd);\n",
       "}\n",
       "\n",
       ".xr-var-name {\n",
       "  grid-column: 1;\n",
       "}\n",
       "\n",
       ".xr-var-dims {\n",
       "  grid-column: 2;\n",
       "}\n",
       "\n",
       ".xr-var-dtype {\n",
       "  grid-column: 3;\n",
       "  text-align: right;\n",
       "  color: var(--xr-font-color2);\n",
       "}\n",
       "\n",
       ".xr-var-preview {\n",
       "  grid-column: 4;\n",
       "}\n",
       "\n",
       ".xr-index-preview {\n",
       "  grid-column: 2 / 5;\n",
       "  color: var(--xr-font-color2);\n",
       "}\n",
       "\n",
       ".xr-var-name,\n",
       ".xr-var-dims,\n",
       ".xr-var-dtype,\n",
       ".xr-preview,\n",
       ".xr-attrs dt {\n",
       "  white-space: nowrap;\n",
       "  overflow: hidden;\n",
       "  text-overflow: ellipsis;\n",
       "  padding-right: 10px;\n",
       "}\n",
       "\n",
       ".xr-var-name:hover,\n",
       ".xr-var-dims:hover,\n",
       ".xr-var-dtype:hover,\n",
       ".xr-attrs dt:hover {\n",
       "  overflow: visible;\n",
       "  width: auto;\n",
       "  z-index: 1;\n",
       "}\n",
       "\n",
       ".xr-var-attrs,\n",
       ".xr-var-data,\n",
       ".xr-index-data {\n",
       "  display: none;\n",
       "  background-color: var(--xr-background-color) !important;\n",
       "  padding-bottom: 5px !important;\n",
       "}\n",
       "\n",
       ".xr-var-attrs-in:checked ~ .xr-var-attrs,\n",
       ".xr-var-data-in:checked ~ .xr-var-data,\n",
       ".xr-index-data-in:checked ~ .xr-index-data {\n",
       "  display: block;\n",
       "}\n",
       "\n",
       ".xr-var-data > table {\n",
       "  float: right;\n",
       "}\n",
       "\n",
       ".xr-var-name span,\n",
       ".xr-var-data,\n",
       ".xr-index-name div,\n",
       ".xr-index-data,\n",
       ".xr-attrs {\n",
       "  padding-left: 25px !important;\n",
       "}\n",
       "\n",
       ".xr-attrs,\n",
       ".xr-var-attrs,\n",
       ".xr-var-data,\n",
       ".xr-index-data {\n",
       "  grid-column: 1 / -1;\n",
       "}\n",
       "\n",
       "dl.xr-attrs {\n",
       "  padding: 0;\n",
       "  margin: 0;\n",
       "  display: grid;\n",
       "  grid-template-columns: 125px auto;\n",
       "}\n",
       "\n",
       ".xr-attrs dt,\n",
       ".xr-attrs dd {\n",
       "  padding: 0;\n",
       "  margin: 0;\n",
       "  float: left;\n",
       "  padding-right: 10px;\n",
       "  width: auto;\n",
       "}\n",
       "\n",
       ".xr-attrs dt {\n",
       "  font-weight: normal;\n",
       "  grid-column: 1;\n",
       "}\n",
       "\n",
       ".xr-attrs dt:hover span {\n",
       "  display: inline-block;\n",
       "  background: var(--xr-background-color);\n",
       "  padding-right: 10px;\n",
       "}\n",
       "\n",
       ".xr-attrs dd {\n",
       "  grid-column: 2;\n",
       "  white-space: pre-wrap;\n",
       "  word-break: break-all;\n",
       "}\n",
       "\n",
       ".xr-icon-database,\n",
       ".xr-icon-file-text2,\n",
       ".xr-no-icon {\n",
       "  display: inline-block;\n",
       "  vertical-align: middle;\n",
       "  width: 1em;\n",
       "  height: 1.5em !important;\n",
       "  stroke-width: 0;\n",
       "  stroke: currentColor;\n",
       "  fill: currentColor;\n",
       "}\n",
       "</style><pre class='xr-text-repr-fallback'>&lt;xarray.DataArray &#x27;pareto_shape&#x27; (y_dim_0: 29)&gt;\n",
       "array([ 0.68264848,  0.17884528,  0.11027001,  0.03348785,  0.11866391,\n",
       "        0.20490393,  0.20959864,  0.18312698, -0.03893499, -0.00505574,\n",
       "        0.26102497,  0.84932218,  0.0671456 ,  0.11057654, -0.02493337,\n",
       "       -0.00447475, -0.00583331, -0.01705492,  0.07814663, -0.06354237,\n",
       "       -0.11219276,  0.10483328,  0.16461964,  0.00378079, -0.06128789,\n",
       "        0.03043969,  0.04544171,  0.11097289,  0.03350393])\n",
       "Coordinates:\n",
       "  * y_dim_0  (y_dim_0) int32 0 1 2 3 4 5 6 7 8 9 ... 20 21 22 23 24 25 26 27 28</pre><div class='xr-wrap' style='display:none'><div class='xr-header'><div class='xr-obj-type'>xarray.DataArray</div><div class='xr-array-name'>'pareto_shape'</div><ul class='xr-dim-list'><li><span class='xr-has-index'>y_dim_0</span>: 29</li></ul></div><ul class='xr-sections'><li class='xr-section-item'><div class='xr-array-wrap'><input id='section-0d3bd272-ddb2-4908-8640-61a611f24372' class='xr-array-in' type='checkbox' checked><label for='section-0d3bd272-ddb2-4908-8640-61a611f24372' title='Show/hide data repr'><svg class='icon xr-icon-database'><use xlink:href='#icon-database'></use></svg></label><div class='xr-array-preview xr-preview'><span>0.6826 0.1788 0.1103 0.03349 0.1187 ... 0.03044 0.04544 0.111 0.0335</span></div><div class='xr-array-data'><pre>array([ 0.68264848,  0.17884528,  0.11027001,  0.03348785,  0.11866391,\n",
       "        0.20490393,  0.20959864,  0.18312698, -0.03893499, -0.00505574,\n",
       "        0.26102497,  0.84932218,  0.0671456 ,  0.11057654, -0.02493337,\n",
       "       -0.00447475, -0.00583331, -0.01705492,  0.07814663, -0.06354237,\n",
       "       -0.11219276,  0.10483328,  0.16461964,  0.00378079, -0.06128789,\n",
       "        0.03043969,  0.04544171,  0.11097289,  0.03350393])</pre></div></div></li><li class='xr-section-item'><input id='section-c4d8bdb3-9848-4c66-89ed-bae1e5dfb772' class='xr-section-summary-in' type='checkbox'  checked><label for='section-c4d8bdb3-9848-4c66-89ed-bae1e5dfb772' class='xr-section-summary' >Coordinates: <span>(1)</span></label><div class='xr-section-inline-details'></div><div class='xr-section-details'><ul class='xr-var-list'><li class='xr-var-item'><div class='xr-var-name'><span class='xr-has-index'>y_dim_0</span></div><div class='xr-var-dims'>(y_dim_0)</div><div class='xr-var-dtype'>int32</div><div class='xr-var-preview xr-preview'>0 1 2 3 4 5 6 ... 23 24 25 26 27 28</div><input id='attrs-dc17e499-e865-482d-9842-8530bf22bd14' class='xr-var-attrs-in' type='checkbox' disabled><label for='attrs-dc17e499-e865-482d-9842-8530bf22bd14' title='Show/Hide attributes'><svg class='icon xr-icon-file-text2'><use xlink:href='#icon-file-text2'></use></svg></label><input id='data-aff6b026-c55b-4f61-8e0c-c78fcbdf0bc2' class='xr-var-data-in' type='checkbox'><label for='data-aff6b026-c55b-4f61-8e0c-c78fcbdf0bc2' title='Show/Hide data repr'><svg class='icon xr-icon-database'><use xlink:href='#icon-database'></use></svg></label><div class='xr-var-attrs'><dl class='xr-attrs'></dl></div><div class='xr-var-data'><pre>array([ 0,  1,  2,  3,  4,  5,  6,  7,  8,  9, 10, 11, 12, 13, 14, 15, 16, 17,\n",
       "       18, 19, 20, 21, 22, 23, 24, 25, 26, 27, 28])</pre></div></li></ul></div></li><li class='xr-section-item'><input id='section-f27d339f-2a97-497c-9615-9adf98ddd511' class='xr-section-summary-in' type='checkbox'  ><label for='section-f27d339f-2a97-497c-9615-9adf98ddd511' class='xr-section-summary' >Indexes: <span>(1)</span></label><div class='xr-section-inline-details'></div><div class='xr-section-details'><ul class='xr-var-list'><li class='xr-var-item'><div class='xr-index-name'><div>y_dim_0</div></div><div class='xr-index-preview'>PandasIndex</div><div></div><input id='index-48166c61-7b97-4145-90b4-8b7d73dc0fb3' class='xr-index-data-in' type='checkbox'/><label for='index-48166c61-7b97-4145-90b4-8b7d73dc0fb3' title='Show/Hide index repr'><svg class='icon xr-icon-database'><use xlink:href='#icon-database'></use></svg></label><div class='xr-index-data'><pre>PandasIndex(Index([ 0,  1,  2,  3,  4,  5,  6,  7,  8,  9, 10, 11, 12, 13, 14, 15, 16, 17,\n",
       "       18, 19, 20, 21, 22, 23, 24, 25, 26, 27, 28],\n",
       "      dtype=&#x27;int32&#x27;, name=&#x27;y_dim_0&#x27;))</pre></div></li></ul></div></li><li class='xr-section-item'><input id='section-c287d9ba-901b-4fae-8583-224248374d4f' class='xr-section-summary-in' type='checkbox' disabled ><label for='section-c287d9ba-901b-4fae-8583-224248374d4f' class='xr-section-summary'  title='Expand/collapse section'>Attributes: <span>(0)</span></label><div class='xr-section-inline-details'></div><div class='xr-section-details'><dl class='xr-attrs'></dl></div></li></ul></div></div>"
      ],
      "text/plain": [
       "<xarray.DataArray 'pareto_shape' (y_dim_0: 29)>\n",
       "array([ 0.68264848,  0.17884528,  0.11027001,  0.03348785,  0.11866391,\n",
       "        0.20490393,  0.20959864,  0.18312698, -0.03893499, -0.00505574,\n",
       "        0.26102497,  0.84932218,  0.0671456 ,  0.11057654, -0.02493337,\n",
       "       -0.00447475, -0.00583331, -0.01705492,  0.07814663, -0.06354237,\n",
       "       -0.11219276,  0.10483328,  0.16461964,  0.00378079, -0.06128789,\n",
       "        0.03043969,  0.04544171,  0.11097289,  0.03350393])\n",
       "Coordinates:\n",
       "  * y_dim_0  (y_dim_0) int32 0 1 2 3 4 5 6 7 8 9 ... 20 21 22 23 24 25 26 27 28"
      ]
     },
     "execution_count": 28,
     "metadata": {},
     "output_type": "execute_result"
    }
   ],
   "source": [
    "m_7h2_a_loo.pareto_k"
   ]
  },
  {
   "cell_type": "code",
   "execution_count": 29,
   "id": "0d5acc50-6101-464e-8632-51303757934b",
   "metadata": {},
   "outputs": [
    {
     "data": {
      "text/html": [
       "<div>\n",
       "<style scoped>\n",
       "    .dataframe tbody tr th:only-of-type {\n",
       "        vertical-align: middle;\n",
       "    }\n",
       "\n",
       "    .dataframe tbody tr th {\n",
       "        vertical-align: top;\n",
       "    }\n",
       "\n",
       "    .dataframe thead th {\n",
       "        text-align: right;\n",
       "    }\n",
       "</style>\n",
       "<table border=\"1\" class=\"dataframe\">\n",
       "  <thead>\n",
       "    <tr style=\"text-align: right;\">\n",
       "      <th></th>\n",
       "      <th>tax_rate</th>\n",
       "      <th>tax_revenue</th>\n",
       "      <th>tax_rate_std</th>\n",
       "      <th>tax_revenue_std</th>\n",
       "    </tr>\n",
       "  </thead>\n",
       "  <tbody>\n",
       "    <tr>\n",
       "      <th>11</th>\n",
       "      <td>28.32</td>\n",
       "      <td>10.02</td>\n",
       "      <td>0.225306</td>\n",
       "      <td>3.761445</td>\n",
       "    </tr>\n",
       "  </tbody>\n",
       "</table>\n",
       "</div>"
      ],
      "text/plain": [
       "    tax_rate  tax_revenue  tax_rate_std  tax_revenue_std\n",
       "11     28.32        10.02      0.225306         3.761445"
      ]
     },
     "execution_count": 29,
     "metadata": {},
     "output_type": "execute_result"
    }
   ],
   "source": [
    "laffer[m_7h2_a_loo.pareto_k.values > .7]"
   ]
  },
  {
   "cell_type": "markdown",
   "id": "c1eecad2-a897-4343-9bd8-45f73986a8d8",
   "metadata": {},
   "source": [
    "# We can see in the k values above, the extreme values in the original data"
   ]
  },
  {
   "cell_type": "code",
   "execution_count": 32,
   "id": "9041d8f6-e0bb-4dd2-9723-b03040d575a6",
   "metadata": {},
   "outputs": [
    {
     "name": "stderr",
     "output_type": "stream",
     "text": [
      "d:\\Python\\venv\\pymc_env\\lib\\site-packages\\pymc\\data.py:433: UserWarning: The `mutable` kwarg was not specified. Before v4.1.0 it defaulted to `pm.Data(mutable=True)`, which is equivalent to using `pm.MutableData()`. In v4.1.0 the default changed to `pm.Data(mutable=False)`, equivalent to `pm.ConstantData`. Use `pm.ConstantData`/`pm.MutableData` or pass `pm.Data(..., mutable=False/True)` to avoid this warning.\n",
      "  warnings.warn(\n",
      "Auto-assigning NUTS sampler...\n",
      "Initializing NUTS using jitter+adapt_diag...\n",
      "Multiprocess sampling (4 chains in 4 jobs)\n",
      "NUTS: [a, b1, b2, sigma]\n"
     ]
    },
    {
     "data": {
      "text/html": [
       "\n",
       "<style>\n",
       "    /* Turns off some styling */\n",
       "    progress {\n",
       "        /* gets rid of default border in Firefox and Opera. */\n",
       "        border: none;\n",
       "        /* Needs to be in here for Safari polyfill so background images work as expected. */\n",
       "        background-size: auto;\n",
       "    }\n",
       "    progress:not([value]), progress:not([value])::-webkit-progress-bar {\n",
       "        background: repeating-linear-gradient(45deg, #7e7e7e, #7e7e7e 10px, #5c5c5c 10px, #5c5c5c 20px);\n",
       "    }\n",
       "    .progress-bar-interrupted, .progress-bar-interrupted::-webkit-progress-bar {\n",
       "        background: #F44336;\n",
       "    }\n",
       "</style>\n"
      ],
      "text/plain": [
       "<IPython.core.display.HTML object>"
      ]
     },
     "metadata": {},
     "output_type": "display_data"
    },
    {
     "data": {
      "text/html": [
       "\n",
       "    <div>\n",
       "      <progress value='8000' class='' max='8000' style='width:300px; height:20px; vertical-align: middle;'></progress>\n",
       "      100.00% [8000/8000 00:04&lt;00:00 Sampling 4 chains, 0 divergences]\n",
       "    </div>\n",
       "    "
      ],
      "text/plain": [
       "<IPython.core.display.HTML object>"
      ]
     },
     "metadata": {},
     "output_type": "display_data"
    },
    {
     "name": "stderr",
     "output_type": "stream",
     "text": [
      "Sampling 4 chains for 1_000 tune and 1_000 draw iterations (4_000 + 4_000 draws total) took 16 seconds.\n"
     ]
    }
   ],
   "source": [
    "with pm.Model() as m_7h2_b:\n",
    "        a = pm.Normal('a', 0, .5)\n",
    "        b1 = pm.Normal('b1', 0, .5)\n",
    "        b2 = pm.Normal('b2', 0, .5)\n",
    "        x_values = pm.Data('x_values', laffer['tax_rate_std'])\n",
    "        y_values = pm.Data('y_values', laffer['tax_revenue_std'])\n",
    "        sigma = pm.Exponential('sigma',1)\n",
    "        mu = pm.Deterministic('mu',a + b1*x_values + b2*x_values**2)\n",
    "        y = pm.StudentT('y', nu=2, mu=mu, sigma=sigma, observed=y_values)\n",
    "        m_7h2_b_trace = pm.sample(idata_kwargs={\"log_likelihood\": True})"
   ]
  },
  {
   "cell_type": "code",
   "execution_count": 33,
   "id": "9235fbd1-edb3-4184-b475-94b92131bed7",
   "metadata": {},
   "outputs": [
    {
     "name": "stderr",
     "output_type": "stream",
     "text": [
      "d:\\Python\\venv\\pymc_env\\lib\\site-packages\\arviz\\stats\\stats.py:1645: UserWarning: For one or more samples the posterior variance of the log predictive densities exceeds 0.4. This could be indication of WAIC starting to fail. \n",
      "See http://arxiv.org/abs/1507.04544 for details\n",
      "  warnings.warn(\n"
     ]
    },
    {
     "data": {
      "text/plain": [
       "Computed from 4000 posterior samples and 29 observations log-likelihood matrix.\n",
       "\n",
       "              Estimate       SE\n",
       "deviance_waic    72.26    12.43\n",
       "p_waic            3.73        -\n",
       "\n",
       "There has been a warning during the calculation. Please check the results."
      ]
     },
     "execution_count": 33,
     "metadata": {},
     "output_type": "execute_result"
    }
   ],
   "source": [
    "az.waic(m_7h2_b_trace, scale='deviance', pointwise=True)"
   ]
  },
  {
   "cell_type": "code",
   "execution_count": 34,
   "id": "a83c452f-a3e7-4838-96b0-6e890229cd55",
   "metadata": {},
   "outputs": [],
   "source": [
    "m_7h2_b_loo = az.loo(m_7h2_b_trace, scale='deviance', pointwise=True)"
   ]
  },
  {
   "cell_type": "code",
   "execution_count": 35,
   "id": "6ef89b0f-9a71-46a1-8e8d-468ae80b5999",
   "metadata": {},
   "outputs": [
    {
     "data": {
      "text/plain": [
       "Computed from 4000 posterior samples and 29 observations log-likelihood matrix.\n",
       "\n",
       "             Estimate       SE\n",
       "deviance_loo    72.46    12.43\n",
       "p_loo            3.82        -\n",
       "------\n",
       "\n",
       "Pareto k diagnostic values:\n",
       "                         Count   Pct.\n",
       "(-Inf, 0.5]   (good)       29  100.0%\n",
       " (0.5, 0.7]   (ok)          0    0.0%\n",
       "   (0.7, 1]   (bad)         0    0.0%\n",
       "   (1, Inf)   (very bad)    0    0.0%"
      ]
     },
     "execution_count": 35,
     "metadata": {},
     "output_type": "execute_result"
    }
   ],
   "source": [
    "m_7h2_b_loo"
   ]
  },
  {
   "cell_type": "markdown",
   "id": "1eeba58b-43b3-4a64-a95d-7e3a7f5443ba",
   "metadata": {},
   "source": [
    "With the Student T distribution, the extreme values are no longer triggering a warning"
   ]
  },
  {
   "cell_type": "code",
   "execution_count": 45,
   "id": "a5baaa1b-de1a-4cea-9674-e341173da733",
   "metadata": {},
   "outputs": [
    {
     "name": "stderr",
     "output_type": "stream",
     "text": [
      "d:\\Python\\venv\\pymc_env\\lib\\site-packages\\matplotlib\\collections.py:996: RuntimeWarning: invalid value encountered in sqrt\n",
      "  scale = np.sqrt(self._sizes) * dpi / 72.0 * self._factor\n"
     ]
    },
    {
     "data": {
      "text/plain": [
       "[<matplotlib.lines.Line2D at 0x242cfe33d90>]"
      ]
     },
     "execution_count": 45,
     "metadata": {},
     "output_type": "execute_result"
    },
    {
     "data": {
      "image/png": "[encoded data removed]",
      "text/plain": [
       "<Figure size 640x480 with 1 Axes>"
      ]
     },
     "metadata": {},
     "output_type": "display_data"
    }
   ],
   "source": [
    "x_axis_points = np.linspace(-3.5,1.5, 200)\n",
    "\n",
    "y_model_1 = (m_7h2_a_trace['posterior']['a'].mean().item(0) + \n",
    "             m_7h2_a_trace['posterior']['b1'].mean().item(0) * x_axis_points +  \n",
    "             m_7h2_a_trace['posterior']['b2'].mean().item(0) * x_axis_points**2)\n",
    "\n",
    "y_model_2 = (m_7h2_b_trace['posterior']['a'].mean().item(0) + \n",
    "             m_7h2_b_trace['posterior']['b1'].mean().item(0) * x_axis_points +  \n",
    "             m_7h2_b_trace['posterior']['b2'].mean().item(0) * x_axis_points**2)\n",
    "\n",
    "plt.scatter(laffer['tax_rate_std'],laffer['tax_revenue_std'], s=m_7h2_b_loo.pareto_k.values*100)\n",
    "plt.plot(x_axis_points,y_model_1, label='Gaussian', color='r')\n",
    "plt.plot(x_axis_points,y_model_2, label='Student T', color='g')"
   ]
  },
  {
   "cell_type": "code",
   "execution_count": 37,
   "id": "f1afa655-74bc-402e-94a7-c504a9f6c8ff",
   "metadata": {},
   "outputs": [
    {
     "data": {
      "text/plain": [
       "(-0.11219275894288251, 0.8493221751850093)"
      ]
     },
     "execution_count": 37,
     "metadata": {},
     "output_type": "execute_result"
    }
   ],
   "source": [
    "np.min(m_7h2_a_loo.pareto_k.values),np.max(m_7h2_a_loo.pareto_k.values)"
   ]
  },
  {
   "cell_type": "code",
   "execution_count": 38,
   "id": "f05360db-550a-4917-9726-4801d1d9db43",
   "metadata": {},
   "outputs": [
    {
     "data": {
      "text/plain": [
       "array([0.08552633])"
      ]
     },
     "execution_count": 38,
     "metadata": {},
     "output_type": "execute_result"
    }
   ],
   "source": [
    "m_7h2_b_loo.pareto_k.values[m_7h2_a_loo.pareto_k.values > .7]"
   ]
  },
  {
   "cell_type": "markdown",
   "id": "ccfa86b4-4a38-4921-88ef-d7ea21eafa1f",
   "metadata": {},
   "source": [
    "# With the Student T distribution, the more extreme values are having less influence than some of the values closed to the fitted curve."
   ]
  },
  {
   "cell_type": "code",
   "execution_count": 42,
   "id": "24197fa4-6b4c-4d13-afcb-4c2a583e3554",
   "metadata": {},
   "outputs": [
    {
     "name": "stderr",
     "output_type": "stream",
     "text": [
      "d:\\Python\\venv\\pymc_env\\lib\\site-packages\\arviz\\stats\\stats.py:803: UserWarning: Estimated shape parameter of Pareto distribution is greater than 0.7 for one or more samples. You should consider using a more robust model, this is because importance sampling is less likely to work well if the marginal posterior and LOO posterior are very different. This is more likely to happen with a non-robust model and highly influential observations.\n",
      "  warnings.warn(\n",
      "d:\\Python\\venv\\pymc_env\\lib\\site-packages\\arviz\\stats\\stats.py:307: FutureWarning: Setting an item of incompatible dtype is deprecated and will raise in a future error of pandas. Value 'False' has dtype incompatible with float64, please explicitly cast to a compatible dtype first.\n",
      "  df_comp.loc[val] = (\n",
      "d:\\Python\\venv\\pymc_env\\lib\\site-packages\\arviz\\stats\\stats.py:307: FutureWarning: Setting an item of incompatible dtype is deprecated and will raise in a future error of pandas. Value 'deviance' has dtype incompatible with float64, please explicitly cast to a compatible dtype first.\n",
      "  df_comp.loc[val] = (\n"
     ]
    },
    {
     "data": {
      "text/html": [
       "<div>\n",
       "<style scoped>\n",
       "    .dataframe tbody tr th:only-of-type {\n",
       "        vertical-align: middle;\n",
       "    }\n",
       "\n",
       "    .dataframe tbody tr th {\n",
       "        vertical-align: top;\n",
       "    }\n",
       "\n",
       "    .dataframe thead th {\n",
       "        text-align: right;\n",
       "    }\n",
       "</style>\n",
       "<table border=\"1\" class=\"dataframe\">\n",
       "  <thead>\n",
       "    <tr style=\"text-align: right;\">\n",
       "      <th></th>\n",
       "      <th>rank</th>\n",
       "      <th>elpd_loo</th>\n",
       "      <th>p_loo</th>\n",
       "      <th>elpd_diff</th>\n",
       "      <th>weight</th>\n",
       "      <th>se</th>\n",
       "      <th>dse</th>\n",
       "      <th>warning</th>\n",
       "      <th>scale</th>\n",
       "    </tr>\n",
       "  </thead>\n",
       "  <tbody>\n",
       "    <tr>\n",
       "      <th>2_StudentT</th>\n",
       "      <td>0</td>\n",
       "      <td>72.456170</td>\n",
       "      <td>3.823538</td>\n",
       "      <td>0.000000</td>\n",
       "      <td>0.881156</td>\n",
       "      <td>12.434494</td>\n",
       "      <td>0.000000</td>\n",
       "      <td>False</td>\n",
       "      <td>deviance</td>\n",
       "    </tr>\n",
       "    <tr>\n",
       "      <th>2_Gaussian</th>\n",
       "      <td>1</td>\n",
       "      <td>87.159222</td>\n",
       "      <td>5.509821</td>\n",
       "      <td>14.703052</td>\n",
       "      <td>0.118844</td>\n",
       "      <td>18.930994</td>\n",
       "      <td>11.306268</td>\n",
       "      <td>True</td>\n",
       "      <td>deviance</td>\n",
       "    </tr>\n",
       "  </tbody>\n",
       "</table>\n",
       "</div>"
      ],
      "text/plain": [
       "            rank   elpd_loo     p_loo  elpd_diff    weight         se  \\\n",
       "2_StudentT     0  72.456170  3.823538   0.000000  0.881156  12.434494   \n",
       "2_Gaussian     1  87.159222  5.509821  14.703052  0.118844  18.930994   \n",
       "\n",
       "                  dse  warning     scale  \n",
       "2_StudentT   0.000000    False  deviance  \n",
       "2_Gaussian  11.306268     True  deviance  "
      ]
     },
     "execution_count": 42,
     "metadata": {},
     "output_type": "execute_result"
    }
   ],
   "source": [
    "compare_data_7h2 = az.compare({'2_Gaussian':m_7h1_b_trace,\n",
    "            '2_StudentT':m_7h2_b_trace},\n",
    "           scale='deviance',\n",
    "           ic='loo'\n",
    "          )\n",
    "compare_data_7h2"
   ]
  },
  {
   "cell_type": "code",
   "execution_count": 43,
   "id": "1c50d9b1-ae8c-48b3-ac85-cd3bdfd6c3b8",
   "metadata": {},
   "outputs": [
    {
     "name": "stderr",
     "output_type": "stream",
     "text": [
      "d:\\Python\\venv\\pymc_env\\lib\\site-packages\\arviz\\plots\\backends\\matplotlib\\compareplot.py:87: FutureWarning: Series.__getitem__ treating keys as positions is deprecated. In a future version, integer keys will always be treated as labels (consistent with DataFrame behavior). To access a value by position, use `ser.iloc[pos]`\n",
      "  scale = comp_df[\"scale\"][0]\n"
     ]
    },
    {
     "data": {
      "text/plain": [
       "<Axes: title={'center': 'Model comparison\\nlower is better'}, xlabel='elpd_loo (deviance)', ylabel='ranked models'>"
      ]
     },
     "execution_count": 43,
     "metadata": {},
     "output_type": "execute_result"
    },
    {
     "data": {
      "image/png": "[encoded data removed]",
      "text/plain": [
       "<Figure size 600x200 with 1 Axes>"
      ]
     },
     "metadata": {},
     "output_type": "display_data"
    }
   ],
   "source": [
    "az.plot_compare(compare_data_7h2)"
   ]
  },
  {
   "cell_type": "markdown",
   "id": "6467fa34-bc2a-4e3a-8bbb-e09b1c10c585",
   "metadata": {},
   "source": [
    "# 7H3 Consider three fictional Polynesian islands. On each there is a Royal Ornithologist charged by the king with surveying the bird population. They have each found the following proportions of 5 important bird species:  (You can see the data in the dataframe in the next cell). Notice that each row sums to 1, all the birds. This problem has two parts. It is not computationally complicated. But it is conceptually tricky. First, compute the entropy of each island’s bird distribution. Interpret these entropy values. Second, use each island’s bird distribution to predict the other two. This means to compute the KL divergence of each island from the others, treating each island as if it were a statistical model of the other islands. You should end up with 6 different KL divergence values. Which island predicts the others best? Why?"
   ]
  },
  {
   "cell_type": "code",
   "execution_count": 46,
   "id": "6be96094-c7ed-436d-888c-7721a8417918",
   "metadata": {},
   "outputs": [
    {
     "data": {
      "text/html": [
       "<div>\n",
       "<style scoped>\n",
       "    .dataframe tbody tr th:only-of-type {\n",
       "        vertical-align: middle;\n",
       "    }\n",
       "\n",
       "    .dataframe tbody tr th {\n",
       "        vertical-align: top;\n",
       "    }\n",
       "\n",
       "    .dataframe thead th {\n",
       "        text-align: right;\n",
       "    }\n",
       "</style>\n",
       "<table border=\"1\" class=\"dataframe\">\n",
       "  <thead>\n",
       "    <tr style=\"text-align: right;\">\n",
       "      <th></th>\n",
       "      <th>Species A</th>\n",
       "      <th>Species B</th>\n",
       "      <th>Species C</th>\n",
       "      <th>Species D</th>\n",
       "      <th>Species E</th>\n",
       "    </tr>\n",
       "  </thead>\n",
       "  <tbody>\n",
       "    <tr>\n",
       "      <th>Island 1</th>\n",
       "      <td>0.20</td>\n",
       "      <td>0.20</td>\n",
       "      <td>0.20</td>\n",
       "      <td>0.200</td>\n",
       "      <td>0.200</td>\n",
       "    </tr>\n",
       "    <tr>\n",
       "      <th>Island 2</th>\n",
       "      <td>0.80</td>\n",
       "      <td>0.10</td>\n",
       "      <td>0.05</td>\n",
       "      <td>0.025</td>\n",
       "      <td>0.025</td>\n",
       "    </tr>\n",
       "    <tr>\n",
       "      <th>Island 3</th>\n",
       "      <td>0.05</td>\n",
       "      <td>0.15</td>\n",
       "      <td>0.70</td>\n",
       "      <td>0.050</td>\n",
       "      <td>0.050</td>\n",
       "    </tr>\n",
       "  </tbody>\n",
       "</table>\n",
       "</div>"
      ],
      "text/plain": [
       "          Species A  Species B  Species C  Species D  Species E\n",
       "Island 1       0.20       0.20       0.20      0.200      0.200\n",
       "Island 2       0.80       0.10       0.05      0.025      0.025\n",
       "Island 3       0.05       0.15       0.70      0.050      0.050"
      ]
     },
     "execution_count": 46,
     "metadata": {},
     "output_type": "execute_result"
    }
   ],
   "source": [
    "island_data = pd.DataFrame({'Species A': [0.2, 0.8,0.05],\n",
    "               'Species B': [0.2, 0.1,0.15],\n",
    "              'Species C': [0.2, 0.05,0.7],\n",
    "              'Species D': [0.2, 0.025,0.05],\n",
    "              'Species E': [0.2, 0.025,0.05]})\n",
    "island_data.index = ['Island 1','Island 2','Island 3']\n",
    "island_data"
   ]
  },
  {
   "cell_type": "code",
   "execution_count": 47,
   "id": "baedf14a-f94f-4ff6-81ff-6383e51af431",
   "metadata": {},
   "outputs": [],
   "source": [
    "def calc_entropy(values):\n",
    "    np_values = np.array(values)\n",
    "    return np.round(-np.sum(np_values * np.log(np_values)),2)"
   ]
  },
  {
   "cell_type": "code",
   "execution_count": 48,
   "id": "8617754d-716d-4979-a23b-c5a09fec03eb",
   "metadata": {},
   "outputs": [
    {
     "data": {
      "text/plain": [
       "Island 1    1.61\n",
       "Island 2    0.74\n",
       "Island 3    0.98\n",
       "dtype: float64"
      ]
     },
     "execution_count": 48,
     "metadata": {},
     "output_type": "execute_result"
    }
   ],
   "source": [
    "island_data.apply(calc_entropy, axis=1)"
   ]
  },
  {
   "cell_type": "markdown",
   "id": "a164ae43-f8e0-493c-9628-923e92500a0a",
   "metadata": {},
   "source": [
    "## Island 1 has the most entropy because the type of species you find if you pick at random is basically random.  So it has the most randomness.  Island 2 has less entropy because it's very likely you will always get Species A "
   ]
  },
  {
   "cell_type": "code",
   "execution_count": 49,
   "id": "52838f7c-1be9-4d84-8a7b-140fba98bf41",
   "metadata": {},
   "outputs": [
    {
     "data": {
      "text/plain": [
       "[(0, 0), (0, 1), (0, 2), (1, 0), (1, 1), (1, 2), (2, 0), (2, 1), (2, 2)]"
      ]
     },
     "execution_count": 49,
     "metadata": {},
     "output_type": "execute_result"
    }
   ],
   "source": [
    "[(x, y) for x in range(3) for y in range(3)]"
   ]
  },
  {
   "cell_type": "code",
   "execution_count": 50,
   "id": "4a6226e4-cdf7-4843-901c-65c98c9c0643",
   "metadata": {},
   "outputs": [],
   "source": [
    "test1 = island_data.iloc[0,:]\n",
    "test2 = island_data.iloc[1,:]"
   ]
  },
  {
   "cell_type": "code",
   "execution_count": 51,
   "id": "4a20a931-76cf-41e4-aeab-caa73ae6ed3e",
   "metadata": {},
   "outputs": [],
   "source": [
    "def kl_divergence(x,y):\n",
    "    result = np.sum(x*(np.log(x) - np.log(y)))\n",
    "    return(np.round(result,2))"
   ]
  },
  {
   "cell_type": "code",
   "execution_count": 52,
   "id": "32317b2a-401f-4a43-8234-1932d48dc5fd",
   "metadata": {},
   "outputs": [
    {
     "name": "stdout",
     "output_type": "stream",
     "text": [
      " Predict Island 1 using Island 1: 0.0\n",
      " Predict Island 2 using Island 2: 0.97\n",
      " Predict Island 3 using Island 3: 0.64\n",
      " Predict Island 1 using Island 1: 0.87\n",
      " Predict Island 2 using Island 2: 0.0\n",
      " Predict Island 3 using Island 3: 2.01\n",
      " Predict Island 1 using Island 1: 0.63\n",
      " Predict Island 2 using Island 2: 1.84\n",
      " Predict Island 3 using Island 3: 0.0\n"
     ]
    },
    {
     "data": {
      "text/plain": [
       "[None, None, None, None, None, None, None, None, None]"
      ]
     },
     "execution_count": 52,
     "metadata": {},
     "output_type": "execute_result"
    }
   ],
   "source": [
    "[print(f' Predict Island {y+1} using Island {y+1}: {kl_divergence(island_data.iloc[x,:], island_data.iloc[y,:])}') for x in range(3) for y in range(3)]"
   ]
  },
  {
   "cell_type": "markdown",
   "id": "c422bcdc-e2cb-4e5b-b95e-7d3012fe330e",
   "metadata": {},
   "source": [
    "## Since Island 2 and 3 both have a higher likelihood of a single species, using one to predict the other leads to the higest entropy.  Basically, using one of the islands to predict the other leads to an unexpected results.  Compre this to Island one, where we would be less surprised to see other distributions since all the species on Island 1 have the same proabilities.  So we will be less surprised going from Island 1 to other islands, compared to starting at Island 2 or 3 and going to 3 or 2."
   ]
  },
  {
   "cell_type": "markdown",
   "id": "09483729-5017-44d3-8e05-cb34196405c7",
   "metadata": {},
   "source": [
    "# 7H4. Recall the marriage, age, and happiness collider bias example from Chapter 6. Run models m6.9 and m6.10 again (page 178). Compare these two models using WAIC (or PSIS, they will produce identical results). Which model is expected to make better predictions? Which model provides the correct causal inference about the influence of age on happiness? Can you explain why the answers to these two questions disagree?"
   ]
  },
  {
   "cell_type": "code",
   "execution_count": 60,
   "id": "c6c8632e-8bde-47c4-867a-9cb0a82e7974",
   "metadata": {},
   "outputs": [],
   "source": [
    "def inv_logit(x):\n",
    "    return np.exp(x) / (1 + np.exp(x))\n",
    "\n",
    "#Recreate the simulation in the book \n",
    "def sim_happiness(N_years=100, seed=1234):\n",
    "    np.random.seed(seed)\n",
    "\n",
    "    popn = pd.DataFrame(np.zeros((20 * 65, 3)), columns=[\"age\", \"happiness\", \"married\"])\n",
    "    popn.loc[:, \"age\"] = np.repeat(np.arange(65), 20)\n",
    "    popn.loc[:, \"happiness\"] = np.repeat(np.linspace(-2, 2, 20), 65)\n",
    "    popn.loc[:, \"married\"] = np.array(popn.loc[:, \"married\"].values, dtype=\"bool\")\n",
    "\n",
    "    for i in range(N_years):\n",
    "        # age population\n",
    "        popn.loc[:, \"age\"] += 1\n",
    "        # replace old folk with new folk\n",
    "        ind = popn.age == 65\n",
    "        popn.loc[ind, \"age\"] = 0\n",
    "        popn.loc[ind, \"married\"] = False\n",
    "        popn.loc[ind, \"happiness\"] = np.linspace(-2, 2, 20)\n",
    "\n",
    "        # do the work\n",
    "        elligible = (popn.married == 0) & (popn.age >= 18)\n",
    "        marry = np.random.binomial(1, inv_logit(popn.loc[elligible, \"happiness\"] - 4)) == 1\n",
    "        popn.loc[elligible, \"married\"] = marry\n",
    "\n",
    "    popn.sort_values(\"age\", inplace=True, ignore_index=True)\n",
    "\n",
    "    return popn"
   ]
  },
  {
   "cell_type": "code",
   "execution_count": 61,
   "id": "3002399d-29ef-4b16-99bc-b60c4057aa55",
   "metadata": {},
   "outputs": [
    {
     "data": {
      "text/html": [
       "<div>\n",
       "<style scoped>\n",
       "    .dataframe tbody tr th:only-of-type {\n",
       "        vertical-align: middle;\n",
       "    }\n",
       "\n",
       "    .dataframe tbody tr th {\n",
       "        vertical-align: top;\n",
       "    }\n",
       "\n",
       "    .dataframe thead th {\n",
       "        text-align: right;\n",
       "    }\n",
       "</style>\n",
       "<table border=\"1\" class=\"dataframe\">\n",
       "  <thead>\n",
       "    <tr style=\"text-align: right;\">\n",
       "      <th></th>\n",
       "      <th>mean</th>\n",
       "      <th>sd</th>\n",
       "      <th>hdi_3%</th>\n",
       "      <th>hdi_97%</th>\n",
       "    </tr>\n",
       "  </thead>\n",
       "  <tbody>\n",
       "    <tr>\n",
       "      <th>age</th>\n",
       "      <td>32.00</td>\n",
       "      <td>18.77</td>\n",
       "      <td>0.0</td>\n",
       "      <td>61.00</td>\n",
       "    </tr>\n",
       "    <tr>\n",
       "      <th>happiness</th>\n",
       "      <td>-0.00</td>\n",
       "      <td>1.21</td>\n",
       "      <td>-2.0</td>\n",
       "      <td>1.79</td>\n",
       "    </tr>\n",
       "    <tr>\n",
       "      <th>married</th>\n",
       "      <td>0.28</td>\n",
       "      <td>0.45</td>\n",
       "      <td>0.0</td>\n",
       "      <td>1.00</td>\n",
       "    </tr>\n",
       "  </tbody>\n",
       "</table>\n",
       "</div>"
      ],
      "text/plain": [
       "            mean     sd  hdi_3%  hdi_97%\n",
       "age        32.00  18.77     0.0    61.00\n",
       "happiness  -0.00   1.21    -2.0     1.79\n",
       "married     0.28   0.45     0.0     1.00"
      ]
     },
     "execution_count": 61,
     "metadata": {},
     "output_type": "execute_result"
    }
   ],
   "source": [
    "popn = sim_happiness(N_years=1000, seed=1977)\n",
    "\n",
    "popn_summ = popn.copy()\n",
    "popn_summ[\"married\"] = popn_summ[\"married\"].astype(int)\n",
    "# this is necessary before using az.summary, which doesn't work with boolean columns.\n",
    "az.summary(popn_summ.to_dict(orient=\"list\"), kind=\"stats\", round_to=2)"
   ]
  },
  {
   "cell_type": "code",
   "execution_count": 62,
   "id": "20d45334-badb-4eb4-8032-d1780056e64e",
   "metadata": {},
   "outputs": [],
   "source": [
    "adults = popn.loc[popn.age > 17].copy()\n",
    "adults.loc[:, \"A\"] = (adults[\"age\"].copy() - 18) / (65 - 18)"
   ]
  },
  {
   "cell_type": "code",
   "execution_count": 63,
   "id": "c06c9e42-f420-4fe2-b711-9d63ad589183",
   "metadata": {},
   "outputs": [
    {
     "name": "stderr",
     "output_type": "stream",
     "text": [
      "Auto-assigning NUTS sampler...\n",
      "Initializing NUTS using jitter+adapt_diag...\n",
      "Multiprocess sampling (4 chains in 4 jobs)\n",
      "NUTS: [a, bA, sigma]\n"
     ]
    },
    {
     "data": {
      "text/html": [
       "\n",
       "<style>\n",
       "    /* Turns off some styling */\n",
       "    progress {\n",
       "        /* gets rid of default border in Firefox and Opera. */\n",
       "        border: none;\n",
       "        /* Needs to be in here for Safari polyfill so background images work as expected. */\n",
       "        background-size: auto;\n",
       "    }\n",
       "    progress:not([value]), progress:not([value])::-webkit-progress-bar {\n",
       "        background: repeating-linear-gradient(45deg, #7e7e7e, #7e7e7e 10px, #5c5c5c 10px, #5c5c5c 20px);\n",
       "    }\n",
       "    .progress-bar-interrupted, .progress-bar-interrupted::-webkit-progress-bar {\n",
       "        background: #F44336;\n",
       "    }\n",
       "</style>\n"
      ],
      "text/plain": [
       "<IPython.core.display.HTML object>"
      ]
     },
     "metadata": {},
     "output_type": "display_data"
    },
    {
     "data": {
      "text/html": [
       "\n",
       "    <div>\n",
       "      <progress value='8000' class='' max='8000' style='width:300px; height:20px; vertical-align: middle;'></progress>\n",
       "      100.00% [8000/8000 00:04&lt;00:00 Sampling 4 chains, 0 divergences]\n",
       "    </div>\n",
       "    "
      ],
      "text/plain": [
       "<IPython.core.display.HTML object>"
      ]
     },
     "metadata": {},
     "output_type": "display_data"
    },
    {
     "name": "stderr",
     "output_type": "stream",
     "text": [
      "Sampling 4 chains for 1_000 tune and 1_000 draw iterations (4_000 + 4_000 draws total) took 17 seconds.\n"
     ]
    }
   ],
   "source": [
    "mid = adults.loc[:, \"married\"].astype(int).values\n",
    "\n",
    "with pm.Model() as m_7h4_a:\n",
    "    a = pm.Normal(\"a\", 0, 1, shape=2)\n",
    "    bA = pm.Normal(\"bA\", 0, 2)\n",
    "    mu = a[mid] + bA * adults.A.values\n",
    "    sigma = pm.Exponential(\"sigma\", 1)\n",
    "    happiness = pm.Normal(\"happiness\", mu, sigma, observed=adults.happiness.values)\n",
    "    m_7h4_a_trace = pm.sample(idata_kwargs={\"log_likelihood\": True})"
   ]
  },
  {
   "cell_type": "code",
   "execution_count": 65,
   "id": "fba5c271-7a74-4a56-8a6e-9edc5b3f0b77",
   "metadata": {},
   "outputs": [
    {
     "name": "stderr",
     "output_type": "stream",
     "text": [
      "Auto-assigning NUTS sampler...\n",
      "Initializing NUTS using jitter+adapt_diag...\n",
      "Multiprocess sampling (4 chains in 4 jobs)\n",
      "NUTS: [a, bA, sigma]\n"
     ]
    },
    {
     "data": {
      "text/html": [
       "\n",
       "<style>\n",
       "    /* Turns off some styling */\n",
       "    progress {\n",
       "        /* gets rid of default border in Firefox and Opera. */\n",
       "        border: none;\n",
       "        /* Needs to be in here for Safari polyfill so background images work as expected. */\n",
       "        background-size: auto;\n",
       "    }\n",
       "    progress:not([value]), progress:not([value])::-webkit-progress-bar {\n",
       "        background: repeating-linear-gradient(45deg, #7e7e7e, #7e7e7e 10px, #5c5c5c 10px, #5c5c5c 20px);\n",
       "    }\n",
       "    .progress-bar-interrupted, .progress-bar-interrupted::-webkit-progress-bar {\n",
       "        background: #F44336;\n",
       "    }\n",
       "</style>\n"
      ],
      "text/plain": [
       "<IPython.core.display.HTML object>"
      ]
     },
     "metadata": {},
     "output_type": "display_data"
    },
    {
     "data": {
      "text/html": [
       "\n",
       "    <div>\n",
       "      <progress value='8000' class='' max='8000' style='width:300px; height:20px; vertical-align: middle;'></progress>\n",
       "      100.00% [8000/8000 00:04&lt;00:00 Sampling 4 chains, 0 divergences]\n",
       "    </div>\n",
       "    "
      ],
      "text/plain": [
       "<IPython.core.display.HTML object>"
      ]
     },
     "metadata": {},
     "output_type": "display_data"
    },
    {
     "name": "stderr",
     "output_type": "stream",
     "text": [
      "Sampling 4 chains for 1_000 tune and 1_000 draw iterations (4_000 + 4_000 draws total) took 17 seconds.\n"
     ]
    }
   ],
   "source": [
    "with pm.Model() as m_7h4_b:\n",
    "    a = pm.Normal(\"a\", 0, 1)\n",
    "    bA = pm.Normal(\"bA\", 0, 2)\n",
    "    mu = a + bA * adults.A.values\n",
    "    sigma = pm.Exponential(\"sigma\", 1)\n",
    "    happiness = pm.Normal(\"happiness\", mu, sigma, observed=adults.happiness.values)\n",
    "    m_7h4_b_trace = pm.sample(idata_kwargs={\"log_likelihood\": True})"
   ]
  },
  {
   "cell_type": "code",
   "execution_count": 66,
   "id": "3f50896c-0ec2-4f57-9a63-725589785f74",
   "metadata": {},
   "outputs": [
    {
     "name": "stderr",
     "output_type": "stream",
     "text": [
      "d:\\Python\\venv\\pymc_env\\lib\\site-packages\\arviz\\stats\\stats.py:307: FutureWarning: Setting an item of incompatible dtype is deprecated and will raise in a future error of pandas. Value 'False' has dtype incompatible with float64, please explicitly cast to a compatible dtype first.\n",
      "  df_comp.loc[val] = (\n",
      "d:\\Python\\venv\\pymc_env\\lib\\site-packages\\arviz\\stats\\stats.py:307: FutureWarning: Setting an item of incompatible dtype is deprecated and will raise in a future error of pandas. Value 'deviance' has dtype incompatible with float64, please explicitly cast to a compatible dtype first.\n",
      "  df_comp.loc[val] = (\n"
     ]
    },
    {
     "data": {
      "text/html": [
       "<div>\n",
       "<style scoped>\n",
       "    .dataframe tbody tr th:only-of-type {\n",
       "        vertical-align: middle;\n",
       "    }\n",
       "\n",
       "    .dataframe tbody tr th {\n",
       "        vertical-align: top;\n",
       "    }\n",
       "\n",
       "    .dataframe thead th {\n",
       "        text-align: right;\n",
       "    }\n",
       "</style>\n",
       "<table border=\"1\" class=\"dataframe\">\n",
       "  <thead>\n",
       "    <tr style=\"text-align: right;\">\n",
       "      <th></th>\n",
       "      <th>rank</th>\n",
       "      <th>elpd_loo</th>\n",
       "      <th>p_loo</th>\n",
       "      <th>elpd_diff</th>\n",
       "      <th>weight</th>\n",
       "      <th>se</th>\n",
       "      <th>dse</th>\n",
       "      <th>warning</th>\n",
       "      <th>scale</th>\n",
       "    </tr>\n",
       "  </thead>\n",
       "  <tbody>\n",
       "    <tr>\n",
       "      <th>Marriage_and_Age</th>\n",
       "      <td>0</td>\n",
       "      <td>2661.654895</td>\n",
       "      <td>3.680285</td>\n",
       "      <td>0.000000</td>\n",
       "      <td>0.987985</td>\n",
       "      <td>37.312721</td>\n",
       "      <td>0.000000</td>\n",
       "      <td>False</td>\n",
       "      <td>deviance</td>\n",
       "    </tr>\n",
       "    <tr>\n",
       "      <th>Only_Age</th>\n",
       "      <td>1</td>\n",
       "      <td>3037.574390</td>\n",
       "      <td>2.429273</td>\n",
       "      <td>375.919495</td>\n",
       "      <td>0.012015</td>\n",
       "      <td>27.302241</td>\n",
       "      <td>34.702624</td>\n",
       "      <td>False</td>\n",
       "      <td>deviance</td>\n",
       "    </tr>\n",
       "  </tbody>\n",
       "</table>\n",
       "</div>"
      ],
      "text/plain": [
       "                  rank     elpd_loo     p_loo   elpd_diff    weight  \\\n",
       "Marriage_and_Age     0  2661.654895  3.680285    0.000000  0.987985   \n",
       "Only_Age             1  3037.574390  2.429273  375.919495  0.012015   \n",
       "\n",
       "                         se        dse  warning     scale  \n",
       "Marriage_and_Age  37.312721   0.000000    False  deviance  \n",
       "Only_Age          27.302241  34.702624    False  deviance  "
      ]
     },
     "execution_count": 66,
     "metadata": {},
     "output_type": "execute_result"
    }
   ],
   "source": [
    "compare_data_7h4 = az.compare({'Marriage_and_Age':m_7h4_a_trace,\n",
    "            'Only_Age':m_7h4_b_trace},\n",
    "           scale='deviance',\n",
    "           ic='loo'\n",
    "          )\n",
    "compare_data_7h4"
   ]
  },
  {
   "cell_type": "code",
   "execution_count": 67,
   "id": "c5ff4a36-bd0e-414f-b4d7-8acff8a5cd15",
   "metadata": {},
   "outputs": [
    {
     "name": "stderr",
     "output_type": "stream",
     "text": [
      "d:\\Python\\venv\\pymc_env\\lib\\site-packages\\arviz\\stats\\stats.py:307: FutureWarning: Setting an item of incompatible dtype is deprecated and will raise in a future error of pandas. Value 'False' has dtype incompatible with float64, please explicitly cast to a compatible dtype first.\n",
      "  df_comp.loc[val] = (\n",
      "d:\\Python\\venv\\pymc_env\\lib\\site-packages\\arviz\\stats\\stats.py:307: FutureWarning: Setting an item of incompatible dtype is deprecated and will raise in a future error of pandas. Value 'deviance' has dtype incompatible with float64, please explicitly cast to a compatible dtype first.\n",
      "  df_comp.loc[val] = (\n"
     ]
    },
    {
     "data": {
      "text/html": [
       "<div>\n",
       "<style scoped>\n",
       "    .dataframe tbody tr th:only-of-type {\n",
       "        vertical-align: middle;\n",
       "    }\n",
       "\n",
       "    .dataframe tbody tr th {\n",
       "        vertical-align: top;\n",
       "    }\n",
       "\n",
       "    .dataframe thead th {\n",
       "        text-align: right;\n",
       "    }\n",
       "</style>\n",
       "<table border=\"1\" class=\"dataframe\">\n",
       "  <thead>\n",
       "    <tr style=\"text-align: right;\">\n",
       "      <th></th>\n",
       "      <th>rank</th>\n",
       "      <th>elpd_waic</th>\n",
       "      <th>p_waic</th>\n",
       "      <th>elpd_diff</th>\n",
       "      <th>weight</th>\n",
       "      <th>se</th>\n",
       "      <th>dse</th>\n",
       "      <th>warning</th>\n",
       "      <th>scale</th>\n",
       "    </tr>\n",
       "  </thead>\n",
       "  <tbody>\n",
       "    <tr>\n",
       "      <th>Marriage_and_Age</th>\n",
       "      <td>0</td>\n",
       "      <td>2661.644377</td>\n",
       "      <td>3.675026</td>\n",
       "      <td>0.000000</td>\n",
       "      <td>0.987993</td>\n",
       "      <td>37.312274</td>\n",
       "      <td>0.000000</td>\n",
       "      <td>False</td>\n",
       "      <td>deviance</td>\n",
       "    </tr>\n",
       "    <tr>\n",
       "      <th>Only_Age</th>\n",
       "      <td>1</td>\n",
       "      <td>3037.567570</td>\n",
       "      <td>2.425863</td>\n",
       "      <td>375.923192</td>\n",
       "      <td>0.012007</td>\n",
       "      <td>27.302069</td>\n",
       "      <td>34.702253</td>\n",
       "      <td>False</td>\n",
       "      <td>deviance</td>\n",
       "    </tr>\n",
       "  </tbody>\n",
       "</table>\n",
       "</div>"
      ],
      "text/plain": [
       "                  rank    elpd_waic    p_waic   elpd_diff    weight  \\\n",
       "Marriage_and_Age     0  2661.644377  3.675026    0.000000  0.987993   \n",
       "Only_Age             1  3037.567570  2.425863  375.923192  0.012007   \n",
       "\n",
       "                         se        dse  warning     scale  \n",
       "Marriage_and_Age  37.312274   0.000000    False  deviance  \n",
       "Only_Age          27.302069  34.702253    False  deviance  "
      ]
     },
     "execution_count": 67,
     "metadata": {},
     "output_type": "execute_result"
    }
   ],
   "source": [
    "compare_data_7h4 = az.compare({'Marriage_and_Age':m_7h4_a_trace,\n",
    "            'Only_Age':m_7h4_b_trace},\n",
    "           scale='deviance',\n",
    "           ic='waic'\n",
    "          )\n",
    "compare_data_7h4"
   ]
  },
  {
   "cell_type": "code",
   "execution_count": 68,
   "id": "9c292fb8-5b3f-4454-bf94-a863307b5076",
   "metadata": {},
   "outputs": [
    {
     "name": "stderr",
     "output_type": "stream",
     "text": [
      "d:\\Python\\venv\\pymc_env\\lib\\site-packages\\arviz\\plots\\backends\\matplotlib\\compareplot.py:87: FutureWarning: Series.__getitem__ treating keys as positions is deprecated. In a future version, integer keys will always be treated as labels (consistent with DataFrame behavior). To access a value by position, use `ser.iloc[pos]`\n",
      "  scale = comp_df[\"scale\"][0]\n"
     ]
    },
    {
     "data": {
      "text/plain": [
       "<Axes: title={'center': 'Model comparison\\nlower is better'}, xlabel='elpd_waic (deviance)', ylabel='ranked models'>"
      ]
     },
     "execution_count": 68,
     "metadata": {},
     "output_type": "execute_result"
    },
    {
     "data": {
      "image/png": "[encoded data removed]",
      "text/plain": [
       "<Figure size 600x200 with 1 Axes>"
      ]
     },
     "metadata": {},
     "output_type": "display_data"
    }
   ],
   "source": [
    "az.plot_compare(compare_data_7h4)"
   ]
  },
  {
   "cell_type": "markdown",
   "id": "b71944f5-af43-405c-b88e-8cd000a0476d",
   "metadata": {},
   "source": [
    "## We already know based on the prior chapter that Including Marriage provides the incorrect causal inference because marriage is a collider.  However, including marriage should provide more accurate predictions.  Even including the error, Marriage and Age is clearly better than just Age.  Including marriage does provide us with more information by creating a relationship between age and hapiness, which leads to a better prediction, even if the causal relationship is incorrect.  From a causal perpsective, intervening on age will not change hapiness, even if the model that include marriage indicates that it will"
   ]
  },
  {
   "cell_type": "markdown",
   "id": "7865d268",
   "metadata": {},
   "source": [
    "# 7H5. Revisit the urban fox data, data(foxes), from the previous chapter’s practice problems. Use WAIC or PSIS based model comparison on five different models, each using weight as the outcome, and containing these sets of predictor variables:\n",
    "\n",
    "1. avgfood + groupsize + area\n",
    "2. avgfood + groupsize\n",
    "3. groupsize + area\n",
    "4. avgfood\n",
    "5. area\n",
    "\n",
    "# Can you explain the relative differences in WAIC scores, using the fox DAG from the previous chap\u0002ter? Be sure to pay attention to the standard error of the score differences (dSE).\n"
   ]
  },
  {
   "cell_type": "code",
   "execution_count": 69,
   "id": "c0ab0d52-9caa-48f0-ae5c-a971a814a4e8",
   "metadata": {},
   "outputs": [
    {
     "data": {
      "text/html": [
       "<div>\n",
       "<style scoped>\n",
       "    .dataframe tbody tr th:only-of-type {\n",
       "        vertical-align: middle;\n",
       "    }\n",
       "\n",
       "    .dataframe tbody tr th {\n",
       "        vertical-align: top;\n",
       "    }\n",
       "\n",
       "    .dataframe thead th {\n",
       "        text-align: right;\n",
       "    }\n",
       "</style>\n",
       "<table border=\"1\" class=\"dataframe\">\n",
       "  <thead>\n",
       "    <tr style=\"text-align: right;\">\n",
       "      <th></th>\n",
       "      <th>group</th>\n",
       "      <th>avgfood</th>\n",
       "      <th>groupsize</th>\n",
       "      <th>area</th>\n",
       "      <th>weight</th>\n",
       "    </tr>\n",
       "  </thead>\n",
       "  <tbody>\n",
       "    <tr>\n",
       "      <th>0</th>\n",
       "      <td>1</td>\n",
       "      <td>0.37</td>\n",
       "      <td>2</td>\n",
       "      <td>1.09</td>\n",
       "      <td>5.02</td>\n",
       "    </tr>\n",
       "    <tr>\n",
       "      <th>1</th>\n",
       "      <td>1</td>\n",
       "      <td>0.37</td>\n",
       "      <td>2</td>\n",
       "      <td>1.09</td>\n",
       "      <td>2.84</td>\n",
       "    </tr>\n",
       "    <tr>\n",
       "      <th>2</th>\n",
       "      <td>2</td>\n",
       "      <td>0.53</td>\n",
       "      <td>2</td>\n",
       "      <td>2.05</td>\n",
       "      <td>5.33</td>\n",
       "    </tr>\n",
       "    <tr>\n",
       "      <th>3</th>\n",
       "      <td>2</td>\n",
       "      <td>0.53</td>\n",
       "      <td>2</td>\n",
       "      <td>2.05</td>\n",
       "      <td>6.07</td>\n",
       "    </tr>\n",
       "    <tr>\n",
       "      <th>4</th>\n",
       "      <td>3</td>\n",
       "      <td>0.49</td>\n",
       "      <td>2</td>\n",
       "      <td>2.12</td>\n",
       "      <td>5.85</td>\n",
       "    </tr>\n",
       "  </tbody>\n",
       "</table>\n",
       "</div>"
      ],
      "text/plain": [
       "   group  avgfood  groupsize  area  weight\n",
       "0      1     0.37          2  1.09    5.02\n",
       "1      1     0.37          2  1.09    2.84\n",
       "2      2     0.53          2  2.05    5.33\n",
       "3      2     0.53          2  2.05    6.07\n",
       "4      3     0.49          2  2.12    5.85"
      ]
     },
     "execution_count": 69,
     "metadata": {},
     "output_type": "execute_result"
    }
   ],
   "source": [
    "#7h5\n",
    "fox_data = pd.read_csv('./data/foxes.csv')\n",
    "fox_data.head()"
   ]
  },
  {
   "cell_type": "code",
   "execution_count": 70,
   "id": "e59fb3e5-45e8-43fd-b322-47b5dc7343ad",
   "metadata": {},
   "outputs": [
    {
     "data": {
      "text/html": [
       "<div>\n",
       "<style scoped>\n",
       "    .dataframe tbody tr th:only-of-type {\n",
       "        vertical-align: middle;\n",
       "    }\n",
       "\n",
       "    .dataframe tbody tr th {\n",
       "        vertical-align: top;\n",
       "    }\n",
       "\n",
       "    .dataframe thead th {\n",
       "        text-align: right;\n",
       "    }\n",
       "</style>\n",
       "<table border=\"1\" class=\"dataframe\">\n",
       "  <thead>\n",
       "    <tr style=\"text-align: right;\">\n",
       "      <th></th>\n",
       "      <th>group</th>\n",
       "      <th>avgfood</th>\n",
       "      <th>groupsize</th>\n",
       "      <th>area</th>\n",
       "      <th>weight</th>\n",
       "    </tr>\n",
       "  </thead>\n",
       "  <tbody>\n",
       "    <tr>\n",
       "      <th>0</th>\n",
       "      <td>1</td>\n",
       "      <td>-1.924829</td>\n",
       "      <td>-1.524089</td>\n",
       "      <td>-2.239596</td>\n",
       "      <td>0.414135</td>\n",
       "    </tr>\n",
       "    <tr>\n",
       "      <th>1</th>\n",
       "      <td>1</td>\n",
       "      <td>-1.924829</td>\n",
       "      <td>-1.524089</td>\n",
       "      <td>-2.239596</td>\n",
       "      <td>-1.427046</td>\n",
       "    </tr>\n",
       "    <tr>\n",
       "      <th>2</th>\n",
       "      <td>2</td>\n",
       "      <td>-1.118035</td>\n",
       "      <td>-1.524089</td>\n",
       "      <td>-1.205508</td>\n",
       "      <td>0.675954</td>\n",
       "    </tr>\n",
       "    <tr>\n",
       "      <th>3</th>\n",
       "      <td>2</td>\n",
       "      <td>-1.118035</td>\n",
       "      <td>-1.524089</td>\n",
       "      <td>-1.205508</td>\n",
       "      <td>1.300942</td>\n",
       "    </tr>\n",
       "    <tr>\n",
       "      <th>4</th>\n",
       "      <td>3</td>\n",
       "      <td>-1.319734</td>\n",
       "      <td>-1.524089</td>\n",
       "      <td>-1.130106</td>\n",
       "      <td>1.115135</td>\n",
       "    </tr>\n",
       "  </tbody>\n",
       "</table>\n",
       "</div>"
      ],
      "text/plain": [
       "   group   avgfood  groupsize      area    weight\n",
       "0      1 -1.924829  -1.524089 -2.239596  0.414135\n",
       "1      1 -1.924829  -1.524089 -2.239596 -1.427046\n",
       "2      2 -1.118035  -1.524089 -1.205508  0.675954\n",
       "3      2 -1.118035  -1.524089 -1.205508  1.300942\n",
       "4      3 -1.319734  -1.524089 -1.130106  1.115135"
      ]
     },
     "execution_count": 70,
     "metadata": {},
     "output_type": "execute_result"
    }
   ],
   "source": [
    "fox_data_std = fox_data.copy()\n",
    "fox_data_std.iloc[:,1:5] = fox_data_std.iloc[:,1:5].apply(lambda x: (x-x.mean())/ x.std(), axis=0)\n",
    "fox_data_std.head()"
   ]
  },
  {
   "cell_type": "code",
   "execution_count": 71,
   "id": "d3b4eac4-5b5a-4240-8fea-f1d8123fa3ce",
   "metadata": {},
   "outputs": [
    {
     "name": "stderr",
     "output_type": "stream",
     "text": [
      "Auto-assigning NUTS sampler...\n",
      "Initializing NUTS using jitter+adapt_diag...\n",
      "Multiprocess sampling (4 chains in 4 jobs)\n",
      "NUTS: [a, b_area, b_gsize, b_food, sigma]\n"
     ]
    },
    {
     "data": {
      "text/html": [
       "\n",
       "<style>\n",
       "    /* Turns off some styling */\n",
       "    progress {\n",
       "        /* gets rid of default border in Firefox and Opera. */\n",
       "        border: none;\n",
       "        /* Needs to be in here for Safari polyfill so background images work as expected. */\n",
       "        background-size: auto;\n",
       "    }\n",
       "    progress:not([value]), progress:not([value])::-webkit-progress-bar {\n",
       "        background: repeating-linear-gradient(45deg, #7e7e7e, #7e7e7e 10px, #5c5c5c 10px, #5c5c5c 20px);\n",
       "    }\n",
       "    .progress-bar-interrupted, .progress-bar-interrupted::-webkit-progress-bar {\n",
       "        background: #F44336;\n",
       "    }\n",
       "</style>\n"
      ],
      "text/plain": [
       "<IPython.core.display.HTML object>"
      ]
     },
     "metadata": {},
     "output_type": "display_data"
    },
    {
     "data": {
      "text/html": [
       "\n",
       "    <div>\n",
       "      <progress value='8000' class='' max='8000' style='width:300px; height:20px; vertical-align: middle;'></progress>\n",
       "      100.00% [8000/8000 00:06&lt;00:00 Sampling 4 chains, 0 divergences]\n",
       "    </div>\n",
       "    "
      ],
      "text/plain": [
       "<IPython.core.display.HTML object>"
      ]
     },
     "metadata": {},
     "output_type": "display_data"
    },
    {
     "name": "stderr",
     "output_type": "stream",
     "text": [
      "Sampling 4 chains for 1_000 tune and 1_000 draw iterations (4_000 + 4_000 draws total) took 19 seconds.\n",
      "Auto-assigning NUTS sampler...\n",
      "Initializing NUTS using jitter+adapt_diag...\n",
      "Multiprocess sampling (4 chains in 4 jobs)\n",
      "NUTS: [a, b_gsize, b_food, sigma]\n"
     ]
    },
    {
     "data": {
      "text/html": [
       "\n",
       "<style>\n",
       "    /* Turns off some styling */\n",
       "    progress {\n",
       "        /* gets rid of default border in Firefox and Opera. */\n",
       "        border: none;\n",
       "        /* Needs to be in here for Safari polyfill so background images work as expected. */\n",
       "        background-size: auto;\n",
       "    }\n",
       "    progress:not([value]), progress:not([value])::-webkit-progress-bar {\n",
       "        background: repeating-linear-gradient(45deg, #7e7e7e, #7e7e7e 10px, #5c5c5c 10px, #5c5c5c 20px);\n",
       "    }\n",
       "    .progress-bar-interrupted, .progress-bar-interrupted::-webkit-progress-bar {\n",
       "        background: #F44336;\n",
       "    }\n",
       "</style>\n"
      ],
      "text/plain": [
       "<IPython.core.display.HTML object>"
      ]
     },
     "metadata": {},
     "output_type": "display_data"
    },
    {
     "data": {
      "text/html": [
       "\n",
       "    <div>\n",
       "      <progress value='8000' class='' max='8000' style='width:300px; height:20px; vertical-align: middle;'></progress>\n",
       "      100.00% [8000/8000 00:04&lt;00:00 Sampling 4 chains, 0 divergences]\n",
       "    </div>\n",
       "    "
      ],
      "text/plain": [
       "<IPython.core.display.HTML object>"
      ]
     },
     "metadata": {},
     "output_type": "display_data"
    },
    {
     "name": "stderr",
     "output_type": "stream",
     "text": [
      "Sampling 4 chains for 1_000 tune and 1_000 draw iterations (4_000 + 4_000 draws total) took 17 seconds.\n",
      "Auto-assigning NUTS sampler...\n",
      "Initializing NUTS using jitter+adapt_diag...\n",
      "Multiprocess sampling (4 chains in 4 jobs)\n",
      "NUTS: [a, b_area, b_gsize, sigma]\n"
     ]
    },
    {
     "data": {
      "text/html": [
       "\n",
       "<style>\n",
       "    /* Turns off some styling */\n",
       "    progress {\n",
       "        /* gets rid of default border in Firefox and Opera. */\n",
       "        border: none;\n",
       "        /* Needs to be in here for Safari polyfill so background images work as expected. */\n",
       "        background-size: auto;\n",
       "    }\n",
       "    progress:not([value]), progress:not([value])::-webkit-progress-bar {\n",
       "        background: repeating-linear-gradient(45deg, #7e7e7e, #7e7e7e 10px, #5c5c5c 10px, #5c5c5c 20px);\n",
       "    }\n",
       "    .progress-bar-interrupted, .progress-bar-interrupted::-webkit-progress-bar {\n",
       "        background: #F44336;\n",
       "    }\n",
       "</style>\n"
      ],
      "text/plain": [
       "<IPython.core.display.HTML object>"
      ]
     },
     "metadata": {},
     "output_type": "display_data"
    },
    {
     "data": {
      "text/html": [
       "\n",
       "    <div>\n",
       "      <progress value='8000' class='' max='8000' style='width:300px; height:20px; vertical-align: middle;'></progress>\n",
       "      100.00% [8000/8000 00:04&lt;00:00 Sampling 4 chains, 0 divergences]\n",
       "    </div>\n",
       "    "
      ],
      "text/plain": [
       "<IPython.core.display.HTML object>"
      ]
     },
     "metadata": {},
     "output_type": "display_data"
    },
    {
     "name": "stderr",
     "output_type": "stream",
     "text": [
      "Sampling 4 chains for 1_000 tune and 1_000 draw iterations (4_000 + 4_000 draws total) took 17 seconds.\n",
      "Auto-assigning NUTS sampler...\n",
      "Initializing NUTS using jitter+adapt_diag...\n",
      "Multiprocess sampling (4 chains in 4 jobs)\n",
      "NUTS: [a, b_food, sigma]\n"
     ]
    },
    {
     "data": {
      "text/html": [
       "\n",
       "<style>\n",
       "    /* Turns off some styling */\n",
       "    progress {\n",
       "        /* gets rid of default border in Firefox and Opera. */\n",
       "        border: none;\n",
       "        /* Needs to be in here for Safari polyfill so background images work as expected. */\n",
       "        background-size: auto;\n",
       "    }\n",
       "    progress:not([value]), progress:not([value])::-webkit-progress-bar {\n",
       "        background: repeating-linear-gradient(45deg, #7e7e7e, #7e7e7e 10px, #5c5c5c 10px, #5c5c5c 20px);\n",
       "    }\n",
       "    .progress-bar-interrupted, .progress-bar-interrupted::-webkit-progress-bar {\n",
       "        background: #F44336;\n",
       "    }\n",
       "</style>\n"
      ],
      "text/plain": [
       "<IPython.core.display.HTML object>"
      ]
     },
     "metadata": {},
     "output_type": "display_data"
    },
    {
     "data": {
      "text/html": [
       "\n",
       "    <div>\n",
       "      <progress value='8000' class='' max='8000' style='width:300px; height:20px; vertical-align: middle;'></progress>\n",
       "      100.00% [8000/8000 00:03&lt;00:00 Sampling 4 chains, 0 divergences]\n",
       "    </div>\n",
       "    "
      ],
      "text/plain": [
       "<IPython.core.display.HTML object>"
      ]
     },
     "metadata": {},
     "output_type": "display_data"
    },
    {
     "name": "stderr",
     "output_type": "stream",
     "text": [
      "Sampling 4 chains for 1_000 tune and 1_000 draw iterations (4_000 + 4_000 draws total) took 17 seconds.\n",
      "Auto-assigning NUTS sampler...\n",
      "Initializing NUTS using jitter+adapt_diag...\n",
      "Multiprocess sampling (4 chains in 4 jobs)\n",
      "NUTS: [a, b_area, sigma]\n"
     ]
    },
    {
     "data": {
      "text/html": [
       "\n",
       "<style>\n",
       "    /* Turns off some styling */\n",
       "    progress {\n",
       "        /* gets rid of default border in Firefox and Opera. */\n",
       "        border: none;\n",
       "        /* Needs to be in here for Safari polyfill so background images work as expected. */\n",
       "        background-size: auto;\n",
       "    }\n",
       "    progress:not([value]), progress:not([value])::-webkit-progress-bar {\n",
       "        background: repeating-linear-gradient(45deg, #7e7e7e, #7e7e7e 10px, #5c5c5c 10px, #5c5c5c 20px);\n",
       "    }\n",
       "    .progress-bar-interrupted, .progress-bar-interrupted::-webkit-progress-bar {\n",
       "        background: #F44336;\n",
       "    }\n",
       "</style>\n"
      ],
      "text/plain": [
       "<IPython.core.display.HTML object>"
      ]
     },
     "metadata": {},
     "output_type": "display_data"
    },
    {
     "data": {
      "text/html": [
       "\n",
       "    <div>\n",
       "      <progress value='8000' class='' max='8000' style='width:300px; height:20px; vertical-align: middle;'></progress>\n",
       "      100.00% [8000/8000 00:03&lt;00:00 Sampling 4 chains, 0 divergences]\n",
       "    </div>\n",
       "    "
      ],
      "text/plain": [
       "<IPython.core.display.HTML object>"
      ]
     },
     "metadata": {},
     "output_type": "display_data"
    },
    {
     "name": "stderr",
     "output_type": "stream",
     "text": [
      "Sampling 4 chains for 1_000 tune and 1_000 draw iterations (4_000 + 4_000 draws total) took 17 seconds.\n"
     ]
    }
   ],
   "source": [
    "with pm.Model() as m_7h5_a:\n",
    "    a = pm.Normal('a', 0, 0.2)\n",
    "    b_area = pm.Normal('b_area', 0,0.5)\n",
    "    b_gsize = pm.Normal('b_gsize', 0,0.5)\n",
    "    b_food = pm.Normal('b_food', 0,0.5)\n",
    "    sigma = pm.Exponential('sigma',1)\n",
    "    mu = a + b_area * fox_data_std['area'] + b_gsize * fox_data_std['groupsize'] + b_food * fox_data_std['avgfood'] \n",
    "    weight = pm.Normal('weight', mu, sigma, observed=fox_data_std['weight'])\n",
    "    m_7h5_a_trace = pm.sample(idata_kwargs={\"log_likelihood\": True}) \n",
    "\n",
    "with pm.Model() as m_7h5_b:\n",
    "    a = pm.Normal('a', 0, 0.2)\n",
    "    b_gsize = pm.Normal('b_gsize', 0,0.5)\n",
    "    b_food = pm.Normal('b_food', 0,0.5)\n",
    "    sigma = pm.Exponential('sigma',1)\n",
    "    mu = a + b_gsize * fox_data_std['groupsize'] + b_food * fox_data_std['avgfood'] \n",
    "    weight = pm.Normal('weight', mu, sigma, observed=fox_data_std['weight'])\n",
    "    m_7h5_b_trace = pm.sample(idata_kwargs={\"log_likelihood\": True})  \n",
    "\n",
    "with pm.Model() as m_7h5_c:\n",
    "    a = pm.Normal('a', 0, 0.2)\n",
    "    b_area = pm.Normal('b_area', 0,0.5)\n",
    "    b_gsize = pm.Normal('b_gsize', 0,0.5)\n",
    "    sigma = pm.Exponential('sigma',1)\n",
    "    mu = a + b_area * fox_data_std['area'] + b_gsize * fox_data_std['groupsize']\n",
    "    weight = pm.Normal('weight', mu, sigma, observed=fox_data_std['weight'])\n",
    "    m_7h5_c_trace = pm.sample(idata_kwargs={\"log_likelihood\": True}) \n",
    "\n",
    "with pm.Model() as m_7h5_d:\n",
    "    a = pm.Normal('a', 0, 0.2)\n",
    "    b_food = pm.Normal('b_food', 0,0.5)\n",
    "    sigma = pm.Exponential('sigma',1)\n",
    "    mu = a + b_food * fox_data_std['avgfood'] \n",
    "    weight = pm.Normal('weight', mu, sigma, observed=fox_data_std['weight'])\n",
    "    m_7h5_d_trace = pm.sample(idata_kwargs={\"log_likelihood\": True}) \n",
    "\n",
    "with pm.Model() as m_7h5_e:\n",
    "    a = pm.Normal('a', 0, 0.2)\n",
    "    b_area = pm.Normal('b_area', 0,0.5)\n",
    "    sigma = pm.Exponential('sigma',1)\n",
    "    mu = a + b_area * fox_data_std['area']\n",
    "    weight = pm.Normal('weight', mu, sigma, observed=fox_data_std['weight'])\n",
    "    m_7h5_e_trace = pm.sample(idata_kwargs={\"log_likelihood\": True}) "
   ]
  },
  {
   "cell_type": "code",
   "execution_count": 72,
   "id": "b2ee0575-0080-445f-9de3-e32531c2fc28",
   "metadata": {},
   "outputs": [
    {
     "name": "stderr",
     "output_type": "stream",
     "text": [
      "d:\\Python\\venv\\pymc_env\\lib\\site-packages\\arviz\\stats\\stats.py:1645: UserWarning: For one or more samples the posterior variance of the log predictive densities exceeds 0.4. This could be indication of WAIC starting to fail. \n",
      "See http://arxiv.org/abs/1507.04544 for details\n",
      "  warnings.warn(\n",
      "d:\\Python\\venv\\pymc_env\\lib\\site-packages\\arviz\\stats\\stats.py:1645: UserWarning: For one or more samples the posterior variance of the log predictive densities exceeds 0.4. This could be indication of WAIC starting to fail. \n",
      "See http://arxiv.org/abs/1507.04544 for details\n",
      "  warnings.warn(\n",
      "d:\\Python\\venv\\pymc_env\\lib\\site-packages\\arviz\\stats\\stats.py:307: FutureWarning: Setting an item of incompatible dtype is deprecated and will raise in a future error of pandas. Value 'True' has dtype incompatible with float64, please explicitly cast to a compatible dtype first.\n",
      "  df_comp.loc[val] = (\n",
      "d:\\Python\\venv\\pymc_env\\lib\\site-packages\\arviz\\stats\\stats.py:307: FutureWarning: Setting an item of incompatible dtype is deprecated and will raise in a future error of pandas. Value 'deviance' has dtype incompatible with float64, please explicitly cast to a compatible dtype first.\n",
      "  df_comp.loc[val] = (\n"
     ]
    },
    {
     "data": {
      "text/html": [
       "<div>\n",
       "<style scoped>\n",
       "    .dataframe tbody tr th:only-of-type {\n",
       "        vertical-align: middle;\n",
       "    }\n",
       "\n",
       "    .dataframe tbody tr th {\n",
       "        vertical-align: top;\n",
       "    }\n",
       "\n",
       "    .dataframe thead th {\n",
       "        text-align: right;\n",
       "    }\n",
       "</style>\n",
       "<table border=\"1\" class=\"dataframe\">\n",
       "  <thead>\n",
       "    <tr style=\"text-align: right;\">\n",
       "      <th></th>\n",
       "      <th>rank</th>\n",
       "      <th>elpd_waic</th>\n",
       "      <th>p_waic</th>\n",
       "      <th>elpd_diff</th>\n",
       "      <th>weight</th>\n",
       "      <th>se</th>\n",
       "      <th>dse</th>\n",
       "      <th>warning</th>\n",
       "      <th>scale</th>\n",
       "    </tr>\n",
       "  </thead>\n",
       "  <tbody>\n",
       "    <tr>\n",
       "      <th>Food_GroupSize_Area</th>\n",
       "      <td>0</td>\n",
       "      <td>322.861181</td>\n",
       "      <td>4.464920</td>\n",
       "      <td>0.000000</td>\n",
       "      <td>0.000000</td>\n",
       "      <td>15.406475</td>\n",
       "      <td>0.000000</td>\n",
       "      <td>True</td>\n",
       "      <td>deviance</td>\n",
       "    </tr>\n",
       "    <tr>\n",
       "      <th>Food_GroupSize</th>\n",
       "      <td>1</td>\n",
       "      <td>323.620853</td>\n",
       "      <td>3.480200</td>\n",
       "      <td>0.759672</td>\n",
       "      <td>0.513329</td>\n",
       "      <td>15.337102</td>\n",
       "      <td>3.380952</td>\n",
       "      <td>False</td>\n",
       "      <td>deviance</td>\n",
       "    </tr>\n",
       "    <tr>\n",
       "      <th>GroupSize_Area</th>\n",
       "      <td>2</td>\n",
       "      <td>323.681140</td>\n",
       "      <td>3.500339</td>\n",
       "      <td>0.819959</td>\n",
       "      <td>0.486671</td>\n",
       "      <td>15.020297</td>\n",
       "      <td>2.680721</td>\n",
       "      <td>True</td>\n",
       "      <td>deviance</td>\n",
       "    </tr>\n",
       "    <tr>\n",
       "      <th>Food</th>\n",
       "      <td>3</td>\n",
       "      <td>333.252945</td>\n",
       "      <td>2.269705</td>\n",
       "      <td>10.391764</td>\n",
       "      <td>0.000000</td>\n",
       "      <td>13.301753</td>\n",
       "      <td>6.682908</td>\n",
       "      <td>False</td>\n",
       "      <td>deviance</td>\n",
       "    </tr>\n",
       "    <tr>\n",
       "      <th>Area</th>\n",
       "      <td>4</td>\n",
       "      <td>333.525284</td>\n",
       "      <td>2.490305</td>\n",
       "      <td>10.664104</td>\n",
       "      <td>0.000000</td>\n",
       "      <td>13.280679</td>\n",
       "      <td>6.735874</td>\n",
       "      <td>False</td>\n",
       "      <td>deviance</td>\n",
       "    </tr>\n",
       "  </tbody>\n",
       "</table>\n",
       "</div>"
      ],
      "text/plain": [
       "                     rank   elpd_waic    p_waic  elpd_diff    weight  \\\n",
       "Food_GroupSize_Area     0  322.861181  4.464920   0.000000  0.000000   \n",
       "Food_GroupSize          1  323.620853  3.480200   0.759672  0.513329   \n",
       "GroupSize_Area          2  323.681140  3.500339   0.819959  0.486671   \n",
       "Food                    3  333.252945  2.269705  10.391764  0.000000   \n",
       "Area                    4  333.525284  2.490305  10.664104  0.000000   \n",
       "\n",
       "                            se       dse  warning     scale  \n",
       "Food_GroupSize_Area  15.406475  0.000000     True  deviance  \n",
       "Food_GroupSize       15.337102  3.380952    False  deviance  \n",
       "GroupSize_Area       15.020297  2.680721     True  deviance  \n",
       "Food                 13.301753  6.682908    False  deviance  \n",
       "Area                 13.280679  6.735874    False  deviance  "
      ]
     },
     "execution_count": 72,
     "metadata": {},
     "output_type": "execute_result"
    }
   ],
   "source": [
    "compare_data_7h5 = az.compare(\n",
    "    {'Food_GroupSize_Area':m_7h5_a_trace,\n",
    "      'Food_GroupSize':m_7h5_b_trace,\n",
    "    'GroupSize_Area':m_7h5_c_trace,\n",
    "    'Food':m_7h5_d_trace,\n",
    "    'Area':m_7h5_e_trace},\n",
    "           scale='deviance',\n",
    "           ic='waic'\n",
    "          )\n",
    "compare_data_7h5"
   ]
  },
  {
   "cell_type": "code",
   "execution_count": 73,
   "id": "72e10471-e3ac-4f95-84b4-f25eeee20abf",
   "metadata": {},
   "outputs": [
    {
     "name": "stderr",
     "output_type": "stream",
     "text": [
      "d:\\Python\\venv\\pymc_env\\lib\\site-packages\\arviz\\plots\\backends\\matplotlib\\compareplot.py:87: FutureWarning: Series.__getitem__ treating keys as positions is deprecated. In a future version, integer keys will always be treated as labels (consistent with DataFrame behavior). To access a value by position, use `ser.iloc[pos]`\n",
      "  scale = comp_df[\"scale\"][0]\n"
     ]
    },
    {
     "data": {
      "text/plain": [
       "<Axes: title={'center': 'Model comparison\\nlower is better'}, xlabel='elpd_waic (deviance)', ylabel='ranked models'>"
      ]
     },
     "execution_count": 73,
     "metadata": {},
     "output_type": "execute_result"
    },
    {
     "data": {
      "image/png": "[encoded data removed]",
      "text/plain": [
       "<Figure size 600x500 with 1 Axes>"
      ]
     },
     "metadata": {},
     "output_type": "display_data"
    }
   ],
   "source": [
    "az.plot_compare(compare_data_7h5)"
   ]
  },
  {
   "cell_type": "code",
   "execution_count": 74,
   "id": "5e7122a0-02cf-4d57-af11-f9a2725fe4f2",
   "metadata": {},
   "outputs": [
    {
     "data": {
      "image/svg+xml": [
       "<?xml version=\"1.0\" encoding=\"UTF-8\" standalone=\"no\"?>\n",
       "<!DOCTYPE svg PUBLIC \"-//W3C//DTD SVG 1.1//EN\"\n",
       " \"http://www.w3.org/Graphics/SVG/1.1/DTD/svg11.dtd\">\n",
       "<!-- Generated by graphviz version 9.0.0 (0)\n",
       " -->\n",
       "<!-- Pages: 1 -->\n",
       "<svg width=\"134pt\" height=\"260pt\"\n",
       " viewBox=\"0.00 0.00 133.86 260.00\" xmlns=\"http://www.w3.org/2000/svg\" xmlns:xlink=\"http://www.w3.org/1999/xlink\">\n",
       "<g id=\"graph0\" class=\"graph\" transform=\"scale(1 1) rotate(0) translate(4 256)\">\n",
       "<polygon fill=\"white\" stroke=\"none\" points=\"-4,4 -4,-256 129.86,-256 129.86,4 -4,4\"/>\n",
       "<!-- avgfood -->\n",
       "<g id=\"node1\" class=\"node\">\n",
       "<title>avgfood</title>\n",
       "<ellipse fill=\"none\" stroke=\"black\" cx=\"41.12\" cy=\"-162\" rx=\"41.12\" ry=\"18\"/>\n",
       "<text text-anchor=\"middle\" x=\"41.12\" y=\"-156.95\" font-family=\"Times New Roman,serif\" font-size=\"14.00\">avgfood</text>\n",
       "</g>\n",
       "<!-- weight -->\n",
       "<g id=\"node3\" class=\"node\">\n",
       "<title>weight</title>\n",
       "<ellipse fill=\"none\" stroke=\"black\" cx=\"41.12\" cy=\"-18\" rx=\"36\" ry=\"18\"/>\n",
       "<text text-anchor=\"middle\" x=\"41.12\" y=\"-12.95\" font-family=\"Times New Roman,serif\" font-size=\"14.00\">weight</text>\n",
       "</g>\n",
       "<!-- avgfood&#45;&gt;weight -->\n",
       "<g id=\"edge3\" class=\"edge\">\n",
       "<title>avgfood&#45;&gt;weight</title>\n",
       "<path fill=\"none\" stroke=\"black\" d=\"M33.82,-144.18C29.78,-133.94 25.17,-120.46 23.12,-108 20.51,-92.21 20.51,-87.79 23.12,-72 24.51,-63.53 27.09,-54.59 29.87,-46.52\"/>\n",
       "<polygon fill=\"black\" stroke=\"black\" points=\"33.11,-47.83 33.3,-37.24 26.55,-45.41 33.11,-47.83\"/>\n",
       "</g>\n",
       "<!-- groupsize -->\n",
       "<g id=\"node4\" class=\"node\">\n",
       "<title>groupsize</title>\n",
       "<ellipse fill=\"none\" stroke=\"black\" cx=\"79.12\" cy=\"-90\" rx=\"46.75\" ry=\"18\"/>\n",
       "<text text-anchor=\"middle\" x=\"79.12\" y=\"-84.95\" font-family=\"Times New Roman,serif\" font-size=\"14.00\">groupsize</text>\n",
       "</g>\n",
       "<!-- avgfood&#45;&gt;groupsize -->\n",
       "<g id=\"edge2\" class=\"edge\">\n",
       "<title>avgfood&#45;&gt;groupsize</title>\n",
       "<path fill=\"none\" stroke=\"black\" d=\"M50.31,-144.05C54.61,-136.14 59.82,-126.54 64.63,-117.69\"/>\n",
       "<polygon fill=\"black\" stroke=\"black\" points=\"67.58,-119.58 69.28,-109.12 61.43,-116.24 67.58,-119.58\"/>\n",
       "</g>\n",
       "<!-- area -->\n",
       "<g id=\"node2\" class=\"node\">\n",
       "<title>area</title>\n",
       "<ellipse fill=\"none\" stroke=\"black\" cx=\"41.12\" cy=\"-234\" rx=\"27\" ry=\"18\"/>\n",
       "<text text-anchor=\"middle\" x=\"41.12\" y=\"-228.95\" font-family=\"Times New Roman,serif\" font-size=\"14.00\">area</text>\n",
       "</g>\n",
       "<!-- area&#45;&gt;avgfood -->\n",
       "<g id=\"edge1\" class=\"edge\">\n",
       "<title>area&#45;&gt;avgfood</title>\n",
       "<path fill=\"none\" stroke=\"black\" d=\"M41.12,-215.7C41.12,-208.41 41.12,-199.73 41.12,-191.54\"/>\n",
       "<polygon fill=\"black\" stroke=\"black\" points=\"44.62,-191.62 41.12,-181.62 37.62,-191.62 44.62,-191.62\"/>\n",
       "</g>\n",
       "<!-- groupsize&#45;&gt;weight -->\n",
       "<g id=\"edge4\" class=\"edge\">\n",
       "<title>groupsize&#45;&gt;weight</title>\n",
       "<path fill=\"none\" stroke=\"black\" d=\"M69.92,-72.05C65.62,-64.14 60.41,-54.54 55.6,-45.69\"/>\n",
       "<polygon fill=\"black\" stroke=\"black\" points=\"58.8,-44.24 50.95,-37.12 52.65,-47.58 58.8,-44.24\"/>\n",
       "</g>\n",
       "</g>\n",
       "</svg>\n"
      ],
      "text/plain": [
       "<graphviz.graphs.Digraph at 0x242cf5e2a60>"
      ]
     },
     "execution_count": 74,
     "metadata": {},
     "output_type": "execute_result"
    }
   ],
   "source": [
    "sevenH5 = CausalGraphicalModel(\n",
    "    nodes = ['area','avgfood','groupsize','weight'],\n",
    "    edges = [('area','avgfood'),\n",
    "             ('avgfood','groupsize'),\n",
    "             ('avgfood','weight'),\n",
    "             ('groupsize','weight')])\n",
    "sevenH5.draw()"
   ]
  },
  {
   "cell_type": "markdown",
   "id": "d7e2bc1b-575d-4a82-80b9-9852362e378a",
   "metadata": {},
   "source": [
    "## We already know from HW6 that group size is masking the affect, since larger groups probably are able to catch more food, but it averages out since there are more foxes to feed.  So it makes sense that added group size reduces the WAIC, but the error bars are so wide there is a alot of overlap between all the WAIC.\n",
    "\n",
    "## Looking at the DAG, we can see that there are basically no backdoor paths from area or avgfood to weight.  So in the first 3 models, area and avgfood basically provide the same information, and the WAIC score is the same.  For the 4 and 5th model, it's the same situaion.  The WAIC score model only with avgfood is the similar to the model only with area because area is directly driving avgfood, so the models are very similar."
   ]
  }
 ],
 "metadata": {
  "kernelspec": {
   "display_name": "Python 3 (ipykernel)",
   "language": "python",
   "name": "python3"
  },
  "language_info": {
   "codemirror_mode": {
    "name": "ipython",
    "version": 3
   },
   "file_extension": ".py",
   "mimetype": "text/x-python",
   "name": "python",
   "nbconvert_exporter": "python",
   "pygments_lexer": "ipython3",
   "version": "3.9.18"
  }
 },
 "nbformat": 4,
 "nbformat_minor": 5
}
