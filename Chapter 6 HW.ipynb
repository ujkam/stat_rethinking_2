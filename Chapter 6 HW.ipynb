{
 "cells": [
  {
   "cell_type": "markdown",
   "id": "f52b3bf4",
   "metadata": {},
   "source": [
    "# Chapter 6 Practice Answers"
   ]
  },
  {
   "cell_type": "code",
   "execution_count": 1,
   "id": "0be86291",
   "metadata": {},
   "outputs": [
    {
     "name": "stderr",
     "output_type": "stream",
     "text": [
      "WARNING (pytensor.tensor.blas): Using NumPy C-API based implementation for BLAS functions.\n"
     ]
    }
   ],
   "source": [
    "from causalgraphicalmodels import CausalGraphicalModel\n",
    "import numpy as np\n",
    "import pymc as pm\n",
    "import arviz as az\n",
    "import pandas as pd\n",
    "import matplotlib.pyplot as plt\n",
    "from watermark import watermark"
   ]
  },
  {
   "cell_type": "code",
   "execution_count": 2,
   "id": "79ed98bd",
   "metadata": {},
   "outputs": [
    {
     "name": "stdout",
     "output_type": "stream",
     "text": [
      "Last updated: 2024-07-02T11:26:15.191729-04:00\n",
      "\n",
      "Python implementation: CPython\n",
      "Python version       : 3.9.18\n",
      "IPython version      : 8.17.2\n",
      "\n",
      "Compiler    : MSC v.1929 64 bit (AMD64)\n",
      "OS          : Windows\n",
      "Release     : 10\n",
      "Machine     : AMD64\n",
      "Processor   : Intel64 Family 6 Model 141 Stepping 1, GenuineIntel\n",
      "CPU cores   : 12\n",
      "Architecture: 64bit\n",
      "\n"
     ]
    }
   ],
   "source": [
    "%load_ext watermark\n",
    "%watermark"
   ]
  },
  {
   "cell_type": "code",
   "execution_count": 3,
   "id": "836a4d08",
   "metadata": {},
   "outputs": [
    {
     "name": "stdout",
     "output_type": "stream",
     "text": [
      "pymc      : 5.9.2\n",
      "numpy     : 1.25.2\n",
      "matplotlib: 3.8.2\n",
      "pandas    : 2.1.3\n",
      "arviz     : 0.16.1\n",
      "\n"
     ]
    }
   ],
   "source": [
    "%watermark --iversions"
   ]
  },
  {
   "cell_type": "markdown",
   "id": "df3fc3e3",
   "metadata": {},
   "source": [
    "# 6E1 Question\n",
    "List three mechanisms by which multiple regression can produce false inferences about causal effects."
   ]
  },
  {
   "cell_type": "markdown",
   "id": "a62e91c3-2423-4152-a63e-4fe5dd99190e",
   "metadata": {},
   "source": [
    "6E1 Answer:  Multicollinearality, post treatment bias, and collider bias"
   ]
  },
  {
   "cell_type": "markdown",
   "id": "9c616366",
   "metadata": {},
   "source": [
    "# 6E2 Question\n",
    "For one of the mechanisms in the previous problem, provide an example of your choice, perhaps from your own research.\n"
   ]
  },
  {
   "cell_type": "markdown",
   "id": "132ba01e-9bff-4afa-96ad-a2b26038b866",
   "metadata": {},
   "source": [
    "6E2 Answer: Multicollinearlity Example: We want to predict how much somebody is going to pee based on room temperature and sweating.  However, temperature and sweating may be measuring the same thing.\n",
    "\n",
    "Collider Bias: Let's say you want to predict how good somebody will be at golf as an adult, based on ranking them on how good they are at a childhood sport, GPA, diet, and parental income.  Parental income is likely to be a collider since it can determine free time (for sports or studying) and nutrition "
   ]
  },
  {
   "cell_type": "markdown",
   "id": "3f6bf5b5",
   "metadata": {},
   "source": [
    "# 6E3 Question \n",
    "List the four elemental confounds. Can you explain the conditional dependencies of each?"
   ]
  },
  {
   "cell_type": "markdown",
   "id": "4e3fd0b9-97dc-4d24-8dc2-61e578e4116b",
   "metadata": {},
   "source": [
    "6E3 Answer: \n",
    "\n",
    "The Fork: X<- Z -> Y: X is independent of Y, conditional on Z\n",
    "\n",
    "The Pipe: X -> Z -> Y: Conditioning from Z blocks the path from X to Y\n",
    "\n",
    "The Collider: X -> Z <- Y: X and Y have no relation unless conditioned on Z\n",
    "\n",
    "The Descendent: X -> Z <- Y, Z->D: X and Y have no relation uness conditioned on Z.  Conditioning on D will open a partial path"
   ]
  },
  {
   "cell_type": "markdown",
   "id": "d265a5fe",
   "metadata": {},
   "source": [
    "# 6E4 Question: \n",
    "How is a biased sample like conditioning on a collider? Think of the example at the open of the chapter."
   ]
  },
  {
   "cell_type": "markdown",
   "id": "0ef8b874-9a6e-4a64-85d1-e23724e6159a",
   "metadata": {},
   "source": [
    "6E4 Answer: When you add the collider, you create a relationship that wasn't there before X and Y.  So you bias the analysis and create a relationship that isn't there.  If the collider is latent and unobserved, you may assume there is a direct relationship between X and Y that isn't really there."
   ]
  },
  {
   "cell_type": "markdown",
   "id": "36b9007f",
   "metadata": {},
   "source": [
    "# 6M1 Question: \n",
    "Modify the DAG on page 186 to include the variable V, an unobserved cause of C and Y: C ← V → Y. Reanalyze the DAG. How many paths connect X to Y? Which must be closed? Which variables should you condition on now?"
   ]
  },
  {
   "cell_type": "code",
   "execution_count": 7,
   "id": "2975b82c-a194-43ae-8389-76ef8fb71f7f",
   "metadata": {},
   "outputs": [
    {
     "data": {
      "image/svg+xml": [
       "<?xml version=\"1.0\" encoding=\"UTF-8\" standalone=\"no\"?>\n",
       "<!DOCTYPE svg PUBLIC \"-//W3C//DTD SVG 1.1//EN\"\n",
       " \"http://www.w3.org/Graphics/SVG/1.1/DTD/svg11.dtd\">\n",
       "<!-- Generated by graphviz version 9.0.0 (0)\n",
       " -->\n",
       "<!-- Pages: 1 -->\n",
       "<svg width=\"200pt\" height=\"260pt\"\n",
       " viewBox=\"0.00 0.00 200.00 260.00\" xmlns=\"http://www.w3.org/2000/svg\" xmlns:xlink=\"http://www.w3.org/1999/xlink\">\n",
       "<g id=\"graph0\" class=\"graph\" transform=\"scale(1 1) rotate(0) translate(4 256)\">\n",
       "<polygon fill=\"white\" stroke=\"none\" points=\"-4,4 -4,-256 196,-256 196,4 -4,4\"/>\n",
       "<!-- X -->\n",
       "<g id=\"node1\" class=\"node\">\n",
       "<title>X</title>\n",
       "<ellipse fill=\"none\" stroke=\"black\" cx=\"165\" cy=\"-90\" rx=\"27\" ry=\"18\"/>\n",
       "<text text-anchor=\"middle\" x=\"165\" y=\"-84.95\" font-family=\"Times New Roman,serif\" font-size=\"14.00\">X</text>\n",
       "</g>\n",
       "<!-- Y -->\n",
       "<g id=\"node6\" class=\"node\">\n",
       "<title>Y</title>\n",
       "<ellipse fill=\"none\" stroke=\"black\" cx=\"38\" cy=\"-18\" rx=\"27\" ry=\"18\"/>\n",
       "<text text-anchor=\"middle\" x=\"38\" y=\"-12.95\" font-family=\"Times New Roman,serif\" font-size=\"14.00\">Y</text>\n",
       "</g>\n",
       "<!-- X&#45;&gt;Y -->\n",
       "<g id=\"edge7\" class=\"edge\">\n",
       "<title>X&#45;&gt;Y</title>\n",
       "<path fill=\"none\" stroke=\"black\" d=\"M144.6,-77.75C123.95,-66.37 91.8,-48.65 68.2,-35.65\"/>\n",
       "<polygon fill=\"black\" stroke=\"black\" points=\"70.13,-32.71 59.68,-30.95 66.75,-38.84 70.13,-32.71\"/>\n",
       "</g>\n",
       "<!-- A -->\n",
       "<g id=\"node2\" class=\"node\">\n",
       "<title>A</title>\n",
       "<ellipse fill=\"none\" stroke=\"black\" cx=\"113\" cy=\"-234\" rx=\"27\" ry=\"18\"/>\n",
       "<text text-anchor=\"middle\" x=\"113\" y=\"-228.95\" font-family=\"Times New Roman,serif\" font-size=\"14.00\">A</text>\n",
       "</g>\n",
       "<!-- U -->\n",
       "<g id=\"node4\" class=\"node\">\n",
       "<title>U</title>\n",
       "<ellipse fill=\"none\" stroke=\"black\" cx=\"127\" cy=\"-162\" rx=\"27\" ry=\"18\"/>\n",
       "<text text-anchor=\"middle\" x=\"127\" y=\"-156.95\" font-family=\"Times New Roman,serif\" font-size=\"14.00\">U</text>\n",
       "</g>\n",
       "<!-- A&#45;&gt;U -->\n",
       "<g id=\"edge1\" class=\"edge\">\n",
       "<title>A&#45;&gt;U</title>\n",
       "<path fill=\"none\" stroke=\"black\" d=\"M116.46,-215.7C117.94,-208.32 119.7,-199.52 121.35,-191.25\"/>\n",
       "<polygon fill=\"black\" stroke=\"black\" points=\"124.75,-192.08 123.28,-181.59 117.89,-190.71 124.75,-192.08\"/>\n",
       "</g>\n",
       "<!-- C -->\n",
       "<g id=\"node5\" class=\"node\">\n",
       "<title>C</title>\n",
       "<ellipse fill=\"none\" stroke=\"black\" cx=\"55\" cy=\"-162\" rx=\"27\" ry=\"18\"/>\n",
       "<text text-anchor=\"middle\" x=\"55\" y=\"-156.95\" font-family=\"Times New Roman,serif\" font-size=\"14.00\">C</text>\n",
       "</g>\n",
       "<!-- A&#45;&gt;C -->\n",
       "<g id=\"edge2\" class=\"edge\">\n",
       "<title>A&#45;&gt;C</title>\n",
       "<path fill=\"none\" stroke=\"black\" d=\"M100.41,-217.81C92.89,-208.73 83.17,-197 74.65,-186.72\"/>\n",
       "<polygon fill=\"black\" stroke=\"black\" points=\"77.6,-184.79 68.53,-179.32 72.21,-189.26 77.6,-184.79\"/>\n",
       "</g>\n",
       "<!-- V -->\n",
       "<g id=\"node3\" class=\"node\">\n",
       "<title>V</title>\n",
       "<ellipse fill=\"none\" stroke=\"black\" cx=\"27\" cy=\"-234\" rx=\"27\" ry=\"18\"/>\n",
       "<text text-anchor=\"middle\" x=\"27\" y=\"-228.95\" font-family=\"Times New Roman,serif\" font-size=\"14.00\">V</text>\n",
       "</g>\n",
       "<!-- V&#45;&gt;C -->\n",
       "<g id=\"edge8\" class=\"edge\">\n",
       "<title>V&#45;&gt;C</title>\n",
       "<path fill=\"none\" stroke=\"black\" d=\"M33.64,-216.41C36.77,-208.57 40.6,-198.99 44.15,-190.13\"/>\n",
       "<polygon fill=\"black\" stroke=\"black\" points=\"47.39,-191.46 47.85,-180.88 40.89,-188.86 47.39,-191.46\"/>\n",
       "</g>\n",
       "<!-- V&#45;&gt;Y -->\n",
       "<g id=\"edge9\" class=\"edge\">\n",
       "<title>V&#45;&gt;Y</title>\n",
       "<path fill=\"none\" stroke=\"black\" d=\"M23.75,-215.89C21.95,-205.54 19.91,-192.06 19,-180 15.49,-133.21 24.61,-79.09 31.4,-47.02\"/>\n",
       "<polygon fill=\"black\" stroke=\"black\" points=\"34.79,-47.87 33.53,-37.35 27.96,-46.37 34.79,-47.87\"/>\n",
       "</g>\n",
       "<!-- U&#45;&gt;X -->\n",
       "<g id=\"edge4\" class=\"edge\">\n",
       "<title>U&#45;&gt;X</title>\n",
       "<path fill=\"none\" stroke=\"black\" d=\"M135.81,-144.76C140.27,-136.55 145.8,-126.37 150.84,-117.09\"/>\n",
       "<polygon fill=\"black\" stroke=\"black\" points=\"153.82,-118.94 155.51,-108.48 147.67,-115.6 153.82,-118.94\"/>\n",
       "</g>\n",
       "<!-- B -->\n",
       "<g id=\"node7\" class=\"node\">\n",
       "<title>B</title>\n",
       "<ellipse fill=\"none\" stroke=\"black\" cx=\"93\" cy=\"-90\" rx=\"27\" ry=\"18\"/>\n",
       "<text text-anchor=\"middle\" x=\"93\" y=\"-84.95\" font-family=\"Times New Roman,serif\" font-size=\"14.00\">B</text>\n",
       "</g>\n",
       "<!-- U&#45;&gt;B -->\n",
       "<g id=\"edge3\" class=\"edge\">\n",
       "<title>U&#45;&gt;B</title>\n",
       "<path fill=\"none\" stroke=\"black\" d=\"M118.94,-144.41C115.05,-136.39 110.28,-126.57 105.89,-117.54\"/>\n",
       "<polygon fill=\"black\" stroke=\"black\" points=\"109.18,-116.3 101.66,-108.83 102.88,-119.36 109.18,-116.3\"/>\n",
       "</g>\n",
       "<!-- C&#45;&gt;Y -->\n",
       "<g id=\"edge6\" class=\"edge\">\n",
       "<title>C&#45;&gt;Y</title>\n",
       "<path fill=\"none\" stroke=\"black\" d=\"M52.92,-143.59C50.05,-119.61 44.84,-76.14 41.4,-47.42\"/>\n",
       "<polygon fill=\"black\" stroke=\"black\" points=\"44.89,-47.13 40.23,-37.61 37.94,-47.96 44.89,-47.13\"/>\n",
       "</g>\n",
       "<!-- C&#45;&gt;B -->\n",
       "<g id=\"edge5\" class=\"edge\">\n",
       "<title>C&#45;&gt;B</title>\n",
       "<path fill=\"none\" stroke=\"black\" d=\"M63.81,-144.76C68.27,-136.55 73.8,-126.37 78.84,-117.09\"/>\n",
       "<polygon fill=\"black\" stroke=\"black\" points=\"81.82,-118.94 83.51,-108.48 75.67,-115.6 81.82,-118.94\"/>\n",
       "</g>\n",
       "</g>\n",
       "</svg>\n"
      ],
      "text/plain": [
       "<graphviz.graphs.Digraph at 0x152b1880ee0>"
      ]
     },
     "execution_count": 7,
     "metadata": {},
     "output_type": "execute_result"
    }
   ],
   "source": [
    "sixM1 = CausalGraphicalModel(\n",
    "    nodes = ['A','U','B','C','X','Y','V'],\n",
    "    edges = [\n",
    "    ('A','U'),\n",
    "    ('A','C'),\n",
    "    ('U','B'),\n",
    "    ('U','X'),\n",
    "    ('C','B'),\n",
    "    ('C','Y'),\n",
    "    ('X','Y'),\n",
    "    ('V','C'),\n",
    "    ('V','Y')]\n",
    ")\n",
    "sixM1.draw()\n"
   ]
  },
  {
   "cell_type": "code",
   "execution_count": 8,
   "id": "99c75138-721f-4ac8-8012-30567c95b484",
   "metadata": {},
   "outputs": [
    {
     "data": {
      "text/plain": [
       "[['X', 'U', 'A', 'C', 'Y'],\n",
       " ['X', 'U', 'A', 'C', 'V', 'Y'],\n",
       " ['X', 'U', 'B', 'C', 'Y'],\n",
       " ['X', 'U', 'B', 'C', 'V', 'Y']]"
      ]
     },
     "execution_count": 8,
     "metadata": {},
     "output_type": "execute_result"
    }
   ],
   "source": [
    "sixM1.get_all_backdoor_paths('X','Y')"
   ]
  },
  {
   "cell_type": "markdown",
   "id": "ac4820b5-9641-4d38-92cf-511a884913fa",
   "metadata": {},
   "source": [
    "#There are now 5 paths from X to Y\n",
    "\n",
    "1. X <- U <- A -> C -> Y\n",
    "\n",
    "2. X <- U <- A -> C <- V -> Y\n",
    "\n",
    "3. X <- U -> B <- C -> Y\n",
    "\n",
    "4. X <- U -> B <- C <- V -> Y\n",
    "\n",
    "5. X -> Y"
   ]
  },
  {
   "cell_type": "code",
   "execution_count": 9,
   "id": "34b6c8cc-5f5a-4c55-82bd-7627a00b742a",
   "metadata": {},
   "outputs": [
    {
     "name": "stdout",
     "output_type": "stream",
     "text": [
      "frozenset({'C', 'A'})\n",
      "frozenset({'C', 'A', 'B'})\n",
      "frozenset({'A'})\n"
     ]
    }
   ],
   "source": [
    "#Any of the following paths will close the backdoors between X and Y\n",
    "for path in sixM1.get_all_backdoor_adjustment_sets('X','Y'):\n",
    "    if not any([(('U' in x) | ('V' in x)) for x in path]):\n",
    "        print (path)"
   ]
  },
  {
   "cell_type": "code",
   "execution_count": 10,
   "id": "ce289ac1-7f02-4e4e-8e27-647713960a53",
   "metadata": {},
   "outputs": [
    {
     "data": {
      "text/plain": [
       "True"
      ]
     },
     "execution_count": 10,
     "metadata": {},
     "output_type": "execute_result"
    }
   ],
   "source": [
    "sixM1.is_valid_backdoor_adjustment_set('X','Y',('C','A','B'))"
   ]
  },
  {
   "cell_type": "markdown",
   "id": "47b502ed",
   "metadata": {},
   "source": [
    "#6M2 Sometimes, in order to avoid multicollinearity, people inspect pairwise correlations among predictors before including them in a model. This is a bad procedure, because what matters is the conditional association, not the association before the variables are included in the model. To high\u0002light this, consider the DAG X → Z → Y. Simulate data from this DAG so that the correlation between X and Z is very large. Then include both in a model prediction Y. Do you observe any multicollinearity? Why or why not? What is different from the legs example in the chapter?"
   ]
  },
  {
   "cell_type": "code",
   "execution_count": 11,
   "id": "a258c922-800b-4af6-9eb1-09ed10120514",
   "metadata": {},
   "outputs": [],
   "source": [
    "n = 20\n",
    "x_z_influence = 0.8\n",
    "z_y_influence = 0.7\n",
    "x = np.random.normal(size=n)\n",
    "z = x_z_influence * np.random.normal(x, size = n) + (1 - x_z_influence) * np.random.normal(size=n)\n",
    "y = z_y_influence * z + (1 - z_y_influence) * np.random.normal(size=n)"
   ]
  },
  {
   "cell_type": "code",
   "execution_count": 12,
   "id": "176475de-17db-42b6-b7c6-c6e09e44b06f",
   "metadata": {},
   "outputs": [
    {
     "data": {
      "text/plain": [
       "array([[1.        , 0.57950269, 0.64385749],\n",
       "       [0.57950269, 1.        , 0.96300653],\n",
       "       [0.64385749, 0.96300653, 1.        ]])"
      ]
     },
     "execution_count": 12,
     "metadata": {},
     "output_type": "execute_result"
    }
   ],
   "source": [
    "np.corrcoef([x,y,z])"
   ]
  },
  {
   "cell_type": "code",
   "execution_count": 13,
   "id": "9574b202-b876-4f2f-ae7a-1c4e759f77ba",
   "metadata": {},
   "outputs": [
    {
     "name": "stderr",
     "output_type": "stream",
     "text": [
      "Auto-assigning NUTS sampler...\n",
      "Initializing NUTS using jitter+adapt_diag...\n",
      "Multiprocess sampling (4 chains in 4 jobs)\n",
      "NUTS: [a, b1, b2, sigma]\n"
     ]
    },
    {
     "data": {
      "text/html": [
       "\n",
       "<style>\n",
       "    /* Turns off some styling */\n",
       "    progress {\n",
       "        /* gets rid of default border in Firefox and Opera. */\n",
       "        border: none;\n",
       "        /* Needs to be in here for Safari polyfill so background images work as expected. */\n",
       "        background-size: auto;\n",
       "    }\n",
       "    progress:not([value]), progress:not([value])::-webkit-progress-bar {\n",
       "        background: repeating-linear-gradient(45deg, #7e7e7e, #7e7e7e 10px, #5c5c5c 10px, #5c5c5c 20px);\n",
       "    }\n",
       "    .progress-bar-interrupted, .progress-bar-interrupted::-webkit-progress-bar {\n",
       "        background: #F44336;\n",
       "    }\n",
       "</style>\n"
      ],
      "text/plain": [
       "<IPython.core.display.HTML object>"
      ]
     },
     "metadata": {},
     "output_type": "display_data"
    },
    {
     "data": {
      "text/html": [
       "\n",
       "    <div>\n",
       "      <progress value='8000' class='' max='8000' style='width:300px; height:20px; vertical-align: middle;'></progress>\n",
       "      100.00% [8000/8000 00:05&lt;00:00 Sampling 4 chains, 0 divergences]\n",
       "    </div>\n",
       "    "
      ],
      "text/plain": [
       "<IPython.core.display.HTML object>"
      ]
     },
     "metadata": {},
     "output_type": "display_data"
    },
    {
     "name": "stderr",
     "output_type": "stream",
     "text": [
      "Sampling 4 chains for 1_000 tune and 1_000 draw iterations (4_000 + 4_000 draws total) took 21 seconds.\n"
     ]
    }
   ],
   "source": [
    "with pm.Model() as m_6m2:\n",
    "    a = pm.Normal('a',0,1)\n",
    "    b1 = pm.Normal('b1', 0,1)\n",
    "    b2 = pm.Normal('b2', 0,1)\n",
    "    sigma = pm.Exponential('sigma', 1)\n",
    "    mu = a + b1*x + b2*z\n",
    "    y_obs = pm.Normal(\"y\", mu=mu, sigma=sigma, observed=y)\n",
    "    m_6m2 = pm.sample()"
   ]
  },
  {
   "cell_type": "code",
   "execution_count": 14,
   "id": "61b82e23-c88e-40f3-8d61-19be655e017c",
   "metadata": {},
   "outputs": [
    {
     "data": {
      "text/html": [
       "<div>\n",
       "<style scoped>\n",
       "    .dataframe tbody tr th:only-of-type {\n",
       "        vertical-align: middle;\n",
       "    }\n",
       "\n",
       "    .dataframe tbody tr th {\n",
       "        vertical-align: top;\n",
       "    }\n",
       "\n",
       "    .dataframe thead th {\n",
       "        text-align: right;\n",
       "    }\n",
       "</style>\n",
       "<table border=\"1\" class=\"dataframe\">\n",
       "  <thead>\n",
       "    <tr style=\"text-align: right;\">\n",
       "      <th></th>\n",
       "      <th>mean</th>\n",
       "      <th>sd</th>\n",
       "      <th>hdi_3%</th>\n",
       "      <th>hdi_97%</th>\n",
       "      <th>mcse_mean</th>\n",
       "      <th>mcse_sd</th>\n",
       "      <th>ess_bulk</th>\n",
       "      <th>ess_tail</th>\n",
       "      <th>r_hat</th>\n",
       "    </tr>\n",
       "  </thead>\n",
       "  <tbody>\n",
       "    <tr>\n",
       "      <th>a</th>\n",
       "      <td>-0.006</td>\n",
       "      <td>0.064</td>\n",
       "      <td>-0.128</td>\n",
       "      <td>0.108</td>\n",
       "      <td>0.001</td>\n",
       "      <td>0.001</td>\n",
       "      <td>3385.0</td>\n",
       "      <td>2764.0</td>\n",
       "      <td>1.0</td>\n",
       "    </tr>\n",
       "    <tr>\n",
       "      <th>b1</th>\n",
       "      <td>-0.066</td>\n",
       "      <td>0.094</td>\n",
       "      <td>-0.241</td>\n",
       "      <td>0.118</td>\n",
       "      <td>0.002</td>\n",
       "      <td>0.001</td>\n",
       "      <td>2210.0</td>\n",
       "      <td>2384.0</td>\n",
       "      <td>1.0</td>\n",
       "    </tr>\n",
       "    <tr>\n",
       "      <th>b2</th>\n",
       "      <td>0.797</td>\n",
       "      <td>0.073</td>\n",
       "      <td>0.659</td>\n",
       "      <td>0.934</td>\n",
       "      <td>0.001</td>\n",
       "      <td>0.001</td>\n",
       "      <td>2371.0</td>\n",
       "      <td>2668.0</td>\n",
       "      <td>1.0</td>\n",
       "    </tr>\n",
       "    <tr>\n",
       "      <th>sigma</th>\n",
       "      <td>0.269</td>\n",
       "      <td>0.050</td>\n",
       "      <td>0.186</td>\n",
       "      <td>0.366</td>\n",
       "      <td>0.001</td>\n",
       "      <td>0.001</td>\n",
       "      <td>2334.0</td>\n",
       "      <td>2231.0</td>\n",
       "      <td>1.0</td>\n",
       "    </tr>\n",
       "  </tbody>\n",
       "</table>\n",
       "</div>"
      ],
      "text/plain": [
       "        mean     sd  hdi_3%  hdi_97%  mcse_mean  mcse_sd  ess_bulk  ess_tail  \\\n",
       "a     -0.006  0.064  -0.128    0.108      0.001    0.001    3385.0    2764.0   \n",
       "b1    -0.066  0.094  -0.241    0.118      0.002    0.001    2210.0    2384.0   \n",
       "b2     0.797  0.073   0.659    0.934      0.001    0.001    2371.0    2668.0   \n",
       "sigma  0.269  0.050   0.186    0.366      0.001    0.001    2334.0    2231.0   \n",
       "\n",
       "       r_hat  \n",
       "a        1.0  \n",
       "b1       1.0  \n",
       "b2       1.0  \n",
       "sigma    1.0  "
      ]
     },
     "execution_count": 14,
     "metadata": {},
     "output_type": "execute_result"
    }
   ],
   "source": [
    "az.summary(m_6m2)"
   ]
  },
  {
   "cell_type": "code",
   "execution_count": 15,
   "id": "7e651453-3849-441f-9eef-92500ceeaef6",
   "metadata": {},
   "outputs": [
    {
     "data": {
      "text/plain": [
       "array([<Axes: title={'center': '94.0% HDI'}>], dtype=object)"
      ]
     },
     "execution_count": 15,
     "metadata": {},
     "output_type": "execute_result"
    },
    {
     "data": {
      "image/png": "[encoded data removed]",
      "text/plain": [
       "<Figure size 600x740 with 1 Axes>"
      ]
     },
     "metadata": {},
     "output_type": "display_data"
    }
   ],
   "source": [
    "az.plot_forest(m_6m2,combined=True)"
   ]
  },
  {
   "cell_type": "markdown",
   "id": "deb854b0-13a4-4823-913d-0dc0fa28a593",
   "metadata": {},
   "source": [
    "The difference between this and the leg -> height example is that in this example, x is related to y through z, but not directly related to y.  In the leg example, both leg heights are related to each other, and they are both directly \"causal\" of height.  So in this homework, the standard deviation of the parameter estimates are small and do not overlap.  With the leg example, the deviations are much wider and they overlap."
   ]
  },
  {
   "cell_type": "markdown",
   "id": "f73a6694",
   "metadata": {},
   "source": [
    "# 6M3 Question\n",
    " Learning to analyze DAGs requires practice. For each of the four DAGs below, state which variables, if any, you must adjust for (condition on) to estimate the total causal influence of X on Y.\n",
    "\n",
    "Note: the DAGS are in the textbook question, but I am not replicating the image here."
   ]
  },
  {
   "cell_type": "code",
   "execution_count": 16,
   "id": "ec070b29-99fd-4751-b9c8-e790fcc5a6ec",
   "metadata": {},
   "outputs": [
    {
     "data": {
      "image/svg+xml": [
       "<?xml version=\"1.0\" encoding=\"UTF-8\" standalone=\"no\"?>\n",
       "<!DOCTYPE svg PUBLIC \"-//W3C//DTD SVG 1.1//EN\"\n",
       " \"http://www.w3.org/Graphics/SVG/1.1/DTD/svg11.dtd\">\n",
       "<!-- Generated by graphviz version 9.0.0 (0)\n",
       " -->\n",
       "<!-- Pages: 1 -->\n",
       "<svg width=\"127pt\" height=\"260pt\"\n",
       " viewBox=\"0.00 0.00 127.00 260.00\" xmlns=\"http://www.w3.org/2000/svg\" xmlns:xlink=\"http://www.w3.org/1999/xlink\">\n",
       "<g id=\"graph0\" class=\"graph\" transform=\"scale(1 1) rotate(0) translate(4 256)\">\n",
       "<polygon fill=\"white\" stroke=\"none\" points=\"-4,4 -4,-256 123,-256 123,4 -4,4\"/>\n",
       "<!-- X -->\n",
       "<g id=\"node1\" class=\"node\">\n",
       "<title>X</title>\n",
       "<ellipse fill=\"none\" stroke=\"black\" cx=\"27\" cy=\"-90\" rx=\"27\" ry=\"18\"/>\n",
       "<text text-anchor=\"middle\" x=\"27\" y=\"-84.95\" font-family=\"Times New Roman,serif\" font-size=\"14.00\">X</text>\n",
       "</g>\n",
       "<!-- Y -->\n",
       "<g id=\"node4\" class=\"node\">\n",
       "<title>Y</title>\n",
       "<ellipse fill=\"none\" stroke=\"black\" cx=\"82\" cy=\"-18\" rx=\"27\" ry=\"18\"/>\n",
       "<text text-anchor=\"middle\" x=\"82\" y=\"-12.95\" font-family=\"Times New Roman,serif\" font-size=\"14.00\">Y</text>\n",
       "</g>\n",
       "<!-- X&#45;&gt;Y -->\n",
       "<g id=\"edge5\" class=\"edge\">\n",
       "<title>X&#45;&gt;Y</title>\n",
       "<path fill=\"none\" stroke=\"black\" d=\"M39.21,-73.46C46.11,-64.67 54.91,-53.48 62.73,-43.53\"/>\n",
       "<polygon fill=\"black\" stroke=\"black\" points=\"65.47,-45.71 68.89,-35.68 59.96,-41.38 65.47,-45.71\"/>\n",
       "</g>\n",
       "<!-- Z -->\n",
       "<g id=\"node2\" class=\"node\">\n",
       "<title>Z</title>\n",
       "<ellipse fill=\"none\" stroke=\"black\" cx=\"65\" cy=\"-162\" rx=\"27\" ry=\"18\"/>\n",
       "<text text-anchor=\"middle\" x=\"65\" y=\"-156.95\" font-family=\"Times New Roman,serif\" font-size=\"14.00\">Z</text>\n",
       "</g>\n",
       "<!-- Z&#45;&gt;X -->\n",
       "<g id=\"edge1\" class=\"edge\">\n",
       "<title>Z&#45;&gt;X</title>\n",
       "<path fill=\"none\" stroke=\"black\" d=\"M56.19,-144.76C51.73,-136.55 46.2,-126.37 41.16,-117.09\"/>\n",
       "<polygon fill=\"black\" stroke=\"black\" points=\"44.33,-115.6 36.49,-108.48 38.18,-118.94 44.33,-115.6\"/>\n",
       "</g>\n",
       "<!-- Z&#45;&gt;Y -->\n",
       "<g id=\"edge2\" class=\"edge\">\n",
       "<title>Z&#45;&gt;Y</title>\n",
       "<path fill=\"none\" stroke=\"black\" d=\"M67.08,-143.59C69.95,-119.61 75.16,-76.14 78.6,-47.42\"/>\n",
       "<polygon fill=\"black\" stroke=\"black\" points=\"82.06,-47.96 79.77,-37.61 75.11,-47.13 82.06,-47.96\"/>\n",
       "</g>\n",
       "<!-- A -->\n",
       "<g id=\"node3\" class=\"node\">\n",
       "<title>A</title>\n",
       "<ellipse fill=\"none\" stroke=\"black\" cx=\"92\" cy=\"-234\" rx=\"27\" ry=\"18\"/>\n",
       "<text text-anchor=\"middle\" x=\"92\" y=\"-228.95\" font-family=\"Times New Roman,serif\" font-size=\"14.00\">A</text>\n",
       "</g>\n",
       "<!-- A&#45;&gt;Z -->\n",
       "<g id=\"edge3\" class=\"edge\">\n",
       "<title>A&#45;&gt;Z</title>\n",
       "<path fill=\"none\" stroke=\"black\" d=\"M85.46,-216.05C82.48,-208.32 78.87,-198.96 75.52,-190.27\"/>\n",
       "<polygon fill=\"black\" stroke=\"black\" points=\"78.88,-189.27 72.02,-181.2 72.35,-191.79 78.88,-189.27\"/>\n",
       "</g>\n",
       "<!-- A&#45;&gt;Y -->\n",
       "<g id=\"edge4\" class=\"edge\">\n",
       "<title>A&#45;&gt;Y</title>\n",
       "<path fill=\"none\" stroke=\"black\" d=\"M95.65,-215.91C97.68,-205.57 99.98,-192.09 101,-180 104.94,-133.25 95.69,-79.11 88.76,-47.04\"/>\n",
       "<polygon fill=\"black\" stroke=\"black\" points=\"92.19,-46.35 86.58,-37.36 85.36,-47.88 92.19,-46.35\"/>\n",
       "</g>\n",
       "</g>\n",
       "</svg>\n"
      ],
      "text/plain": [
       "<graphviz.graphs.Digraph at 0x152b3ce2190>"
      ]
     },
     "execution_count": 16,
     "metadata": {},
     "output_type": "execute_result"
    }
   ],
   "source": [
    "sixM3a = CausalGraphicalModel(\n",
    "    nodes = ['Z','A','X','Y'],\n",
    "    edges = [\n",
    "    ('A','Z'),\n",
    "    ('A','Y'),\n",
    "    ('Z','X'),\n",
    "    ('Z','Y'),\n",
    "    ('X','Y')]\n",
    ")\n",
    "sixM3a.draw()"
   ]
  },
  {
   "cell_type": "code",
   "execution_count": 17,
   "id": "53ce4e77-3394-41e7-9881-e6b1ff5a9831",
   "metadata": {},
   "outputs": [
    {
     "data": {
      "text/plain": [
       "frozenset({frozenset({'Z'}), frozenset({'A', 'Z'})})"
      ]
     },
     "execution_count": 17,
     "metadata": {},
     "output_type": "execute_result"
    }
   ],
   "source": [
    "# X <- Z -> Y #Z is a fork\n",
    "# X <- Z <- A ->Y #Z is a pipe, A is a collider.  \n",
    "# If we condition on Z, that will close the backdoor through X and account for the information from A\n",
    "sixM3a.get_all_backdoor_adjustment_sets('X','Y')"
   ]
  },
  {
   "cell_type": "code",
   "execution_count": 18,
   "id": "b08d5126-e722-4e16-be35-993a6f830b95",
   "metadata": {},
   "outputs": [
    {
     "data": {
      "image/svg+xml": [
       "<?xml version=\"1.0\" encoding=\"UTF-8\" standalone=\"no\"?>\n",
       "<!DOCTYPE svg PUBLIC \"-//W3C//DTD SVG 1.1//EN\"\n",
       " \"http://www.w3.org/Graphics/SVG/1.1/DTD/svg11.dtd\">\n",
       "<!-- Generated by graphviz version 9.0.0 (0)\n",
       " -->\n",
       "<!-- Pages: 1 -->\n",
       "<svg width=\"153pt\" height=\"188pt\"\n",
       " viewBox=\"0.00 0.00 153.00 188.00\" xmlns=\"http://www.w3.org/2000/svg\" xmlns:xlink=\"http://www.w3.org/1999/xlink\">\n",
       "<g id=\"graph0\" class=\"graph\" transform=\"scale(1 1) rotate(0) translate(4 184)\">\n",
       "<polygon fill=\"white\" stroke=\"none\" points=\"-4,4 -4,-184 149,-184 149,4 -4,4\"/>\n",
       "<!-- X -->\n",
       "<g id=\"node1\" class=\"node\">\n",
       "<title>X</title>\n",
       "<ellipse fill=\"none\" stroke=\"black\" cx=\"27\" cy=\"-162\" rx=\"27\" ry=\"18\"/>\n",
       "<text text-anchor=\"middle\" x=\"27\" y=\"-156.95\" font-family=\"Times New Roman,serif\" font-size=\"14.00\">X</text>\n",
       "</g>\n",
       "<!-- Z -->\n",
       "<g id=\"node2\" class=\"node\">\n",
       "<title>Z</title>\n",
       "<ellipse fill=\"none\" stroke=\"black\" cx=\"73\" cy=\"-90\" rx=\"27\" ry=\"18\"/>\n",
       "<text text-anchor=\"middle\" x=\"73\" y=\"-84.95\" font-family=\"Times New Roman,serif\" font-size=\"14.00\">Z</text>\n",
       "</g>\n",
       "<!-- X&#45;&gt;Z -->\n",
       "<g id=\"edge4\" class=\"edge\">\n",
       "<title>X&#45;&gt;Z</title>\n",
       "<path fill=\"none\" stroke=\"black\" d=\"M37.44,-145.12C43.03,-136.61 50.04,-125.94 56.36,-116.32\"/>\n",
       "<polygon fill=\"black\" stroke=\"black\" points=\"59.21,-118.37 61.77,-108.09 53.36,-114.52 59.21,-118.37\"/>\n",
       "</g>\n",
       "<!-- Y -->\n",
       "<g id=\"node4\" class=\"node\">\n",
       "<title>Y</title>\n",
       "<ellipse fill=\"none\" stroke=\"black\" cx=\"73\" cy=\"-18\" rx=\"27\" ry=\"18\"/>\n",
       "<text text-anchor=\"middle\" x=\"73\" y=\"-12.95\" font-family=\"Times New Roman,serif\" font-size=\"14.00\">Y</text>\n",
       "</g>\n",
       "<!-- X&#45;&gt;Y -->\n",
       "<g id=\"edge5\" class=\"edge\">\n",
       "<title>X&#45;&gt;Y</title>\n",
       "<path fill=\"none\" stroke=\"black\" d=\"M26.52,-143.71C26.56,-125.35 28.21,-95.77 37,-72 40.76,-61.84 46.86,-51.75 52.99,-43.13\"/>\n",
       "<polygon fill=\"black\" stroke=\"black\" points=\"55.65,-45.41 58.88,-35.32 50.06,-41.2 55.65,-45.41\"/>\n",
       "</g>\n",
       "<!-- Z&#45;&gt;Y -->\n",
       "<g id=\"edge1\" class=\"edge\">\n",
       "<title>Z&#45;&gt;Y</title>\n",
       "<path fill=\"none\" stroke=\"black\" d=\"M73,-71.7C73,-64.41 73,-55.73 73,-47.54\"/>\n",
       "<polygon fill=\"black\" stroke=\"black\" points=\"76.5,-47.62 73,-37.62 69.5,-47.62 76.5,-47.62\"/>\n",
       "</g>\n",
       "<!-- A -->\n",
       "<g id=\"node3\" class=\"node\">\n",
       "<title>A</title>\n",
       "<ellipse fill=\"none\" stroke=\"black\" cx=\"118\" cy=\"-162\" rx=\"27\" ry=\"18\"/>\n",
       "<text text-anchor=\"middle\" x=\"118\" y=\"-156.95\" font-family=\"Times New Roman,serif\" font-size=\"14.00\">A</text>\n",
       "</g>\n",
       "<!-- A&#45;&gt;Z -->\n",
       "<g id=\"edge2\" class=\"edge\">\n",
       "<title>A&#45;&gt;Z</title>\n",
       "<path fill=\"none\" stroke=\"black\" d=\"M107.79,-145.12C102.32,-136.61 95.46,-125.94 89.28,-116.32\"/>\n",
       "<polygon fill=\"black\" stroke=\"black\" points=\"92.34,-114.61 83.99,-108.09 86.45,-118.4 92.34,-114.61\"/>\n",
       "</g>\n",
       "<!-- A&#45;&gt;Y -->\n",
       "<g id=\"edge3\" class=\"edge\">\n",
       "<title>A&#45;&gt;Y</title>\n",
       "<path fill=\"none\" stroke=\"black\" d=\"M118.72,-143.72C118.93,-125.37 117.65,-95.79 109,-72 105.3,-61.82 99.21,-51.72 93.08,-43.11\"/>\n",
       "<polygon fill=\"black\" stroke=\"black\" points=\"96,-41.17 87.18,-35.3 90.41,-45.39 96,-41.17\"/>\n",
       "</g>\n",
       "</g>\n",
       "</svg>\n"
      ],
      "text/plain": [
       "<graphviz.graphs.Digraph at 0x152b3d34730>"
      ]
     },
     "execution_count": 18,
     "metadata": {},
     "output_type": "execute_result"
    }
   ],
   "source": [
    "sixM3b = CausalGraphicalModel(\n",
    "    nodes = ['Z','A','X','Y'],\n",
    "    edges = [\n",
    "    ('A','Z'),\n",
    "    ('A','Y'),\n",
    "    ('X','Z'),\n",
    "    ('Z','Y'),\n",
    "    ('X','Y')]\n",
    ")\n",
    "sixM3b.draw()"
   ]
  },
  {
   "cell_type": "code",
   "execution_count": 19,
   "id": "37ddcf57-fc6c-4fdc-a396-b49aca9d1548",
   "metadata": {},
   "outputs": [
    {
     "data": {
      "text/plain": [
       "frozenset({frozenset(), frozenset({'A'})})"
      ]
     },
     "execution_count": 19,
     "metadata": {},
     "output_type": "execute_result"
    }
   ],
   "source": [
    "# X -> Z >- Y # This is a pipe.  So No change is needed here\n",
    "# X -> Z <- A -> Y #In this, Z is a collider, so the path is already closed.\n",
    "sixM3b.get_all_backdoor_adjustment_sets('X','Y')\n",
    "#We can either condition on A or we don't need to condition at all since all backdoors are closed"
   ]
  },
  {
   "cell_type": "code",
   "execution_count": 20,
   "id": "b74b5a61-26a0-4b31-a5eb-ca9c1e24a981",
   "metadata": {},
   "outputs": [
    {
     "data": {
      "image/svg+xml": [
       "<?xml version=\"1.0\" encoding=\"UTF-8\" standalone=\"no\"?>\n",
       "<!DOCTYPE svg PUBLIC \"-//W3C//DTD SVG 1.1//EN\"\n",
       " \"http://www.w3.org/Graphics/SVG/1.1/DTD/svg11.dtd\">\n",
       "<!-- Generated by graphviz version 9.0.0 (0)\n",
       " -->\n",
       "<!-- Pages: 1 -->\n",
       "<svg width=\"102pt\" height=\"260pt\"\n",
       " viewBox=\"0.00 0.00 101.53 260.00\" xmlns=\"http://www.w3.org/2000/svg\" xmlns:xlink=\"http://www.w3.org/1999/xlink\">\n",
       "<g id=\"graph0\" class=\"graph\" transform=\"scale(1 1) rotate(0) translate(4 256)\">\n",
       "<polygon fill=\"white\" stroke=\"none\" points=\"-4,4 -4,-256 97.53,-256 97.53,4 -4,4\"/>\n",
       "<!-- X -->\n",
       "<g id=\"node1\" class=\"node\">\n",
       "<title>X</title>\n",
       "<ellipse fill=\"none\" stroke=\"black\" cx=\"39.53\" cy=\"-162\" rx=\"27\" ry=\"18\"/>\n",
       "<text text-anchor=\"middle\" x=\"39.53\" y=\"-156.95\" font-family=\"Times New Roman,serif\" font-size=\"14.00\">X</text>\n",
       "</g>\n",
       "<!-- Z -->\n",
       "<g id=\"node2\" class=\"node\">\n",
       "<title>Z</title>\n",
       "<ellipse fill=\"none\" stroke=\"black\" cx=\"39.53\" cy=\"-18\" rx=\"27\" ry=\"18\"/>\n",
       "<text text-anchor=\"middle\" x=\"39.53\" y=\"-12.95\" font-family=\"Times New Roman,serif\" font-size=\"14.00\">Z</text>\n",
       "</g>\n",
       "<!-- X&#45;&gt;Z -->\n",
       "<g id=\"edge3\" class=\"edge\">\n",
       "<title>X&#45;&gt;Z</title>\n",
       "<path fill=\"none\" stroke=\"black\" d=\"M25.78,-146.07C17.57,-136.1 7.91,-122.25 3.53,-108 -1.18,-92.71 -1.18,-87.29 3.53,-72 6.71,-61.65 12.68,-51.51 18.85,-42.91\"/>\n",
       "<polygon fill=\"black\" stroke=\"black\" points=\"21.52,-45.19 24.85,-35.13 15.97,-40.91 21.52,-45.19\"/>\n",
       "</g>\n",
       "<!-- Y -->\n",
       "<g id=\"node4\" class=\"node\">\n",
       "<title>Y</title>\n",
       "<ellipse fill=\"none\" stroke=\"black\" cx=\"39.53\" cy=\"-90\" rx=\"27\" ry=\"18\"/>\n",
       "<text text-anchor=\"middle\" x=\"39.53\" y=\"-84.95\" font-family=\"Times New Roman,serif\" font-size=\"14.00\">Y</text>\n",
       "</g>\n",
       "<!-- X&#45;&gt;Y -->\n",
       "<g id=\"edge4\" class=\"edge\">\n",
       "<title>X&#45;&gt;Y</title>\n",
       "<path fill=\"none\" stroke=\"black\" d=\"M39.53,-143.7C39.53,-136.41 39.53,-127.73 39.53,-119.54\"/>\n",
       "<polygon fill=\"black\" stroke=\"black\" points=\"43.03,-119.62 39.53,-109.62 36.03,-119.62 43.03,-119.62\"/>\n",
       "</g>\n",
       "<!-- A -->\n",
       "<g id=\"node3\" class=\"node\">\n",
       "<title>A</title>\n",
       "<ellipse fill=\"none\" stroke=\"black\" cx=\"66.53\" cy=\"-234\" rx=\"27\" ry=\"18\"/>\n",
       "<text text-anchor=\"middle\" x=\"66.53\" y=\"-228.95\" font-family=\"Times New Roman,serif\" font-size=\"14.00\">A</text>\n",
       "</g>\n",
       "<!-- A&#45;&gt;X -->\n",
       "<g id=\"edge2\" class=\"edge\">\n",
       "<title>A&#45;&gt;X</title>\n",
       "<path fill=\"none\" stroke=\"black\" d=\"M59.99,-216.05C57.01,-208.32 53.4,-198.96 50.04,-190.27\"/>\n",
       "<polygon fill=\"black\" stroke=\"black\" points=\"53.41,-189.27 46.55,-181.2 46.88,-191.79 53.41,-189.27\"/>\n",
       "</g>\n",
       "<!-- A&#45;&gt;Z -->\n",
       "<g id=\"edge1\" class=\"edge\">\n",
       "<title>A&#45;&gt;Z</title>\n",
       "<path fill=\"none\" stroke=\"black\" d=\"M71.25,-216.08C78.76,-186.23 91.08,-122.57 75.53,-72 72.34,-61.65 66.38,-51.51 60.2,-42.91\"/>\n",
       "<polygon fill=\"black\" stroke=\"black\" points=\"63.08,-40.91 54.2,-35.13 57.54,-45.19 63.08,-40.91\"/>\n",
       "</g>\n",
       "<!-- Y&#45;&gt;Z -->\n",
       "<g id=\"edge5\" class=\"edge\">\n",
       "<title>Y&#45;&gt;Z</title>\n",
       "<path fill=\"none\" stroke=\"black\" d=\"M39.53,-71.7C39.53,-64.41 39.53,-55.73 39.53,-47.54\"/>\n",
       "<polygon fill=\"black\" stroke=\"black\" points=\"43.03,-47.62 39.53,-37.62 36.03,-47.62 43.03,-47.62\"/>\n",
       "</g>\n",
       "</g>\n",
       "</svg>\n"
      ],
      "text/plain": [
       "<graphviz.graphs.Digraph at 0x152b4572cd0>"
      ]
     },
     "execution_count": 20,
     "metadata": {},
     "output_type": "execute_result"
    }
   ],
   "source": [
    "#6M3\n",
    "sixM3c = CausalGraphicalModel(\n",
    "    nodes = ['Z','A','X','Y'],\n",
    "    edges = [\n",
    "    ('A','Z'),\n",
    "    ('A','X'),\n",
    "    ('X','Z'),\n",
    "    ('Y','Z'),\n",
    "    ('X','Y')]\n",
    ")\n",
    "sixM3c.draw()"
   ]
  },
  {
   "cell_type": "code",
   "execution_count": 21,
   "id": "7fcab945-91d8-4cd9-a862-d60bda5865cb",
   "metadata": {},
   "outputs": [
    {
     "data": {
      "text/plain": [
       "frozenset({frozenset(), frozenset({'A'})})"
      ]
     },
     "execution_count": 21,
     "metadata": {},
     "output_type": "execute_result"
    }
   ],
   "source": [
    "# X <- A -> Z <- Y #Z is a collider, and A is a fork.\n",
    "# X -> Z <- Y #This path is closed\n",
    "#So we don't need to make any adjustment, or we can condition on A\n",
    "sixM3c.get_all_backdoor_adjustment_sets('X','Y')"
   ]
  },
  {
   "cell_type": "code",
   "execution_count": 22,
   "id": "7d2e847b-d525-4779-9ec2-5c1438a1e5dd",
   "metadata": {},
   "outputs": [
    {
     "data": {
      "image/svg+xml": [
       "<?xml version=\"1.0\" encoding=\"UTF-8\" standalone=\"no\"?>\n",
       "<!DOCTYPE svg PUBLIC \"-//W3C//DTD SVG 1.1//EN\"\n",
       " \"http://www.w3.org/Graphics/SVG/1.1/DTD/svg11.dtd\">\n",
       "<!-- Generated by graphviz version 9.0.0 (0)\n",
       " -->\n",
       "<!-- Pages: 1 -->\n",
       "<svg width=\"117pt\" height=\"260pt\"\n",
       " viewBox=\"0.00 0.00 117.00 260.00\" xmlns=\"http://www.w3.org/2000/svg\" xmlns:xlink=\"http://www.w3.org/1999/xlink\">\n",
       "<g id=\"graph0\" class=\"graph\" transform=\"scale(1 1) rotate(0) translate(4 256)\">\n",
       "<polygon fill=\"white\" stroke=\"none\" points=\"-4,4 -4,-256 113,-256 113,4 -4,4\"/>\n",
       "<!-- X -->\n",
       "<g id=\"node1\" class=\"node\">\n",
       "<title>X</title>\n",
       "<ellipse fill=\"none\" stroke=\"black\" cx=\"82\" cy=\"-162\" rx=\"27\" ry=\"18\"/>\n",
       "<text text-anchor=\"middle\" x=\"82\" y=\"-156.95\" font-family=\"Times New Roman,serif\" font-size=\"14.00\">X</text>\n",
       "</g>\n",
       "<!-- Z -->\n",
       "<g id=\"node2\" class=\"node\">\n",
       "<title>Z</title>\n",
       "<ellipse fill=\"none\" stroke=\"black\" cx=\"27\" cy=\"-90\" rx=\"27\" ry=\"18\"/>\n",
       "<text text-anchor=\"middle\" x=\"27\" y=\"-84.95\" font-family=\"Times New Roman,serif\" font-size=\"14.00\">Z</text>\n",
       "</g>\n",
       "<!-- X&#45;&gt;Z -->\n",
       "<g id=\"edge4\" class=\"edge\">\n",
       "<title>X&#45;&gt;Z</title>\n",
       "<path fill=\"none\" stroke=\"black\" d=\"M69.79,-145.46C62.89,-136.67 54.09,-125.48 46.27,-115.53\"/>\n",
       "<polygon fill=\"black\" stroke=\"black\" points=\"49.04,-113.38 40.11,-107.68 43.53,-117.71 49.04,-113.38\"/>\n",
       "</g>\n",
       "<!-- Y -->\n",
       "<g id=\"node4\" class=\"node\">\n",
       "<title>Y</title>\n",
       "<ellipse fill=\"none\" stroke=\"black\" cx=\"54\" cy=\"-18\" rx=\"27\" ry=\"18\"/>\n",
       "<text text-anchor=\"middle\" x=\"54\" y=\"-12.95\" font-family=\"Times New Roman,serif\" font-size=\"14.00\">Y</text>\n",
       "</g>\n",
       "<!-- X&#45;&gt;Y -->\n",
       "<g id=\"edge5\" class=\"edge\">\n",
       "<title>X&#45;&gt;Y</title>\n",
       "<path fill=\"none\" stroke=\"black\" d=\"M78.62,-143.87C73.89,-119.88 65.24,-75.99 59.55,-47.16\"/>\n",
       "<polygon fill=\"black\" stroke=\"black\" points=\"63.05,-46.81 57.68,-37.67 56.18,-48.16 63.05,-46.81\"/>\n",
       "</g>\n",
       "<!-- Z&#45;&gt;Y -->\n",
       "<g id=\"edge1\" class=\"edge\">\n",
       "<title>Z&#45;&gt;Y</title>\n",
       "<path fill=\"none\" stroke=\"black\" d=\"M33.54,-72.05C36.52,-64.32 40.13,-54.96 43.48,-46.27\"/>\n",
       "<polygon fill=\"black\" stroke=\"black\" points=\"46.65,-47.79 46.98,-37.2 40.12,-45.27 46.65,-47.79\"/>\n",
       "</g>\n",
       "<!-- A -->\n",
       "<g id=\"node3\" class=\"node\">\n",
       "<title>A</title>\n",
       "<ellipse fill=\"none\" stroke=\"black\" cx=\"54\" cy=\"-234\" rx=\"27\" ry=\"18\"/>\n",
       "<text text-anchor=\"middle\" x=\"54\" y=\"-228.95\" font-family=\"Times New Roman,serif\" font-size=\"14.00\">A</text>\n",
       "</g>\n",
       "<!-- A&#45;&gt;X -->\n",
       "<g id=\"edge3\" class=\"edge\">\n",
       "<title>A&#45;&gt;X</title>\n",
       "<path fill=\"none\" stroke=\"black\" d=\"M60.64,-216.41C63.77,-208.57 67.6,-198.99 71.15,-190.13\"/>\n",
       "<polygon fill=\"black\" stroke=\"black\" points=\"74.39,-191.46 74.85,-180.88 67.89,-188.86 74.39,-191.46\"/>\n",
       "</g>\n",
       "<!-- A&#45;&gt;Z -->\n",
       "<g id=\"edge2\" class=\"edge\">\n",
       "<title>A&#45;&gt;Z</title>\n",
       "<path fill=\"none\" stroke=\"black\" d=\"M50.74,-215.87C46.18,-191.88 37.84,-147.99 32.35,-119.16\"/>\n",
       "<polygon fill=\"black\" stroke=\"black\" points=\"35.86,-118.85 30.55,-109.68 28.98,-120.15 35.86,-118.85\"/>\n",
       "</g>\n",
       "</g>\n",
       "</svg>\n"
      ],
      "text/plain": [
       "<graphviz.graphs.Digraph at 0x152b3d0b160>"
      ]
     },
     "execution_count": 22,
     "metadata": {},
     "output_type": "execute_result"
    }
   ],
   "source": [
    "#6M3\n",
    "sixM3d = CausalGraphicalModel(\n",
    "    nodes = ['Z','A','X','Y'],\n",
    "    edges = [\n",
    "    ('A','Z'),\n",
    "    ('A','X'),\n",
    "    ('X','Z'),\n",
    "    ('Z','Y'),\n",
    "    ('X','Y')]\n",
    ")\n",
    "sixM3d.draw()"
   ]
  },
  {
   "cell_type": "code",
   "execution_count": 23,
   "id": "3a7c17cc-4271-4e95-88f9-0df874a82524",
   "metadata": {},
   "outputs": [
    {
     "data": {
      "text/plain": [
       "frozenset({frozenset({'A'})})"
      ]
     },
     "execution_count": 23,
     "metadata": {},
     "output_type": "execute_result"
    }
   ],
   "source": [
    "# X -> Z -> Y #Z is a pipe.  So we need to condition on Z to close the backdoor\n",
    "# X <- A -> Z -> Y # Z is a pipe, while A is a fork\n",
    "\n",
    "sixM3d.get_all_backdoor_adjustment_sets('X','Y')"
   ]
  },
  {
   "cell_type": "markdown",
   "id": "ff1f10d4",
   "metadata": {},
   "source": [
    "# 6H1 Question \n",
    "Use the Waffle House data, data(WaffleDivorce), to find the total causal influence of number of Waffle Houses on divorce rate. Justify your model or models with a causal graph."
   ]
  },
  {
   "cell_type": "code",
   "execution_count": 24,
   "id": "93c90b8f-2360-46bf-be20-c8b5918fd06e",
   "metadata": {},
   "outputs": [
    {
     "data": {
      "text/html": [
       "<div>\n",
       "<style scoped>\n",
       "    .dataframe tbody tr th:only-of-type {\n",
       "        vertical-align: middle;\n",
       "    }\n",
       "\n",
       "    .dataframe tbody tr th {\n",
       "        vertical-align: top;\n",
       "    }\n",
       "\n",
       "    .dataframe thead th {\n",
       "        text-align: right;\n",
       "    }\n",
       "</style>\n",
       "<table border=\"1\" class=\"dataframe\">\n",
       "  <thead>\n",
       "    <tr style=\"text-align: right;\">\n",
       "      <th></th>\n",
       "      <th>Location</th>\n",
       "      <th>Loc</th>\n",
       "      <th>Population</th>\n",
       "      <th>MedianAgeMarriage</th>\n",
       "      <th>Marriage</th>\n",
       "      <th>Marriage SE</th>\n",
       "      <th>Divorce</th>\n",
       "      <th>Divorce SE</th>\n",
       "      <th>WaffleHouses</th>\n",
       "      <th>South</th>\n",
       "      <th>Slaves1860</th>\n",
       "      <th>Population1860</th>\n",
       "      <th>PropSlaves1860</th>\n",
       "    </tr>\n",
       "  </thead>\n",
       "  <tbody>\n",
       "    <tr>\n",
       "      <th>0</th>\n",
       "      <td>Alabama</td>\n",
       "      <td>AL</td>\n",
       "      <td>4.78</td>\n",
       "      <td>25.3</td>\n",
       "      <td>20.2</td>\n",
       "      <td>1.27</td>\n",
       "      <td>12.7</td>\n",
       "      <td>0.79</td>\n",
       "      <td>128</td>\n",
       "      <td>1</td>\n",
       "      <td>435080</td>\n",
       "      <td>964201</td>\n",
       "      <td>0.45</td>\n",
       "    </tr>\n",
       "    <tr>\n",
       "      <th>1</th>\n",
       "      <td>Alaska</td>\n",
       "      <td>AK</td>\n",
       "      <td>0.71</td>\n",
       "      <td>25.2</td>\n",
       "      <td>26.0</td>\n",
       "      <td>2.93</td>\n",
       "      <td>12.5</td>\n",
       "      <td>2.05</td>\n",
       "      <td>0</td>\n",
       "      <td>0</td>\n",
       "      <td>0</td>\n",
       "      <td>0</td>\n",
       "      <td>0.00</td>\n",
       "    </tr>\n",
       "    <tr>\n",
       "      <th>2</th>\n",
       "      <td>Arizona</td>\n",
       "      <td>AZ</td>\n",
       "      <td>6.33</td>\n",
       "      <td>25.8</td>\n",
       "      <td>20.3</td>\n",
       "      <td>0.98</td>\n",
       "      <td>10.8</td>\n",
       "      <td>0.74</td>\n",
       "      <td>18</td>\n",
       "      <td>0</td>\n",
       "      <td>0</td>\n",
       "      <td>0</td>\n",
       "      <td>0.00</td>\n",
       "    </tr>\n",
       "    <tr>\n",
       "      <th>3</th>\n",
       "      <td>Arkansas</td>\n",
       "      <td>AR</td>\n",
       "      <td>2.92</td>\n",
       "      <td>24.3</td>\n",
       "      <td>26.4</td>\n",
       "      <td>1.70</td>\n",
       "      <td>13.5</td>\n",
       "      <td>1.22</td>\n",
       "      <td>41</td>\n",
       "      <td>1</td>\n",
       "      <td>111115</td>\n",
       "      <td>435450</td>\n",
       "      <td>0.26</td>\n",
       "    </tr>\n",
       "    <tr>\n",
       "      <th>4</th>\n",
       "      <td>California</td>\n",
       "      <td>CA</td>\n",
       "      <td>37.25</td>\n",
       "      <td>26.8</td>\n",
       "      <td>19.1</td>\n",
       "      <td>0.39</td>\n",
       "      <td>8.0</td>\n",
       "      <td>0.24</td>\n",
       "      <td>0</td>\n",
       "      <td>0</td>\n",
       "      <td>0</td>\n",
       "      <td>379994</td>\n",
       "      <td>0.00</td>\n",
       "    </tr>\n",
       "  </tbody>\n",
       "</table>\n",
       "</div>"
      ],
      "text/plain": [
       "     Location Loc  Population  MedianAgeMarriage  Marriage  Marriage SE  \\\n",
       "0     Alabama  AL        4.78               25.3      20.2         1.27   \n",
       "1      Alaska  AK        0.71               25.2      26.0         2.93   \n",
       "2     Arizona  AZ        6.33               25.8      20.3         0.98   \n",
       "3    Arkansas  AR        2.92               24.3      26.4         1.70   \n",
       "4  California  CA       37.25               26.8      19.1         0.39   \n",
       "\n",
       "   Divorce  Divorce SE  WaffleHouses  South  Slaves1860  Population1860  \\\n",
       "0     12.7        0.79           128      1      435080          964201   \n",
       "1     12.5        2.05             0      0           0               0   \n",
       "2     10.8        0.74            18      0           0               0   \n",
       "3     13.5        1.22            41      1      111115          435450   \n",
       "4      8.0        0.24             0      0           0          379994   \n",
       "\n",
       "   PropSlaves1860  \n",
       "0            0.45  \n",
       "1            0.00  \n",
       "2            0.00  \n",
       "3            0.26  \n",
       "4            0.00  "
      ]
     },
     "execution_count": 24,
     "metadata": {},
     "output_type": "execute_result"
    }
   ],
   "source": [
    "divorce = pd.read_csv('./data/WaffleDivorce.csv',sep=';')\n",
    "divorce.head()"
   ]
  },
  {
   "cell_type": "code",
   "execution_count": 25,
   "id": "fb9d6d4b-b662-4f0a-8c9b-cdc57f75e532",
   "metadata": {},
   "outputs": [
    {
     "data": {
      "text/html": [
       "<div>\n",
       "<style scoped>\n",
       "    .dataframe tbody tr th:only-of-type {\n",
       "        vertical-align: middle;\n",
       "    }\n",
       "\n",
       "    .dataframe tbody tr th {\n",
       "        vertical-align: top;\n",
       "    }\n",
       "\n",
       "    .dataframe thead th {\n",
       "        text-align: right;\n",
       "    }\n",
       "</style>\n",
       "<table border=\"1\" class=\"dataframe\">\n",
       "  <thead>\n",
       "    <tr style=\"text-align: right;\">\n",
       "      <th></th>\n",
       "      <th>Location</th>\n",
       "      <th>Members</th>\n",
       "      <th>Population</th>\n",
       "      <th>LDS_pct</th>\n",
       "    </tr>\n",
       "  </thead>\n",
       "  <tbody>\n",
       "    <tr>\n",
       "      <th>0</th>\n",
       "      <td>Alabama</td>\n",
       "      <td>39832.0</td>\n",
       "      <td>5074296.0</td>\n",
       "      <td>0.008</td>\n",
       "    </tr>\n",
       "    <tr>\n",
       "      <th>1</th>\n",
       "      <td>Alaska</td>\n",
       "      <td>33574.0</td>\n",
       "      <td>733583.0</td>\n",
       "      <td>0.046</td>\n",
       "    </tr>\n",
       "    <tr>\n",
       "      <th>2</th>\n",
       "      <td>Arizona</td>\n",
       "      <td>439411.0</td>\n",
       "      <td>7359197.0</td>\n",
       "      <td>0.060</td>\n",
       "    </tr>\n",
       "    <tr>\n",
       "      <th>3</th>\n",
       "      <td>Arkansas</td>\n",
       "      <td>35405.0</td>\n",
       "      <td>3045637.0</td>\n",
       "      <td>0.012</td>\n",
       "    </tr>\n",
       "    <tr>\n",
       "      <th>4</th>\n",
       "      <td>California</td>\n",
       "      <td>728995.0</td>\n",
       "      <td>39029342.0</td>\n",
       "      <td>0.019</td>\n",
       "    </tr>\n",
       "  </tbody>\n",
       "</table>\n",
       "</div>"
      ],
      "text/plain": [
       "     Location   Members  Population  LDS_pct\n",
       "0     Alabama   39832.0   5074296.0    0.008\n",
       "1      Alaska   33574.0    733583.0    0.046\n",
       "2     Arizona  439411.0   7359197.0    0.060\n",
       "3    Arkansas   35405.0   3045637.0    0.012\n",
       "4  California  728995.0  39029342.0    0.019"
      ]
     },
     "execution_count": 25,
     "metadata": {},
     "output_type": "execute_result"
    }
   ],
   "source": [
    "lds_stats = pd.read_csv('./data/lds_stats.csv')\n",
    "lds_stats['LDS_pct'] = np.round(lds_stats['Members'] / lds_stats['Population'],3)\n",
    "lds_stats = lds_stats.rename(columns={'State':'Location'})\n",
    "lds_stats.head()"
   ]
  },
  {
   "cell_type": "code",
   "execution_count": 26,
   "id": "c4582190-56c7-40d0-9ecc-6f94c894d60b",
   "metadata": {},
   "outputs": [],
   "source": [
    "divorce_lds = divorce.merge(lds_stats, on='Location')"
   ]
  },
  {
   "cell_type": "code",
   "execution_count": 27,
   "id": "6cb7c955-f83c-497b-81c5-168af4a62d8d",
   "metadata": {},
   "outputs": [],
   "source": [
    "training_data = divorce_lds[['Location','Loc','MedianAgeMarriage', 'Divorce','Marriage','LDS_pct','WaffleHouses','South']].copy()"
   ]
  },
  {
   "cell_type": "code",
   "execution_count": 28,
   "id": "d3a9d29d-4620-4103-8c83-9c2dd8785556",
   "metadata": {},
   "outputs": [
    {
     "data": {
      "text/html": [
       "<div>\n",
       "<style scoped>\n",
       "    .dataframe tbody tr th:only-of-type {\n",
       "        vertical-align: middle;\n",
       "    }\n",
       "\n",
       "    .dataframe tbody tr th {\n",
       "        vertical-align: top;\n",
       "    }\n",
       "\n",
       "    .dataframe thead th {\n",
       "        text-align: right;\n",
       "    }\n",
       "</style>\n",
       "<table border=\"1\" class=\"dataframe\">\n",
       "  <thead>\n",
       "    <tr style=\"text-align: right;\">\n",
       "      <th></th>\n",
       "      <th>Location</th>\n",
       "      <th>Loc</th>\n",
       "      <th>MedianAgeMarriage</th>\n",
       "      <th>Divorce</th>\n",
       "      <th>Marriage</th>\n",
       "      <th>LDS_pct</th>\n",
       "      <th>WaffleHouses</th>\n",
       "      <th>South</th>\n",
       "      <th>MedAgeStd</th>\n",
       "      <th>DivorceStd</th>\n",
       "      <th>MarriageStd</th>\n",
       "      <th>LDSStd</th>\n",
       "      <th>WaffleHousesStd</th>\n",
       "    </tr>\n",
       "  </thead>\n",
       "  <tbody>\n",
       "    <tr>\n",
       "      <th>0</th>\n",
       "      <td>Alabama</td>\n",
       "      <td>AL</td>\n",
       "      <td>25.3</td>\n",
       "      <td>12.7</td>\n",
       "      <td>20.2</td>\n",
       "      <td>0.008</td>\n",
       "      <td>128</td>\n",
       "      <td>1</td>\n",
       "      <td>-0.606290</td>\n",
       "      <td>1.654205</td>\n",
       "      <td>0.022644</td>\n",
       "      <td>-0.262656</td>\n",
       "      <td>1.454029</td>\n",
       "    </tr>\n",
       "    <tr>\n",
       "      <th>1</th>\n",
       "      <td>Alaska</td>\n",
       "      <td>AK</td>\n",
       "      <td>25.2</td>\n",
       "      <td>12.5</td>\n",
       "      <td>26.0</td>\n",
       "      <td>0.046</td>\n",
       "      <td>0</td>\n",
       "      <td>0</td>\n",
       "      <td>-0.686699</td>\n",
       "      <td>1.544364</td>\n",
       "      <td>1.549802</td>\n",
       "      <td>0.134042</td>\n",
       "      <td>-0.491567</td>\n",
       "    </tr>\n",
       "    <tr>\n",
       "      <th>2</th>\n",
       "      <td>Arizona</td>\n",
       "      <td>AZ</td>\n",
       "      <td>25.8</td>\n",
       "      <td>10.8</td>\n",
       "      <td>20.3</td>\n",
       "      <td>0.060</td>\n",
       "      <td>18</td>\n",
       "      <td>0</td>\n",
       "      <td>-0.204241</td>\n",
       "      <td>0.610716</td>\n",
       "      <td>0.048974</td>\n",
       "      <td>0.280194</td>\n",
       "      <td>-0.217968</td>\n",
       "    </tr>\n",
       "    <tr>\n",
       "      <th>3</th>\n",
       "      <td>Arkansas</td>\n",
       "      <td>AR</td>\n",
       "      <td>24.3</td>\n",
       "      <td>13.5</td>\n",
       "      <td>26.4</td>\n",
       "      <td>0.012</td>\n",
       "      <td>41</td>\n",
       "      <td>1</td>\n",
       "      <td>-1.410387</td>\n",
       "      <td>2.093569</td>\n",
       "      <td>1.655123</td>\n",
       "      <td>-0.220898</td>\n",
       "      <td>0.131632</td>\n",
       "    </tr>\n",
       "    <tr>\n",
       "      <th>4</th>\n",
       "      <td>California</td>\n",
       "      <td>CA</td>\n",
       "      <td>26.8</td>\n",
       "      <td>8.0</td>\n",
       "      <td>19.1</td>\n",
       "      <td>0.019</td>\n",
       "      <td>0</td>\n",
       "      <td>0</td>\n",
       "      <td>0.599857</td>\n",
       "      <td>-0.927058</td>\n",
       "      <td>-0.266989</td>\n",
       "      <td>-0.147822</td>\n",
       "      <td>-0.491567</td>\n",
       "    </tr>\n",
       "  </tbody>\n",
       "</table>\n",
       "</div>"
      ],
      "text/plain": [
       "     Location Loc  MedianAgeMarriage  Divorce  Marriage  LDS_pct  \\\n",
       "0     Alabama  AL               25.3     12.7      20.2    0.008   \n",
       "1      Alaska  AK               25.2     12.5      26.0    0.046   \n",
       "2     Arizona  AZ               25.8     10.8      20.3    0.060   \n",
       "3    Arkansas  AR               24.3     13.5      26.4    0.012   \n",
       "4  California  CA               26.8      8.0      19.1    0.019   \n",
       "\n",
       "   WaffleHouses  South  MedAgeStd  DivorceStd  MarriageStd    LDSStd  \\\n",
       "0           128      1  -0.606290    1.654205     0.022644 -0.262656   \n",
       "1             0      0  -0.686699    1.544364     1.549802  0.134042   \n",
       "2            18      0  -0.204241    0.610716     0.048974  0.280194   \n",
       "3            41      1  -1.410387    2.093569     1.655123 -0.220898   \n",
       "4             0      0   0.599857   -0.927058    -0.266989 -0.147822   \n",
       "\n",
       "   WaffleHousesStd  \n",
       "0         1.454029  \n",
       "1        -0.491567  \n",
       "2        -0.217968  \n",
       "3         0.131632  \n",
       "4        -0.491567  "
      ]
     },
     "execution_count": 28,
     "metadata": {},
     "output_type": "execute_result"
    }
   ],
   "source": [
    "training_data['MedAgeStd'] = (training_data['MedianAgeMarriage'] - training_data['MedianAgeMarriage'].mean())/training_data['MedianAgeMarriage'].std()\n",
    "training_data['DivorceStd'] = (training_data['Divorce'] - training_data['Divorce'].mean())/training_data['Divorce'].std()\n",
    "training_data['MarriageStd'] = (training_data['Marriage'] - training_data['Marriage'].mean())/training_data['Marriage'].std()\n",
    "training_data['LDSStd'] = (training_data['LDS_pct'] - training_data['LDS_pct'].mean())/training_data['LDS_pct'].std()\n",
    "training_data['WaffleHousesStd'] = (training_data['WaffleHouses'] - training_data['WaffleHouses'].mean())/training_data['WaffleHouses'].std()\n",
    "training_data.head()"
   ]
  },
  {
   "cell_type": "code",
   "execution_count": 29,
   "id": "5f0115a4-7767-4ede-a03b-ae3eb9a01049",
   "metadata": {},
   "outputs": [
    {
     "data": {
      "text/plain": [
       "Index(['Location', 'Loc', 'Population', 'MedianAgeMarriage', 'Marriage',\n",
       "       'Marriage SE', 'Divorce', 'Divorce SE', 'WaffleHouses', 'South',\n",
       "       'Slaves1860', 'Population1860', 'PropSlaves1860'],\n",
       "      dtype='object')"
      ]
     },
     "execution_count": 29,
     "metadata": {},
     "output_type": "execute_result"
    }
   ],
   "source": [
    "divorce.columns"
   ]
  },
  {
   "cell_type": "code",
   "execution_count": 30,
   "id": "02459ee7-267c-479c-aa9b-56f6d0473bd5",
   "metadata": {},
   "outputs": [
    {
     "data": {
      "image/svg+xml": [
       "<?xml version=\"1.0\" encoding=\"UTF-8\" standalone=\"no\"?>\n",
       "<!DOCTYPE svg PUBLIC \"-//W3C//DTD SVG 1.1//EN\"\n",
       " \"http://www.w3.org/Graphics/SVG/1.1/DTD/svg11.dtd\">\n",
       "<!-- Generated by graphviz version 9.0.0 (0)\n",
       " -->\n",
       "<!-- Pages: 1 -->\n",
       "<svg width=\"172pt\" height=\"260pt\"\n",
       " viewBox=\"0.00 0.00 172.00 260.00\" xmlns=\"http://www.w3.org/2000/svg\" xmlns:xlink=\"http://www.w3.org/1999/xlink\">\n",
       "<g id=\"graph0\" class=\"graph\" transform=\"scale(1 1) rotate(0) translate(4 256)\">\n",
       "<polygon fill=\"white\" stroke=\"none\" points=\"-4,4 -4,-256 168,-256 168,4 -4,4\"/>\n",
       "<!-- S -->\n",
       "<g id=\"node1\" class=\"node\">\n",
       "<title>S</title>\n",
       "<ellipse fill=\"none\" stroke=\"black\" cx=\"82\" cy=\"-234\" rx=\"27\" ry=\"18\"/>\n",
       "<text text-anchor=\"middle\" x=\"82\" y=\"-228.95\" font-family=\"Times New Roman,serif\" font-size=\"14.00\">S</text>\n",
       "</g>\n",
       "<!-- A -->\n",
       "<g id=\"node2\" class=\"node\">\n",
       "<title>A</title>\n",
       "<ellipse fill=\"none\" stroke=\"black\" cx=\"27\" cy=\"-162\" rx=\"27\" ry=\"18\"/>\n",
       "<text text-anchor=\"middle\" x=\"27\" y=\"-156.95\" font-family=\"Times New Roman,serif\" font-size=\"14.00\">A</text>\n",
       "</g>\n",
       "<!-- S&#45;&gt;A -->\n",
       "<g id=\"edge2\" class=\"edge\">\n",
       "<title>S&#45;&gt;A</title>\n",
       "<path fill=\"none\" stroke=\"black\" d=\"M69.79,-217.46C62.89,-208.67 54.09,-197.48 46.27,-187.53\"/>\n",
       "<polygon fill=\"black\" stroke=\"black\" points=\"49.04,-185.38 40.11,-179.68 43.53,-189.71 49.04,-185.38\"/>\n",
       "</g>\n",
       "<!-- W -->\n",
       "<g id=\"node3\" class=\"node\">\n",
       "<title>W</title>\n",
       "<ellipse fill=\"none\" stroke=\"black\" cx=\"137\" cy=\"-90\" rx=\"27\" ry=\"18\"/>\n",
       "<text text-anchor=\"middle\" x=\"137\" y=\"-84.95\" font-family=\"Times New Roman,serif\" font-size=\"14.00\">W</text>\n",
       "</g>\n",
       "<!-- S&#45;&gt;W -->\n",
       "<g id=\"edge1\" class=\"edge\">\n",
       "<title>S&#45;&gt;W</title>\n",
       "<path fill=\"none\" stroke=\"black\" d=\"M88.53,-216.15C97.87,-192.03 115.17,-147.36 126.38,-118.43\"/>\n",
       "<polygon fill=\"black\" stroke=\"black\" points=\"129.59,-119.83 129.94,-109.24 123.06,-117.3 129.59,-119.83\"/>\n",
       "</g>\n",
       "<!-- M -->\n",
       "<g id=\"node4\" class=\"node\">\n",
       "<title>M</title>\n",
       "<ellipse fill=\"none\" stroke=\"black\" cx=\"65\" cy=\"-90\" rx=\"27\" ry=\"18\"/>\n",
       "<text text-anchor=\"middle\" x=\"65\" y=\"-84.95\" font-family=\"Times New Roman,serif\" font-size=\"14.00\">M</text>\n",
       "</g>\n",
       "<!-- S&#45;&gt;M -->\n",
       "<g id=\"edge3\" class=\"edge\">\n",
       "<title>S&#45;&gt;M</title>\n",
       "<path fill=\"none\" stroke=\"black\" d=\"M79.92,-215.59C77.05,-191.61 71.84,-148.14 68.4,-119.42\"/>\n",
       "<polygon fill=\"black\" stroke=\"black\" points=\"71.89,-119.13 67.23,-109.61 64.94,-119.96 71.89,-119.13\"/>\n",
       "</g>\n",
       "<!-- A&#45;&gt;M -->\n",
       "<g id=\"edge6\" class=\"edge\">\n",
       "<title>A&#45;&gt;M</title>\n",
       "<path fill=\"none\" stroke=\"black\" d=\"M35.81,-144.76C40.27,-136.55 45.8,-126.37 50.84,-117.09\"/>\n",
       "<polygon fill=\"black\" stroke=\"black\" points=\"53.82,-118.94 55.51,-108.48 47.67,-115.6 53.82,-118.94\"/>\n",
       "</g>\n",
       "<!-- D -->\n",
       "<g id=\"node5\" class=\"node\">\n",
       "<title>D</title>\n",
       "<ellipse fill=\"none\" stroke=\"black\" cx=\"65\" cy=\"-18\" rx=\"27\" ry=\"18\"/>\n",
       "<text text-anchor=\"middle\" x=\"65\" y=\"-12.95\" font-family=\"Times New Roman,serif\" font-size=\"14.00\">D</text>\n",
       "</g>\n",
       "<!-- A&#45;&gt;D -->\n",
       "<g id=\"edge7\" class=\"edge\">\n",
       "<title>A&#45;&gt;D</title>\n",
       "<path fill=\"none\" stroke=\"black\" d=\"M24.56,-143.8C22.61,-125.52 21.33,-95.99 29,-72 32.3,-61.69 38.3,-51.55 44.46,-42.95\"/>\n",
       "<polygon fill=\"black\" stroke=\"black\" points=\"47.12,-45.23 50.44,-35.17 41.57,-40.97 47.12,-45.23\"/>\n",
       "</g>\n",
       "<!-- W&#45;&gt;D -->\n",
       "<g id=\"edge4\" class=\"edge\">\n",
       "<title>W&#45;&gt;D</title>\n",
       "<path fill=\"none\" stroke=\"black\" d=\"M122.08,-74.5C112.23,-64.92 99.14,-52.19 87.97,-41.34\"/>\n",
       "<polygon fill=\"black\" stroke=\"black\" points=\"90.59,-39 80.98,-34.54 85.71,-44.02 90.59,-39\"/>\n",
       "</g>\n",
       "<!-- M&#45;&gt;D -->\n",
       "<g id=\"edge5\" class=\"edge\">\n",
       "<title>M&#45;&gt;D</title>\n",
       "<path fill=\"none\" stroke=\"black\" d=\"M65,-71.7C65,-64.41 65,-55.73 65,-47.54\"/>\n",
       "<polygon fill=\"black\" stroke=\"black\" points=\"68.5,-47.62 65,-37.62 61.5,-47.62 68.5,-47.62\"/>\n",
       "</g>\n",
       "</g>\n",
       "</svg>\n"
      ],
      "text/plain": [
       "<graphviz.graphs.Digraph at 0x152b3d34370>"
      ]
     },
     "execution_count": 30,
     "metadata": {},
     "output_type": "execute_result"
    }
   ],
   "source": [
    "#S(outh),W(affleHouses),M(arraige),D(ivorce),A(geMarraige)\n",
    "sixH1 = CausalGraphicalModel(\n",
    "    nodes = ['S','W','M','A','D'],\n",
    "    edges = [('S','W'),\n",
    "             ('S','A'),\n",
    "             ('S','M'),\n",
    "             ('W','D'),\n",
    "             ('M','D'),\n",
    "             ('A','M'),\n",
    "             ('A','D')])\n",
    "sixH1.draw()"
   ]
  },
  {
   "cell_type": "code",
   "execution_count": 31,
   "id": "d4620409-f549-413a-87c0-9b080f0ea27d",
   "metadata": {},
   "outputs": [
    {
     "data": {
      "text/plain": [
       "frozenset({frozenset({'A', 'M'}),\n",
       "           frozenset({'S'}),\n",
       "           frozenset({'A', 'S'}),\n",
       "           frozenset({'M', 'S'}),\n",
       "           frozenset({'A', 'M', 'S'})})"
      ]
     },
     "execution_count": 31,
     "metadata": {},
     "output_type": "execute_result"
    }
   ],
   "source": [
    "sixH1.get_all_backdoor_adjustment_sets('W','D')\n",
    "#We can close all backdoor with S"
   ]
  },
  {
   "cell_type": "code",
   "execution_count": 32,
   "id": "dd63e544-b033-4f94-a57e-1c15e3b1f961",
   "metadata": {},
   "outputs": [
    {
     "name": "stderr",
     "output_type": "stream",
     "text": [
      "Auto-assigning NUTS sampler...\n",
      "Initializing NUTS using jitter+adapt_diag...\n",
      "Multiprocess sampling (4 chains in 4 jobs)\n",
      "NUTS: [a, b_w, b_region, sigma]\n"
     ]
    },
    {
     "data": {
      "text/html": [
       "\n",
       "<style>\n",
       "    /* Turns off some styling */\n",
       "    progress {\n",
       "        /* gets rid of default border in Firefox and Opera. */\n",
       "        border: none;\n",
       "        /* Needs to be in here for Safari polyfill so background images work as expected. */\n",
       "        background-size: auto;\n",
       "    }\n",
       "    progress:not([value]), progress:not([value])::-webkit-progress-bar {\n",
       "        background: repeating-linear-gradient(45deg, #7e7e7e, #7e7e7e 10px, #5c5c5c 10px, #5c5c5c 20px);\n",
       "    }\n",
       "    .progress-bar-interrupted, .progress-bar-interrupted::-webkit-progress-bar {\n",
       "        background: #F44336;\n",
       "    }\n",
       "</style>\n"
      ],
      "text/plain": [
       "<IPython.core.display.HTML object>"
      ]
     },
     "metadata": {},
     "output_type": "display_data"
    },
    {
     "data": {
      "text/html": [
       "\n",
       "    <div>\n",
       "      <progress value='8000' class='' max='8000' style='width:300px; height:20px; vertical-align: middle;'></progress>\n",
       "      100.00% [8000/8000 00:09&lt;00:00 Sampling 4 chains, 0 divergences]\n",
       "    </div>\n",
       "    "
      ],
      "text/plain": [
       "<IPython.core.display.HTML object>"
      ]
     },
     "metadata": {},
     "output_type": "display_data"
    },
    {
     "name": "stderr",
     "output_type": "stream",
     "text": [
      "Sampling 4 chains for 1_000 tune and 1_000 draw iterations (4_000 + 4_000 draws total) took 24 seconds.\n"
     ]
    }
   ],
   "source": [
    "with pm.Model() as m_6h1_a:\n",
    "    a = pm.Normal('a', 0, 1)\n",
    "    b_w = pm.Normal('b_w', 0,0.5)\n",
    "    b_region = pm.Normal('b_region', 10,2,shape = 2)\n",
    "    sigma = pm.Exponential('sigma',1)\n",
    "    mu = a + b_w * training_data['WaffleHousesStd'] + b_region[training_data['South']]\n",
    "    divorce = pm.Normal('divorce', mu, sigma, observed=training_data['Divorce'])\n",
    "    m_6h1_a_trace = pm.sample()                    "
   ]
  },
  {
   "cell_type": "code",
   "execution_count": 33,
   "id": "156ef640-6f1f-41a1-8db2-5ce428299cb0",
   "metadata": {},
   "outputs": [
    {
     "name": "stderr",
     "output_type": "stream",
     "text": [
      "Auto-assigning NUTS sampler...\n",
      "Initializing NUTS using jitter+adapt_diag...\n",
      "Multiprocess sampling (4 chains in 4 jobs)\n",
      "NUTS: [a, b_w, sigma]\n"
     ]
    },
    {
     "data": {
      "text/html": [
       "\n",
       "<style>\n",
       "    /* Turns off some styling */\n",
       "    progress {\n",
       "        /* gets rid of default border in Firefox and Opera. */\n",
       "        border: none;\n",
       "        /* Needs to be in here for Safari polyfill so background images work as expected. */\n",
       "        background-size: auto;\n",
       "    }\n",
       "    progress:not([value]), progress:not([value])::-webkit-progress-bar {\n",
       "        background: repeating-linear-gradient(45deg, #7e7e7e, #7e7e7e 10px, #5c5c5c 10px, #5c5c5c 20px);\n",
       "    }\n",
       "    .progress-bar-interrupted, .progress-bar-interrupted::-webkit-progress-bar {\n",
       "        background: #F44336;\n",
       "    }\n",
       "</style>\n"
      ],
      "text/plain": [
       "<IPython.core.display.HTML object>"
      ]
     },
     "metadata": {},
     "output_type": "display_data"
    },
    {
     "data": {
      "text/html": [
       "\n",
       "    <div>\n",
       "      <progress value='8000' class='' max='8000' style='width:300px; height:20px; vertical-align: middle;'></progress>\n",
       "      100.00% [8000/8000 00:05&lt;00:00 Sampling 4 chains, 0 divergences]\n",
       "    </div>\n",
       "    "
      ],
      "text/plain": [
       "<IPython.core.display.HTML object>"
      ]
     },
     "metadata": {},
     "output_type": "display_data"
    },
    {
     "name": "stderr",
     "output_type": "stream",
     "text": [
      "Sampling 4 chains for 1_000 tune and 1_000 draw iterations (4_000 + 4_000 draws total) took 21 seconds.\n"
     ]
    }
   ],
   "source": [
    "#Let's also try it without the conditioning\n",
    "with pm.Model() as m_6h1_b:\n",
    "    a = pm.Normal('a', 0, 1)\n",
    "    b_w = pm.Normal('b_w', 0,0.5)\n",
    "    sigma = pm.Exponential('sigma',1)\n",
    "    mu = a + b_w * training_data['WaffleHousesStd']\n",
    "    divorce = pm.Normal('divorce', mu, sigma, observed=training_data['Divorce'])\n",
    "    m_6h1_b_trace = pm.sample()                    "
   ]
  },
  {
   "cell_type": "code",
   "execution_count": 34,
   "id": "f779d709-4c9d-421a-af8b-8b56a347b1cc",
   "metadata": {},
   "outputs": [
    {
     "data": {
      "text/html": [
       "<div>\n",
       "<style scoped>\n",
       "    .dataframe tbody tr th:only-of-type {\n",
       "        vertical-align: middle;\n",
       "    }\n",
       "\n",
       "    .dataframe tbody tr th {\n",
       "        vertical-align: top;\n",
       "    }\n",
       "\n",
       "    .dataframe thead th {\n",
       "        text-align: right;\n",
       "    }\n",
       "</style>\n",
       "<table border=\"1\" class=\"dataframe\">\n",
       "  <thead>\n",
       "    <tr style=\"text-align: right;\">\n",
       "      <th></th>\n",
       "      <th>mean</th>\n",
       "      <th>sd</th>\n",
       "      <th>hdi_3%</th>\n",
       "      <th>hdi_97%</th>\n",
       "      <th>mcse_mean</th>\n",
       "      <th>mcse_sd</th>\n",
       "      <th>ess_bulk</th>\n",
       "      <th>ess_tail</th>\n",
       "      <th>r_hat</th>\n",
       "    </tr>\n",
       "  </thead>\n",
       "  <tbody>\n",
       "    <tr>\n",
       "      <th>a</th>\n",
       "      <td>-0.012</td>\n",
       "      <td>0.813</td>\n",
       "      <td>-1.408</td>\n",
       "      <td>1.656</td>\n",
       "      <td>0.018</td>\n",
       "      <td>0.015</td>\n",
       "      <td>1955.0</td>\n",
       "      <td>1799.0</td>\n",
       "      <td>1.0</td>\n",
       "    </tr>\n",
       "    <tr>\n",
       "      <th>b_w</th>\n",
       "      <td>0.058</td>\n",
       "      <td>0.272</td>\n",
       "      <td>-0.464</td>\n",
       "      <td>0.553</td>\n",
       "      <td>0.006</td>\n",
       "      <td>0.005</td>\n",
       "      <td>2396.0</td>\n",
       "      <td>2211.0</td>\n",
       "      <td>1.0</td>\n",
       "    </tr>\n",
       "    <tr>\n",
       "      <th>b_region[0]</th>\n",
       "      <td>9.352</td>\n",
       "      <td>0.860</td>\n",
       "      <td>7.582</td>\n",
       "      <td>10.849</td>\n",
       "      <td>0.019</td>\n",
       "      <td>0.014</td>\n",
       "      <td>2007.0</td>\n",
       "      <td>1832.0</td>\n",
       "      <td>1.0</td>\n",
       "    </tr>\n",
       "    <tr>\n",
       "      <th>b_region[1]</th>\n",
       "      <td>10.600</td>\n",
       "      <td>0.916</td>\n",
       "      <td>8.906</td>\n",
       "      <td>12.337</td>\n",
       "      <td>0.020</td>\n",
       "      <td>0.014</td>\n",
       "      <td>2117.0</td>\n",
       "      <td>2359.0</td>\n",
       "      <td>1.0</td>\n",
       "    </tr>\n",
       "    <tr>\n",
       "      <th>sigma</th>\n",
       "      <td>1.750</td>\n",
       "      <td>0.182</td>\n",
       "      <td>1.403</td>\n",
       "      <td>2.071</td>\n",
       "      <td>0.004</td>\n",
       "      <td>0.003</td>\n",
       "      <td>2365.0</td>\n",
       "      <td>2127.0</td>\n",
       "      <td>1.0</td>\n",
       "    </tr>\n",
       "  </tbody>\n",
       "</table>\n",
       "</div>"
      ],
      "text/plain": [
       "               mean     sd  hdi_3%  hdi_97%  mcse_mean  mcse_sd  ess_bulk  \\\n",
       "a            -0.012  0.813  -1.408    1.656      0.018    0.015    1955.0   \n",
       "b_w           0.058  0.272  -0.464    0.553      0.006    0.005    2396.0   \n",
       "b_region[0]   9.352  0.860   7.582   10.849      0.019    0.014    2007.0   \n",
       "b_region[1]  10.600  0.916   8.906   12.337      0.020    0.014    2117.0   \n",
       "sigma         1.750  0.182   1.403    2.071      0.004    0.003    2365.0   \n",
       "\n",
       "             ess_tail  r_hat  \n",
       "a              1799.0    1.0  \n",
       "b_w            2211.0    1.0  \n",
       "b_region[0]    1832.0    1.0  \n",
       "b_region[1]    2359.0    1.0  \n",
       "sigma          2127.0    1.0  "
      ]
     },
     "execution_count": 34,
     "metadata": {},
     "output_type": "execute_result"
    }
   ],
   "source": [
    "az.summary(m_6h1_a_trace)"
   ]
  },
  {
   "cell_type": "code",
   "execution_count": 35,
   "id": "7d778c56-1a58-483c-aa10-0e05e11ada56",
   "metadata": {},
   "outputs": [
    {
     "data": {
      "text/html": [
       "<div>\n",
       "<style scoped>\n",
       "    .dataframe tbody tr th:only-of-type {\n",
       "        vertical-align: middle;\n",
       "    }\n",
       "\n",
       "    .dataframe tbody tr th {\n",
       "        vertical-align: top;\n",
       "    }\n",
       "\n",
       "    .dataframe thead th {\n",
       "        text-align: right;\n",
       "    }\n",
       "</style>\n",
       "<table border=\"1\" class=\"dataframe\">\n",
       "  <thead>\n",
       "    <tr style=\"text-align: right;\">\n",
       "      <th></th>\n",
       "      <th>mean</th>\n",
       "      <th>sd</th>\n",
       "      <th>hdi_3%</th>\n",
       "      <th>hdi_97%</th>\n",
       "      <th>mcse_mean</th>\n",
       "      <th>mcse_sd</th>\n",
       "      <th>ess_bulk</th>\n",
       "      <th>ess_tail</th>\n",
       "      <th>r_hat</th>\n",
       "    </tr>\n",
       "  </thead>\n",
       "  <tbody>\n",
       "    <tr>\n",
       "      <th>a</th>\n",
       "      <td>9.027</td>\n",
       "      <td>0.299</td>\n",
       "      <td>8.457</td>\n",
       "      <td>9.568</td>\n",
       "      <td>0.006</td>\n",
       "      <td>0.004</td>\n",
       "      <td>2679.0</td>\n",
       "      <td>2561.0</td>\n",
       "      <td>1.0</td>\n",
       "    </tr>\n",
       "    <tr>\n",
       "      <th>b_w</th>\n",
       "      <td>0.358</td>\n",
       "      <td>0.236</td>\n",
       "      <td>-0.059</td>\n",
       "      <td>0.849</td>\n",
       "      <td>0.003</td>\n",
       "      <td>0.003</td>\n",
       "      <td>4823.0</td>\n",
       "      <td>2837.0</td>\n",
       "      <td>1.0</td>\n",
       "    </tr>\n",
       "    <tr>\n",
       "      <th>sigma</th>\n",
       "      <td>1.910</td>\n",
       "      <td>0.224</td>\n",
       "      <td>1.520</td>\n",
       "      <td>2.332</td>\n",
       "      <td>0.004</td>\n",
       "      <td>0.003</td>\n",
       "      <td>2760.0</td>\n",
       "      <td>2836.0</td>\n",
       "      <td>1.0</td>\n",
       "    </tr>\n",
       "  </tbody>\n",
       "</table>\n",
       "</div>"
      ],
      "text/plain": [
       "        mean     sd  hdi_3%  hdi_97%  mcse_mean  mcse_sd  ess_bulk  ess_tail  \\\n",
       "a      9.027  0.299   8.457    9.568      0.006    0.004    2679.0    2561.0   \n",
       "b_w    0.358  0.236  -0.059    0.849      0.003    0.003    4823.0    2837.0   \n",
       "sigma  1.910  0.224   1.520    2.332      0.004    0.003    2760.0    2836.0   \n",
       "\n",
       "       r_hat  \n",
       "a        1.0  \n",
       "b_w      1.0  \n",
       "sigma    1.0  "
      ]
     },
     "execution_count": 35,
     "metadata": {},
     "output_type": "execute_result"
    }
   ],
   "source": [
    "az.summary(m_6h1_b_trace)"
   ]
  },
  {
   "cell_type": "markdown",
   "id": "9b14569d-6de5-49bf-a72d-c8c9f3107d7f",
   "metadata": {},
   "source": [
    "If we don't include the Southern region variable, it looks like number of Waffle houses has some predictive power to divorce.  However, when we condition on S, WaffleHouses basically has no influence on Divorce Rate as the weight is basically 0."
   ]
  },
  {
   "cell_type": "code",
   "execution_count": 36,
   "id": "9a6ea850-67e5-4d92-8183-c34d35e05e90",
   "metadata": {},
   "outputs": [
    {
     "data": {
      "text/plain": [
       "array([<Axes: title={'center': '94.0% HDI'}>], dtype=object)"
      ]
     },
     "execution_count": 36,
     "metadata": {},
     "output_type": "execute_result"
    },
    {
     "data": {
      "image/png": "[encoded data removed]",
      "text/plain": [
       "<Figure size 600x410 with 1 Axes>"
      ]
     },
     "metadata": {},
     "output_type": "display_data"
    }
   ],
   "source": [
    "#Cofficient for Waffle House is centered around zero\n",
    "az.plot_forest(m_6h1_a_trace, combined=True, var_names='b_w')"
   ]
  },
  {
   "cell_type": "markdown",
   "id": "6d0fd766",
   "metadata": {},
   "source": [
    "# 6H2 Question\n",
    " Build a series of models to test the implied conditional independencies of the causal graphyou used in the previous problem. If any of the tests fail, how do you think the graph needs to be amended? Does the graph need more or fewer arrows? Feel free to nominate variables that aren’t in the data."
   ]
  },
  {
   "cell_type": "code",
   "execution_count": 37,
   "id": "59b6a5f6-9ca7-4ccf-8ceb-bca7eb68097c",
   "metadata": {},
   "outputs": [
    {
     "data": {
      "text/plain": [
       "[('S', 'D', {'A', 'M', 'W'}),\n",
       " ('A', 'W', {'S'}),\n",
       " ('A', 'W', {'M', 'S'}),\n",
       " ('W', 'M', {'S'}),\n",
       " ('W', 'M', {'A', 'S'})]"
      ]
     },
     "execution_count": 37,
     "metadata": {},
     "output_type": "execute_result"
    }
   ],
   "source": [
    "sixH1.get_all_independence_relationships()"
   ]
  },
  {
   "cell_type": "code",
   "execution_count": 38,
   "id": "535e50b6-6705-468c-877d-d05c03b796a3",
   "metadata": {},
   "outputs": [
    {
     "name": "stderr",
     "output_type": "stream",
     "text": [
      "Auto-assigning NUTS sampler...\n",
      "Initializing NUTS using jitter+adapt_diag...\n",
      "Multiprocess sampling (4 chains in 4 jobs)\n",
      "NUTS: [a, b_w, b_region, sigma]\n"
     ]
    },
    {
     "data": {
      "text/html": [
       "\n",
       "<style>\n",
       "    /* Turns off some styling */\n",
       "    progress {\n",
       "        /* gets rid of default border in Firefox and Opera. */\n",
       "        border: none;\n",
       "        /* Needs to be in here for Safari polyfill so background images work as expected. */\n",
       "        background-size: auto;\n",
       "    }\n",
       "    progress:not([value]), progress:not([value])::-webkit-progress-bar {\n",
       "        background: repeating-linear-gradient(45deg, #7e7e7e, #7e7e7e 10px, #5c5c5c 10px, #5c5c5c 20px);\n",
       "    }\n",
       "    .progress-bar-interrupted, .progress-bar-interrupted::-webkit-progress-bar {\n",
       "        background: #F44336;\n",
       "    }\n",
       "</style>\n"
      ],
      "text/plain": [
       "<IPython.core.display.HTML object>"
      ]
     },
     "metadata": {},
     "output_type": "display_data"
    },
    {
     "data": {
      "text/html": [
       "\n",
       "    <div>\n",
       "      <progress value='8000' class='' max='8000' style='width:300px; height:20px; vertical-align: middle;'></progress>\n",
       "      100.00% [8000/8000 00:12&lt;00:00 Sampling 4 chains, 0 divergences]\n",
       "    </div>\n",
       "    "
      ],
      "text/plain": [
       "<IPython.core.display.HTML object>"
      ]
     },
     "metadata": {},
     "output_type": "display_data"
    },
    {
     "name": "stderr",
     "output_type": "stream",
     "text": [
      "Sampling 4 chains for 1_000 tune and 1_000 draw iterations (4_000 + 4_000 draws total) took 28 seconds.\n"
     ]
    }
   ],
   "source": [
    "with pm.Model() as m_6h2_a:\n",
    "    a = pm.Normal('a', 0, 1)\n",
    "    b_w = pm.Normal('b_w', 0,0.5)\n",
    "    b_region = pm.Normal('b_region', 10,2,shape = 2)\n",
    "    sigma = pm.Exponential('sigma',1)\n",
    "    mu = a + b_w * training_data['WaffleHouses'] + b_region[training_data['South']]\n",
    "    age = pm.Normal('w_house', mu, sigma, observed=training_data['MedianAgeMarriage'])\n",
    "    m_6h2_a_trace = pm.sample()                    "
   ]
  },
  {
   "cell_type": "code",
   "execution_count": 39,
   "id": "b866bd84-ceee-478d-8d63-e2f4a46ccbce",
   "metadata": {},
   "outputs": [
    {
     "data": {
      "text/html": [
       "<div>\n",
       "<style scoped>\n",
       "    .dataframe tbody tr th:only-of-type {\n",
       "        vertical-align: middle;\n",
       "    }\n",
       "\n",
       "    .dataframe tbody tr th {\n",
       "        vertical-align: top;\n",
       "    }\n",
       "\n",
       "    .dataframe thead th {\n",
       "        text-align: right;\n",
       "    }\n",
       "</style>\n",
       "<table border=\"1\" class=\"dataframe\">\n",
       "  <thead>\n",
       "    <tr style=\"text-align: right;\">\n",
       "      <th></th>\n",
       "      <th>mean</th>\n",
       "      <th>sd</th>\n",
       "      <th>hdi_3%</th>\n",
       "      <th>hdi_97%</th>\n",
       "      <th>mcse_mean</th>\n",
       "      <th>mcse_sd</th>\n",
       "      <th>ess_bulk</th>\n",
       "      <th>ess_tail</th>\n",
       "      <th>r_hat</th>\n",
       "    </tr>\n",
       "  </thead>\n",
       "  <tbody>\n",
       "    <tr>\n",
       "      <th>a</th>\n",
       "      <td>5.120</td>\n",
       "      <td>0.845</td>\n",
       "      <td>3.569</td>\n",
       "      <td>6.700</td>\n",
       "      <td>0.022</td>\n",
       "      <td>0.016</td>\n",
       "      <td>1411.0</td>\n",
       "      <td>1855.0</td>\n",
       "      <td>1.0</td>\n",
       "    </tr>\n",
       "    <tr>\n",
       "      <th>b_w</th>\n",
       "      <td>0.005</td>\n",
       "      <td>0.004</td>\n",
       "      <td>-0.002</td>\n",
       "      <td>0.013</td>\n",
       "      <td>0.000</td>\n",
       "      <td>0.000</td>\n",
       "      <td>2659.0</td>\n",
       "      <td>2185.0</td>\n",
       "      <td>1.0</td>\n",
       "    </tr>\n",
       "    <tr>\n",
       "      <th>b_region[0]</th>\n",
       "      <td>20.974</td>\n",
       "      <td>0.865</td>\n",
       "      <td>19.333</td>\n",
       "      <td>22.538</td>\n",
       "      <td>0.023</td>\n",
       "      <td>0.016</td>\n",
       "      <td>1414.0</td>\n",
       "      <td>1743.0</td>\n",
       "      <td>1.0</td>\n",
       "    </tr>\n",
       "    <tr>\n",
       "      <th>b_region[1]</th>\n",
       "      <td>19.602</td>\n",
       "      <td>0.953</td>\n",
       "      <td>17.830</td>\n",
       "      <td>21.428</td>\n",
       "      <td>0.026</td>\n",
       "      <td>0.018</td>\n",
       "      <td>1360.0</td>\n",
       "      <td>1822.0</td>\n",
       "      <td>1.0</td>\n",
       "    </tr>\n",
       "    <tr>\n",
       "      <th>sigma</th>\n",
       "      <td>1.264</td>\n",
       "      <td>0.138</td>\n",
       "      <td>1.020</td>\n",
       "      <td>1.525</td>\n",
       "      <td>0.003</td>\n",
       "      <td>0.002</td>\n",
       "      <td>2385.0</td>\n",
       "      <td>2130.0</td>\n",
       "      <td>1.0</td>\n",
       "    </tr>\n",
       "  </tbody>\n",
       "</table>\n",
       "</div>"
      ],
      "text/plain": [
       "               mean     sd  hdi_3%  hdi_97%  mcse_mean  mcse_sd  ess_bulk  \\\n",
       "a             5.120  0.845   3.569    6.700      0.022    0.016    1411.0   \n",
       "b_w           0.005  0.004  -0.002    0.013      0.000    0.000    2659.0   \n",
       "b_region[0]  20.974  0.865  19.333   22.538      0.023    0.016    1414.0   \n",
       "b_region[1]  19.602  0.953  17.830   21.428      0.026    0.018    1360.0   \n",
       "sigma         1.264  0.138   1.020    1.525      0.003    0.002    2385.0   \n",
       "\n",
       "             ess_tail  r_hat  \n",
       "a              1855.0    1.0  \n",
       "b_w            2185.0    1.0  \n",
       "b_region[0]    1743.0    1.0  \n",
       "b_region[1]    1822.0    1.0  \n",
       "sigma          2130.0    1.0  "
      ]
     },
     "execution_count": 39,
     "metadata": {},
     "output_type": "execute_result"
    }
   ],
   "source": [
    "az.summary(m_6h2_a_trace)"
   ]
  },
  {
   "cell_type": "markdown",
   "id": "f9fb2988-02bf-472e-b9f3-98efdc55dc54",
   "metadata": {},
   "source": [
    "We can see that MedianAgeMarrage is independent of WaffleHouses (b_w) when conditioned on Regions since the b_w coefficient is 0"
   ]
  },
  {
   "cell_type": "code",
   "execution_count": 40,
   "id": "0f34a9d6-734b-4e59-b150-b4283197ed9e",
   "metadata": {},
   "outputs": [
    {
     "name": "stderr",
     "output_type": "stream",
     "text": [
      "Auto-assigning NUTS sampler...\n",
      "Initializing NUTS using jitter+adapt_diag...\n",
      "Multiprocess sampling (4 chains in 4 jobs)\n",
      "NUTS: [a, b_w, b_region, sigma]\n"
     ]
    },
    {
     "data": {
      "text/html": [
       "\n",
       "<style>\n",
       "    /* Turns off some styling */\n",
       "    progress {\n",
       "        /* gets rid of default border in Firefox and Opera. */\n",
       "        border: none;\n",
       "        /* Needs to be in here for Safari polyfill so background images work as expected. */\n",
       "        background-size: auto;\n",
       "    }\n",
       "    progress:not([value]), progress:not([value])::-webkit-progress-bar {\n",
       "        background: repeating-linear-gradient(45deg, #7e7e7e, #7e7e7e 10px, #5c5c5c 10px, #5c5c5c 20px);\n",
       "    }\n",
       "    .progress-bar-interrupted, .progress-bar-interrupted::-webkit-progress-bar {\n",
       "        background: #F44336;\n",
       "    }\n",
       "</style>\n"
      ],
      "text/plain": [
       "<IPython.core.display.HTML object>"
      ]
     },
     "metadata": {},
     "output_type": "display_data"
    },
    {
     "data": {
      "text/html": [
       "\n",
       "    <div>\n",
       "      <progress value='8000' class='' max='8000' style='width:300px; height:20px; vertical-align: middle;'></progress>\n",
       "      100.00% [8000/8000 00:14&lt;00:00 Sampling 4 chains, 0 divergences]\n",
       "    </div>\n",
       "    "
      ],
      "text/plain": [
       "<IPython.core.display.HTML object>"
      ]
     },
     "metadata": {},
     "output_type": "display_data"
    },
    {
     "name": "stderr",
     "output_type": "stream",
     "text": [
      "Sampling 4 chains for 1_000 tune and 1_000 draw iterations (4_000 + 4_000 draws total) took 30 seconds.\n"
     ]
    }
   ],
   "source": [
    "with pm.Model() as m_6h2_b:\n",
    "    a = pm.Normal('a', 0, 1)\n",
    "    b_w = pm.Normal('b_w', 0,0.5)\n",
    "    b_region = pm.Normal('b_region', 10,2,shape = 2)\n",
    "    sigma = pm.Exponential('sigma',1)\n",
    "    mu = a + b_w * training_data['WaffleHouses'] + b_region[training_data['South']]\n",
    "    m_rate = pm.Normal('m_rate', mu, sigma, observed=training_data['MarriageStd'])\n",
    "    m_6h2_b_trace = pm.sample()                    "
   ]
  },
  {
   "cell_type": "code",
   "execution_count": 41,
   "id": "2ffb76c4-345e-4541-96ec-0bc3899788fa",
   "metadata": {},
   "outputs": [
    {
     "data": {
      "text/html": [
       "<div>\n",
       "<style scoped>\n",
       "    .dataframe tbody tr th:only-of-type {\n",
       "        vertical-align: middle;\n",
       "    }\n",
       "\n",
       "    .dataframe tbody tr th {\n",
       "        vertical-align: top;\n",
       "    }\n",
       "\n",
       "    .dataframe thead th {\n",
       "        text-align: right;\n",
       "    }\n",
       "</style>\n",
       "<table border=\"1\" class=\"dataframe\">\n",
       "  <thead>\n",
       "    <tr style=\"text-align: right;\">\n",
       "      <th></th>\n",
       "      <th>mean</th>\n",
       "      <th>sd</th>\n",
       "      <th>hdi_3%</th>\n",
       "      <th>hdi_97%</th>\n",
       "      <th>mcse_mean</th>\n",
       "      <th>mcse_sd</th>\n",
       "      <th>ess_bulk</th>\n",
       "      <th>ess_tail</th>\n",
       "      <th>r_hat</th>\n",
       "    </tr>\n",
       "  </thead>\n",
       "  <tbody>\n",
       "    <tr>\n",
       "      <th>a</th>\n",
       "      <td>-3.261</td>\n",
       "      <td>0.797</td>\n",
       "      <td>-4.721</td>\n",
       "      <td>-1.742</td>\n",
       "      <td>0.022</td>\n",
       "      <td>0.015</td>\n",
       "      <td>1360.0</td>\n",
       "      <td>1588.0</td>\n",
       "      <td>1.0</td>\n",
       "    </tr>\n",
       "    <tr>\n",
       "      <th>b_w</th>\n",
       "      <td>-0.003</td>\n",
       "      <td>0.003</td>\n",
       "      <td>-0.009</td>\n",
       "      <td>0.003</td>\n",
       "      <td>0.000</td>\n",
       "      <td>0.000</td>\n",
       "      <td>2371.0</td>\n",
       "      <td>2011.0</td>\n",
       "      <td>1.0</td>\n",
       "    </tr>\n",
       "    <tr>\n",
       "      <th>b_region[0]</th>\n",
       "      <td>3.276</td>\n",
       "      <td>0.804</td>\n",
       "      <td>1.624</td>\n",
       "      <td>4.663</td>\n",
       "      <td>0.022</td>\n",
       "      <td>0.015</td>\n",
       "      <td>1363.0</td>\n",
       "      <td>1425.0</td>\n",
       "      <td>1.0</td>\n",
       "    </tr>\n",
       "    <tr>\n",
       "      <th>b_region[1]</th>\n",
       "      <td>3.773</td>\n",
       "      <td>0.864</td>\n",
       "      <td>2.118</td>\n",
       "      <td>5.354</td>\n",
       "      <td>0.023</td>\n",
       "      <td>0.016</td>\n",
       "      <td>1438.0</td>\n",
       "      <td>1605.0</td>\n",
       "      <td>1.0</td>\n",
       "    </tr>\n",
       "    <tr>\n",
       "      <th>sigma</th>\n",
       "      <td>1.037</td>\n",
       "      <td>0.108</td>\n",
       "      <td>0.853</td>\n",
       "      <td>1.249</td>\n",
       "      <td>0.002</td>\n",
       "      <td>0.002</td>\n",
       "      <td>2170.0</td>\n",
       "      <td>1842.0</td>\n",
       "      <td>1.0</td>\n",
       "    </tr>\n",
       "  </tbody>\n",
       "</table>\n",
       "</div>"
      ],
      "text/plain": [
       "              mean     sd  hdi_3%  hdi_97%  mcse_mean  mcse_sd  ess_bulk  \\\n",
       "a           -3.261  0.797  -4.721   -1.742      0.022    0.015    1360.0   \n",
       "b_w         -0.003  0.003  -0.009    0.003      0.000    0.000    2371.0   \n",
       "b_region[0]  3.276  0.804   1.624    4.663      0.022    0.015    1363.0   \n",
       "b_region[1]  3.773  0.864   2.118    5.354      0.023    0.016    1438.0   \n",
       "sigma        1.037  0.108   0.853    1.249      0.002    0.002    2170.0   \n",
       "\n",
       "             ess_tail  r_hat  \n",
       "a              1588.0    1.0  \n",
       "b_w            2011.0    1.0  \n",
       "b_region[0]    1425.0    1.0  \n",
       "b_region[1]    1605.0    1.0  \n",
       "sigma          1842.0    1.0  "
      ]
     },
     "execution_count": 41,
     "metadata": {},
     "output_type": "execute_result"
    }
   ],
   "source": [
    "az.summary(m_6h2_b_trace)"
   ]
  },
  {
   "cell_type": "markdown",
   "id": "ddf531f6-cbd4-4799-b079-5ba7bb8b335d",
   "metadata": {},
   "source": [
    "We can see that Marriage Rate is independent of WaffleHouses (b_w) when conditioned on Regions since the b_w coefficient is 0"
   ]
  },
  {
   "cell_type": "code",
   "execution_count": 42,
   "id": "91e2c965-ecbe-4e70-b085-1dbfb85a7ace",
   "metadata": {},
   "outputs": [
    {
     "name": "stderr",
     "output_type": "stream",
     "text": [
      "Auto-assigning NUTS sampler...\n",
      "Initializing NUTS using jitter+adapt_diag...\n",
      "Multiprocess sampling (4 chains in 4 jobs)\n",
      "NUTS: [b_w, b_a, b_m, b_region, sigma]\n"
     ]
    },
    {
     "data": {
      "text/html": [
       "\n",
       "<style>\n",
       "    /* Turns off some styling */\n",
       "    progress {\n",
       "        /* gets rid of default border in Firefox and Opera. */\n",
       "        border: none;\n",
       "        /* Needs to be in here for Safari polyfill so background images work as expected. */\n",
       "        background-size: auto;\n",
       "    }\n",
       "    progress:not([value]), progress:not([value])::-webkit-progress-bar {\n",
       "        background: repeating-linear-gradient(45deg, #7e7e7e, #7e7e7e 10px, #5c5c5c 10px, #5c5c5c 20px);\n",
       "    }\n",
       "    .progress-bar-interrupted, .progress-bar-interrupted::-webkit-progress-bar {\n",
       "        background: #F44336;\n",
       "    }\n",
       "</style>\n"
      ],
      "text/plain": [
       "<IPython.core.display.HTML object>"
      ]
     },
     "metadata": {},
     "output_type": "display_data"
    },
    {
     "data": {
      "text/html": [
       "\n",
       "    <div>\n",
       "      <progress value='8000' class='' max='8000' style='width:300px; height:20px; vertical-align: middle;'></progress>\n",
       "      100.00% [8000/8000 00:10&lt;00:00 Sampling 4 chains, 0 divergences]\n",
       "    </div>\n",
       "    "
      ],
      "text/plain": [
       "<IPython.core.display.HTML object>"
      ]
     },
     "metadata": {},
     "output_type": "display_data"
    },
    {
     "name": "stderr",
     "output_type": "stream",
     "text": [
      "Sampling 4 chains for 1_000 tune and 1_000 draw iterations (4_000 + 4_000 draws total) took 26 seconds.\n"
     ]
    }
   ],
   "source": [
    "with pm.Model() as m_6h2_c:\n",
    "    #a = pm.Normal('a', 0, 2)\n",
    "    b_w = pm.Normal('b_w', 0,0.5)\n",
    "    b_a = pm.Normal('b_a', 0,0.5)\n",
    "    b_m = pm.Normal('b_m', 0,0.5)\n",
    "    b_region = pm.Normal('b_region', 0,0.5,shape = 2)\n",
    "    sigma = pm.Exponential('sigma',1)\n",
    "    mu = b_region[training_data['South']] + b_a * training_data['MedianAgeMarriage'] + b_m * training_data['MarriageStd'] + b_w * training_data['WaffleHousesStd']\n",
    "    d_rate = pm.Normal('m_rate', mu, sigma, observed=training_data['DivorceStd'])\n",
    "    m_6h2_c_trace = pm.sample()                    "
   ]
  },
  {
   "cell_type": "code",
   "execution_count": 43,
   "id": "fe9bb982-1117-4980-ada4-0f281f1690b1",
   "metadata": {},
   "outputs": [
    {
     "data": {
      "text/html": [
       "<div>\n",
       "<style scoped>\n",
       "    .dataframe tbody tr th:only-of-type {\n",
       "        vertical-align: middle;\n",
       "    }\n",
       "\n",
       "    .dataframe tbody tr th {\n",
       "        vertical-align: top;\n",
       "    }\n",
       "\n",
       "    .dataframe thead th {\n",
       "        text-align: right;\n",
       "    }\n",
       "</style>\n",
       "<table border=\"1\" class=\"dataframe\">\n",
       "  <thead>\n",
       "    <tr style=\"text-align: right;\">\n",
       "      <th></th>\n",
       "      <th>mean</th>\n",
       "      <th>sd</th>\n",
       "      <th>hdi_3%</th>\n",
       "      <th>hdi_97%</th>\n",
       "      <th>mcse_mean</th>\n",
       "      <th>mcse_sd</th>\n",
       "      <th>ess_bulk</th>\n",
       "      <th>ess_tail</th>\n",
       "      <th>r_hat</th>\n",
       "    </tr>\n",
       "  </thead>\n",
       "  <tbody>\n",
       "    <tr>\n",
       "      <th>b_w</th>\n",
       "      <td>0.092</td>\n",
       "      <td>0.157</td>\n",
       "      <td>-0.205</td>\n",
       "      <td>0.379</td>\n",
       "      <td>0.003</td>\n",
       "      <td>0.002</td>\n",
       "      <td>2967.0</td>\n",
       "      <td>2331.0</td>\n",
       "      <td>1.0</td>\n",
       "    </tr>\n",
       "    <tr>\n",
       "      <th>b_a</th>\n",
       "      <td>-0.000</td>\n",
       "      <td>0.014</td>\n",
       "      <td>-0.028</td>\n",
       "      <td>0.026</td>\n",
       "      <td>0.000</td>\n",
       "      <td>0.000</td>\n",
       "      <td>2179.0</td>\n",
       "      <td>2087.0</td>\n",
       "      <td>1.0</td>\n",
       "    </tr>\n",
       "    <tr>\n",
       "      <th>b_m</th>\n",
       "      <td>0.330</td>\n",
       "      <td>0.127</td>\n",
       "      <td>0.092</td>\n",
       "      <td>0.576</td>\n",
       "      <td>0.002</td>\n",
       "      <td>0.002</td>\n",
       "      <td>3515.0</td>\n",
       "      <td>2568.0</td>\n",
       "      <td>1.0</td>\n",
       "    </tr>\n",
       "    <tr>\n",
       "      <th>b_region[0]</th>\n",
       "      <td>-0.132</td>\n",
       "      <td>0.378</td>\n",
       "      <td>-0.867</td>\n",
       "      <td>0.534</td>\n",
       "      <td>0.008</td>\n",
       "      <td>0.006</td>\n",
       "      <td>2157.0</td>\n",
       "      <td>2524.0</td>\n",
       "      <td>1.0</td>\n",
       "    </tr>\n",
       "    <tr>\n",
       "      <th>b_region[1]</th>\n",
       "      <td>0.338</td>\n",
       "      <td>0.376</td>\n",
       "      <td>-0.389</td>\n",
       "      <td>1.029</td>\n",
       "      <td>0.007</td>\n",
       "      <td>0.005</td>\n",
       "      <td>2603.0</td>\n",
       "      <td>2715.0</td>\n",
       "      <td>1.0</td>\n",
       "    </tr>\n",
       "    <tr>\n",
       "      <th>sigma</th>\n",
       "      <td>0.911</td>\n",
       "      <td>0.098</td>\n",
       "      <td>0.734</td>\n",
       "      <td>1.088</td>\n",
       "      <td>0.002</td>\n",
       "      <td>0.001</td>\n",
       "      <td>3282.0</td>\n",
       "      <td>2897.0</td>\n",
       "      <td>1.0</td>\n",
       "    </tr>\n",
       "  </tbody>\n",
       "</table>\n",
       "</div>"
      ],
      "text/plain": [
       "              mean     sd  hdi_3%  hdi_97%  mcse_mean  mcse_sd  ess_bulk  \\\n",
       "b_w          0.092  0.157  -0.205    0.379      0.003    0.002    2967.0   \n",
       "b_a         -0.000  0.014  -0.028    0.026      0.000    0.000    2179.0   \n",
       "b_m          0.330  0.127   0.092    0.576      0.002    0.002    3515.0   \n",
       "b_region[0] -0.132  0.378  -0.867    0.534      0.008    0.006    2157.0   \n",
       "b_region[1]  0.338  0.376  -0.389    1.029      0.007    0.005    2603.0   \n",
       "sigma        0.911  0.098   0.734    1.088      0.002    0.001    3282.0   \n",
       "\n",
       "             ess_tail  r_hat  \n",
       "b_w            2331.0    1.0  \n",
       "b_a            2087.0    1.0  \n",
       "b_m            2568.0    1.0  \n",
       "b_region[0]    2524.0    1.0  \n",
       "b_region[1]    2715.0    1.0  \n",
       "sigma          2897.0    1.0  "
      ]
     },
     "execution_count": 43,
     "metadata": {},
     "output_type": "execute_result"
    }
   ],
   "source": [
    "az.summary(m_6h2_c_trace)"
   ]
  },
  {
   "cell_type": "code",
   "execution_count": 44,
   "id": "a3bbfb3c-2863-4171-a3c1-414a9ae6fa47",
   "metadata": {},
   "outputs": [
    {
     "data": {
      "image/png": "[encoded data removed]",
      "text/plain": [
       "<Figure size 1472x552 with 2 Axes>"
      ]
     },
     "metadata": {},
     "output_type": "display_data"
    }
   ],
   "source": [
    "az.plot_posterior(m_6h2_c_trace, var_names=[\"b_region\"]);"
   ]
  },
  {
   "cell_type": "markdown",
   "id": "5779edd7-6268-4c46-a74d-a472e80eee10",
   "metadata": {},
   "source": [
    "There is a slightly positive rate between Divorce Rate and Southern Status (b_region[1]).  Other variables that might be influencing things might be religion, and family size or population of young people"
   ]
  },
  {
   "cell_type": "markdown",
   "id": "679a0ef3",
   "metadata": {},
   "source": [
    "# 6H3 Question:\n",
    " Use a model to infer the total causal influence of area on weight. Would increasing the area available to each fox make it heavier (healthier)? You might want to standardize the variables. Regardless, use prior predictive simulation to show that your model’s prior predictions stay within the possible outcome range"
   ]
  },
  {
   "cell_type": "code",
   "execution_count": 45,
   "id": "48caf8e1-c68f-40f1-a78a-34c2958c2763",
   "metadata": {},
   "outputs": [
    {
     "data": {
      "image/svg+xml": [
       "<?xml version=\"1.0\" encoding=\"UTF-8\" standalone=\"no\"?>\n",
       "<!DOCTYPE svg PUBLIC \"-//W3C//DTD SVG 1.1//EN\"\n",
       " \"http://www.w3.org/Graphics/SVG/1.1/DTD/svg11.dtd\">\n",
       "<!-- Generated by graphviz version 9.0.0 (0)\n",
       " -->\n",
       "<!-- Pages: 1 -->\n",
       "<svg width=\"133pt\" height=\"260pt\"\n",
       " viewBox=\"0.00 0.00 132.86 260.00\" xmlns=\"http://www.w3.org/2000/svg\" xmlns:xlink=\"http://www.w3.org/1999/xlink\">\n",
       "<g id=\"graph0\" class=\"graph\" transform=\"scale(1 1) rotate(0) translate(4 256)\">\n",
       "<polygon fill=\"white\" stroke=\"none\" points=\"-4,4 -4,-256 128.86,-256 128.86,4 -4,4\"/>\n",
       "<!-- area -->\n",
       "<g id=\"node1\" class=\"node\">\n",
       "<title>area</title>\n",
       "<ellipse fill=\"none\" stroke=\"black\" cx=\"83.75\" cy=\"-234\" rx=\"27\" ry=\"18\"/>\n",
       "<text text-anchor=\"middle\" x=\"83.75\" y=\"-228.95\" font-family=\"Times New Roman,serif\" font-size=\"14.00\">area</text>\n",
       "</g>\n",
       "<!-- avgfood -->\n",
       "<g id=\"node3\" class=\"node\">\n",
       "<title>avgfood</title>\n",
       "<ellipse fill=\"none\" stroke=\"black\" cx=\"83.75\" cy=\"-162\" rx=\"41.12\" ry=\"18\"/>\n",
       "<text text-anchor=\"middle\" x=\"83.75\" y=\"-156.95\" font-family=\"Times New Roman,serif\" font-size=\"14.00\">avgfood</text>\n",
       "</g>\n",
       "<!-- area&#45;&gt;avgfood -->\n",
       "<g id=\"edge1\" class=\"edge\">\n",
       "<title>area&#45;&gt;avgfood</title>\n",
       "<path fill=\"none\" stroke=\"black\" d=\"M83.75,-215.7C83.75,-208.41 83.75,-199.73 83.75,-191.54\"/>\n",
       "<polygon fill=\"black\" stroke=\"black\" points=\"87.25,-191.62 83.75,-181.62 80.25,-191.62 87.25,-191.62\"/>\n",
       "</g>\n",
       "<!-- groupsize -->\n",
       "<g id=\"node2\" class=\"node\">\n",
       "<title>groupsize</title>\n",
       "<ellipse fill=\"none\" stroke=\"black\" cx=\"46.75\" cy=\"-90\" rx=\"46.75\" ry=\"18\"/>\n",
       "<text text-anchor=\"middle\" x=\"46.75\" y=\"-84.95\" font-family=\"Times New Roman,serif\" font-size=\"14.00\">groupsize</text>\n",
       "</g>\n",
       "<!-- weight -->\n",
       "<g id=\"node4\" class=\"node\">\n",
       "<title>weight</title>\n",
       "<ellipse fill=\"none\" stroke=\"black\" cx=\"83.75\" cy=\"-18\" rx=\"36\" ry=\"18\"/>\n",
       "<text text-anchor=\"middle\" x=\"83.75\" y=\"-12.95\" font-family=\"Times New Roman,serif\" font-size=\"14.00\">weight</text>\n",
       "</g>\n",
       "<!-- groupsize&#45;&gt;weight -->\n",
       "<g id=\"edge4\" class=\"edge\">\n",
       "<title>groupsize&#45;&gt;weight</title>\n",
       "<path fill=\"none\" stroke=\"black\" d=\"M55.7,-72.05C59.88,-64.14 64.96,-54.54 69.64,-45.69\"/>\n",
       "<polygon fill=\"black\" stroke=\"black\" points=\"72.58,-47.6 74.16,-37.13 66.4,-44.33 72.58,-47.6\"/>\n",
       "</g>\n",
       "<!-- avgfood&#45;&gt;groupsize -->\n",
       "<g id=\"edge2\" class=\"edge\">\n",
       "<title>avgfood&#45;&gt;groupsize</title>\n",
       "<path fill=\"none\" stroke=\"black\" d=\"M74.79,-144.05C70.61,-136.14 65.53,-126.54 60.85,-117.69\"/>\n",
       "<polygon fill=\"black\" stroke=\"black\" points=\"64.09,-116.33 56.33,-109.13 57.91,-119.6 64.09,-116.33\"/>\n",
       "</g>\n",
       "<!-- avgfood&#45;&gt;weight -->\n",
       "<g id=\"edge3\" class=\"edge\">\n",
       "<title>avgfood&#45;&gt;weight</title>\n",
       "<path fill=\"none\" stroke=\"black\" d=\"M91.44,-144.22C95.7,-133.99 100.57,-120.52 102.75,-108 105.49,-92.24 105.49,-87.76 102.75,-72 101.27,-63.49 98.54,-54.54 95.61,-46.47\"/>\n",
       "<polygon fill=\"black\" stroke=\"black\" points=\"98.89,-45.23 91.99,-37.19 92.37,-47.78 98.89,-45.23\"/>\n",
       "</g>\n",
       "</g>\n",
       "</svg>\n"
      ],
      "text/plain": [
       "<graphviz.graphs.Digraph at 0x152b3be13a0>"
      ]
     },
     "execution_count": 45,
     "metadata": {},
     "output_type": "execute_result"
    }
   ],
   "source": [
    "\n",
    "foxes = CausalGraphicalModel(\n",
    "    nodes=[\"area\", \"avgfood\", \"groupsize\", \"weight\"],\n",
    "    edges=[\n",
    "        (\"area\", \"avgfood\"),\n",
    "        (\"avgfood\", \"groupsize\"),\n",
    "        (\"avgfood\", \"weight\"),\n",
    "        (\"groupsize\", \"weight\")\n",
    "    ]\n",
    ")\n",
    "\n",
    "# draw return a graphviz `dot` object, which jupyter can render\n",
    "foxes.draw()"
   ]
  },
  {
   "cell_type": "code",
   "execution_count": 46,
   "id": "5339d7aa-41c9-464e-9b8d-25ce4413b34f",
   "metadata": {},
   "outputs": [
    {
     "data": {
      "text/html": [
       "<div>\n",
       "<style scoped>\n",
       "    .dataframe tbody tr th:only-of-type {\n",
       "        vertical-align: middle;\n",
       "    }\n",
       "\n",
       "    .dataframe tbody tr th {\n",
       "        vertical-align: top;\n",
       "    }\n",
       "\n",
       "    .dataframe thead th {\n",
       "        text-align: right;\n",
       "    }\n",
       "</style>\n",
       "<table border=\"1\" class=\"dataframe\">\n",
       "  <thead>\n",
       "    <tr style=\"text-align: right;\">\n",
       "      <th></th>\n",
       "      <th>group</th>\n",
       "      <th>avgfood</th>\n",
       "      <th>groupsize</th>\n",
       "      <th>area</th>\n",
       "      <th>weight</th>\n",
       "    </tr>\n",
       "  </thead>\n",
       "  <tbody>\n",
       "    <tr>\n",
       "      <th>0</th>\n",
       "      <td>1</td>\n",
       "      <td>0.37</td>\n",
       "      <td>2</td>\n",
       "      <td>1.09</td>\n",
       "      <td>5.02</td>\n",
       "    </tr>\n",
       "    <tr>\n",
       "      <th>1</th>\n",
       "      <td>1</td>\n",
       "      <td>0.37</td>\n",
       "      <td>2</td>\n",
       "      <td>1.09</td>\n",
       "      <td>2.84</td>\n",
       "    </tr>\n",
       "    <tr>\n",
       "      <th>2</th>\n",
       "      <td>2</td>\n",
       "      <td>0.53</td>\n",
       "      <td>2</td>\n",
       "      <td>2.05</td>\n",
       "      <td>5.33</td>\n",
       "    </tr>\n",
       "    <tr>\n",
       "      <th>3</th>\n",
       "      <td>2</td>\n",
       "      <td>0.53</td>\n",
       "      <td>2</td>\n",
       "      <td>2.05</td>\n",
       "      <td>6.07</td>\n",
       "    </tr>\n",
       "    <tr>\n",
       "      <th>4</th>\n",
       "      <td>3</td>\n",
       "      <td>0.49</td>\n",
       "      <td>2</td>\n",
       "      <td>2.12</td>\n",
       "      <td>5.85</td>\n",
       "    </tr>\n",
       "  </tbody>\n",
       "</table>\n",
       "</div>"
      ],
      "text/plain": [
       "   group  avgfood  groupsize  area  weight\n",
       "0      1     0.37          2  1.09    5.02\n",
       "1      1     0.37          2  1.09    2.84\n",
       "2      2     0.53          2  2.05    5.33\n",
       "3      2     0.53          2  2.05    6.07\n",
       "4      3     0.49          2  2.12    5.85"
      ]
     },
     "execution_count": 46,
     "metadata": {},
     "output_type": "execute_result"
    }
   ],
   "source": [
    "fox_data = pd.read_csv('./data/foxes.csv')\n",
    "fox_data.head()"
   ]
  },
  {
   "cell_type": "code",
   "execution_count": 47,
   "id": "719ed75a-bfe2-467a-a7fd-d04ca3b4b4eb",
   "metadata": {},
   "outputs": [
    {
     "data": {
      "text/html": [
       "<div>\n",
       "<style scoped>\n",
       "    .dataframe tbody tr th:only-of-type {\n",
       "        vertical-align: middle;\n",
       "    }\n",
       "\n",
       "    .dataframe tbody tr th {\n",
       "        vertical-align: top;\n",
       "    }\n",
       "\n",
       "    .dataframe thead th {\n",
       "        text-align: right;\n",
       "    }\n",
       "</style>\n",
       "<table border=\"1\" class=\"dataframe\">\n",
       "  <thead>\n",
       "    <tr style=\"text-align: right;\">\n",
       "      <th></th>\n",
       "      <th>group</th>\n",
       "      <th>avgfood</th>\n",
       "      <th>groupsize</th>\n",
       "      <th>area</th>\n",
       "      <th>weight</th>\n",
       "    </tr>\n",
       "  </thead>\n",
       "  <tbody>\n",
       "    <tr>\n",
       "      <th>0</th>\n",
       "      <td>1</td>\n",
       "      <td>-1.924829</td>\n",
       "      <td>-1.524089</td>\n",
       "      <td>-2.239596</td>\n",
       "      <td>0.414135</td>\n",
       "    </tr>\n",
       "    <tr>\n",
       "      <th>1</th>\n",
       "      <td>1</td>\n",
       "      <td>-1.924829</td>\n",
       "      <td>-1.524089</td>\n",
       "      <td>-2.239596</td>\n",
       "      <td>-1.427046</td>\n",
       "    </tr>\n",
       "    <tr>\n",
       "      <th>2</th>\n",
       "      <td>2</td>\n",
       "      <td>-1.118035</td>\n",
       "      <td>-1.524089</td>\n",
       "      <td>-1.205508</td>\n",
       "      <td>0.675954</td>\n",
       "    </tr>\n",
       "    <tr>\n",
       "      <th>3</th>\n",
       "      <td>2</td>\n",
       "      <td>-1.118035</td>\n",
       "      <td>-1.524089</td>\n",
       "      <td>-1.205508</td>\n",
       "      <td>1.300942</td>\n",
       "    </tr>\n",
       "    <tr>\n",
       "      <th>4</th>\n",
       "      <td>3</td>\n",
       "      <td>-1.319734</td>\n",
       "      <td>-1.524089</td>\n",
       "      <td>-1.130106</td>\n",
       "      <td>1.115135</td>\n",
       "    </tr>\n",
       "  </tbody>\n",
       "</table>\n",
       "</div>"
      ],
      "text/plain": [
       "   group   avgfood  groupsize      area    weight\n",
       "0      1 -1.924829  -1.524089 -2.239596  0.414135\n",
       "1      1 -1.924829  -1.524089 -2.239596 -1.427046\n",
       "2      2 -1.118035  -1.524089 -1.205508  0.675954\n",
       "3      2 -1.118035  -1.524089 -1.205508  1.300942\n",
       "4      3 -1.319734  -1.524089 -1.130106  1.115135"
      ]
     },
     "execution_count": 47,
     "metadata": {},
     "output_type": "execute_result"
    }
   ],
   "source": [
    "fox_data_std = fox_data.copy()\n",
    "fox_data_std.iloc[:,1:5] = fox_data_std.iloc[:,1:5].apply(lambda x: (x-x.mean())/ x.std(), axis=0)\n",
    "fox_data_std.head()"
   ]
  },
  {
   "cell_type": "code",
   "execution_count": 48,
   "id": "addef011-f2d8-4312-9d9f-365cb36d21f1",
   "metadata": {},
   "outputs": [],
   "source": [
    "n=50\n",
    "areas_seq = np.linspace(-3,3,n)\n",
    "intercepts = np.random.normal(0,0.2,n)\n",
    "b_area_coefs = np.random.normal(0,0.5,n)"
   ]
  },
  {
   "cell_type": "code",
   "execution_count": 49,
   "id": "aa1de8c4-6c19-4452-9c29-a032741e6d51",
   "metadata": {},
   "outputs": [],
   "source": [
    "predictions = np.zeros((len(areas_seq), len(intercepts)))\n",
    "for i, value in enumerate(areas_seq):\n",
    "    predictions[i] = intercepts + (b_area_coefs * (value))"
   ]
  },
  {
   "cell_type": "code",
   "execution_count": 50,
   "id": "6ec3ba9b-e24b-4dd4-9bf3-4c6768f5db6a",
   "metadata": {},
   "outputs": [
    {
     "data": {
      "text/plain": [
       "(-4.0, 4.0)"
      ]
     },
     "execution_count": 50,
     "metadata": {},
     "output_type": "execute_result"
    },
    {
     "data": {
      "image/png": "[encoded data removed]",
      "text/plain": [
       "<Figure size 640x480 with 1 Axes>"
      ]
     },
     "metadata": {},
     "output_type": "display_data"
    }
   ],
   "source": [
    "for i in predictions.T:\n",
    "    plt.plot(areas_seq, i)\n",
    "plt.xlim(-3,3);\n",
    "plt.ylim(-4,4)"
   ]
  },
  {
   "cell_type": "code",
   "execution_count": 51,
   "id": "d9c7e455-22e8-4500-9d9a-5e376c835445",
   "metadata": {},
   "outputs": [
    {
     "name": "stderr",
     "output_type": "stream",
     "text": [
      "Auto-assigning NUTS sampler...\n",
      "Initializing NUTS using jitter+adapt_diag...\n",
      "Multiprocess sampling (4 chains in 4 jobs)\n",
      "NUTS: [a, b_area, sigma]\n"
     ]
    },
    {
     "data": {
      "text/html": [
       "\n",
       "<style>\n",
       "    /* Turns off some styling */\n",
       "    progress {\n",
       "        /* gets rid of default border in Firefox and Opera. */\n",
       "        border: none;\n",
       "        /* Needs to be in here for Safari polyfill so background images work as expected. */\n",
       "        background-size: auto;\n",
       "    }\n",
       "    progress:not([value]), progress:not([value])::-webkit-progress-bar {\n",
       "        background: repeating-linear-gradient(45deg, #7e7e7e, #7e7e7e 10px, #5c5c5c 10px, #5c5c5c 20px);\n",
       "    }\n",
       "    .progress-bar-interrupted, .progress-bar-interrupted::-webkit-progress-bar {\n",
       "        background: #F44336;\n",
       "    }\n",
       "</style>\n"
      ],
      "text/plain": [
       "<IPython.core.display.HTML object>"
      ]
     },
     "metadata": {},
     "output_type": "display_data"
    },
    {
     "data": {
      "text/html": [
       "\n",
       "    <div>\n",
       "      <progress value='8000' class='' max='8000' style='width:300px; height:20px; vertical-align: middle;'></progress>\n",
       "      100.00% [8000/8000 00:04&lt;00:00 Sampling 4 chains, 0 divergences]\n",
       "    </div>\n",
       "    "
      ],
      "text/plain": [
       "<IPython.core.display.HTML object>"
      ]
     },
     "metadata": {},
     "output_type": "display_data"
    },
    {
     "name": "stderr",
     "output_type": "stream",
     "text": [
      "Sampling 4 chains for 1_000 tune and 1_000 draw iterations (4_000 + 4_000 draws total) took 20 seconds.\n"
     ]
    }
   ],
   "source": [
    "with pm.Model() as m_6h3:\n",
    "    a = pm.Normal('a', 0, 0.2)\n",
    "    b_area = pm.Normal('b_area', 0,0.5)\n",
    "    sigma = pm.Exponential('sigma',1)\n",
    "    mu = a + b_area * fox_data_std['area']\n",
    "    weight = pm.Normal('weight', mu, sigma, observed=fox_data_std['weight'])\n",
    "    m_6h3_trace = pm.sample()                    "
   ]
  },
  {
   "cell_type": "code",
   "execution_count": 52,
   "id": "dd8c4189-1156-4e05-88cb-62d06f0b1f96",
   "metadata": {},
   "outputs": [
    {
     "data": {
      "text/html": [
       "<div>\n",
       "<style scoped>\n",
       "    .dataframe tbody tr th:only-of-type {\n",
       "        vertical-align: middle;\n",
       "    }\n",
       "\n",
       "    .dataframe tbody tr th {\n",
       "        vertical-align: top;\n",
       "    }\n",
       "\n",
       "    .dataframe thead th {\n",
       "        text-align: right;\n",
       "    }\n",
       "</style>\n",
       "<table border=\"1\" class=\"dataframe\">\n",
       "  <thead>\n",
       "    <tr style=\"text-align: right;\">\n",
       "      <th></th>\n",
       "      <th>mean</th>\n",
       "      <th>sd</th>\n",
       "      <th>hdi_3%</th>\n",
       "      <th>hdi_97%</th>\n",
       "      <th>mcse_mean</th>\n",
       "      <th>mcse_sd</th>\n",
       "      <th>ess_bulk</th>\n",
       "      <th>ess_tail</th>\n",
       "      <th>r_hat</th>\n",
       "    </tr>\n",
       "  </thead>\n",
       "  <tbody>\n",
       "    <tr>\n",
       "      <th>a</th>\n",
       "      <td>-0.001</td>\n",
       "      <td>0.087</td>\n",
       "      <td>-0.163</td>\n",
       "      <td>0.159</td>\n",
       "      <td>0.001</td>\n",
       "      <td>0.001</td>\n",
       "      <td>7055.0</td>\n",
       "      <td>2914.0</td>\n",
       "      <td>1.0</td>\n",
       "    </tr>\n",
       "    <tr>\n",
       "      <th>b_area</th>\n",
       "      <td>0.020</td>\n",
       "      <td>0.092</td>\n",
       "      <td>-0.161</td>\n",
       "      <td>0.189</td>\n",
       "      <td>0.001</td>\n",
       "      <td>0.001</td>\n",
       "      <td>5664.0</td>\n",
       "      <td>3184.0</td>\n",
       "      <td>1.0</td>\n",
       "    </tr>\n",
       "    <tr>\n",
       "      <th>sigma</th>\n",
       "      <td>1.010</td>\n",
       "      <td>0.066</td>\n",
       "      <td>0.885</td>\n",
       "      <td>1.132</td>\n",
       "      <td>0.001</td>\n",
       "      <td>0.001</td>\n",
       "      <td>5858.0</td>\n",
       "      <td>2930.0</td>\n",
       "      <td>1.0</td>\n",
       "    </tr>\n",
       "  </tbody>\n",
       "</table>\n",
       "</div>"
      ],
      "text/plain": [
       "         mean     sd  hdi_3%  hdi_97%  mcse_mean  mcse_sd  ess_bulk  ess_tail  \\\n",
       "a      -0.001  0.087  -0.163    0.159      0.001    0.001    7055.0    2914.0   \n",
       "b_area  0.020  0.092  -0.161    0.189      0.001    0.001    5664.0    3184.0   \n",
       "sigma   1.010  0.066   0.885    1.132      0.001    0.001    5858.0    2930.0   \n",
       "\n",
       "        r_hat  \n",
       "a         1.0  \n",
       "b_area    1.0  \n",
       "sigma     1.0  "
      ]
     },
     "execution_count": 52,
     "metadata": {},
     "output_type": "execute_result"
    }
   ],
   "source": [
    "az.summary(m_6h3_trace)"
   ]
  },
  {
   "cell_type": "markdown",
   "id": "b843610a-1824-404e-b783-ec9aba4ee98c",
   "metadata": {},
   "source": [
    "The mean of area is close to zero, so it looks like area has no causal relationship to weight"
   ]
  },
  {
   "cell_type": "code",
   "execution_count": 53,
   "id": "b2180b77-522b-4802-8e5b-fc30f59ddf68",
   "metadata": {},
   "outputs": [
    {
     "data": {
      "text/plain": [
       "frozenset({frozenset(), frozenset({'area'})})"
      ]
     },
     "execution_count": 53,
     "metadata": {},
     "output_type": "execute_result"
    }
   ],
   "source": [
    "foxes.get_all_backdoor_adjustment_sets('avgfood','weight')"
   ]
  },
  {
   "cell_type": "markdown",
   "id": "193ef95b",
   "metadata": {},
   "source": [
    "# 6H4 Question: \n",
    "Now infer the causal impact of adding food to a territory. Would this make foxes heavier? Which covariates do you need to adjust for to estimate the total causal influence of food?"
   ]
  },
  {
   "cell_type": "code",
   "execution_count": 54,
   "id": "16178270-6390-4767-8fc8-b93f24457f0f",
   "metadata": {},
   "outputs": [
    {
     "name": "stderr",
     "output_type": "stream",
     "text": [
      "Auto-assigning NUTS sampler...\n",
      "Initializing NUTS using jitter+adapt_diag...\n",
      "Multiprocess sampling (4 chains in 4 jobs)\n",
      "NUTS: [a, b_food, sigma]\n"
     ]
    },
    {
     "data": {
      "text/html": [
       "\n",
       "<style>\n",
       "    /* Turns off some styling */\n",
       "    progress {\n",
       "        /* gets rid of default border in Firefox and Opera. */\n",
       "        border: none;\n",
       "        /* Needs to be in here for Safari polyfill so background images work as expected. */\n",
       "        background-size: auto;\n",
       "    }\n",
       "    progress:not([value]), progress:not([value])::-webkit-progress-bar {\n",
       "        background: repeating-linear-gradient(45deg, #7e7e7e, #7e7e7e 10px, #5c5c5c 10px, #5c5c5c 20px);\n",
       "    }\n",
       "    .progress-bar-interrupted, .progress-bar-interrupted::-webkit-progress-bar {\n",
       "        background: #F44336;\n",
       "    }\n",
       "</style>\n"
      ],
      "text/plain": [
       "<IPython.core.display.HTML object>"
      ]
     },
     "metadata": {},
     "output_type": "display_data"
    },
    {
     "data": {
      "text/html": [
       "\n",
       "    <div>\n",
       "      <progress value='8000' class='' max='8000' style='width:300px; height:20px; vertical-align: middle;'></progress>\n",
       "      100.00% [8000/8000 00:04&lt;00:00 Sampling 4 chains, 0 divergences]\n",
       "    </div>\n",
       "    "
      ],
      "text/plain": [
       "<IPython.core.display.HTML object>"
      ]
     },
     "metadata": {},
     "output_type": "display_data"
    },
    {
     "name": "stderr",
     "output_type": "stream",
     "text": [
      "Sampling 4 chains for 1_000 tune and 1_000 draw iterations (4_000 + 4_000 draws total) took 21 seconds.\n"
     ]
    }
   ],
   "source": [
    "#6h4\n",
    "with pm.Model() as m_6h4:\n",
    "    a = pm.Normal('a', 0, 0.2)\n",
    "    b_food = pm.Normal('b_food', 0,0.5)\n",
    "    sigma = pm.Exponential('sigma',1)\n",
    "    mu = a + b_food * fox_data_std['avgfood']\n",
    "    weight = pm.Normal('weight', mu, sigma, observed=fox_data_std['weight'])\n",
    "    m_6h4_trace = pm.sample()                    "
   ]
  },
  {
   "cell_type": "code",
   "execution_count": 55,
   "id": "13c718ec-6d55-4d9a-bc88-02b7e8d33af8",
   "metadata": {},
   "outputs": [
    {
     "data": {
      "text/html": [
       "<div>\n",
       "<style scoped>\n",
       "    .dataframe tbody tr th:only-of-type {\n",
       "        vertical-align: middle;\n",
       "    }\n",
       "\n",
       "    .dataframe tbody tr th {\n",
       "        vertical-align: top;\n",
       "    }\n",
       "\n",
       "    .dataframe thead th {\n",
       "        text-align: right;\n",
       "    }\n",
       "</style>\n",
       "<table border=\"1\" class=\"dataframe\">\n",
       "  <thead>\n",
       "    <tr style=\"text-align: right;\">\n",
       "      <th></th>\n",
       "      <th>mean</th>\n",
       "      <th>sd</th>\n",
       "      <th>hdi_3%</th>\n",
       "      <th>hdi_97%</th>\n",
       "      <th>mcse_mean</th>\n",
       "      <th>mcse_sd</th>\n",
       "      <th>ess_bulk</th>\n",
       "      <th>ess_tail</th>\n",
       "      <th>r_hat</th>\n",
       "    </tr>\n",
       "  </thead>\n",
       "  <tbody>\n",
       "    <tr>\n",
       "      <th>a</th>\n",
       "      <td>-0.000</td>\n",
       "      <td>0.082</td>\n",
       "      <td>-0.154</td>\n",
       "      <td>0.151</td>\n",
       "      <td>0.001</td>\n",
       "      <td>0.001</td>\n",
       "      <td>7172.0</td>\n",
       "      <td>3476.0</td>\n",
       "      <td>1.0</td>\n",
       "    </tr>\n",
       "    <tr>\n",
       "      <th>b_food</th>\n",
       "      <td>-0.025</td>\n",
       "      <td>0.090</td>\n",
       "      <td>-0.196</td>\n",
       "      <td>0.136</td>\n",
       "      <td>0.001</td>\n",
       "      <td>0.001</td>\n",
       "      <td>5919.0</td>\n",
       "      <td>3380.0</td>\n",
       "      <td>1.0</td>\n",
       "    </tr>\n",
       "    <tr>\n",
       "      <th>sigma</th>\n",
       "      <td>1.010</td>\n",
       "      <td>0.070</td>\n",
       "      <td>0.882</td>\n",
       "      <td>1.144</td>\n",
       "      <td>0.001</td>\n",
       "      <td>0.001</td>\n",
       "      <td>5398.0</td>\n",
       "      <td>2920.0</td>\n",
       "      <td>1.0</td>\n",
       "    </tr>\n",
       "  </tbody>\n",
       "</table>\n",
       "</div>"
      ],
      "text/plain": [
       "         mean     sd  hdi_3%  hdi_97%  mcse_mean  mcse_sd  ess_bulk  ess_tail  \\\n",
       "a      -0.000  0.082  -0.154    0.151      0.001    0.001    7172.0    3476.0   \n",
       "b_food -0.025  0.090  -0.196    0.136      0.001    0.001    5919.0    3380.0   \n",
       "sigma   1.010  0.070   0.882    1.144      0.001    0.001    5398.0    2920.0   \n",
       "\n",
       "        r_hat  \n",
       "a         1.0  \n",
       "b_food    1.0  \n",
       "sigma     1.0  "
      ]
     },
     "execution_count": 55,
     "metadata": {},
     "output_type": "execute_result"
    }
   ],
   "source": [
    "az.summary(m_6h4_trace)"
   ]
  },
  {
   "cell_type": "markdown",
   "id": "01a10272-80d2-416a-82d9-9af05596c95d",
   "metadata": {},
   "source": [
    "The mean of avg_food is close to zero, so it looks like it has no causal relationship to weight"
   ]
  },
  {
   "cell_type": "markdown",
   "id": "0c90f2ae",
   "metadata": {},
   "source": [
    "# 6H5 Question\n",
    " Now infer the causal impact of group size. Which covariates do you need to adjust for? Looking at the posterior distribution of the resulting model, what do you think explains these data? That is, can you explain the estimates for all three problems? How do they go together?"
   ]
  },
  {
   "cell_type": "code",
   "execution_count": 56,
   "id": "d48ab10e-42c8-4fcc-aa10-9300f830996d",
   "metadata": {},
   "outputs": [
    {
     "data": {
      "text/plain": [
       "frozenset({frozenset({'avgfood'}), frozenset({'area', 'avgfood'})})"
      ]
     },
     "execution_count": 56,
     "metadata": {},
     "output_type": "execute_result"
    }
   ],
   "source": [
    "foxes.get_all_backdoor_adjustment_sets('groupsize','weight')"
   ]
  },
  {
   "cell_type": "code",
   "execution_count": 57,
   "id": "2b5d586b-8ef3-4684-a9e9-e30f031ee1de",
   "metadata": {},
   "outputs": [
    {
     "name": "stderr",
     "output_type": "stream",
     "text": [
      "Auto-assigning NUTS sampler...\n",
      "Initializing NUTS using jitter+adapt_diag...\n",
      "Multiprocess sampling (4 chains in 4 jobs)\n",
      "NUTS: [a, b_food, b_groupsize, sigma]\n"
     ]
    },
    {
     "data": {
      "text/html": [
       "\n",
       "<style>\n",
       "    /* Turns off some styling */\n",
       "    progress {\n",
       "        /* gets rid of default border in Firefox and Opera. */\n",
       "        border: none;\n",
       "        /* Needs to be in here for Safari polyfill so background images work as expected. */\n",
       "        background-size: auto;\n",
       "    }\n",
       "    progress:not([value]), progress:not([value])::-webkit-progress-bar {\n",
       "        background: repeating-linear-gradient(45deg, #7e7e7e, #7e7e7e 10px, #5c5c5c 10px, #5c5c5c 20px);\n",
       "    }\n",
       "    .progress-bar-interrupted, .progress-bar-interrupted::-webkit-progress-bar {\n",
       "        background: #F44336;\n",
       "    }\n",
       "</style>\n"
      ],
      "text/plain": [
       "<IPython.core.display.HTML object>"
      ]
     },
     "metadata": {},
     "output_type": "display_data"
    },
    {
     "data": {
      "text/html": [
       "\n",
       "    <div>\n",
       "      <progress value='8000' class='' max='8000' style='width:300px; height:20px; vertical-align: middle;'></progress>\n",
       "      100.00% [8000/8000 00:05&lt;00:00 Sampling 4 chains, 0 divergences]\n",
       "    </div>\n",
       "    "
      ],
      "text/plain": [
       "<IPython.core.display.HTML object>"
      ]
     },
     "metadata": {},
     "output_type": "display_data"
    },
    {
     "name": "stderr",
     "output_type": "stream",
     "text": [
      "Sampling 4 chains for 1_000 tune and 1_000 draw iterations (4_000 + 4_000 draws total) took 21 seconds.\n"
     ]
    }
   ],
   "source": [
    "with pm.Model() as m_6h5:\n",
    "    a = pm.Normal('a', 0, 0.2)\n",
    "    b_food = pm.Normal('b_food', 0,0.5)\n",
    "    b_groupsize = pm.Normal('b_groupsize', 0,0.5)\n",
    "    sigma = pm.Exponential('sigma',1)\n",
    "    mu = a + b_groupsize * fox_data_std['groupsize'] + b_food * fox_data_std['avgfood']\n",
    "    weight = pm.Normal('weight', mu, sigma, observed=fox_data_std['weight'])\n",
    "    m_6h5_trace = pm.sample()                    "
   ]
  },
  {
   "cell_type": "code",
   "execution_count": 58,
   "id": "b43673ef-8978-4814-8c72-2bb15b7db5d4",
   "metadata": {},
   "outputs": [
    {
     "data": {
      "text/html": [
       "<div>\n",
       "<style scoped>\n",
       "    .dataframe tbody tr th:only-of-type {\n",
       "        vertical-align: middle;\n",
       "    }\n",
       "\n",
       "    .dataframe tbody tr th {\n",
       "        vertical-align: top;\n",
       "    }\n",
       "\n",
       "    .dataframe thead th {\n",
       "        text-align: right;\n",
       "    }\n",
       "</style>\n",
       "<table border=\"1\" class=\"dataframe\">\n",
       "  <thead>\n",
       "    <tr style=\"text-align: right;\">\n",
       "      <th></th>\n",
       "      <th>mean</th>\n",
       "      <th>sd</th>\n",
       "      <th>hdi_3%</th>\n",
       "      <th>hdi_97%</th>\n",
       "      <th>mcse_mean</th>\n",
       "      <th>mcse_sd</th>\n",
       "      <th>ess_bulk</th>\n",
       "      <th>ess_tail</th>\n",
       "      <th>r_hat</th>\n",
       "    </tr>\n",
       "  </thead>\n",
       "  <tbody>\n",
       "    <tr>\n",
       "      <th>a</th>\n",
       "      <td>-0.000</td>\n",
       "      <td>0.081</td>\n",
       "      <td>-0.149</td>\n",
       "      <td>0.153</td>\n",
       "      <td>0.001</td>\n",
       "      <td>0.001</td>\n",
       "      <td>3799.0</td>\n",
       "      <td>2630.0</td>\n",
       "      <td>1.0</td>\n",
       "    </tr>\n",
       "    <tr>\n",
       "      <th>b_food</th>\n",
       "      <td>0.469</td>\n",
       "      <td>0.183</td>\n",
       "      <td>0.121</td>\n",
       "      <td>0.806</td>\n",
       "      <td>0.004</td>\n",
       "      <td>0.003</td>\n",
       "      <td>2273.0</td>\n",
       "      <td>2624.0</td>\n",
       "      <td>1.0</td>\n",
       "    </tr>\n",
       "    <tr>\n",
       "      <th>b_groupsize</th>\n",
       "      <td>-0.562</td>\n",
       "      <td>0.181</td>\n",
       "      <td>-0.903</td>\n",
       "      <td>-0.224</td>\n",
       "      <td>0.004</td>\n",
       "      <td>0.003</td>\n",
       "      <td>2182.0</td>\n",
       "      <td>2337.0</td>\n",
       "      <td>1.0</td>\n",
       "    </tr>\n",
       "    <tr>\n",
       "      <th>sigma</th>\n",
       "      <td>0.965</td>\n",
       "      <td>0.064</td>\n",
       "      <td>0.851</td>\n",
       "      <td>1.088</td>\n",
       "      <td>0.001</td>\n",
       "      <td>0.001</td>\n",
       "      <td>3609.0</td>\n",
       "      <td>2872.0</td>\n",
       "      <td>1.0</td>\n",
       "    </tr>\n",
       "  </tbody>\n",
       "</table>\n",
       "</div>"
      ],
      "text/plain": [
       "              mean     sd  hdi_3%  hdi_97%  mcse_mean  mcse_sd  ess_bulk  \\\n",
       "a           -0.000  0.081  -0.149    0.153      0.001    0.001    3799.0   \n",
       "b_food       0.469  0.183   0.121    0.806      0.004    0.003    2273.0   \n",
       "b_groupsize -0.562  0.181  -0.903   -0.224      0.004    0.003    2182.0   \n",
       "sigma        0.965  0.064   0.851    1.088      0.001    0.001    3609.0   \n",
       "\n",
       "             ess_tail  r_hat  \n",
       "a              2630.0    1.0  \n",
       "b_food         2624.0    1.0  \n",
       "b_groupsize    2337.0    1.0  \n",
       "sigma          2872.0    1.0  "
      ]
     },
     "execution_count": 58,
     "metadata": {},
     "output_type": "execute_result"
    }
   ],
   "source": [
    "az.summary(m_6h5_trace)"
   ]
  },
  {
   "cell_type": "code",
   "execution_count": 59,
   "id": "c4f1c979-5e64-48f8-a52b-cfd5537cb755",
   "metadata": {},
   "outputs": [
    {
     "data": {
      "text/plain": [
       "array([<Axes: title={'center': '94.0% HDI'}>], dtype=object)"
      ]
     },
     "execution_count": 59,
     "metadata": {},
     "output_type": "execute_result"
    },
    {
     "data": {
      "image/png": "[encoded data removed]",
      "text/plain": [
       "<Figure size 600x520 with 1 Axes>"
      ]
     },
     "metadata": {},
     "output_type": "display_data"
    }
   ],
   "source": [
    "az.plot_forest(m_6h5_trace, combined=True, var_names=['b_food','b_groupsize'])"
   ]
  },
  {
   "cell_type": "markdown",
   "id": "79e39471-350f-4a60-a148-b6ff49e15357",
   "metadata": {},
   "source": [
    "The groupsize is basically masking the effect of avgfood.  In this case, probably hunting in packs has a causal effect on how much food they can catch, but if the pack is too big they each get less food which means the avg weight is less.  Note that what might be going on here is the the average amount of food has no causal affect on weight, because the group size tends to offset the effect of the food size.  Larger groups will have more food, but individually they each get less food."
   ]
  },
  {
   "cell_type": "markdown",
   "id": "af9c15e4",
   "metadata": {},
   "source": [
    "# 6H6 Question \n",
    "Consider your own research question. Draw a DAG to represent it. What are the testable implications of your DAG? Are there any variables you could condition on to close all backdoor paths? Are there unobserved variables that you have omitted? Would a reasonable colleague imagine additional threats to causal inference that you have ignored?"
   ]
  },
  {
   "cell_type": "code",
   "execution_count": 60,
   "id": "a1559b2d-018e-4a16-b634-27c7250dbbb0",
   "metadata": {},
   "outputs": [
    {
     "data": {
      "image/svg+xml": [
       "<?xml version=\"1.0\" encoding=\"UTF-8\" standalone=\"no\"?>\n",
       "<!DOCTYPE svg PUBLIC \"-//W3C//DTD SVG 1.1//EN\"\n",
       " \"http://www.w3.org/Graphics/SVG/1.1/DTD/svg11.dtd\">\n",
       "<!-- Generated by graphviz version 9.0.0 (0)\n",
       " -->\n",
       "<!-- Pages: 1 -->\n",
       "<svg width=\"160pt\" height=\"260pt\"\n",
       " viewBox=\"0.00 0.00 159.58 260.00\" xmlns=\"http://www.w3.org/2000/svg\" xmlns:xlink=\"http://www.w3.org/1999/xlink\">\n",
       "<g id=\"graph0\" class=\"graph\" transform=\"scale(1 1) rotate(0) translate(4 256)\">\n",
       "<polygon fill=\"white\" stroke=\"none\" points=\"-4,4 -4,-256 155.58,-256 155.58,4 -4,4\"/>\n",
       "<!-- teacher -->\n",
       "<g id=\"node1\" class=\"node\">\n",
       "<title>teacher</title>\n",
       "<ellipse fill=\"none\" stroke=\"black\" cx=\"58.58\" cy=\"-162\" rx=\"37.53\" ry=\"18\"/>\n",
       "<text text-anchor=\"middle\" x=\"58.58\" y=\"-156.95\" font-family=\"Times New Roman,serif\" font-size=\"14.00\">teacher</text>\n",
       "</g>\n",
       "<!-- student -->\n",
       "<g id=\"node4\" class=\"node\">\n",
       "<title>student</title>\n",
       "<ellipse fill=\"none\" stroke=\"black\" cx=\"91.58\" cy=\"-90\" rx=\"37.53\" ry=\"18\"/>\n",
       "<text text-anchor=\"middle\" x=\"91.58\" y=\"-84.95\" font-family=\"Times New Roman,serif\" font-size=\"14.00\">student</text>\n",
       "</g>\n",
       "<!-- teacher&#45;&gt;student -->\n",
       "<g id=\"edge1\" class=\"edge\">\n",
       "<title>teacher&#45;&gt;student</title>\n",
       "<path fill=\"none\" stroke=\"black\" d=\"M66.57,-144.05C70.26,-136.23 74.73,-126.75 78.86,-117.98\"/>\n",
       "<polygon fill=\"black\" stroke=\"black\" points=\"81.92,-119.7 83.02,-109.16 75.59,-116.71 81.92,-119.7\"/>\n",
       "</g>\n",
       "<!-- area -->\n",
       "<g id=\"node2\" class=\"node\">\n",
       "<title>area</title>\n",
       "<ellipse fill=\"none\" stroke=\"black\" cx=\"124.58\" cy=\"-234\" rx=\"27\" ry=\"18\"/>\n",
       "<text text-anchor=\"middle\" x=\"124.58\" y=\"-228.95\" font-family=\"Times New Roman,serif\" font-size=\"14.00\">area</text>\n",
       "</g>\n",
       "<!-- area&#45;&gt;teacher -->\n",
       "<g id=\"edge4\" class=\"edge\">\n",
       "<title>area&#45;&gt;teacher</title>\n",
       "<path fill=\"none\" stroke=\"black\" d=\"M110.58,-218.15C102.07,-209.12 91,-197.38 81.26,-187.05\"/>\n",
       "<polygon fill=\"black\" stroke=\"black\" points=\"83.92,-184.77 74.51,-179.9 78.83,-189.57 83.92,-184.77\"/>\n",
       "</g>\n",
       "<!-- area&#45;&gt;student -->\n",
       "<g id=\"edge3\" class=\"edge\">\n",
       "<title>area&#45;&gt;student</title>\n",
       "<path fill=\"none\" stroke=\"black\" d=\"M121.18,-215.88C117.55,-197.92 111.52,-168.9 105.58,-144 103.65,-135.91 101.41,-127.18 99.29,-119.17\"/>\n",
       "<polygon fill=\"black\" stroke=\"black\" points=\"102.69,-118.35 96.72,-109.6 95.93,-120.16 102.69,-118.35\"/>\n",
       "</g>\n",
       "<!-- training -->\n",
       "<g id=\"node3\" class=\"node\">\n",
       "<title>training</title>\n",
       "<ellipse fill=\"none\" stroke=\"black\" cx=\"39.58\" cy=\"-234\" rx=\"39.58\" ry=\"18\"/>\n",
       "<text text-anchor=\"middle\" x=\"39.58\" y=\"-228.95\" font-family=\"Times New Roman,serif\" font-size=\"14.00\">training</text>\n",
       "</g>\n",
       "<!-- training&#45;&gt;teacher -->\n",
       "<g id=\"edge5\" class=\"edge\">\n",
       "<title>training&#45;&gt;teacher</title>\n",
       "<path fill=\"none\" stroke=\"black\" d=\"M44.28,-215.7C46.3,-208.24 48.72,-199.32 50.99,-190.97\"/>\n",
       "<polygon fill=\"black\" stroke=\"black\" points=\"54.3,-192.13 53.54,-181.57 47.54,-190.3 54.3,-192.13\"/>\n",
       "</g>\n",
       "<!-- test_scores -->\n",
       "<g id=\"node5\" class=\"node\">\n",
       "<title>test_scores</title>\n",
       "<ellipse fill=\"none\" stroke=\"black\" cx=\"91.58\" cy=\"-18\" rx=\"51.35\" ry=\"18\"/>\n",
       "<text text-anchor=\"middle\" x=\"91.58\" y=\"-12.95\" font-family=\"Times New Roman,serif\" font-size=\"14.00\">test_scores</text>\n",
       "</g>\n",
       "<!-- student&#45;&gt;test_scores -->\n",
       "<g id=\"edge2\" class=\"edge\">\n",
       "<title>student&#45;&gt;test_scores</title>\n",
       "<path fill=\"none\" stroke=\"black\" d=\"M91.58,-71.7C91.58,-64.41 91.58,-55.73 91.58,-47.54\"/>\n",
       "<polygon fill=\"black\" stroke=\"black\" points=\"95.08,-47.62 91.58,-37.62 88.08,-47.62 95.08,-47.62\"/>\n",
       "</g>\n",
       "</g>\n",
       "</svg>\n"
      ],
      "text/plain": [
       "<graphviz.graphs.Digraph at 0x152b373f9d0>"
      ]
     },
     "execution_count": 60,
     "metadata": {},
     "output_type": "execute_result"
    }
   ],
   "source": [
    "teacher = CausalGraphicalModel(\n",
    "    nodes=[\"teacher\", \"student\", \"area\", \"training\",\"test_scores\"],\n",
    "    edges=[\n",
    "        (\"training\", \"teacher\"),\n",
    "        (\"teacher\", \"student\"),\n",
    "        (\"student\", \"test_scores\"),\n",
    "        (\"area\",\"student\"),\n",
    "        (\"area\", \"teacher\")\n",
    "    ]\n",
    ")\n",
    "\n",
    "# draw return a graphviz `dot` object, which jupyter can render\n",
    "teacher.draw()"
   ]
  },
  {
   "cell_type": "code",
   "execution_count": 61,
   "id": "41bf92d5-4fd5-423d-89ed-db7585926388",
   "metadata": {},
   "outputs": [
    {
     "data": {
      "text/plain": [
       "frozenset({frozenset({'area'}), frozenset({'area', 'training'})})"
      ]
     },
     "execution_count": 61,
     "metadata": {},
     "output_type": "execute_result"
    }
   ],
   "source": [
    "teacher.get_all_backdoor_adjustment_sets('teacher','test_scores')"
   ]
  }
 ],
 "metadata": {
  "kernelspec": {
   "display_name": "Python 3 (ipykernel)",
   "language": "python",
   "name": "python3"
  },
  "language_info": {
   "codemirror_mode": {
    "name": "ipython",
    "version": 3
   },
   "file_extension": ".py",
   "mimetype": "text/x-python",
   "name": "python",
   "nbconvert_exporter": "python",
   "pygments_lexer": "ipython3",
   "version": "3.9.18"
  }
 },
 "nbformat": 4,
 "nbformat_minor": 5
}
